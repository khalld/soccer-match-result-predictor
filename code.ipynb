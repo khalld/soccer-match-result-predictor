{
 "cells": [
  {
   "cell_type": "markdown",
   "source": [
    "## Import libs and custom vars"
   ],
   "metadata": {}
  },
  {
   "cell_type": "code",
   "execution_count": 1,
   "source": [
    "import pandas as pd\n",
    "import numpy as np\n",
    "from datetime import datetime\n",
    "from libs.utils import find_penalty, return_outcome, check_element, add_labels, find_range\n",
    "from matplotlib import pyplot as plt\n",
    "import matplotlib.colors as mcolors\n",
    "import datetime\n",
    "from numba import jit"
   ],
   "outputs": [],
   "metadata": {}
  },
  {
   "cell_type": "markdown",
   "source": [
    "<ul>\n",
    "    <li>Ci sono alcuni nomi di squadre che sono cambiate nel tempo, uniformizza </li>\n",
    "    <li>Shootouts è il db dei penalty, quindi bisogna manipolare il dataset per vedere chi vince alla fine quella partita</li>\n",
    "</ul>"
   ],
   "metadata": {}
  },
  {
   "cell_type": "markdown",
   "source": [
    "## Descrizione del dataset e preprocessing\n",
    "\n",
    "Il Dataset contiene 42483 risultati di partite di calcio internazionale,\n",
    "\n",
    "Il primo match risale al 1872-11-30 mentre l’ultimo è del 2021-08-01\n",
    "\n",
    "Nel dataset sono incluse sia le partite ufficiali di tutte le competizioni, dalle amichevoli alla coppa del mondo. è da specificare inoltre che comprende solo le competizioni nazionali maschili e sono esclusi: Olympic Games or matches where at least one of the teams was the nation's B-team, U-23 or a league select team.\n",
    "\n",
    "Inoltre, il dataset presenta un ulteriore file che contiene, in totale 432 risultati finali di partite terminate ai calci di rigore (vincenti).\n",
    "\n",
    "Per correttezza, controlleremo inizialmente che il Dataset non contenga elementi nulli e i due dataset verranno inoltre ‘mergiate’ in un unico file contenti i risultati, dove presenti, anche dopo i calci di rigore."
   ],
   "metadata": {}
  },
  {
   "cell_type": "code",
   "execution_count": null,
   "source": [
    "data = {\n",
    "    'results': pd.read_csv('dataset/results.csv'),\n",
    "    'shootouts': pd.read_csv('dataset/shootouts.csv')\n",
    "}\n",
    "\n",
    "# print('**'*5, ' results.csv ', '**'*5)\n",
    "# print(data['results'].info())\n",
    "# print('**'*5, ' shootouts.csv ', '**'*5)\n",
    "# print(data['shootouts'].info())"
   ],
   "outputs": [],
   "metadata": {}
  },
  {
   "cell_type": "markdown",
   "source": [
    "Il dataset non contiene elementi nulli. Visualizziamo le prime 5 righe di ogni dataset"
   ],
   "metadata": {}
  },
  {
   "cell_type": "code",
   "execution_count": null,
   "source": [
    "print('**'*5, ' results.csv ', '**'*5)\n",
    "print(data['results'].head(5))\n",
    "print('**'*5, ' shootouts.csv ', '**'*5)\n",
    "print(data['shootouts'].head(5))"
   ],
   "outputs": [],
   "metadata": {}
  },
  {
   "cell_type": "markdown",
   "source": [
    "Applichiamo dunque alcune modifiche al dataset. Si integrano di conseguenza alcune informazioni del dataset 'shootouts'\n",
    "\n",
    "In particolare, processeremo il dataset (partendo da quello di results.csv):\n",
    "- aggiungendo la colonna 'outcome', sarà classificato come:\n",
    "    - H (home win)\n",
    "    - A (away win)\n",
    "    - D (draw), in particolare se in 'shootouts' è presente la partita 'draw':\n",
    "        - HP (home win at penalty)\n",
    "        - AP (away win at penalty)\n",
    "\n",
    "- saranno estratti i dati relativi alla data della partita in quanto serviranno successivamente"
   ],
   "metadata": {}
  },
  {
   "cell_type": "code",
   "execution_count": null,
   "source": [
    "dst_df = data['results'].copy()\n",
    "\n",
    "res_len = data['results'].__len__()\n",
    "sht_len = data['shootouts'].__len__()\n",
    "\n",
    "print('results.csv tot records: %d | shape: %s' % (res_len, data['results'].shape))\n",
    "print('shootouts.csv tot records: %d | shape: %s' % (sht_len, data['shootouts'].shape))"
   ],
   "outputs": [],
   "metadata": {}
  },
  {
   "cell_type": "code",
   "execution_count": null,
   "source": [
    "# aggiungo una colonna al dataFrame che aggiorna con i risultati dei rigori\n",
    "\n",
    "dst_df['outcome'] = None\n",
    "dst_df['day_of_week'] = None\n",
    "dst_df['month'] = None\n",
    "dst_df['year'] = None\n",
    "\n",
    "counter = 0\n",
    "for i in range(0, res_len):\n",
    "    counter = counter + 1\n",
    "    print('*** Processing %d/%d ***' % (counter, res_len), end='\\r')\n",
    "\n",
    "    # estraggo dati necessari dalla data\n",
    "    row_date = datetime.date.fromisoformat(dst_df.iloc[i]['date'])\n",
    "\n",
    "    dst_df.at[i, 'day_of_week'] = row_date.strftime('%A')\n",
    "    dst_df.at[i, 'month'] = row_date.strftime('%B')\n",
    "    dst_df.at[i, 'year'] = int(row_date.strftime('%Y'))\n",
    "\n",
    "    # calcolo il risultato della partita\n",
    "    dst_df.at[i, 'outcome'] = return_outcome(data['results'].iloc[i]['home_score'], data['results'].iloc[i]['away_score'])\n",
    "\n",
    "    if(dst_df.iloc[i]['outcome'] == 'D'):\n",
    "        dst_df.at[i, 'outcome'] = find_penalty(data['results'].iloc[i], data['shootouts'], sht_len - 1)\n",
    "\n",
    "dst_df.to_csv('dataset/dataset.csv')\n",
    "dst_df.head()"
   ],
   "outputs": [],
   "metadata": {}
  },
  {
   "cell_type": "markdown",
   "source": [
    "## Domande / risposte / prima analisi\n",
    "\n",
    "- ~~Tipi di competizioni giocate maggiormente~~\n",
    "- Le nazioni che hanno ospitato più coppe del mondo\n",
    "- ~~Squadre che hanno giocato di più~~\n",
    "- ~~Squadra che ha vinto di più~~\n",
    "    - Giocare in casa è un vantaggio? --- PMF\n",
    "    - Chi vince di più in casa vince ovunque?\n",
    "    - Giocare di più è un vantaggio per vincere ?\n",
    "\n",
    "<br><br>\n",
    "- ~~Num Partite giocate per anno -> aumentati?~~\n",
    "- Totale di partite giocate per decade\n",
    "- Il giorno della settimana dove si gioca di più per decade\n",
    "\n",
    "<br><br>\n",
    "- Analisi goal/difesa per ogni anno/decade\n",
    "- Media di goal per decade\n",
    "- Numero di goal è diminuito nel tempo?\n",
    "- BOXPLOT con goal segnati in a casa e fuori casa\n",
    "\n",
    "\n",
    "\n",
    "\n",
    "\n",
    "\n",
    "\n",
    "\n",
    "- CASO ITALIANO"
   ],
   "metadata": {}
  },
  {
   "cell_type": "code",
   "execution_count": 2,
   "source": [
    "dst_df = pd.read_csv('dataset/dataset.csv')\n",
    "# elimino le colonne non necessarie per lo studio attuale\n",
    "dst_df.drop(labels=['Unnamed: 0', 'match_id', 'date'], inplace=True, axis=1)\n",
    "\n",
    "dst_df.info()"
   ],
   "outputs": [
    {
     "output_type": "stream",
     "name": "stdout",
     "text": [
      "<class 'pandas.core.frame.DataFrame'>\n",
      "RangeIndex: 42483 entries, 0 to 42482\n",
      "Data columns (total 12 columns):\n",
      " #   Column       Non-Null Count  Dtype \n",
      "---  ------       --------------  ----- \n",
      " 0   home_team    42483 non-null  object\n",
      " 1   away_team    42483 non-null  object\n",
      " 2   home_score   42483 non-null  int64 \n",
      " 3   away_score   42483 non-null  int64 \n",
      " 4   tournament   42483 non-null  object\n",
      " 5   city         42483 non-null  object\n",
      " 6   country      42483 non-null  object\n",
      " 7   neutral      42483 non-null  bool  \n",
      " 8   outcome      42483 non-null  object\n",
      " 9   day_of_week  42483 non-null  object\n",
      " 10  month        42483 non-null  object\n",
      " 11  year         42483 non-null  int64 \n",
      "dtypes: bool(1), int64(3), object(8)\n",
      "memory usage: 3.6+ MB\n"
     ]
    }
   ],
   "metadata": {}
  },
  {
   "cell_type": "markdown",
   "source": [
    "#### Tipi di competizioni giocate maggiormente.\n",
    "In un primo output della tabella è evidente la presenza di competizioni con anche solo 1 partita giocate. Di conseguenza consideriamo solo le prime 20 competizioni giocate maggiormente, scartando le altre."
   ],
   "metadata": {}
  },
  {
   "cell_type": "code",
   "execution_count": null,
   "source": [
    "plot_graph = dst_df['tournament'].value_counts()[:20].plot(kind='bar', figsize=(35,6), title='Most 20 played tournaments', xlabel='Tournaments', ylabel='Number of matches', color=[i for i in mcolors.TABLEAU_COLORS], edgecolor='black')\n",
    "plot_graph.bar_label(container=plot_graph.containers[0], label_type='edge')\n",
    "plt.show()"
   ],
   "outputs": [],
   "metadata": {}
  },
  {
   "cell_type": "markdown",
   "source": [
    "#### Squadra che ha giocato di più"
   ],
   "metadata": {}
  },
  {
   "cell_type": "code",
   "execution_count": null,
   "source": [
    "ht = dst_df['home_team'].value_counts().rename_axis('team').reset_index(name='home_team')\n",
    "at = dst_df['away_team'].value_counts().rename_axis('team').reset_index(name='home_team')\n",
    "\n",
    "print(ht.__len__() == at.__len__())\n",
    "\n",
    "ht.columns = ['team', 'matches']\n",
    "at.columns = ['team', 'matches']\n",
    "\n",
    "# ht contiene più righe di away_team, significa che qualche squadra ha disputato solo partite a casa,\n",
    "# NOTA: LE HO CALCOLATE DOPO. DEVI INSERIRE QUI QUALI SONO E FAI N POCO DI STORIA MAGARI STRONZ?\n",
    "\n",
    "# home away team\n",
    "hat = ht.copy()\n",
    "\n",
    "# aggiungo altre due colonne per il conteggio dei matches\n",
    "hat['away_matches'] = None\n",
    "hat['tot'] = None\n",
    "\n",
    "hat.columns = ['team', 'home_matches', 'away_matches', 'tot']\n",
    "\n",
    "for i in range(0, ht.__len__()):\n",
    "    for j in range(0, at.__len__() - 1):\n",
    "        if(ht.iloc[i]['team'] == at.iloc[j]['team']):\n",
    "            hat.at[i, 'away_matches'] = at.iloc[j]['matches']\n",
    "            hat.at[i, 'tot'] = at.iloc[j]['matches'] + ht.iloc[i]['matches']\n",
    "\n",
    "            break   # il valore è stato trovato quindi termino il loop\n",
    "\n",
    "# teams only home match\n",
    "teams_ohm = []\n",
    "\n",
    "for i in range(0, hat.__len__()):\n",
    "    if hat.iloc[i]['away_matches'] is None:\n",
    "        print(\"La squadra che ha giocato in casa e non fuori casa è: \" + hat.iloc[i]['team'])\n",
    "        teams_ohm.append(hat.iloc[i]['team'])\n",
    "        hat.at[i, 'away_matches'] = 0\n",
    "        hat.at[i, 'tot'] = hat.iloc[i]['home_matches'] + hat.iloc[i]['away_matches']\n",
    "\n",
    "# *****************************************+\n",
    "hat.to_csv('dataset/most_games.csv')  # per semplicità, elimina poi\n",
    "print(hat.info())\n",
    "print(hat.head())"
   ],
   "outputs": [],
   "metadata": {}
  },
  {
   "cell_type": "code",
   "execution_count": null,
   "source": [
    "teams_ohm[0]"
   ],
   "outputs": [],
   "metadata": {}
  },
  {
   "cell_type": "code",
   "execution_count": null,
   "source": [
    "hat.sort_values(by=['tot'], ascending=False, inplace=True)\n",
    "hat.reset_index(inplace=True)\n",
    "hat.drop(columns=['index'], inplace=True)\n",
    "hat.index = hat.index + 1\n",
    "hat.head(10)"
   ],
   "outputs": [],
   "metadata": {}
  },
  {
   "cell_type": "code",
   "execution_count": null,
   "source": [
    "plt.figure(figsize=(16,8))\n",
    "plt.barh(hat['team'][:10], hat['home_matches'][:10], color='gold', edgecolor='black')\n",
    "plt.barh(hat['team'][:10], hat['away_matches'][:10], left=hat['home_matches'][:10] ,color='orangered', edgecolor='black')\n",
    "plt.legend(['Home matches', 'Away matches'])\n",
    "\n",
    "plt.gca().invert_yaxis()\n",
    "\n",
    "plt.show()"
   ],
   "outputs": [],
   "metadata": {}
  },
  {
   "cell_type": "markdown",
   "source": [
    "controllo le squadre che hanno fatto solo partite in casa"
   ],
   "metadata": {}
  },
  {
   "cell_type": "code",
   "execution_count": null,
   "source": [
    "matches_ohm = pd.DataFrame()\n",
    "\n",
    "for i in range(0, dst_df.__len__()):\n",
    "    for j in range(0, teams_ohm.__len__()):\n",
    "        if(dst_df.iloc[i]['home_team'] == teams_ohm[j]):\n",
    "            matches_ohm = matches_ohm.append(dst_df.iloc[i])\n",
    "\n",
    "matches_ohm['home_score'] = matches_ohm['home_score'].astype(int)\n",
    "matches_ohm['away_score'] = matches_ohm['away_score'].astype(int)\n",
    "matches_ohm['neutral'] = matches_ohm['neutral'].astype(bool)\n",
    "matches_ohm['year'] = matches_ohm['year'].astype(int)\n",
    "\n",
    "matches_ohm.to_csv('dataset/only_home_matches.csv')\n",
    "\n",
    "matches_ohm.head(5)"
   ],
   "outputs": [],
   "metadata": {}
  },
  {
   "cell_type": "markdown",
   "source": [
    "#### Squadra che ha vinto di più in totale\n",
    "- casa/fuori\n",
    "- è più facile giocare in casa?"
   ],
   "metadata": {}
  },
  {
   "cell_type": "code",
   "execution_count": null,
   "source": [
    "# win rate teams dataFrame\n",
    "wrt_df = pd.read_csv('dataset/most_games.csv')\n",
    "\n",
    "wrt_df.drop(labels=['Unnamed: 0'], inplace=True, axis=1)\n",
    "wrt_df.sort_values(by=['team'], ascending=False)\n",
    "\n",
    "wrt_df['home_win'] = 0\n",
    "wrt_df['away_win'] = 0\n",
    "\n",
    "wrt_df['home_draw'] = 0\n",
    "wrt_df['away_draw'] = 0\n",
    "\n",
    "wrt_df['home_loss'] = 0\n",
    "wrt_df['away_loss'] = 0\n",
    "\n",
    "# penalty\n",
    "wrt_df['home_win_penalty'] = 0\n",
    "wrt_df['home_loss_penalty'] = 0\n",
    "\n",
    "wrt_df['away_win_penalty'] = 0\n",
    "wrt_df['away_loss_penalty'] = 0\n",
    "\n",
    "# aggiungere partite giocate in campo neutrale?\n",
    "\n",
    "for i in range(0, wrt_df.__len__()):\n",
    "    # per ogni partita\n",
    "    for j in range(0, dst_df.__len__()):\n",
    "        # se la squadra del dst win rate:\n",
    "        # è in casa\n",
    "        if (wrt_df.iloc[i]['team'] == dst_df.iloc[j]['home_team']):\n",
    "\n",
    "            if (dst_df.iloc[j]['outcome'] == 'H'):\n",
    "                wrt_df.at[i, 'home_win'] = wrt_df.iloc[i]['home_win'] + 1\n",
    "\n",
    "            if (dst_df.iloc[j]['outcome'] == 'D'):\n",
    "                wrt_df.at[i, 'home_draw'] = wrt_df.iloc[i]['home_draw'] + 1\n",
    "\n",
    "            if (dst_df.iloc[j]['outcome'] == 'A'):\n",
    "                wrt_df.at[i, 'home_loss'] = wrt_df.iloc[i]['home_loss'] + 1\n",
    "\n",
    "            if (dst_df.iloc[j]['outcome'] == 'HP'):\n",
    "                wrt_df.at[i, 'home_win_penalty'] = wrt_df.iloc[i]['home_win_penalty'] + 1\n",
    "            \n",
    "            if (dst_df.iloc[j]['outcome'] == 'AP'):\n",
    "                wrt_df.at[i, 'home_loss_penalty'] = wrt_df.iloc[i]['home_loss_penalty'] + 1\n",
    "\n",
    "        # è fuori casa...\n",
    "        if (wrt_df.iloc[i]['team'] == dst_df.iloc[j]['away_team']):\n",
    "            # e ha vinto la squadr adi casa..\n",
    "            if (dst_df.iloc[j]['outcome'] == 'H'):\n",
    "                wrt_df.at[i, 'away_loss'] = wrt_df.iloc[i]['away_loss'] + 1\n",
    "\n",
    "            if (dst_df.iloc[j]['outcome'] == 'D'):\n",
    "                wrt_df.at[i, 'away_draw'] = wrt_df.iloc[i]['away_draw'] + 1\n",
    "\n",
    "            if (dst_df.iloc[j]['outcome'] == 'A'):\n",
    "                wrt_df.at[i, 'away_win'] = wrt_df.iloc[i]['away_win'] + 1\n",
    "\n",
    "            if (dst_df.iloc[j]['outcome'] == 'HP'):\n",
    "                wrt_df.at[i, 'away_loss_penalty'] = wrt_df.iloc[i]['away_loss_penalty'] + 1\n",
    "\n",
    "            if (dst_df.iloc[j]['outcome'] == 'AP'):\n",
    "                wrt_df.at[i, 'away_win_penalty'] = wrt_df.iloc[i]['away_win_penalty'] + 1\n",
    "\n",
    "print('Processo completato. Salvataggio...')\n",
    "wrt_df.to_csv('dataset/count_wins.csv')\n",
    "print('Salvato correttamente!')"
   ],
   "outputs": [],
   "metadata": {}
  },
  {
   "cell_type": "markdown",
   "source": [
    "Effettuo il conteggio di tutti i risultati, salvando su un altro .csv per accedere facilmente ai dati senza riprocessarli"
   ],
   "metadata": {}
  },
  {
   "cell_type": "code",
   "execution_count": null,
   "source": [
    "# wrt_df = pd.read_csv('dataset/count_wins.csv')\n",
    "# wrt_df.drop(labels=['Unnamed: 0'], inplace=True, axis=1)\n",
    "\n",
    "wrt_df['win'] = 0\n",
    "wrt_df['draw'] = 0\n",
    "wrt_df['loss'] = 0\n",
    "\n",
    "for i in range(0, wrt_df.__len__()):\n",
    "    wrt_df.at[i,'win'] = wrt_df.iloc[i]['home_win'] + wrt_df.iloc[i]['away_win'] + wrt_df.iloc[i]['home_win_penalty'] + wrt_df.iloc[i]['away_win_penalty']\n",
    "    wrt_df.at[i,'draw'] = wrt_df.iloc[i]['home_draw'] + wrt_df.iloc[i]['away_draw']\n",
    "    wrt_df.at[i,'loss'] = wrt_df.iloc[i]['home_loss'] + wrt_df.iloc[i]['away_loss'] + wrt_df.iloc[i]['home_loss_penalty'] + wrt_df.iloc[i]['away_loss_penalty']\n",
    "\n",
    "\n",
    "wrt_df.drop(labels=['home_win', 'away_win', 'home_win_penalty', 'away_win_penalty', 'home_draw', 'away_draw', 'home_loss', 'away_loss', 'home_loss_penalty', 'away_loss_penalty'], inplace=True, axis=1)\n",
    "wrt_df.sort_values(by=['win'], ascending=False)\n",
    "wrt_df.to_csv('dataset/count_wins_min.csv')\n",
    "wrt_df.head(15)\n"
   ],
   "outputs": [],
   "metadata": {}
  },
  {
   "cell_type": "markdown",
   "source": [
    "#### Numero di partite giocate per anno -- completare considerazioni"
   ],
   "metadata": {}
  },
  {
   "cell_type": "code",
   "execution_count": null,
   "source": [
    "mpy = dst_df['year'].value_counts().sort_index()\n",
    "\n",
    "plt.figure(figsize=(10,4))\n",
    "plt.title(label='Number of games per year')\n",
    "plt.ylabel(ylabel='number of games')\n",
    "plt.xlabel(xlabel='years')\n",
    "plt.plot(mpy)\n",
    "\n",
    "plt.grid()\n",
    "plt.show()"
   ],
   "outputs": [],
   "metadata": {}
  },
  {
   "cell_type": "markdown",
   "source": [
    "Inserisci considerazione sul covid..."
   ],
   "metadata": {}
  },
  {
   "cell_type": "markdown",
   "source": [
    "#### Totale di partite giocate per decade -- da calcolare il totale"
   ],
   "metadata": {}
  },
  {
   "cell_type": "code",
   "execution_count": 3,
   "source": [
    "# years list\n",
    "yl = dst_df['year'].value_counts().sort_index()\n",
    "\n",
    "# games per decade\n",
    "gpd = pd.DataFrame()\n",
    "# gpd['games'] = 0\n",
    "\n",
    "ranges_lst = ['1870-1879', '1880-1889', '1890-1899', '1900-1909', '1910-1919', '1920-1929', '1930-1939', '1940-1949', '1950-1959', '1960-1969', '1970-1979', '1980-1989', '1990-1999', '2000-2009', '2010-2020', '2021-2029' ]\n",
    "days_of_week = ['Monday', 'Tuesday', 'Wednesday', 'Thursday', 'Friday', 'Saturday', 'Sunday', 'TOT']\n",
    "\n",
    "for i in ranges_lst:\n",
    "    gpd[i] = 0\n",
    "    for j in days_of_week:\n",
    "        gpd.at[j] = 0 \n",
    "\n",
    "\n",
    "for j in range (0, dst_df.__len__()):\n",
    "    print(\"Processing %d/%d\" % (j , dst_df.__len__()), end='\\r')\n",
    "    year = dst_df.iloc[j]['year'].astype(int)\n",
    "    day_of_week = dst_df.iloc[j]['day_of_week']\n",
    "    # print(day_of_week, find_range(year), gpd.at[day_of_week, find_range(year)].astype(int))\n",
    "\n",
    "    gpd.at[day_of_week, find_range(year)] = gpd.at[day_of_week, find_range(year)] + 1\n",
    "\n",
    "# converti in intero\n",
    "# fai il conto\n",
    "\n",
    "gpd.to_csv('dataset/games_for_decade.csv')"
   ],
   "outputs": [
    {
     "output_type": "stream",
     "name": "stdout",
     "text": []
    }
   ],
   "metadata": {}
  },
  {
   "cell_type": "markdown",
   "source": [
    "grafico giorno della settimana dove si gioca di più x decade"
   ],
   "metadata": {}
  },
  {
   "cell_type": "markdown",
   "source": [
    "## Split del dataset -- da sistemare ma codice funzionante"
   ],
   "metadata": {}
  },
  {
   "cell_type": "code",
   "execution_count": null,
   "source": [
    "dst_df = pd.read_csv('dataset/dataset.csv')\n",
    "# dst_df.rename(columns = {'Unnamed: 0':'match_id'}, inplace = True)\n",
    "dst_df.drop('Unnamed: 0', inplace=True, axis=1)\n",
    "\n",
    "\n",
    "print('tot records: %d | shape: %s' % (dst_df.__len__(), dst_df.shape))\n",
    "print(\"***\"*15)\n",
    "dst_df.info()\n",
    "print(\"***\"*15)\n",
    "dst_df.shape"
   ],
   "outputs": [],
   "metadata": {}
  },
  {
   "cell_type": "markdown",
   "source": [
    "Grazie alla funzione `describe` visualizzo i gli indici di posizione rispetto al numero di partite giocate per ogni anno. Elimino le label `count`, `max` e `min` dal dataframe in quanto non necessarie per calcolo."
   ],
   "metadata": {}
  },
  {
   "cell_type": "code",
   "execution_count": null,
   "source": [
    "i_p = dst_df['year'].describe().astype(int).drop(labels=['std', 'min', 'max', 'count'])\n",
    "i_p_serie = i_p.copy()\n",
    "\n",
    "i_p = i_p.to_frame()\n",
    "i_p"
   ],
   "outputs": [],
   "metadata": {}
  },
  {
   "cell_type": "markdown",
   "source": [
    "Vedo con un istogramma il numero di match per anno (in base a come sono distribuiti). Inoltre con descr con gli indici di posizione vedo di dividere idealmente il dataset in epoche differenti di calcio"
   ],
   "metadata": {}
  },
  {
   "cell_type": "code",
   "execution_count": null,
   "source": [
    "# number of matches per year\n",
    "nmy = dst_df['year'].value_counts().sort_index()\n",
    "colors = ['blue' if check_element(i, i_p.values) else 'green' for i in nmy.index]\n",
    "lbls = [ add_labels(i, i_p_serie) if check_element(i, i_p.values) else '' for i in nmy.index]\n",
    "\n",
    "plot_graph = nmy.plot(kind='bar', figsize=(35,6), title='Number of matches per year', xlabel='years', ylabel='matches', color=colors)\n",
    "plot_graph.bar_label(container=plot_graph.containers[0], labels=lbls, label_type='edge')\n",
    "plot_graph.margins(y=0.5)\n",
    "\n",
    "plt.grid()\n",
    "plt.show()"
   ],
   "outputs": [],
   "metadata": {}
  },
  {
   "cell_type": "markdown",
   "source": [
    "Inoltre controlliamo il mediano degli anni"
   ],
   "metadata": {}
  },
  {
   "cell_type": "code",
   "execution_count": null,
   "source": [
    "dst_df['year'].median().astype(int)"
   ],
   "outputs": [],
   "metadata": {}
  },
  {
   "cell_type": "markdown",
   "source": [
    "Che coincide col 50% percentile. Possiamo dunque splittare il dataset in due parti: calcio moderno e calcio 'vecchio'"
   ],
   "metadata": {}
  },
  {
   "cell_type": "code",
   "execution_count": null,
   "source": [
    "old_era = pd.DataFrame(columns=dst_df.columns.drop(labels=['match_id', 'date']))\n",
    "modern_era = old_era.copy()\n",
    "\n",
    "for i in range(0, dst_df.__len__()):    \n",
    "    if(dst_df.iloc[i]['year'] < dst_df['year'].median().astype(int)):\n",
    "        old_era = old_era.append(dst_df.iloc[i].drop(labels=['date','match_id']))\n",
    "\n",
    "    if(dst_df.iloc[i]['year'] >= dst_df['year'].median().astype(int)):\n",
    "        modern_era = modern_era.append(dst_df.iloc[i])\n",
    "\n",
    "old_era.to_csv('dataset/dataset_old_era.csv', index=False)\n",
    "modern_era.to_csv('dataset/dataset_modern_era.csv', index=False)\n",
    "\n",
    "if(old_era.__len__() + modern_era.__len__() == dst_df.__len__()):\n",
    "    print(\"Dataset splitted successfully\")\n",
    "else:\n",
    "    print(\"Something went wrong\")"
   ],
   "outputs": [],
   "metadata": {}
  },
  {
   "cell_type": "markdown",
   "source": [
    "## To found title.."
   ],
   "metadata": {}
  },
  {
   "cell_type": "code",
   "execution_count": null,
   "source": [
    "dst_old_df = pd.read_csv('dataset/dataset_modern_era.csv')\n",
    "dst_modern_df = pd.read_csv('dataset/dataset_old_era.csv')"
   ],
   "outputs": [],
   "metadata": {}
  },
  {
   "cell_type": "code",
   "execution_count": null,
   "source": [
    "nmy = dst_old_df['year'].value_counts().sort_index()\n",
    "\n",
    "plot_graph = nmy.plot(figsize=(35,6), title='Number of matches per year', xlabel='years', ylabel='matches')\n",
    "plot_graph.bar_label(container=plot_graph.containers[0], label_type='edge')\n",
    "# plot_graph.margins(y=0.5)\n",
    "\n",
    "plt.grid()\n",
    "plt.show()"
   ],
   "outputs": [],
   "metadata": {}
  },
  {
   "cell_type": "code",
   "execution_count": null,
   "source": [
    "nmy = dst_modern_df['year'].value_counts().sort_index()\n",
    "\n",
    "plot_graph = nmy.plot(kind='bar', figsize=(35,6), title='Number of matches per year', xlabel='years', ylabel='matches')\n",
    "plot_graph.bar_label(container=plot_graph.containers[0], label_type='edge')\n",
    "# plot_graph.margins(y=0.5)\n",
    "\n",
    "plt.grid()\n",
    "plt.show()"
   ],
   "outputs": [],
   "metadata": {}
  }
 ],
 "metadata": {
  "orig_nbformat": 4,
  "language_info": {
   "name": "python",
   "version": "3.9.7",
   "mimetype": "text/x-python",
   "codemirror_mode": {
    "name": "ipython",
    "version": 3
   },
   "pygments_lexer": "ipython3",
   "nbconvert_exporter": "python",
   "file_extension": ".py"
  },
  "kernelspec": {
   "name": "python3",
   "display_name": "Python 3.9.7 64-bit"
  },
  "interpreter": {
   "hash": "aee8b7b246df8f9039afb4144a1f6fd8d2ca17a180786b69acc140d282b71a49"
  }
 },
 "nbformat": 4,
 "nbformat_minor": 2
}