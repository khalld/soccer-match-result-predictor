{
 "cells": [
  {
   "cell_type": "markdown",
   "source": [
    "## Import libs and custom vars"
   ],
   "metadata": {}
  },
  {
   "cell_type": "code",
   "execution_count": 1,
   "source": [
    "import pandas as pd\n",
    "import numpy as np\n",
    "from datetime import datetime\n",
    "from libs.utils import find_penalty, return_outcome"
   ],
   "outputs": [],
   "metadata": {}
  },
  {
   "cell_type": "markdown",
   "source": [
    "<ul>\n",
    "    <li>Ci sono alcuni nomi di squadre che sono cambiate nel tempo, uniformizza </li>\n",
    "    <li>Shootouts è il db dei penalty, quindi bisogna manipolare il dataset per vedere chi vince alla fine quella partita</li>\n",
    "</ul>"
   ],
   "metadata": {}
  },
  {
   "cell_type": "markdown",
   "source": [
    "## Descrizione del dataset e prima manipolazione\n",
    "\n",
    "Il Dataset contiene 42483 risultati di partite di calcio internazionale,\n",
    "\n",
    "Il primo match risale al 1872-11-30 mentre l’ultimo è del 2021-08-01\n",
    "\n",
    "Nel dataset sono incluse sia le partite ufficiali di tutte le competizioni, dalle amichevoli alla coppa del mondo. è da specificare inoltre che comprende solo le competizioni nazionali maschili e sono esclusi: Olympic Games or matches where at least one of the teams was the nation's B-team, U-23 or a league select team.\n",
    "\n",
    "Inoltre, il dataset presenta un ulteriore file che contiene, in totale 432 risultati finali di partite terminate ai calci di rigore (vincenti).\n",
    "\n",
    "Per correttezza, controlleremo inizialmente che il Dataset non contenga elementi nulli e i due dataset verranno inoltre ‘mergiate’ in un unico file contenti i risultati, dove presenti, anche dopo i calci di rigore."
   ],
   "metadata": {}
  },
  {
   "cell_type": "code",
   "execution_count": 2,
   "source": [
    "data = {\n",
    "    'results': pd.read_csv('dataset/results.csv'),\n",
    "    'shootouts': pd.read_csv('dataset/shootouts.csv')\n",
    "}\n",
    "\n",
    "# print('**'*5, ' results.csv ', '**'*5)\n",
    "# print(data['results'].info())\n",
    "# print('**'*5, ' shootouts.csv ', '**'*5)\n",
    "# print(data['shootouts'].info())"
   ],
   "outputs": [],
   "metadata": {}
  },
  {
   "cell_type": "markdown",
   "source": [
    "Il dataset non contiene elementi nulli. Visualizziamo le prime 5 righe di ogni dataset"
   ],
   "metadata": {}
  },
  {
   "cell_type": "code",
   "execution_count": null,
   "source": [
    "print('**'*5, ' results.csv ', '**'*5)\n",
    "print(data['results'].head(5))\n",
    "print('**'*5, ' shootouts.csv ', '**'*5)\n",
    "print(data['shootouts'].head(5))"
   ],
   "outputs": [],
   "metadata": {}
  },
  {
   "cell_type": "markdown",
   "source": [
    "Applichiamo dunque alcune modifiche al dataset. Si integrano di conseguenza alcune informazioni del dataset 'shootouts'\n",
    "\n",
    "In particolare, processeremo il dataset (partendo da quello di results.csv):\n",
    "- aggiungendo la colonna 'outcome', sarà classificato come:\n",
    "    - H (home win)\n",
    "    - A (away win)\n",
    "    - D (draw), in particolare se in 'shootouts' è presente la partita 'draw':\n",
    "        - HP (home win at penalty)\n",
    "        - AP (away win at penalty)\n",
    "\n",
    "- saranno estratti i dati relativi alla data della partita in quanto serviranno successivamente"
   ],
   "metadata": {}
  },
  {
   "cell_type": "code",
   "execution_count": 4,
   "source": [
    "dst_df = data['results'].copy()\n",
    "\n",
    "res_len = data['results'].__len__()\n",
    "sht_len = data['shootouts'].__len__()\n",
    "\n",
    "print('results.csv tot records: %d | shape: %s' % (res_len, data['results'].shape))\n",
    "print('shootouts.csv tot records: %d | shape: %s' % (sht_len, data['shootouts'].shape))"
   ],
   "outputs": [
    {
     "output_type": "stream",
     "name": "stdout",
     "text": [
      "results.csv tot records: 42483 | shape: (42483, 9)\n",
      "shootouts.csv tot records: 432 | shape: (432, 4)\n"
     ]
    }
   ],
   "metadata": {}
  },
  {
   "cell_type": "code",
   "execution_count": 5,
   "source": [
    "# aggiungi una colonna al dataFrame che aggiorna con i risultati dei rigori\n",
    "\n",
    "dst_df['outcome'] = 'NA'\n",
    "dst_df['day_of_week'] = 'NA'\n",
    "dst_df['month'] = 'NA'\n",
    "dst_df['year'] = 'NA'\n",
    "\n",
    "counter = 0\n",
    "for i in range(0, res_len - 1):\n",
    "    counter = counter + 1\n",
    "    print('*** Processing %d/%d ***' % (counter, res_len), end='\\r')\n",
    "\n",
    "    # estraggo dati necessari dalla data\n",
    "    row_date = datetime.fromisoformat(dst_df.iloc[i]['date'])\n",
    "\n",
    "    dst_df.at[i, 'day_of_week'] = row_date.strftime('%A')\n",
    "    dst_df.at[i, 'month'] = row_date.strftime('%B')\n",
    "    dst_df.at[i, 'year'] = int(row_date.strftime('%Y'))\n",
    "\n",
    "    # calcolo il risultato della partita\n",
    "    dst_df.at[i, 'outcome'] = return_outcome(data['results'].iloc[i]['home_score'], data['results'].iloc[i]['away_score'])\n",
    "\n",
    "    if(dst_df.iloc[i]['outcome'] == 'D'):\n",
    "        dst_df.at[i, 'outcome'] = find_penalty(data['results'].iloc[i], data['shootouts'], sht_len - 1)\n",
    "\n",
    "\n",
    "dst_df.to_csv('dataset/dataset.csv')"
   ],
   "outputs": [
    {
     "output_type": "stream",
     "name": "stdout",
     "text": []
    }
   ],
   "metadata": {}
  },
  {
   "cell_type": "code",
   "execution_count": 6,
   "source": [
    "print(dst_df.head())"
   ],
   "outputs": [
    {
     "output_type": "stream",
     "name": "stdout",
     "text": [
      "         date home_team away_team  home_score  away_score tournament     city  \\\n",
      "0  1872-11-30  Scotland   England           0           0   Friendly  Glasgow   \n",
      "1  1873-03-08   England  Scotland           4           2   Friendly   London   \n",
      "2  1874-03-07  Scotland   England           2           1   Friendly  Glasgow   \n",
      "3  1875-03-06   England  Scotland           2           2   Friendly   London   \n",
      "4  1876-03-04  Scotland   England           3           0   Friendly  Glasgow   \n",
      "\n",
      "    country  neutral outcome day_of_week     month  year  \n",
      "0  Scotland    False       D    Saturday  November  1872  \n",
      "1   England    False       H    Saturday     March  1873  \n",
      "2  Scotland    False       H    Saturday     March  1874  \n",
      "3   England    False       D    Saturday     March  1875  \n",
      "4  Scotland    False       H    Saturday     March  1876  \n"
     ]
    }
   ],
   "metadata": {}
  },
  {
   "cell_type": "markdown",
   "source": [
    "## Data visualization\n",
    "\n",
    "importiamo nuovamente dal nuovo csv il dataset manipolato"
   ],
   "metadata": {}
  },
  {
   "cell_type": "code",
   "execution_count": 29,
   "source": [
    "dst_df = pd.read_csv('dataset/dataset.csv')\n",
    "dst_df.rename(columns = {'Unnamed: 0':'match_id'}, inplace = True)\n",
    "\n",
    "print('tot records: %d | shape: %s' % (dst_df.__len__(), dst_df.shape))"
   ],
   "outputs": [
    {
     "output_type": "stream",
     "name": "stdout",
     "text": [
      "tot records: 42483 | shape: (42483, 14)\n"
     ]
    }
   ],
   "metadata": {}
  },
  {
   "cell_type": "code",
   "execution_count": 27,
   "source": [
    "dst_df.info()"
   ],
   "outputs": [
    {
     "output_type": "stream",
     "name": "stdout",
     "text": [
      "<class 'pandas.core.frame.DataFrame'>\n",
      "RangeIndex: 42483 entries, 0 to 42482\n",
      "Data columns (total 14 columns):\n",
      " #   Column       Non-Null Count  Dtype  \n",
      "---  ------       --------------  -----  \n",
      " 0   match_id     42483 non-null  int64  \n",
      " 1   date         42483 non-null  object \n",
      " 2   home_team    42483 non-null  object \n",
      " 3   away_team    42483 non-null  object \n",
      " 4   home_score   42483 non-null  int64  \n",
      " 5   away_score   42483 non-null  int64  \n",
      " 6   tournament   42483 non-null  object \n",
      " 7   city         42483 non-null  object \n",
      " 8   country      42483 non-null  object \n",
      " 9   neutral      42483 non-null  bool   \n",
      " 10  outcome      42482 non-null  object \n",
      " 11  day_of_week  42482 non-null  object \n",
      " 12  month        42482 non-null  object \n",
      " 13  year         42482 non-null  float64\n",
      "dtypes: bool(1), float64(1), int64(3), object(9)\n",
      "memory usage: 4.3+ MB\n"
     ]
    }
   ],
   "metadata": {}
  },
  {
   "cell_type": "markdown",
   "source": [
    "Controlliamo la distribuzione delle partite negli anni per suddividerle nelle varie 'epoche calcistiche'"
   ],
   "metadata": {}
  }
 ],
 "metadata": {
  "orig_nbformat": 4,
  "language_info": {
   "name": "python",
   "version": "3.9.5",
   "mimetype": "text/x-python",
   "codemirror_mode": {
    "name": "ipython",
    "version": 3
   },
   "pygments_lexer": "ipython3",
   "nbconvert_exporter": "python",
   "file_extension": ".py"
  },
  "kernelspec": {
   "name": "python3",
   "display_name": "Python 3.9.5 64-bit"
  },
  "interpreter": {
   "hash": "aee8b7b246df8f9039afb4144a1f6fd8d2ca17a180786b69acc140d282b71a49"
  }
 },
 "nbformat": 4,
 "nbformat_minor": 2
}