{
 "cells": [
  {
   "cell_type": "code",
   "execution_count": 1,
   "metadata": {
    "collapsed": false,
    "pycharm": {
     "name": "#%%\n"
    }
   },
   "outputs": [],
   "source": [
    "import pandas as pd\n",
    "import numpy as np\n",
    "import matplotlib.colors as mcolors\n",
    "import seaborn as sns\n",
    "import statsmodels.formula.api as smf\n",
    "import statsmodels.api as sm\n",
    "import warnings\n",
    "warnings.simplefilter(action='ignore', category=FutureWarning) # suppress some future warning\n",
    "pd.options.mode.chained_assignment = None  # default='warn'\n",
    "\n",
    "from os import path\n",
    "from scipy.stats import poisson # TODO sostituisci con smf o sm?\n",
    "from matplotlib import pyplot as plt\n",
    "from matplotlib.collections import LineCollection\n",
    "\n",
    "# custom libs\n",
    "from libs.utils import fix_continent_matches, show_cdf, show_cdf_splitted, format_dataframe, extract_continent_from_FIFA, check_records_validity, remove_outliers, get_match_result\n",
    "# from libs.utils import convert_onehot, convert_onehot_simplified TODO al momento non sono utilizzate, eventualmente elimina\n",
    "\n",
    "plt.style.use('ggplot') # stile di default del grafico\n",
    "# plt.rcParams.update({'figure.figsize':(45,10), 'figure.dpi':100})\n",
    "\n",
    "# costanti\n",
    "PATH_ORIGINAL_DST = 'dataset/original'\n",
    "PATH_DST = 'dataset'"
   ]
  },
  {
   "cell_type": "markdown",
   "metadata": {},
   "source": [
    "## Parte 1: Introduzione dataset, verifica e preparazione\n",
    "\n",
    "Si prende in analisi un dataset contenente 4483 risultati di partite di calcio internazionale maschile.<br>\n",
    "L'obbiettivo è realizzare un predittore di risultati di partite di calcio internazionale [... aggiungi descrizione dal dataset stesso...]. Inizialmente viene preso in esame il dataset, vengono estratte alcune informazioni utilizzando la statistica descrittiva.<br>\n",
    "Per prima cosa verifico l'eventuale presenza di valori nulli del dataset"
   ]
  },
  {
   "cell_type": "code",
   "execution_count": 2,
   "metadata": {},
   "outputs": [
    {
     "name": "stdout",
     "output_type": "stream",
     "text": [
      "Null values: False | shape: (42483, 9)\n",
      "*********************************************\n",
      "<class 'pandas.core.frame.DataFrame'>\n",
      "RangeIndex: 42483 entries, 0 to 42482\n",
      "Data columns (total 9 columns):\n",
      " #   Column      Non-Null Count  Dtype \n",
      "---  ------      --------------  ----- \n",
      " 0   date        42483 non-null  object\n",
      " 1   home_team   42483 non-null  object\n",
      " 2   away_team   42483 non-null  object\n",
      " 3   home_score  42483 non-null  int64 \n",
      " 4   away_score  42483 non-null  int64 \n",
      " 5   tournament  42483 non-null  object\n",
      " 6   city        42483 non-null  object\n",
      " 7   country     42483 non-null  object\n",
      " 8   neutral     42483 non-null  bool  \n",
      "dtypes: bool(1), int64(2), object(6)\n",
      "memory usage: 2.6+ MB\n",
      "None\n"
     ]
    }
   ],
   "source": [
    "df = pd.read_csv(path.join(PATH_ORIGINAL_DST ,'results.csv') )\n",
    "\n",
    "print(\"Null values:\", df.isnull().values.any(), \"| shape:\", df.shape)\n",
    "print(\"***\"*15)\n",
    "print(df.info())"
   ]
  },
  {
   "cell_type": "markdown",
   "metadata": {},
   "source": [
    "### Pre-processing\n",
    "Dopo essermi accertato che il dataset non contiene elementi nulli procedo con il pre-processing:\n",
    "- Estraggo la data dalla colonna `date` in rispettivamente in `day` `day_of_week` `month` `year`:\n",
    "- Calcolo `outcome` dall'incontro utilizzando la funzione `return_outcome` che ritorna `Home` per vittoria della squadra di casa, `Draw` per il pareggio e `Away` per vittoria della squadra ospite\n",
    "- Converto il valore `home_score` e `away_score` in `float` (servirà successivamente)\n",
    "- Alcuni nomi di nazioni sono cambiate nel tempo, in quanto il dataset presenta incontri che comprendono ad ese\n",
    "- Formatto i nomi delle nazioni [scrivi meglio]"
   ]
  },
  {
   "cell_type": "code",
   "execution_count": 3,
   "metadata": {},
   "outputs": [
    {
     "name": "stdout",
     "output_type": "stream",
     "text": []
    }
   ],
   "source": [
    "df = format_dataframe(df)"
   ]
  },
  {
   "cell_type": "markdown",
   "metadata": {},
   "source": [
    "Solitamente, nel calcio, la prima squadra è considerata sempre quella di casa. Controllo dunque che il dataset sia coerente con questa convenzione prima di procedere al calcolo delle statistiche per ogni team"
   ]
  },
  {
   "cell_type": "code",
   "execution_count": 4,
   "metadata": {},
   "outputs": [
    {
     "name": "stdout",
     "output_type": "stream",
     "text": [
      "Trovati 25 record incorenti con la convenzione\n"
     ]
    }
   ],
   "source": [
    "if len(df.query(\"away_team == country\")) > 0:\n",
    "    print(\"Trovati %d record incorenti con la convenzione\" % len(df.query(\"away_team == country\")))"
   ]
  },
  {
   "cell_type": "markdown",
   "metadata": {},
   "source": [
    "Visto l'esiguo numero di elementi li visualizzo"
   ]
  },
  {
   "cell_type": "code",
   "execution_count": 5,
   "metadata": {},
   "outputs": [
    {
     "data": {
      "text/html": [
       "<div>\n",
       "<style scoped>\n",
       "    .dataframe tbody tr th:only-of-type {\n",
       "        vertical-align: middle;\n",
       "    }\n",
       "\n",
       "    .dataframe tbody tr th {\n",
       "        vertical-align: top;\n",
       "    }\n",
       "\n",
       "    .dataframe thead th {\n",
       "        text-align: right;\n",
       "    }\n",
       "</style>\n",
       "<table border=\"1\" class=\"dataframe\">\n",
       "  <thead>\n",
       "    <tr style=\"text-align: right;\">\n",
       "      <th></th>\n",
       "      <th>date</th>\n",
       "      <th>home_team</th>\n",
       "      <th>away_team</th>\n",
       "      <th>home_score</th>\n",
       "      <th>away_score</th>\n",
       "      <th>tournament</th>\n",
       "      <th>city</th>\n",
       "      <th>country</th>\n",
       "      <th>neutral</th>\n",
       "      <th>outcome</th>\n",
       "      <th>year</th>\n",
       "    </tr>\n",
       "  </thead>\n",
       "  <tbody>\n",
       "    <tr>\n",
       "      <th>788</th>\n",
       "      <td>1924-03-13</td>\n",
       "      <td>Catalonia</td>\n",
       "      <td>Spain</td>\n",
       "      <td>0.0</td>\n",
       "      <td>7.0</td>\n",
       "      <td>Friendly</td>\n",
       "      <td>Barcelona</td>\n",
       "      <td>Spain</td>\n",
       "      <td>False</td>\n",
       "      <td>Away</td>\n",
       "      <td>1924</td>\n",
       "    </tr>\n",
       "    <tr>\n",
       "      <th>1618</th>\n",
       "      <td>1933-10-04</td>\n",
       "      <td>Silesia</td>\n",
       "      <td>Poland</td>\n",
       "      <td>1.0</td>\n",
       "      <td>2.0</td>\n",
       "      <td>Friendly</td>\n",
       "      <td>Katowice</td>\n",
       "      <td>Poland</td>\n",
       "      <td>False</td>\n",
       "      <td>Away</td>\n",
       "      <td>1933</td>\n",
       "    </tr>\n",
       "    <tr>\n",
       "      <th>1650</th>\n",
       "      <td>1934-02-02</td>\n",
       "      <td>Catalonia</td>\n",
       "      <td>Spain</td>\n",
       "      <td>0.0</td>\n",
       "      <td>2.0</td>\n",
       "      <td>Friendly</td>\n",
       "      <td>Barcelona</td>\n",
       "      <td>Spain</td>\n",
       "      <td>False</td>\n",
       "      <td>Away</td>\n",
       "      <td>1934</td>\n",
       "    </tr>\n",
       "    <tr>\n",
       "      <th>2754</th>\n",
       "      <td>1947-10-19</td>\n",
       "      <td>Catalonia</td>\n",
       "      <td>Spain</td>\n",
       "      <td>3.0</td>\n",
       "      <td>1.0</td>\n",
       "      <td>Friendly</td>\n",
       "      <td>Barcelona</td>\n",
       "      <td>Spain</td>\n",
       "      <td>False</td>\n",
       "      <td>Home</td>\n",
       "      <td>1947</td>\n",
       "    </tr>\n",
       "    <tr>\n",
       "      <th>3487</th>\n",
       "      <td>1953-04-26</td>\n",
       "      <td>Silesia</td>\n",
       "      <td>Poland</td>\n",
       "      <td>2.0</td>\n",
       "      <td>3.0</td>\n",
       "      <td>Friendly</td>\n",
       "      <td>Chorzów</td>\n",
       "      <td>Poland</td>\n",
       "      <td>False</td>\n",
       "      <td>Away</td>\n",
       "      <td>1953</td>\n",
       "    </tr>\n",
       "    <tr>\n",
       "      <th>3526</th>\n",
       "      <td>1953-08-09</td>\n",
       "      <td>Catalonia</td>\n",
       "      <td>Spain</td>\n",
       "      <td>0.0</td>\n",
       "      <td>6.0</td>\n",
       "      <td>Friendly</td>\n",
       "      <td>Barcelona</td>\n",
       "      <td>Spain</td>\n",
       "      <td>False</td>\n",
       "      <td>Away</td>\n",
       "      <td>1953</td>\n",
       "    </tr>\n",
       "    <tr>\n",
       "      <th>3539</th>\n",
       "      <td>1953-09-13</td>\n",
       "      <td>Silesia</td>\n",
       "      <td>Poland</td>\n",
       "      <td>3.0</td>\n",
       "      <td>3.0</td>\n",
       "      <td>Friendly</td>\n",
       "      <td>Byton</td>\n",
       "      <td>Poland</td>\n",
       "      <td>False</td>\n",
       "      <td>Draw</td>\n",
       "      <td>1953</td>\n",
       "    </tr>\n",
       "    <tr>\n",
       "      <th>28848</th>\n",
       "      <td>2006-11-19</td>\n",
       "      <td>Crimea</td>\n",
       "      <td>Northern Cyprus</td>\n",
       "      <td>0.0</td>\n",
       "      <td>5.0</td>\n",
       "      <td>ELF Cup</td>\n",
       "      <td>Lefkoşa</td>\n",
       "      <td>Northern Cyprus</td>\n",
       "      <td>True</td>\n",
       "      <td>Away</td>\n",
       "      <td>2006</td>\n",
       "    </tr>\n",
       "    <tr>\n",
       "      <th>28898</th>\n",
       "      <td>2006-12-09</td>\n",
       "      <td>Silesia</td>\n",
       "      <td>Poland</td>\n",
       "      <td>1.0</td>\n",
       "      <td>1.0</td>\n",
       "      <td>Friendly</td>\n",
       "      <td>Chorzów</td>\n",
       "      <td>Poland</td>\n",
       "      <td>False</td>\n",
       "      <td>Draw</td>\n",
       "      <td>2006</td>\n",
       "    </tr>\n",
       "    <tr>\n",
       "      <th>31765</th>\n",
       "      <td>2009-10-28</td>\n",
       "      <td>South Africa</td>\n",
       "      <td>Zimbabwe</td>\n",
       "      <td>1.0</td>\n",
       "      <td>1.0</td>\n",
       "      <td>COSAFA Cup</td>\n",
       "      <td>Harare</td>\n",
       "      <td>Zimbabwe</td>\n",
       "      <td>True</td>\n",
       "      <td>Draw</td>\n",
       "      <td>2009</td>\n",
       "    </tr>\n",
       "    <tr>\n",
       "      <th>39599</th>\n",
       "      <td>2018-01-21</td>\n",
       "      <td>Sudan</td>\n",
       "      <td>Morocco</td>\n",
       "      <td>0.0</td>\n",
       "      <td>0.0</td>\n",
       "      <td>African Nations Championship</td>\n",
       "      <td>Casablanca</td>\n",
       "      <td>Morocco</td>\n",
       "      <td>True</td>\n",
       "      <td>Draw</td>\n",
       "      <td>2018</td>\n",
       "    </tr>\n",
       "    <tr>\n",
       "      <th>40306</th>\n",
       "      <td>2018-11-09</td>\n",
       "      <td>Timor-Leste</td>\n",
       "      <td>Thailand</td>\n",
       "      <td>0.0</td>\n",
       "      <td>7.0</td>\n",
       "      <td>AFF Championship</td>\n",
       "      <td>Bangkok</td>\n",
       "      <td>Thailand</td>\n",
       "      <td>True</td>\n",
       "      <td>Away</td>\n",
       "      <td>2018</td>\n",
       "    </tr>\n",
       "    <tr>\n",
       "      <th>40497</th>\n",
       "      <td>2019-01-10</td>\n",
       "      <td>India</td>\n",
       "      <td>United Arab Emirates</td>\n",
       "      <td>0.0</td>\n",
       "      <td>2.0</td>\n",
       "      <td>AFC Asian Cup</td>\n",
       "      <td>Abu Dhabi</td>\n",
       "      <td>United Arab Emirates</td>\n",
       "      <td>True</td>\n",
       "      <td>Away</td>\n",
       "      <td>2019</td>\n",
       "    </tr>\n",
       "    <tr>\n",
       "      <th>40537</th>\n",
       "      <td>2019-01-29</td>\n",
       "      <td>Qatar</td>\n",
       "      <td>United Arab Emirates</td>\n",
       "      <td>4.0</td>\n",
       "      <td>0.0</td>\n",
       "      <td>AFC Asian Cup</td>\n",
       "      <td>Abu Dhabi</td>\n",
       "      <td>United Arab Emirates</td>\n",
       "      <td>True</td>\n",
       "      <td>Home</td>\n",
       "      <td>2019</td>\n",
       "    </tr>\n",
       "    <tr>\n",
       "      <th>40713</th>\n",
       "      <td>2019-06-04</td>\n",
       "      <td>Uganda</td>\n",
       "      <td>South Africa</td>\n",
       "      <td>1.0</td>\n",
       "      <td>1.0</td>\n",
       "      <td>COSAFA Cup</td>\n",
       "      <td>Durban</td>\n",
       "      <td>South Africa</td>\n",
       "      <td>True</td>\n",
       "      <td>Draw</td>\n",
       "      <td>2019</td>\n",
       "    </tr>\n",
       "    <tr>\n",
       "      <th>40906</th>\n",
       "      <td>2019-06-22</td>\n",
       "      <td>Peru</td>\n",
       "      <td>Brazil</td>\n",
       "      <td>0.0</td>\n",
       "      <td>5.0</td>\n",
       "      <td>Copa América</td>\n",
       "      <td>São Paulo</td>\n",
       "      <td>Brazil</td>\n",
       "      <td>True</td>\n",
       "      <td>Away</td>\n",
       "      <td>2019</td>\n",
       "    </tr>\n",
       "    <tr>\n",
       "      <th>42060</th>\n",
       "      <td>2021-03-29</td>\n",
       "      <td>India</td>\n",
       "      <td>United Arab Emirates</td>\n",
       "      <td>0.0</td>\n",
       "      <td>6.0</td>\n",
       "      <td>Friendly</td>\n",
       "      <td>Dubai</td>\n",
       "      <td>United Arab Emirates</td>\n",
       "      <td>True</td>\n",
       "      <td>Away</td>\n",
       "      <td>2021</td>\n",
       "    </tr>\n",
       "    <tr>\n",
       "      <th>42168</th>\n",
       "      <td>2021-06-03</td>\n",
       "      <td>Australia</td>\n",
       "      <td>Kuwait</td>\n",
       "      <td>3.0</td>\n",
       "      <td>0.0</td>\n",
       "      <td>FIFA World Cup qualification</td>\n",
       "      <td>Kuwait City</td>\n",
       "      <td>Kuwait</td>\n",
       "      <td>True</td>\n",
       "      <td>Home</td>\n",
       "      <td>2021</td>\n",
       "    </tr>\n",
       "    <tr>\n",
       "      <th>42173</th>\n",
       "      <td>2021-06-03</td>\n",
       "      <td>India</td>\n",
       "      <td>Qatar</td>\n",
       "      <td>0.0</td>\n",
       "      <td>1.0</td>\n",
       "      <td>FIFA World Cup qualification</td>\n",
       "      <td>Doha</td>\n",
       "      <td>Qatar</td>\n",
       "      <td>True</td>\n",
       "      <td>Away</td>\n",
       "      <td>2021</td>\n",
       "    </tr>\n",
       "    <tr>\n",
       "      <th>42239</th>\n",
       "      <td>2021-06-07</td>\n",
       "      <td>IR Iran</td>\n",
       "      <td>Bahrain</td>\n",
       "      <td>3.0</td>\n",
       "      <td>0.0</td>\n",
       "      <td>FIFA World Cup qualification</td>\n",
       "      <td>Riffa</td>\n",
       "      <td>Bahrain</td>\n",
       "      <td>True</td>\n",
       "      <td>Home</td>\n",
       "      <td>2021</td>\n",
       "    </tr>\n",
       "    <tr>\n",
       "      <th>42242</th>\n",
       "      <td>2021-06-07</td>\n",
       "      <td>Oman</td>\n",
       "      <td>Qatar</td>\n",
       "      <td>0.0</td>\n",
       "      <td>1.0</td>\n",
       "      <td>FIFA World Cup qualification</td>\n",
       "      <td>Doha</td>\n",
       "      <td>Qatar</td>\n",
       "      <td>True</td>\n",
       "      <td>Away</td>\n",
       "      <td>2021</td>\n",
       "    </tr>\n",
       "    <tr>\n",
       "      <th>42276</th>\n",
       "      <td>2021-06-09</td>\n",
       "      <td>Sri Lanka</td>\n",
       "      <td>Korea Republic</td>\n",
       "      <td>0.0</td>\n",
       "      <td>5.0</td>\n",
       "      <td>FIFA World Cup qualification</td>\n",
       "      <td>Goyang</td>\n",
       "      <td>Korea Republic</td>\n",
       "      <td>True</td>\n",
       "      <td>Away</td>\n",
       "      <td>2021</td>\n",
       "    </tr>\n",
       "    <tr>\n",
       "      <th>42288</th>\n",
       "      <td>2021-06-11</td>\n",
       "      <td>Singapore</td>\n",
       "      <td>Saudi Arabia</td>\n",
       "      <td>0.0</td>\n",
       "      <td>3.0</td>\n",
       "      <td>FIFA World Cup qualification</td>\n",
       "      <td>Riyadh</td>\n",
       "      <td>Saudi Arabia</td>\n",
       "      <td>True</td>\n",
       "      <td>Away</td>\n",
       "      <td>2021</td>\n",
       "    </tr>\n",
       "    <tr>\n",
       "      <th>42292</th>\n",
       "      <td>2021-06-11</td>\n",
       "      <td>Indonesia</td>\n",
       "      <td>United Arab Emirates</td>\n",
       "      <td>0.0</td>\n",
       "      <td>5.0</td>\n",
       "      <td>FIFA World Cup qualification</td>\n",
       "      <td>Dubai</td>\n",
       "      <td>United Arab Emirates</td>\n",
       "      <td>True</td>\n",
       "      <td>Away</td>\n",
       "      <td>2021</td>\n",
       "    </tr>\n",
       "    <tr>\n",
       "      <th>42326</th>\n",
       "      <td>2021-06-15</td>\n",
       "      <td>Taiwan</td>\n",
       "      <td>Kuwait</td>\n",
       "      <td>1.0</td>\n",
       "      <td>2.0</td>\n",
       "      <td>FIFA World Cup qualification</td>\n",
       "      <td>Kuwait City</td>\n",
       "      <td>Kuwait</td>\n",
       "      <td>True</td>\n",
       "      <td>Away</td>\n",
       "      <td>2021</td>\n",
       "    </tr>\n",
       "  </tbody>\n",
       "</table>\n",
       "</div>"
      ],
      "text/plain": [
       "             date     home_team             away_team  home_score  away_score  \\\n",
       "788    1924-03-13     Catalonia                 Spain         0.0         7.0   \n",
       "1618   1933-10-04       Silesia                Poland         1.0         2.0   \n",
       "1650   1934-02-02     Catalonia                 Spain         0.0         2.0   \n",
       "2754   1947-10-19     Catalonia                 Spain         3.0         1.0   \n",
       "3487   1953-04-26       Silesia                Poland         2.0         3.0   \n",
       "3526   1953-08-09     Catalonia                 Spain         0.0         6.0   \n",
       "3539   1953-09-13       Silesia                Poland         3.0         3.0   \n",
       "28848  2006-11-19        Crimea       Northern Cyprus         0.0         5.0   \n",
       "28898  2006-12-09       Silesia                Poland         1.0         1.0   \n",
       "31765  2009-10-28  South Africa              Zimbabwe         1.0         1.0   \n",
       "39599  2018-01-21         Sudan               Morocco         0.0         0.0   \n",
       "40306  2018-11-09   Timor-Leste              Thailand         0.0         7.0   \n",
       "40497  2019-01-10         India  United Arab Emirates         0.0         2.0   \n",
       "40537  2019-01-29         Qatar  United Arab Emirates         4.0         0.0   \n",
       "40713  2019-06-04        Uganda          South Africa         1.0         1.0   \n",
       "40906  2019-06-22          Peru                Brazil         0.0         5.0   \n",
       "42060  2021-03-29         India  United Arab Emirates         0.0         6.0   \n",
       "42168  2021-06-03     Australia                Kuwait         3.0         0.0   \n",
       "42173  2021-06-03         India                 Qatar         0.0         1.0   \n",
       "42239  2021-06-07       IR Iran               Bahrain         3.0         0.0   \n",
       "42242  2021-06-07          Oman                 Qatar         0.0         1.0   \n",
       "42276  2021-06-09     Sri Lanka        Korea Republic         0.0         5.0   \n",
       "42288  2021-06-11     Singapore          Saudi Arabia         0.0         3.0   \n",
       "42292  2021-06-11     Indonesia  United Arab Emirates         0.0         5.0   \n",
       "42326  2021-06-15        Taiwan                Kuwait         1.0         2.0   \n",
       "\n",
       "                         tournament         city               country  \\\n",
       "788                        Friendly    Barcelona                 Spain   \n",
       "1618                       Friendly     Katowice                Poland   \n",
       "1650                       Friendly    Barcelona                 Spain   \n",
       "2754                       Friendly    Barcelona                 Spain   \n",
       "3487                       Friendly      Chorzów                Poland   \n",
       "3526                       Friendly    Barcelona                 Spain   \n",
       "3539                       Friendly        Byton                Poland   \n",
       "28848                       ELF Cup      Lefkoşa       Northern Cyprus   \n",
       "28898                      Friendly      Chorzów                Poland   \n",
       "31765                    COSAFA Cup       Harare              Zimbabwe   \n",
       "39599  African Nations Championship   Casablanca               Morocco   \n",
       "40306              AFF Championship      Bangkok              Thailand   \n",
       "40497                 AFC Asian Cup    Abu Dhabi  United Arab Emirates   \n",
       "40537                 AFC Asian Cup    Abu Dhabi  United Arab Emirates   \n",
       "40713                    COSAFA Cup       Durban          South Africa   \n",
       "40906                  Copa América    São Paulo                Brazil   \n",
       "42060                      Friendly        Dubai  United Arab Emirates   \n",
       "42168  FIFA World Cup qualification  Kuwait City                Kuwait   \n",
       "42173  FIFA World Cup qualification         Doha                 Qatar   \n",
       "42239  FIFA World Cup qualification        Riffa               Bahrain   \n",
       "42242  FIFA World Cup qualification         Doha                 Qatar   \n",
       "42276  FIFA World Cup qualification       Goyang        Korea Republic   \n",
       "42288  FIFA World Cup qualification       Riyadh          Saudi Arabia   \n",
       "42292  FIFA World Cup qualification        Dubai  United Arab Emirates   \n",
       "42326  FIFA World Cup qualification  Kuwait City                Kuwait   \n",
       "\n",
       "       neutral outcome  year  \n",
       "788      False    Away  1924  \n",
       "1618     False    Away  1933  \n",
       "1650     False    Away  1934  \n",
       "2754     False    Home  1947  \n",
       "3487     False    Away  1953  \n",
       "3526     False    Away  1953  \n",
       "3539     False    Draw  1953  \n",
       "28848     True    Away  2006  \n",
       "28898    False    Draw  2006  \n",
       "31765     True    Draw  2009  \n",
       "39599     True    Draw  2018  \n",
       "40306     True    Away  2018  \n",
       "40497     True    Away  2019  \n",
       "40537     True    Home  2019  \n",
       "40713     True    Draw  2019  \n",
       "40906     True    Away  2019  \n",
       "42060     True    Away  2021  \n",
       "42168     True    Home  2021  \n",
       "42173     True    Away  2021  \n",
       "42239     True    Home  2021  \n",
       "42242     True    Away  2021  \n",
       "42276     True    Away  2021  \n",
       "42288     True    Away  2021  \n",
       "42292     True    Away  2021  \n",
       "42326     True    Away  2021  "
      ]
     },
     "execution_count": 5,
     "metadata": {},
     "output_type": "execute_result"
    }
   ],
   "source": [
    "df.query(\"away_team == country\")"
   ]
  },
  {
   "cell_type": "markdown",
   "metadata": {},
   "source": [
    "Sono state trovate dunque 25 incoerenze riguardo alla convenzione spiegata sopre. È semplice spiegarle:\n",
    "- I record che presentano neutral = False: è spiegato dal fatto che la Silesia è oggi parte della Polonia e della Republica Ceca, mentre la Catalonia ad oggi è annessa alla Spagna. Questo sta a dimostrare che sono presenti  dati 'spuri' dal dataset di cui è già stata prevista l'eliminazione in seguito,<br>\n",
    "- I record che presentano neutral = True sono incoerenti<br>\n",
    "\n",
    "Sistemo:"
   ]
  },
  {
   "cell_type": "code",
   "execution_count": 6,
   "metadata": {},
   "outputs": [],
   "source": [
    "for i in df.query(\"away_team == country and neutral == True\").index:\n",
    "    df.at[i, \"neutral\"] = False"
   ]
  },
  {
   "cell_type": "markdown",
   "metadata": {},
   "source": [
    "Controllo che la presenza di ulteriori incoerenze anche nel caso in cui `home_team` sia uguale a `contry` e `neutral` sia uguale a `True`"
   ]
  },
  {
   "cell_type": "code",
   "execution_count": 7,
   "metadata": {},
   "outputs": [
    {
     "data": {
      "text/html": [
       "<div>\n",
       "<style scoped>\n",
       "    .dataframe tbody tr th:only-of-type {\n",
       "        vertical-align: middle;\n",
       "    }\n",
       "\n",
       "    .dataframe tbody tr th {\n",
       "        vertical-align: top;\n",
       "    }\n",
       "\n",
       "    .dataframe thead th {\n",
       "        text-align: right;\n",
       "    }\n",
       "</style>\n",
       "<table border=\"1\" class=\"dataframe\">\n",
       "  <thead>\n",
       "    <tr style=\"text-align: right;\">\n",
       "      <th></th>\n",
       "      <th>date</th>\n",
       "      <th>home_team</th>\n",
       "      <th>away_team</th>\n",
       "      <th>home_score</th>\n",
       "      <th>away_score</th>\n",
       "      <th>tournament</th>\n",
       "      <th>city</th>\n",
       "      <th>country</th>\n",
       "      <th>neutral</th>\n",
       "      <th>outcome</th>\n",
       "      <th>year</th>\n",
       "    </tr>\n",
       "  </thead>\n",
       "  <tbody>\n",
       "    <tr>\n",
       "      <th>10966</th>\n",
       "      <td>1979-08-29</td>\n",
       "      <td>Fiji</td>\n",
       "      <td>Papua New Guinea</td>\n",
       "      <td>0.0</td>\n",
       "      <td>0.0</td>\n",
       "      <td>South Pacific Games</td>\n",
       "      <td>Suva</td>\n",
       "      <td>Fiji</td>\n",
       "      <td>True</td>\n",
       "      <td>Draw</td>\n",
       "      <td>1979</td>\n",
       "    </tr>\n",
       "    <tr>\n",
       "      <th>35360</th>\n",
       "      <td>2013-07-15</td>\n",
       "      <td>Bermuda</td>\n",
       "      <td>Falkland Islands</td>\n",
       "      <td>8.0</td>\n",
       "      <td>0.0</td>\n",
       "      <td>Island Games</td>\n",
       "      <td>Hamilton</td>\n",
       "      <td>Bermuda</td>\n",
       "      <td>True</td>\n",
       "      <td>Home</td>\n",
       "      <td>2013</td>\n",
       "    </tr>\n",
       "    <tr>\n",
       "      <th>40116</th>\n",
       "      <td>2018-09-09</td>\n",
       "      <td>St. Kitts and Nevis</td>\n",
       "      <td>Puerto Rico</td>\n",
       "      <td>1.0</td>\n",
       "      <td>0.0</td>\n",
       "      <td>CONCACAF Nations League qualification</td>\n",
       "      <td>Basseterre</td>\n",
       "      <td>St. Kitts and Nevis</td>\n",
       "      <td>True</td>\n",
       "      <td>Home</td>\n",
       "      <td>2018</td>\n",
       "    </tr>\n",
       "    <tr>\n",
       "      <th>40399</th>\n",
       "      <td>2018-11-18</td>\n",
       "      <td>St. Kitts and Nevis</td>\n",
       "      <td>Canada</td>\n",
       "      <td>0.0</td>\n",
       "      <td>1.0</td>\n",
       "      <td>CONCACAF Nations League qualification</td>\n",
       "      <td>Basseterre</td>\n",
       "      <td>St. Kitts and Nevis</td>\n",
       "      <td>True</td>\n",
       "      <td>Away</td>\n",
       "      <td>2018</td>\n",
       "    </tr>\n",
       "    <tr>\n",
       "      <th>40757</th>\n",
       "      <td>2019-06-07</td>\n",
       "      <td>China PR</td>\n",
       "      <td>Philippines</td>\n",
       "      <td>2.0</td>\n",
       "      <td>0.0</td>\n",
       "      <td>Friendly</td>\n",
       "      <td>Guangzhou</td>\n",
       "      <td>China PR</td>\n",
       "      <td>True</td>\n",
       "      <td>Home</td>\n",
       "      <td>2019</td>\n",
       "    </tr>\n",
       "    <tr>\n",
       "      <th>41044</th>\n",
       "      <td>2019-08-11</td>\n",
       "      <td>St. Vincent / Grenadines</td>\n",
       "      <td>Trinidad and Tobago</td>\n",
       "      <td>1.0</td>\n",
       "      <td>0.0</td>\n",
       "      <td>Friendly</td>\n",
       "      <td>Georgetown</td>\n",
       "      <td>St. Vincent / Grenadines</td>\n",
       "      <td>True</td>\n",
       "      <td>Home</td>\n",
       "      <td>2019</td>\n",
       "    </tr>\n",
       "    <tr>\n",
       "      <th>41046</th>\n",
       "      <td>2019-08-27</td>\n",
       "      <td>St. Kitts and Nevis</td>\n",
       "      <td>Antigua and Barbuda</td>\n",
       "      <td>4.0</td>\n",
       "      <td>3.0</td>\n",
       "      <td>Friendly</td>\n",
       "      <td>Basseterre</td>\n",
       "      <td>St. Kitts and Nevis</td>\n",
       "      <td>True</td>\n",
       "      <td>Home</td>\n",
       "      <td>2019</td>\n",
       "    </tr>\n",
       "    <tr>\n",
       "      <th>41110</th>\n",
       "      <td>2019-09-06</td>\n",
       "      <td>USA</td>\n",
       "      <td>Mexico</td>\n",
       "      <td>0.0</td>\n",
       "      <td>3.0</td>\n",
       "      <td>Friendly</td>\n",
       "      <td>East Rutherford</td>\n",
       "      <td>USA</td>\n",
       "      <td>True</td>\n",
       "      <td>Away</td>\n",
       "      <td>2019</td>\n",
       "    </tr>\n",
       "    <tr>\n",
       "      <th>41229</th>\n",
       "      <td>2019-09-18</td>\n",
       "      <td>Congo DR</td>\n",
       "      <td>Rwanda</td>\n",
       "      <td>2.0</td>\n",
       "      <td>3.0</td>\n",
       "      <td>Friendly</td>\n",
       "      <td>Kinshasa</td>\n",
       "      <td>Congo DR</td>\n",
       "      <td>True</td>\n",
       "      <td>Away</td>\n",
       "      <td>2019</td>\n",
       "    </tr>\n",
       "    <tr>\n",
       "      <th>42068</th>\n",
       "      <td>2021-03-29</td>\n",
       "      <td>Congo DR</td>\n",
       "      <td>Gambia</td>\n",
       "      <td>1.0</td>\n",
       "      <td>0.0</td>\n",
       "      <td>African Cup of Nations qualification</td>\n",
       "      <td>Kinshasa</td>\n",
       "      <td>Congo DR</td>\n",
       "      <td>True</td>\n",
       "      <td>Home</td>\n",
       "      <td>2021</td>\n",
       "    </tr>\n",
       "  </tbody>\n",
       "</table>\n",
       "</div>"
      ],
      "text/plain": [
       "             date                 home_team            away_team  home_score  \\\n",
       "10966  1979-08-29                      Fiji     Papua New Guinea         0.0   \n",
       "35360  2013-07-15                   Bermuda     Falkland Islands         8.0   \n",
       "40116  2018-09-09       St. Kitts and Nevis          Puerto Rico         1.0   \n",
       "40399  2018-11-18       St. Kitts and Nevis               Canada         0.0   \n",
       "40757  2019-06-07                  China PR          Philippines         2.0   \n",
       "41044  2019-08-11  St. Vincent / Grenadines  Trinidad and Tobago         1.0   \n",
       "41046  2019-08-27       St. Kitts and Nevis  Antigua and Barbuda         4.0   \n",
       "41110  2019-09-06                       USA               Mexico         0.0   \n",
       "41229  2019-09-18                  Congo DR               Rwanda         2.0   \n",
       "42068  2021-03-29                  Congo DR               Gambia         1.0   \n",
       "\n",
       "       away_score                             tournament             city  \\\n",
       "10966         0.0                    South Pacific Games             Suva   \n",
       "35360         0.0                           Island Games         Hamilton   \n",
       "40116         0.0  CONCACAF Nations League qualification       Basseterre   \n",
       "40399         1.0  CONCACAF Nations League qualification       Basseterre   \n",
       "40757         0.0                               Friendly        Guangzhou   \n",
       "41044         0.0                               Friendly       Georgetown   \n",
       "41046         3.0                               Friendly       Basseterre   \n",
       "41110         3.0                               Friendly  East Rutherford   \n",
       "41229         3.0                               Friendly         Kinshasa   \n",
       "42068         0.0   African Cup of Nations qualification         Kinshasa   \n",
       "\n",
       "                        country  neutral outcome  year  \n",
       "10966                      Fiji     True    Draw  1979  \n",
       "35360                   Bermuda     True    Home  2013  \n",
       "40116       St. Kitts and Nevis     True    Home  2018  \n",
       "40399       St. Kitts and Nevis     True    Away  2018  \n",
       "40757                  China PR     True    Home  2019  \n",
       "41044  St. Vincent / Grenadines     True    Home  2019  \n",
       "41046       St. Kitts and Nevis     True    Home  2019  \n",
       "41110                       USA     True    Away  2019  \n",
       "41229                  Congo DR     True    Away  2019  \n",
       "42068                  Congo DR     True    Home  2021  "
      ]
     },
     "execution_count": 7,
     "metadata": {},
     "output_type": "execute_result"
    }
   ],
   "source": [
    "df.query(\"home_team == country and neutral == True\")"
   ]
  },
  {
   "cell_type": "code",
   "execution_count": 8,
   "metadata": {},
   "outputs": [],
   "source": [
    "for i in df.query(\"home_team == country and neutral == True\").index:\n",
    "    df.at[i, \"neutral\"] = False"
   ]
  },
  {
   "cell_type": "code",
   "execution_count": 9,
   "metadata": {},
   "outputs": [],
   "source": [
    "not_neutral_games = df.query(\"neutral == False\")\n",
    "\n",
    "invalid_ = not_neutral_games.query(\"away_team == country\")\n",
    "\n",
    "invalid_copy = invalid_.copy()\n",
    "\n",
    "invalid_.loc[invalid_.index.values, 'home_team'] = invalid_copy.loc[invalid_.index.values, 'away_team']\n",
    "invalid_.loc[invalid_.index.values, 'home_score'] = invalid_copy.loc[invalid_.index.values, 'away_score'] \n",
    "invalid_.loc[invalid_.index.values, 'away_team'] = invalid_copy.loc[invalid_.index.values, 'home_team'] \n",
    "invalid_.loc[invalid_.index.values, 'away_score'] = invalid_copy.loc[invalid_.index.values, 'home_score'] \n",
    "invalid_['outcome'] = invalid_['outcome'].replace({\"Home\": \"Away\", \"Away\":\"Home\"})\n",
    "\n",
    "for i in invalid_.index.values:\n",
    "    df.loc[i, 'home_team'] = invalid_.loc[i, 'home_team']\n",
    "    df.loc[i, 'home_score'] = invalid_.loc[i, 'home_score']\n",
    "    df.loc[i, 'away_team'] = invalid_.loc[i, 'away_team']\n",
    "    df.loc[i, 'away_score'] = invalid_.loc[i, 'away_score']\n",
    "    df.loc[i, 'outcome'] = invalid_.loc[i, 'outcome']"
   ]
  },
  {
   "cell_type": "code",
   "execution_count": 10,
   "metadata": {},
   "outputs": [],
   "source": [
    "df.to_csv(path.join(PATH_DST, 'dataset_v1.csv'))"
   ]
  },
  {
   "cell_type": "markdown",
   "metadata": {},
   "source": [
    "### Check validità match\n",
    "\n",
    "Controllo la presenza di eventuali record ambigui, data anche la presenza di partite vecchie, ad esempio di nazioni non più presenti... spiega meglio ... non li considero da subito.\n",
    "\n",
    "Per validare le squadre utilizzerò il dataset FIFA ...descrivi...."
   ]
  },
  {
   "cell_type": "code",
   "execution_count": 11,
   "metadata": {},
   "outputs": [
    {
     "name": "stdout",
     "output_type": "stream",
     "text": [
      "Total country: 216\n",
      "valid: 41685 not valid: 798, totale di record esaminati 42483\n"
     ]
    }
   ],
   "source": [
    "df_fifa = pd.read_csv(path.join(PATH_ORIGINAL_DST, 'fifa_ranking-2021-05-27.csv'))\n",
    "\n",
    "df = check_records_validity(df, df_fifa)\n",
    "\n",
    "df_valid = df.query(\"is_valid == True\").drop(columns=['is_valid']).reset_index(drop=True)\n",
    "df_valid.to_csv(path.join(PATH_DST, \"dataset_v1_valid.csv\"))\n",
    "df_not_valid = df.query(\"is_valid == False\").drop(columns=['is_valid']).reset_index(drop=True)\n",
    "df_not_valid.to_csv(path.join(PATH_DST, \"dataset_v1_not_valid.csv\"))\n",
    "\n",
    "if len(df_valid) + len(df_not_valid) == len(df):\n",
    "    print(\"valid: %s not valid: %s, totale di record esaminati %s\" % ( len(df_valid),len(df_not_valid), len(df) ) )\n",
    "else:\n",
    "    print(\"Something wrong happened!\")"
   ]
  },
  {
   "cell_type": "markdown",
   "metadata": {},
   "source": [
    "### Check validità nazioni\n",
    "\n",
    "Dovrebbe servire per dopo nello specifico ma dato che questa è la parte dove pulisco il dataset lo faccio qui..."
   ]
  },
  {
   "cell_type": "code",
   "execution_count": 12,
   "metadata": {},
   "outputs": [
    {
     "name": "stdout",
     "output_type": "stream",
     "text": [
      "Not same length! Some mismatch on played matches\n",
      "... Fixed. Number of teams: 209\n"
     ]
    }
   ],
   "source": [
    "df_valid = pd.read_csv(path.join(PATH_DST, 'dataset_v1_valid.csv')).drop(columns=['Unnamed: 0'])\n",
    "df_fifa = pd.read_csv(path.join(PATH_ORIGINAL_DST, 'fifa_ranking-2021-05-27.csv')).drop(columns=['id','rank', 'country_abrv', 'total_points', 'previous_points', 'rank_change', 'rank_date']).sort_values(by='country_full').drop_duplicates().reset_index(drop=True)\n",
    "\n",
    "df_unvalid_country = pd.DataFrame()\n",
    "\n",
    "# estraggo tutti i team presenti in dataset_reduced_fixed\n",
    "df_ht = df_valid['home_team'].drop_duplicates().sort_values().reset_index().drop(labels=['index'], axis=1).rename(columns={'home_team': 'team'})\n",
    "df_at = df_valid['away_team'].drop_duplicates().sort_values().reset_index().drop(labels=['index'], axis=1).rename(columns={'away_team': 'team'})\n",
    "\n",
    "# controllo che il numero di partite, per squadra, giocate in casa sia lo stesso\n",
    "# delle partite giocate fuori casa\n",
    "if df_ht.__len__() != df_at.__len__():\n",
    "    print(\"Not same length! Some mismatch on played matches\")\n",
    "\n",
    "df_valid_country = pd.concat([df_ht,df_at]).drop_duplicates().sort_values(by='team').reset_index().drop(labels=['index'], axis=1)\n",
    "\n",
    "df_valid_country['confederation'] = \"\"\n",
    "\n",
    "for i, row in df_valid_country.iterrows():\n",
    "    if(len(df_fifa.query(\"country_full == @row.team\")) > 0):\n",
    "        df_valid_country.at[i, 'confederation'] = df_fifa.query(\"country_full == @row.team\").confederation.values[0]\n",
    "\n",
    "df_valid_country.replace(\"\", np.nan, inplace=True)\n",
    "\n",
    "df_unvalid_country = df_valid_country[df_valid_country['confederation'].isna()]\n",
    "df_unvalid_country.reset_index(drop=True, inplace=True)\n",
    "df_unvalid_country.drop(labels=['confederation'], axis=1, inplace=True)\n",
    "\n",
    "# utilizzo le squadre non presenti in FIFA ranking\n",
    "df_valid_country.dropna(subset = ['confederation'], inplace=True)\n",
    "df_valid_country.reset_index(drop=True, inplace=True)\n",
    "\n",
    "print(\"... Fixed. Number of teams: %d\" % len(df_valid_country))\n",
    "\n",
    "# salvo i dataframe perché potrebbero servire successivamente\n",
    "df_valid_country.to_csv(path.join(PATH_DST, 'dataset_v1_valid_country.csv'))\n",
    "df_unvalid_country.to_csv(path.join(PATH_DST, 'dataset_v1_not_valid_country.csv'))"
   ]
  },
  {
   "cell_type": "markdown",
   "metadata": {},
   "source": [
    "Procedo con eliminare tutte quei match che presentano squadre in 'df_unvalid_countries_csv' e realizzo la seconda versione del dataset"
   ]
  },
  {
   "cell_type": "code",
   "execution_count": 13,
   "metadata": {},
   "outputs": [
    {
     "name": "stdout",
     "output_type": "stream",
     "text": [
      "Now dataset is formed by: 39217 records\n"
     ]
    }
   ],
   "source": [
    "for index, row in df_unvalid_country.iterrows():\n",
    "    if(len(df.query(\"home_team == @row.team or away_team == @row.team\")) > 0):\n",
    "        df.drop(df.query(\"home_team == @row.team or away_team == @row.team\").index.values, inplace=True)\n",
    "\n",
    "print(\"Now dataset is formed by: %d records\"% len(df))"
   ]
  },
  {
   "cell_type": "markdown",
   "metadata": {},
   "source": [
    "Controllo che il numero di squadre che ha giocato fuori casa è lo stesso di chi ha giocato in casa ed eventualmente visualizzo"
   ]
  },
  {
   "cell_type": "code",
   "execution_count": 14,
   "metadata": {},
   "outputs": [
    {
     "name": "stdout",
     "output_type": "stream",
     "text": [
      "Home teams and away teams are the same\n"
     ]
    }
   ],
   "source": [
    "if len(df['home_team'].drop_duplicates().sort_values().values) > len(df['away_team'].drop_duplicates().sort_values().values):\n",
    "    print(\"Mismatch home_team > away_team: %s\" % list(set(df['home_team'].drop_duplicates().sort_values().values).difference(df['away_team'].drop_duplicates().sort_values().values)))\n",
    "elif len(df['home_team'].drop_duplicates().sort_values().values) < len(df['away_team'].drop_duplicates().sort_values().values):\n",
    "    print(\"Mismatch home_team < away_team: %s\" % list(set(df['away_team'].drop_duplicates().sort_values().values).difference(df['home_team'].drop_duplicates().sort_values().values)))\n",
    "else:\n",
    "    print(\"Home teams and away teams are the same\")"
   ]
  },
  {
   "cell_type": "code",
   "execution_count": 15,
   "metadata": {},
   "outputs": [],
   "source": [
    "df = df.reset_index(drop=True)\n",
    "df.to_csv(path.join(PATH_DST, \"dataset_v2.csv\"))"
   ]
  },
  {
   "cell_type": "markdown",
   "metadata": {},
   "source": [
    "## Parte 2: Statistica descrittiva - Distribuzione dei dati\n",
    "Una volta effettuato il preprocessing del dataset vengono applicati alcuni studi. In ordine verrà definito, graficamente:\n",
    "- Competizioni presenti nel dataset\n",
    "- Numero di partite disputate per anno\n",
    "- Numero di partite disputate per anno in base al continente (in modo tale da capire anche una eventuale inizio della diffusione del calcio nel mondo)\n",
    "- Numero di goal per anno, divise in base al continente\n",
    "\n",
    "Dopo aver estrapolato queste informazioni, si procede con una selezione dei migliori team durante la storia divisi per attacco/difesa goal fatti/subiti.<br>\n",
    "Da questi insiemi verranno estratti una gruppo di squadre per mostrare l'andamento della squadra negli anni.<br>\n",
    "Inoltre verrà controllato se questo insieme di squadre hanno più propensione di vincere a casa o in trasferta.<br>\n",
    "\n",
    "<b>Per questo 'capitolo' pendo come riferimento il dataset v2'</b>"
   ]
  },
  {
   "cell_type": "code",
   "execution_count": 16,
   "metadata": {},
   "outputs": [
    {
     "data": {
      "text/html": [
       "<div>\n",
       "<style scoped>\n",
       "    .dataframe tbody tr th:only-of-type {\n",
       "        vertical-align: middle;\n",
       "    }\n",
       "\n",
       "    .dataframe tbody tr th {\n",
       "        vertical-align: top;\n",
       "    }\n",
       "\n",
       "    .dataframe thead th {\n",
       "        text-align: right;\n",
       "    }\n",
       "</style>\n",
       "<table border=\"1\" class=\"dataframe\">\n",
       "  <thead>\n",
       "    <tr style=\"text-align: right;\">\n",
       "      <th></th>\n",
       "      <th>date</th>\n",
       "      <th>home_team</th>\n",
       "      <th>away_team</th>\n",
       "      <th>home_score</th>\n",
       "      <th>away_score</th>\n",
       "      <th>tournament</th>\n",
       "      <th>city</th>\n",
       "      <th>country</th>\n",
       "      <th>neutral</th>\n",
       "      <th>outcome</th>\n",
       "      <th>year</th>\n",
       "      <th>is_valid</th>\n",
       "    </tr>\n",
       "  </thead>\n",
       "  <tbody>\n",
       "    <tr>\n",
       "      <th>0</th>\n",
       "      <td>1872-11-30</td>\n",
       "      <td>Scotland</td>\n",
       "      <td>England</td>\n",
       "      <td>0.0</td>\n",
       "      <td>0.0</td>\n",
       "      <td>Friendly</td>\n",
       "      <td>Glasgow</td>\n",
       "      <td>Scotland</td>\n",
       "      <td>False</td>\n",
       "      <td>Draw</td>\n",
       "      <td>1872</td>\n",
       "      <td>True</td>\n",
       "    </tr>\n",
       "    <tr>\n",
       "      <th>1</th>\n",
       "      <td>1873-03-08</td>\n",
       "      <td>England</td>\n",
       "      <td>Scotland</td>\n",
       "      <td>4.0</td>\n",
       "      <td>2.0</td>\n",
       "      <td>Friendly</td>\n",
       "      <td>London</td>\n",
       "      <td>England</td>\n",
       "      <td>False</td>\n",
       "      <td>Home</td>\n",
       "      <td>1873</td>\n",
       "      <td>True</td>\n",
       "    </tr>\n",
       "    <tr>\n",
       "      <th>2</th>\n",
       "      <td>1874-03-07</td>\n",
       "      <td>Scotland</td>\n",
       "      <td>England</td>\n",
       "      <td>2.0</td>\n",
       "      <td>1.0</td>\n",
       "      <td>Friendly</td>\n",
       "      <td>Glasgow</td>\n",
       "      <td>Scotland</td>\n",
       "      <td>False</td>\n",
       "      <td>Home</td>\n",
       "      <td>1874</td>\n",
       "      <td>True</td>\n",
       "    </tr>\n",
       "    <tr>\n",
       "      <th>3</th>\n",
       "      <td>1875-03-06</td>\n",
       "      <td>England</td>\n",
       "      <td>Scotland</td>\n",
       "      <td>2.0</td>\n",
       "      <td>2.0</td>\n",
       "      <td>Friendly</td>\n",
       "      <td>London</td>\n",
       "      <td>England</td>\n",
       "      <td>False</td>\n",
       "      <td>Draw</td>\n",
       "      <td>1875</td>\n",
       "      <td>True</td>\n",
       "    </tr>\n",
       "    <tr>\n",
       "      <th>4</th>\n",
       "      <td>1876-03-04</td>\n",
       "      <td>Scotland</td>\n",
       "      <td>England</td>\n",
       "      <td>3.0</td>\n",
       "      <td>0.0</td>\n",
       "      <td>Friendly</td>\n",
       "      <td>Glasgow</td>\n",
       "      <td>Scotland</td>\n",
       "      <td>False</td>\n",
       "      <td>Home</td>\n",
       "      <td>1876</td>\n",
       "      <td>True</td>\n",
       "    </tr>\n",
       "  </tbody>\n",
       "</table>\n",
       "</div>"
      ],
      "text/plain": [
       "         date home_team away_team  home_score  away_score tournament     city  \\\n",
       "0  1872-11-30  Scotland   England         0.0         0.0   Friendly  Glasgow   \n",
       "1  1873-03-08   England  Scotland         4.0         2.0   Friendly   London   \n",
       "2  1874-03-07  Scotland   England         2.0         1.0   Friendly  Glasgow   \n",
       "3  1875-03-06   England  Scotland         2.0         2.0   Friendly   London   \n",
       "4  1876-03-04  Scotland   England         3.0         0.0   Friendly  Glasgow   \n",
       "\n",
       "    country  neutral outcome  year  is_valid  \n",
       "0  Scotland    False    Draw  1872      True  \n",
       "1   England    False    Home  1873      True  \n",
       "2  Scotland    False    Home  1874      True  \n",
       "3   England    False    Draw  1875      True  \n",
       "4  Scotland    False    Home  1876      True  "
      ]
     },
     "execution_count": 16,
     "metadata": {},
     "output_type": "execute_result"
    }
   ],
   "source": [
    "df = pd.read_csv(path.join(PATH_DST, 'dataset_v2.csv')).drop(columns=['Unnamed: 0'])\n",
    "\n",
    "df.head(5)"
   ]
  },
  {
   "cell_type": "markdown",
   "metadata": {},
   "source": [
    "### Competizioni presenti nel dataset"
   ]
  },
  {
   "cell_type": "code",
   "execution_count": 24,
   "metadata": {},
   "outputs": [
    {
     "name": "stdout",
     "output_type": "stream",
     "text": [
      "Number of tournaments: 114\n"
     ]
    },
    {
     "data": {
      "image/png": "[encoded data removed]",
      "text/plain": [
       "<Figure size 3000x500 with 1 Axes>"
      ]
     },
     "metadata": {},
     "output_type": "display_data"
    }
   ],
   "source": [
    "tournaments = df['tournament'].value_counts()\n",
    "\n",
    "print(\"Number of tournaments: %d\" % ( len(tournaments) ))\n",
    "\n",
    "# Visto l'elevato numero di competizioni presenti, considero solo le prime 10 in base al numero di partite.\n",
    "plt.rcParams.update({'figure.figsize':(30,5), 'figure.dpi':100})\n",
    "plt.title('Frequency of competition in dataset')\n",
    "plt.ylabel('Number of matches')\n",
    "plt.xlabel('Competitions')\n",
    "plt.bar(tournaments.index[:10], tournaments.values[:10], color=[i for i in mcolors.TABLEAU_COLORS], edgecolor='black')\n",
    "plt.show()"
   ]
  },
  {
   "cell_type": "markdown",
   "metadata": {},
   "source": [
    "### Numero di partite disputate per anno"
   ]
  },
  {
   "cell_type": "code",
   "execution_count": 31,
   "metadata": {},
   "outputs": [
    {
     "data": {
      "image/png": "[encoded data removed]",
      "text/plain": [
       "<Figure size 1500x300 with 1 Axes>"
      ]
     },
     "metadata": {},
     "output_type": "display_data"
    }
   ],
   "source": [
    "mpy = df['year'].value_counts().sort_index() # matches per year\n",
    "\n",
    "plt.rcParams.update({'figure.figsize':(15,3), 'figure.dpi':100})\n",
    "plt.title(label='Number of games per year')\n",
    "plt.ylabel(ylabel='number of games')\n",
    "plt.xlabel(xlabel='years')\n",
    "\n",
    "l1 = [(1914,0), (1914,1200)]\n",
    "l2 = [(1918,0), (1918,1200)]\n",
    "l3 = [(1939,0), (1939,1200)]\n",
    "l4 = [(1945,0), (1945,1200)]\n",
    "l5 = [(2019,0), (2019, 1200)]\n",
    "\n",
    "lc = LineCollection([l1, l2, l3, l4, l5], color=[\"orangered\",\"orangered\", \"crimson\",\"crimson\", \"darkcyan\"], lw=2, linestyles='-.')\n",
    "\n",
    "plt.annotate('1st World War', xy=(1914, 200), xycoords='data', ha='center', xytext=(-40, -20), textcoords='offset points', color='orangered')\n",
    "plt.annotate('2nd World War', xy=(1939, 200), xycoords='data', ha='center', xytext=(-40, -30), textcoords='offset points', color='crimson')\n",
    "plt.annotate('COVID-19', xy=(2019, 200), xycoords='data', ha='center', xytext=(-40, -20), textcoords='offset points', color='darkcyan')\n",
    "\n",
    "plt.gca().add_collection(lc)\n",
    "\n",
    "plt.plot(mpy, color='royalblue')\n",
    "plt.grid(True)\n",
    "plt.show()"
   ]
  },
  {
   "cell_type": "markdown",
   "metadata": {},
   "source": [
    "Si nota che il numero di match si è abbassato durante le Guerre Mondiali ed è drasticamente calato durante la pandemia di Covid-19 ad inizio 2020."
   ]
  },
  {
   "cell_type": "markdown",
   "metadata": {},
   "source": [
    "### Numero di partite giocate per anno in ogni continente\n",
    "Dal dataset FIFA carico le confederazioni delle nazionali. Ricavo dunque i continenti in cui è stato disputato il match"
   ]
  },
  {
   "cell_type": "code",
   "execution_count": 32,
   "metadata": {},
   "outputs": [
    {
     "name": "stdout",
     "output_type": "stream",
     "text": [
      "All rows are correctly updated\n"
     ]
    }
   ],
   "source": [
    "df_fifa = pd.read_csv(path.join(PATH_ORIGINAL_DST,'fifa_ranking-2021-05-27.csv'))\n",
    "\n",
    "df = extract_continent_from_FIFA(df, df_fifa)"
   ]
  },
  {
   "cell_type": "code",
   "execution_count": 33,
   "metadata": {},
   "outputs": [
    {
     "name": "stdout",
     "output_type": "stream",
     "text": [
      "Groupby eseguito correttamente\n",
      "First appearance in national match:\n",
      "Africa: 1926\n",
      "America: 1885\n",
      "Asia: 1917\n",
      "Europe: 1872\n",
      "Oceania: 1922\n",
      "All df have the same number of rows\n"
     ]
    }
   ],
   "source": [
    "df_cr = df.groupby(['continent','year']).size().to_csv('output.csv') # dataframe continent reduced, salvandolo a csv risolvo il problema groupby che non scrive in tutte le colonne i continenti\n",
    "df_cr = pd.read_csv('output.csv')\n",
    "\n",
    "df_cr.sort_values(by='year', axis=0, inplace=True)\n",
    "df_cr = df_cr.reset_index().drop(columns=['index']).rename(columns={'0': 'matches'})\n",
    "\n",
    "if df.__len__() == df_cr['matches'].sum():\n",
    "    print(\"Groupby eseguito correttamente\")\n",
    "\n",
    "years = df_cr['year'].drop_duplicates().to_numpy()\n",
    "\n",
    "africa = df_cr[df_cr['continent'] == 'Africa' ].reset_index().drop(columns=['continent', 'index'])\n",
    "america = df_cr[df_cr['continent'] == 'America'].reset_index().drop(columns=['continent', 'index'])\n",
    "asia = df_cr[df_cr['continent'] == 'Asia'].reset_index().drop(columns=['continent', 'index'])\n",
    "europe = df_cr[df_cr['continent'] == 'Europe'].reset_index().drop(columns=['continent', 'index'])\n",
    "oceania = df_cr[df_cr['continent'] == 'Oceania'].reset_index().drop(columns=['continent', 'index'])\n",
    "\n",
    "print(\"First appearance in national match:\\nAfrica: %d\\nAmerica: %d\\nAsia: %d\\nEurope: %d\\nOceania: %d\" % (africa['year'].min(), america['year'].min(), asia['year'].min(), europe['year'].min(), oceania['year'].min() ))\n",
    "africa  =   fix_continent_matches(years, africa)\n",
    "america =   fix_continent_matches(years, america)\n",
    "asia    =   fix_continent_matches(years, asia)\n",
    "europe  =   fix_continent_matches(years, europe)\n",
    "oceania =   fix_continent_matches(years, oceania)\n",
    "\n",
    "if len(africa) == len(europe) == len(america) == len(oceania) == len(asia):\n",
    "    print(\"All df have the same number of rows\")"
   ]
  },
  {
   "cell_type": "code",
   "execution_count": 39,
   "metadata": {},
   "outputs": [
    {
     "data": {
      "image/png": "[encoded data removed]",
      "text/plain": [
       "<Figure size 1500x300 with 1 Axes>"
      ]
     },
     "metadata": {},
     "output_type": "display_data"
    }
   ],
   "source": [
    "plt.rcParams.update({'figure.figsize':(15,3), 'figure.dpi':100})\n",
    "plt.title('Number of games played by each continent')\n",
    "plt.ylabel('Number of matches')\n",
    "plt.xlabel('Years')\n",
    "plt.bar(years, europe.matches.values, color='steelblue')\n",
    "plt.bar(years, america.matches.values, bottom=europe.matches.values , color='crimson')\n",
    "plt.bar(years, asia.matches.values, bottom = europe.matches.values+america.matches.values, color='darkorange')\n",
    "plt.bar(years, oceania.matches.values, bottom = europe.matches.values+america.matches.values+asia.matches.values , color='salmon')\n",
    "plt.bar(years, africa.matches.values, bottom=europe.matches.values + america.matches.values + asia.matches.values + oceania.matches.values, color='gold')\n",
    "plt.legend(['Europe', 'America', 'Asia', 'Oceania', 'Africa'])\n",
    "\n",
    "plt.show()"
   ]
  },
  {
   "cell_type": "markdown",
   "metadata": {},
   "source": [
    "Dal grafico si evince che Europa ed America sono i continenti dove si sono disputato più partite. Il numero di partite disputate in oceania è irrilevante rispetto al numero degli altri continenti nonostante l'Africa abbia disputato la prima partita ufficiale per ultima. <br>\n",
    "Salvo comunque il dataframe per eventuali utilizzi"
   ]
  },
  {
   "cell_type": "code",
   "execution_count": 40,
   "metadata": {},
   "outputs": [],
   "source": [
    "df.to_csv(path.join(PATH_DST, \"dataset_v2_continent.csv\"))"
   ]
  },
  {
   "cell_type": "markdown",
   "metadata": {},
   "source": [
    "### Estrazione statistiche squadre presenti nel dataset"
   ]
  },
  {
   "cell_type": "code",
   "execution_count": 42,
   "metadata": {},
   "outputs": [
    {
     "name": "stdout",
     "output_type": "stream",
     "text": [
      "Lunghezza del dataframe prima della validazione: 39217\n",
      "Lunghezza del dataframe dopo la validazione: 38379\n"
     ]
    }
   ],
   "source": [
    "df = pd.read_csv(path.join(PATH_DST, 'dataset_v2_continent.csv')).drop(columns=['Unnamed: 0'])\n",
    "\n",
    "valid_country = pd.read_csv(path.join(PATH_DST, 'dataset_v1_valid_country.csv')).drop(columns=['Unnamed: 0']).team.values\n",
    "df_country = df.country.drop_duplicates().values\n",
    "\n",
    "not_valid_country = []\n",
    "\n",
    "for i in df_country:\n",
    "    if i not in valid_country:\n",
    "        not_valid_country.append(i)\n",
    "\n",
    "print(\"Lunghezza del dataframe prima della validazione: %s\" % (len(df)) )\n",
    "\n",
    "for i, row in df.iterrows():\n",
    "    if(row.country in not_valid_country):\n",
    "        df.drop(i, inplace=True)\n",
    "\n",
    "print(\"Lunghezza del dataframe dopo la validazione: %s\" % (len(df)) )\n",
    "\n",
    "df = df.reset_index(drop=True).to_csv(path.join(PATH_DST, 'dataset_v3.csv'))"
   ]
  },
  {
   "cell_type": "markdown",
   "metadata": {},
   "source": [
    "# arivvato qui\n",
    "creo un dataframe con le statistiche di ogni squadra per vedere se ci sono delle correlazioni sul giocare in casa o no nello specifico\n",
    "e nei goal subiti/segnati"
   ]
  },
  {
   "cell_type": "code",
   "execution_count": null,
   "metadata": {},
   "outputs": [],
   "source": [
    "df = pd.read_csv(path.join(PATH_DST, 'dataset_v3.csv')).drop(columns=['Unnamed: 0'])\n",
    "teams = pd.read_csv(path.join(PATH_DST, 'dataset_v1_valid_country.csv')).drop(columns=['Unnamed: 0'])\n",
    "\n",
    "teams['games'] = 0\n",
    "teams['home_games'] = 0\n",
    "teams['away_games'] = 0\n",
    "teams['neutral_games'] = 0\n",
    "\n",
    "teams['wins'] = 0\n",
    "teams['home_wins'] = 0\n",
    "teams['away_wins'] = 0\n",
    "teams['neutral_wins'] = 0\n",
    "\n",
    "teams['defeats'] = 0\n",
    "teams['home_defeats'] = 0\n",
    "teams['away_defeats'] = 0\n",
    "teams['neutral_defeats'] = 0\n",
    "\n",
    "teams['draws'] = 0\n",
    "teams['home_draws'] = 0\n",
    "teams['away_draws'] = 0\n",
    "teams['neutral_draws'] = 0\n",
    "\n",
    "teams['goals_scored'] = 0\n",
    "teams['home_goals_scored'] = 0\n",
    "teams['away_goals_scored'] = 0\n",
    "teams['neutral_goals_scored'] = 0\n",
    "\n",
    "teams['goals_conceded'] = 0\n",
    "teams['home_goals_conceded'] = 0\n",
    "teams['away_goals_conceded'] = 0\n",
    "teams['neutral_goals_conceded'] = 0\n",
    "\n",
    "counter = 0\n",
    "for team in teams.team.values:\n",
    "    print('*** Processing %d/%d ***' % (counter, len(teams.team.values)), end='\\r')\n",
    "\n",
    "    team_df = df.query(\"home_team == @team or away_team == @team\")\n",
    "\n",
    "    home_games_df = team_df.query(\"neutral == False and country == @team \")\n",
    "    away_games_df = team_df.query(\"neutral == False and country != @team \")\n",
    "    neutral_games_df = team_df.query(\"neutral == True \")\n",
    "\n",
    "    teams.at[teams.team == team, 'games'] = len(team_df)\n",
    "    teams.at[teams.team == team, 'home_games'] = len(home_games_df)\n",
    "    teams.at[teams.team == team, 'away_games'] = len(away_games_df)\n",
    "    teams.at[teams.team == team, 'neutral_games'] = len(neutral_games_df)\n",
    "\n",
    "    # non dovrebbe essere necessario fare tutti e 3 i controlli ma data la presenza di errori nel dataset lo faccio comunque\n",
    "    query1 = \"home_team == @team and outcome == 'Home' or away_team == @team and outcome == 'Away' \"\n",
    "    teams.at[teams.team == team, 'wins'] = len( team_df.query(query1) )\n",
    "    teams.at[teams.team == team, 'home_wins'] = len(home_games_df.query(query1))\n",
    "    teams.at[teams.team == team, 'away_wins'] = len(away_games_df.query(query1))\n",
    "    teams.at[teams.team == team, 'neutral_wins'] = len(neutral_games_df.query(query1))\n",
    "\n",
    "    query2 = \"home_team == @team and outcome == 'Away' or away_team == @team and outcome == 'Home' \"\n",
    "    teams.at[teams.team == team, 'defeats'] = len( team_df.query(query2) )\n",
    "    teams.at[teams.team == team, 'home_defeats'] = len(home_games_df.query(query2))\n",
    "    teams.at[teams.team == team, 'away_defeats'] = len(away_games_df.query(query2))\n",
    "    teams.at[teams.team == team, 'neutral_defeats'] = len(neutral_games_df.query(query2))\n",
    "\n",
    "    query3 = \"outcome == 'Draw' \"\n",
    "    teams.at[teams.team == team, 'draws'] = len(team_df.query(query3))\n",
    "    teams.at[teams.team == team, 'home_draws'] = len(home_games_df.query(query3))\n",
    "    teams.at[teams.team == team, 'away_draws'] = len(away_games_df.query(query3))\n",
    "    teams.at[teams.team == team, 'neutral_draws'] = len(neutral_games_df.query(query3))\n",
    "\n",
    "    teams.at[teams.team == team, 'goals_scored'] = team_df.query(\"home_team == @team\")['home_score'].sum() + team_df.query(\"away_team == @team\")['away_score'].sum()\n",
    "    teams.at[teams.team == team, 'home_goals_scored'] = home_games_df.query(\"home_team == @team\")['home_score'].sum() + home_games_df.query(\"away_team == @team\")['away_score'].sum()\n",
    "    teams.at[teams.team == team, 'away_goals_scored'] = away_games_df.query(\"home_team == @team\")['home_score'].sum() + away_games_df.query(\"away_team == @team\")['away_score'].sum()\n",
    "    teams.at[teams.team == team, 'neutral_goals_scored'] = neutral_games_df.query(\"home_team == @team\")['home_score'].sum() + neutral_games_df.query(\"away_team == @team\")['away_score'].sum()\n",
    "\n",
    "    teams.at[teams.team == team, 'goals_conceded'] = team_df.query(\"home_team == @team\")['away_score'].sum() + team_df.query(\"away_team == @team\")['home_score'].sum()\n",
    "    teams.at[teams.team == team, 'home_goals_conceded'] = home_games_df.query(\"home_team == @team\")['away_score'].sum() + home_games_df.query(\"away_team == @team\")['home_score'].sum()\n",
    "    teams.at[teams.team == team, 'away_goals_conceded'] = away_games_df.query(\"home_team == @team\")['away_score'].sum() + away_games_df.query(\"away_team == @team\")['home_score'].sum()\n",
    "    teams.at[teams.team == team, 'neutral_goals_conceded'] = neutral_games_df.query(\"home_team == @team\")['away_score'].sum() + neutral_games_df.query(\"away_team == @team\")['home_score'].sum()\n",
    "\n",
    "    counter = counter + 1\n",
    "\n",
    "teams.to_csv(path.join(PATH_DST, 'teams_statistics.csv'))"
   ]
  },
  {
   "cell_type": "code",
   "execution_count": null,
   "metadata": {},
   "outputs": [],
   "source": [
    "plt.rcParams.update({'figure.figsize':(30,30), 'figure.dpi':100})\n",
    "fig, axs = plt.subplots(4, 2)\n",
    "\n",
    "df = pd.read_csv(path.join(PATH_DST, 'teams_statistics.csv')).drop(columns=['Unnamed: 0'])\n",
    "colors = list(mcolors.XKCD_COLORS)\n",
    "df['color'] = colors[:len(df)]\n",
    "\n",
    "df_axs = df.sort_values(by=['games'], ascending=False)\n",
    "axs[0, 0].set_title(\"Squadra che ha giocato di più\")\n",
    "axs[0, 0].barh(df_axs.team.values[:10], df_axs.games.values[:10], color=df_axs.color.values[:10], edgecolor='black')\n",
    "\n",
    "df_axs = df.sort_values(by=['wins'], ascending=False)\n",
    "axs[0, 1].set_title(\"Squadra che ha vinto di più\")\n",
    "axs[0, 1].barh(df_axs.team.values[:10], df_axs.wins.values[:10], color=df_axs.color.values[:10], edgecolor='black')\n",
    "\n",
    "df_axs = df.sort_values(by=['defeats'], ascending=False)\n",
    "axs[1, 0].set_title(\"Squadra che ha perso di più\")\n",
    "axs[1, 0].barh(df_axs.team.values[:10], df_axs.defeats.values[:10], color=df_axs.color.values[:10], edgecolor='black')\n",
    "\n",
    "df_axs = df.sort_values(by=['draws'], ascending=False)\n",
    "axs[1, 1].set_title(\"Squadra che ha pareggiato di più\")\n",
    "axs[1, 1].barh(df_axs.team.values[:10], df_axs.draws.values[:10], color=df_axs.color.values[:10], edgecolor='black')\n",
    "\n",
    "df_axs = df.sort_values(by=['goals_scored'], ascending=False)\n",
    "axs[2, 0].set_title(\"Squadra che ha segnato di più\")\n",
    "axs[2, 0].barh(df_axs.team.values[:10], df_axs.goals_scored.values[:10], color=df_axs.color.values[:10], edgecolor='black')\n",
    "\n",
    "df_axs = df.sort_values(by=['goals_scored'], ascending=True)\n",
    "axs[2, 1].set_title(\"Squadra che ha segnato di meno\")\n",
    "axs[2, 1].barh(df_axs.team.values[:10], df_axs.goals_scored.values[:10], color=df_axs.color.values[:10], edgecolor='black')\n",
    "\n",
    "df_axs = df.sort_values(by=['goals_conceded'], ascending=False)\n",
    "axs[3, 0].set_title(\"Squadra che ha concesso di più\")\n",
    "axs[3, 0].barh(df_axs.team.values[:10], df_axs.goals_conceded.values[:10], color=df_axs.color.values[:10], edgecolor='black')\n",
    "\n",
    "df_axs = df.sort_values(by=['goals_conceded'], ascending=True)\n",
    "axs[3, 1].set_title(\"Squadra che ha segnato di meno\")\n",
    "axs[3, 1].barh(df_axs.team.values[:10], df_axs.goals_conceded.values[:10], color=df_axs.color.values[:10], edgecolor='black')\n",
    "\n",
    "plt.show()"
   ]
  },
  {
   "cell_type": "markdown",
   "metadata": {},
   "source": [
    "correlazione di partite risultati di partite con goal fatti e subiti"
   ]
  },
  {
   "cell_type": "code",
   "execution_count": null,
   "metadata": {},
   "outputs": [],
   "source": [
    "df = pd.read_csv(path.join(PATH_DST, 'teams_statistics.csv')).drop(columns=['Unnamed: 0','games', 'home_games', 'away_games',\n",
    "    'neutral_games','home_wins', 'away_wins', 'neutral_wins','home_defeats', 'away_defeats', 'neutral_defeats','home_draws', 'away_draws', 'neutral_draws','home_goals_scored', 'away_goals_scored',\n",
    "    'neutral_goals_scored','home_goals_conceded',\n",
    "    'away_goals_conceded', 'neutral_goals_conceded'])\n",
    "\n",
    "# sns.heatmap(df.corr(method='spearman'), annot=True)\n",
    "\n",
    "plt.figure(figsize=(5, 5))\n",
    "sns.heatmap(df.corr(method='spearman')[['goals_scored','goals_conceded']].sort_values(by=['goals_scored','goals_conceded'], ascending=False), vmin=-1, vmax=1, annot=True)\n",
    "\n",
    "plt.show()"
   ]
  },
  {
   "cell_type": "markdown",
   "metadata": {},
   "source": [
    "correlazione tra partite giocate in casa/ fuori casa e partite neutrali/away/home"
   ]
  },
  {
   "cell_type": "code",
   "execution_count": null,
   "metadata": {},
   "outputs": [],
   "source": [
    "# df = pd.read_csv(path.join(PATH_DST, 'teams_statistics.csv')).drop(columns=['Unnamed: 0'])\n",
    "\n",
    "# correlated = df.corr(method='spearman').unstack().sort_values(ascending=False).drop_duplicates()\n",
    "# correlated[1:15]\n",
    "\n",
    "# strong_corr = correlated[(correlated >= .7) & (correlated <= 1)]\n",
    "# moderate_corr = correlated[(correlated >= .3) & (correlated <= .7)]\n",
    "# weak_corr = correlated[(correlated >= .0) & (correlated <= .3)]\n",
    "\n",
    "# print(strong_corr.__len__())\n",
    "# print(moderate_corr.__len__())\n",
    "# print(weak_corr.__len__())\n",
    "# print(strong_corr)\n",
    "# strong_corr.to_csv(\"output.csv\")\n",
    "\n",
    "df = pd.read_csv(path.join(PATH_DST, 'teams_statistics.csv')).drop(columns=['Unnamed: 0', 'confederation', 'games','wins','defeats','draws','goals_scored', 'home_goals_scored', 'away_goals_scored',\n",
    "    'neutral_goals_scored', 'goals_conceded', 'home_goals_conceded',\n",
    "    'away_goals_conceded', 'neutral_goals_conceded'])\n",
    "\n",
    "# df.columns.values\n",
    "\n",
    "sns.heatmap(df.corr(),annot=True)\n",
    "plt.show()"
   ]
  },
  {
   "cell_type": "markdown",
   "metadata": {},
   "source": [
    "## Parte 3 - Modello predittivo di goal fatti e subiti "
   ]
  },
  {
   "cell_type": "code",
   "execution_count": null,
   "metadata": {},
   "outputs": [],
   "source": [
    "df = pd.read_csv(path.join(PATH_DST, 'dataset_v3.csv')).drop(columns=['Unnamed: 0'])"
   ]
  },
  {
   "cell_type": "markdown",
   "metadata": {},
   "source": [
    "### 3A - Visualizzazioni"
   ]
  },
  {
   "cell_type": "markdown",
   "metadata": {},
   "source": [
    "Somma cumulativa dei risultati una specifica squadra"
   ]
  },
  {
   "cell_type": "code",
   "execution_count": null,
   "metadata": {},
   "outputs": [],
   "source": [
    "plt.rcParams.update({'figure.figsize':(8,5), 'figure.dpi':100})\n",
    "show_cdf(df, 'Italy')"
   ]
  },
  {
   "cell_type": "code",
   "execution_count": null,
   "metadata": {},
   "outputs": [],
   "source": [
    "show_cdf_splitted(df, 'Italy')"
   ]
  },
  {
   "cell_type": "markdown",
   "metadata": {},
   "source": [
    "Distribuzione dei goal segnati squadra di casa / squadra fuori casa"
   ]
  },
  {
   "cell_type": "code",
   "execution_count": null,
   "metadata": {},
   "outputs": [],
   "source": [
    "plt.figure(figsize=(20,5))\n",
    "sns.histplot(df[df['home_score'] > 0]['home_score'], kde=False, bins=30, label=\"Home score\", color=\"y\")\n",
    "sns.histplot(df[df['away_score'] > 0]['away_score'], kde=False, bins=30, label=\"Away score\", color=\"b\")\n",
    "# plt.xticks([i for i in range(1,15)])\n",
    "plt.legend()\n",
    "plt.title(\"Distribuzione di goals segnati\")\n",
    "plt.xlabel(\"Goals\")\n",
    "plt.ylabel(\"Frequenza\")\n",
    "plt.show()"
   ]
  },
  {
   "cell_type": "markdown",
   "metadata": {},
   "source": [
    "Boxplot goal fatti / concessi rispettivamente nella squadra di casa e non"
   ]
  },
  {
   "cell_type": "code",
   "execution_count": null,
   "metadata": {},
   "outputs": [],
   "source": [
    "# boxplot con i goal medi delle squadre\n",
    "\n",
    "neutral_games = df.query(\"neutral == True\")\n",
    "not_neutral_games = df.query(\"neutral == False\")\n",
    "\n",
    "plt.figure(figsize=(20,5))\n",
    "scores = {\n",
    "    'home_score_NEUTRAL': neutral_games['home_score'], 'away_score_NEUTRAL': neutral_games['away_score'],\n",
    "    'home_score_NOT_NEUTRAL': not_neutral_games['home_score'], 'away_score_NOT_NEUTRAL': not_neutral_games['away_score'],\n",
    "    }\n",
    "plt.boxplot(scores.values())\n",
    "\n",
    "ax = plt.gca()\n",
    "ax.set_xticklabels(scores.keys())\n",
    "\n",
    "plt.show()"
   ]
  },
  {
   "cell_type": "markdown",
   "metadata": {},
   "source": [
    "### 3B - Individuo la distribuzione e controllo la correlazione"
   ]
  },
  {
   "cell_type": "code",
   "execution_count": null,
   "metadata": {},
   "outputs": [],
   "source": [
    "# confronto l'istogramma con la distribuzione di poisson per vedere se sono simili\n",
    "plt.figure(figsize=(20,5))\n",
    "\n",
    "plt.hist(df[['home_score', 'away_score']].values, range(6), alpha=0.8, label=['Home', 'Away'], density=True, color=[\"#6fa8dc\", \"#f6b26b\"])\n",
    "\n",
    "# sns.histplot(df[df['home_score'] > 0]['home_score'], kde=False, bins=30, label=\"Home score\", color=\"y\")\n",
    "# sns.histplot(df[df['away_score'] > 0]['away_score'], kde=False, bins=30, label=\"Away score\", color=\"b\")\n",
    "# plt.xticks([i for i in range(1,15)])\n",
    "\n",
    "means = df[['home_score','away_score']].mean()\n",
    "# construct Poisson  for each mean goals value\n",
    "poisson_pred = np.column_stack([[poisson.pmf(k, means[j]) for k in range(8)] for j in range(2)])\n",
    "\n",
    "plt.plot([i-0.5 for i in range(1,9)], poisson_pred[:,0],linestyle='-', marker='o',label=\"Home\", color = '#6fa8dc')\n",
    "plt.plot([i-0.5 for i in range(1,9)], poisson_pred[:,1],linestyle='-', marker='o',label=\"Away\", color = '#f6b26b')\n",
    "\n",
    "plt.legend()\n",
    "plt.title(\"Distribuzione di goals segnati\")\n",
    "plt.xlabel(\"Goals\")\n",
    "plt.ylabel(\"Frequenza\")\n",
    "plt.show()"
   ]
  },
  {
   "cell_type": "code",
   "execution_count": null,
   "metadata": {},
   "outputs": [],
   "source": [
    "# devo individuare la distribuzione notevole che più approssima il campione preso in esame.\n",
    "\n",
    "# nota: voglio prevedere il numero di goal fatti dalla squadra home e quella away\n",
    "\n",
    "# Supponiamo di sapere per certo che i pesi si distribuiscono secondo una distribuzione Gaussiana ed \n",
    "# effettuiamo il fit dei parametri. Confrontiamo dunque la Gaussiana trovata con l'istogramma di densità e la\n",
    "# stima di densità del campione:\n",
    "\n",
    "fig, axs = plt.subplots(2,1)\n",
    "sns.despine(left=True)\n",
    "\n",
    "sns.distplot(df['home_score'], ax=axs[0])\n",
    "sns.distplot(df['away_score'], ax=axs[1])\n",
    "\n",
    "plt.setp(axs, yticks=[])\n",
    "plt.tight_layout()\n",
    "plt.show()\n",
    "\n",
    "print(\"Skewness home_score: %f\" % df['home_score'].skew())\n",
    "print(\"Skewness away_score: %f\" % df['away_score'].skew())\n",
    "print(\"Kurtosis home_score: %f\" % df['home_score'].skew())\n",
    "print(\"Kurtosis away_score: %f\" % df['away_score'].skew())\n",
    "\n",
    "# da notare l'asimmetria a dx e scriverlo.. e curtosi verso un certo punto."
   ]
  },
  {
   "cell_type": "code",
   "execution_count": null,
   "metadata": {},
   "outputs": [],
   "source": [
    "df['total_score'] = df['home_score'] + df['away_score']\n",
    "sns.lmplot('total_score','away_score',data=df)\n",
    "plt.show()"
   ]
  },
  {
   "cell_type": "code",
   "execution_count": null,
   "metadata": {},
   "outputs": [],
   "source": [
    "sns.lmplot('total_score','away_score',data=df)\n",
    "plt.show()"
   ]
  },
  {
   "cell_type": "code",
   "execution_count": null,
   "metadata": {},
   "outputs": [],
   "source": [
    "sns.heatmap(df.drop(columns=['year']).corr(),annot=True)\n",
    "plt.show()"
   ]
  },
  {
   "cell_type": "markdown",
   "metadata": {},
   "source": [
    "### 3C - Rimuovo outliers\n",
    "\n",
    "e vedo le differenze...."
   ]
  },
  {
   "cell_type": "code",
   "execution_count": null,
   "metadata": {},
   "outputs": [],
   "source": [
    "df.describe()"
   ]
  },
  {
   "cell_type": "code",
   "execution_count": null,
   "metadata": {},
   "outputs": [],
   "source": [
    "print(f\"rows before removing: {df.shape[0]}\")\n",
    "df = remove_outliers(df, 'home_score')\n",
    "df = remove_outliers(df, 'away_score')\n",
    "print(f\"rows after removing: {df.shape[0]}\")"
   ]
  },
  {
   "cell_type": "code",
   "execution_count": null,
   "metadata": {},
   "outputs": [],
   "source": [
    "df.describe()"
   ]
  },
  {
   "cell_type": "code",
   "execution_count": null,
   "metadata": {},
   "outputs": [],
   "source": [
    "fig, axs = plt.subplots(2,1)\n",
    "sns.despine(left=True)\n",
    "\n",
    "sns.distplot(df['home_score'], ax=axs[0])\n",
    "sns.distplot(df['away_score'], ax=axs[1])\n",
    "\n",
    "plt.setp(axs, yticks=[])\n",
    "plt.tight_layout()\n",
    "plt.show()\n",
    "\n",
    "print(\"Skewness home_score: %f\" % df['home_score'].skew())\n",
    "print(\"Skewness away_score: %f\" % df['away_score'].skew())\n",
    "print(\"Kurtosis home_score: %f\" % df['home_score'].skew())\n",
    "print(\"Kurtosis away_score: %f\" % df['away_score'].skew())"
   ]
  },
  {
   "cell_type": "code",
   "execution_count": null,
   "metadata": {},
   "outputs": [],
   "source": [
    "sns.lmplot('total_score','away_score',data=df)\n",
    "plt.show()"
   ]
  },
  {
   "cell_type": "code",
   "execution_count": null,
   "metadata": {},
   "outputs": [],
   "source": [
    "sns.lmplot('total_score','away_score',data=df)\n",
    "plt.show()"
   ]
  },
  {
   "cell_type": "code",
   "execution_count": null,
   "metadata": {},
   "outputs": [],
   "source": [
    "sns.heatmap(df.drop(columns=['year']).corr(),annot=True)\n",
    "plt.show()"
   ]
  },
  {
   "cell_type": "code",
   "execution_count": null,
   "metadata": {},
   "outputs": [],
   "source": [
    "df.reset_index(drop=True).to_csv(path.join(PATH_DST, \"dataset_v4.csv\"))"
   ]
  },
  {
   "cell_type": "markdown",
   "metadata": {},
   "source": [
    "## d - Modello"
   ]
  },
  {
   "cell_type": "code",
   "execution_count": null,
   "metadata": {},
   "outputs": [],
   "source": [
    "#### ----- completaaaa ------\n",
    "\n",
    "# confronto con cdf\n",
    "plt.figure(figsize=(10,6))\n",
    "\n",
    "# weight home_score\n",
    "cdf_hs = df['home_score'].value_counts(normalize=True).sort_index().cumsum()\n",
    "cdf_hs.plot()\n",
    "\n",
    "# poisson cdf predicted\n",
    "poisson_pred = [poisson.pmf(k, means[0]) for k in cdf_hs.index.values]\n",
    "#TODO\n",
    "\n",
    "plt.plot()\n",
    "plt.grid()\n",
    "plt.legend(['CDF Campione','CDF Poisson'])\n",
    "plt.show()"
   ]
  },
  {
   "cell_type": "code",
   "execution_count": null,
   "metadata": {},
   "outputs": [],
   "source": [
    "# posso anche considerarmi il caso con outliers\n",
    "# e con encoding\n",
    "df = pd.read_csv(path.join(PATH_DST, 'dataset_v4.csv')).drop(columns=['Unnamed: 0'])\n",
    "\n",
    "matches_model_data = pd.concat([df[['home_team','away_team','home_score']].rename(columns={'home_team':'team', 'away_team':'opponent','home_score':'goals'}),\n",
    "            df[['away_team','home_team','away_score']].rename(columns={'away_team':'team', 'home_team':'opponent','away_score':'goals'})])\n",
    "\n",
    "poisson_model = smf.glm(formula=\"goals ~ team + opponent\", data=matches_model_data, \n",
    "                        family=sm.families.Poisson()).fit()\n",
    "\n",
    "poisson_model.summary()"
   ]
  },
  {
   "cell_type": "code",
   "execution_count": null,
   "metadata": {},
   "outputs": [],
   "source": [
    "print(get_match_result(poisson_model, 'Germany', 'Spain'))\n",
    "print(get_match_result(poisson_model, 'Argentina', 'Germany'))\n",
    "print(get_match_result(poisson_model, 'England', 'Morocco'))\n",
    "print(get_match_result(poisson_model, 'Italy', 'Brazil'))"
   ]
  },
  {
   "cell_type": "code",
   "execution_count": null,
   "metadata": {},
   "outputs": [],
   "source": []
  }
 ],
 "metadata": {
  "interpreter": {
   "hash": "df4bf9cb7965da357c4b6c51f18c30aca47f03f7eca761aed8b6baf28facbe12"
  },
  "kernelspec": {
   "display_name": "Python 3.8.8 64-bit ('venv': venv)",
   "name": "python3"
  },
  "language_info": {
   "codemirror_mode": {
    "name": "ipython",
    "version": 3
   },
   "file_extension": ".py",
   "mimetype": "text/x-python",
   "name": "python",
   "nbconvert_exporter": "python",
   "pygments_lexer": "ipython3",
   "version": "3.8.8"
  },
  "orig_nbformat": 4
 },
 "nbformat": 4,
 "nbformat_minor": 2
}
