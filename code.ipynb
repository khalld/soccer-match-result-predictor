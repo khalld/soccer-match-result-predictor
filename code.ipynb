{
 "cells": [
  {
   "cell_type": "markdown",
   "source": [
    "## Import libs and custom vars"
   ],
   "metadata": {}
  },
  {
   "cell_type": "code",
   "execution_count": 71,
   "source": [
    "import pandas as pd\n",
    "import numpy as np\n",
    "\n",
    "data_paths = {\n",
    "    'result': 'dataset/results.csv',\n",
    "    'shootouts': 'dataset/shootouts.csv'\n",
    "\n",
    "}"
   ],
   "outputs": [],
   "metadata": {}
  },
  {
   "cell_type": "markdown",
   "source": [
    "<ul>\n",
    "    <li>Ci sono alcuni nomi di squadre che sono cambiate nel tempo, uniformizza </li>\n",
    "    <li>Shootouts è il db dei penalty, quindi bisogna manipolare il dataset per vedere chi vince alla fine quella partita</li>\n",
    "</ul>"
   ],
   "metadata": {}
  },
  {
   "cell_type": "markdown",
   "source": [
    "## Dataset Description\n",
    "\n",
    "This dataset includes 42,483 results of international football matches starting from the very first official match in 1972 up to 2019. The matches range from FIFA World Cup to FIFI Wild Cup to regular friendly matches. The matches are strictly men's full internationals and the data does not include Olympic Games or matches where at least one of the teams was the nation's B-team, U-23 or a league select team."
   ],
   "metadata": {}
  },
  {
   "cell_type": "code",
   "execution_count": 16,
   "source": [
    "data = {\n",
    "    'results': pd.read_csv(data_paths['result']),\n",
    "    'shootouts': pd.read_csv(data_paths['shootouts'])\n",
    "}\n",
    "\n",
    "## parte di analisi del dataset"
   ],
   "outputs": [],
   "metadata": {}
  },
  {
   "cell_type": "code",
   "execution_count": 123,
   "source": [
    "data['results'].__len__()\n",
    "print(data['results'].iloc[42482])"
   ],
   "outputs": [
    {
     "output_type": "stream",
     "name": "stdout",
     "text": [
      "date             2021-08-01\n",
      "home_team     United States\n",
      "away_team            Mexico\n",
      "home_score                1\n",
      "away_score                0\n",
      "tournament         Gold Cup\n",
      "city              Las Vegas\n",
      "country       United States\n",
      "neutral               False\n",
      "Name: 42482, dtype: object\n"
     ]
    }
   ],
   "metadata": {}
  },
  {
   "cell_type": "code",
   "execution_count": 135,
   "source": [
    "for i in range(0, data['results'].__len__() - 1):\n",
    "    # print(\"NOPE\")\n",
    "\n",
    "    if (data['results'].iloc[i]['date'] == data['shootouts'].iloc[0]['date'] and data['results'].iloc[i]['home_team'] == data['shootouts'].iloc[0]['home_team'] and data['results'].iloc[i]['away_team'] == data['shootouts'].iloc[0]['away_team']) is True:\n",
    "        # print(  data['results'].iloc[i]['date'] == data['results'].iloc[0]['date'] , data['results'].iloc[i]['date'] , data['results'].iloc[0]['date'] )\n",
    "\n",
    "        print(data['results'].iloc[i])\n",
    "        print('=x='*10)\n",
    "        print(data['shootouts'].iloc[0])\n",
    "        break"
   ],
   "outputs": [
    {
     "output_type": "stream",
     "name": "stdout",
     "text": [
      "date                  1967-08-22\n",
      "home_team                  India\n",
      "away_team                 Taiwan\n",
      "home_score                     1\n",
      "away_score                     1\n",
      "tournament    Merdeka Tournament\n",
      "city                Kuala Lumpur\n",
      "country                 Malaysia\n",
      "neutral                     True\n",
      "Name: 6581, dtype: object\n",
      "=x==x==x==x==x==x==x==x==x==x=\n",
      "date         1967-08-22\n",
      "home_team         India\n",
      "away_team        Taiwan\n",
      "winner           Taiwan\n",
      "Name: 0, dtype: object\n"
     ]
    }
   ],
   "metadata": {}
  },
  {
   "cell_type": "markdown",
   "source": [
    "Il dataset presenta anche il db 'shootouts' che contiene i vincitori ai calci di rigore di partite finite in pareggio"
   ],
   "metadata": {}
  },
  {
   "cell_type": "code",
   "execution_count": 152,
   "source": [
    "dst_df = data['results'].copy()\n",
    "\n",
    "res_len = data['results'].__len__()\n",
    "sht_len = data['shootouts'].__len__()\n",
    "\n",
    "# aggiungi una colonna al dataFrame che aggiorna con i risultati dei rigori\n",
    "\n",
    "# print(a,b, data['shootouts'].max(), data['shootouts'].iloc[322])\n",
    "\n",
    "\n",
    "for i in range(0, dst_df.__len__() - 1):\n",
    "\n",
    "    # dst_df.iloc[i] = \n",
    "#     if (data['results'].iloc[i]['date'] == data['shootouts'].iloc[0]['date'] and data['results'].iloc[i]['home_team'] == data['shootouts'].iloc[0]['home_team'] and data['results'].iloc[i]['away_team'] == data['shootouts'].iloc[0]['away_team']) is True:\n",
    "#         # print(  data['results'].iloc[i]['date'] == data['results'].iloc[0]['date'] , data['results'].iloc[i]['date'] , data['results'].iloc[0]['date'] )\n",
    "#         dst_df = data['results']\n",
    "\n",
    "#         print(data['results'].iloc[i])\n",
    "#         print('=x='*10)\n",
    "#         print(data['shootouts'].iloc[0])\n",
    "#         break\n",
    "\n",
    "\n"
   ],
   "outputs": [
    {
     "output_type": "stream",
     "name": "stdout",
     "text": [
      "Algeria\n"
     ]
    }
   ],
   "metadata": {}
  },
  {
   "cell_type": "code",
   "execution_count": 104,
   "source": [
    "a = pd.merge(data['results'], data['shootouts'], on='date')\n",
    "a['date'].min()"
   ],
   "outputs": [
    {
     "output_type": "execute_result",
     "data": {
      "text/plain": [
       "'1967-08-22'"
      ]
     },
     "metadata": {},
     "execution_count": 104
    }
   ],
   "metadata": {}
  },
  {
   "cell_type": "code",
   "execution_count": 83,
   "source": [
    "home_teams = data['results']['home_team'].unique()\n",
    "away_teams = data['results']['away_team'].unique()\n",
    "\n",
    "print(\"home teams %d\\naway teams %d\" % (home_teams.__len__(), away_teams.__len__()))\n"
   ],
   "outputs": [
    {
     "output_type": "stream",
     "name": "stdout",
     "text": [
      "home teams 308\n",
      "away teams 306\n"
     ]
    }
   ],
   "metadata": {}
  },
  {
   "cell_type": "code",
   "execution_count": 97,
   "source": [
    "if data['results']['date'] > '2000-01-25' is True:\n",
    "    print(data['results']['date'])"
   ],
   "outputs": [
    {
     "output_type": "stream",
     "name": "stderr",
     "text": [
      "<>:1: SyntaxWarning: \"is\" with a literal. Did you mean \"==\"?\n",
      "<>:1: SyntaxWarning: \"is\" with a literal. Did you mean \"==\"?\n",
      "<ipython-input-97-364506a89ba5>:1: SyntaxWarning: \"is\" with a literal. Did you mean \"==\"?\n",
      "  if data['results']['date'] > '2000-01-25' is True:\n"
     ]
    },
    {
     "output_type": "error",
     "ename": "ValueError",
     "evalue": "The truth value of a Series is ambiguous. Use a.empty, a.bool(), a.item(), a.any() or a.all().",
     "traceback": [
      "\u001b[0;31m---------------------------------------------------------------------------\u001b[0m",
      "\u001b[0;31mValueError\u001b[0m                                Traceback (most recent call last)",
      "\u001b[0;32m<ipython-input-97-364506a89ba5>\u001b[0m in \u001b[0;36m<module>\u001b[0;34m\u001b[0m\n\u001b[0;32m----> 1\u001b[0;31m \u001b[0;32mif\u001b[0m \u001b[0mdata\u001b[0m\u001b[0;34m[\u001b[0m\u001b[0;34m'results'\u001b[0m\u001b[0;34m]\u001b[0m\u001b[0;34m[\u001b[0m\u001b[0;34m'date'\u001b[0m\u001b[0;34m]\u001b[0m \u001b[0;34m>\u001b[0m \u001b[0;34m'2000-01-25'\u001b[0m \u001b[0;32mis\u001b[0m \u001b[0;32mTrue\u001b[0m\u001b[0;34m:\u001b[0m\u001b[0;34m\u001b[0m\u001b[0;34m\u001b[0m\u001b[0m\n\u001b[0m\u001b[1;32m      2\u001b[0m     \u001b[0mprint\u001b[0m\u001b[0;34m(\u001b[0m\u001b[0mdata\u001b[0m\u001b[0;34m[\u001b[0m\u001b[0;34m'results'\u001b[0m\u001b[0;34m]\u001b[0m\u001b[0;34m[\u001b[0m\u001b[0;34m'date'\u001b[0m\u001b[0;34m]\u001b[0m\u001b[0;34m)\u001b[0m\u001b[0;34m\u001b[0m\u001b[0;34m\u001b[0m\u001b[0m\n",
      "\u001b[0;32m/usr/local/lib/python3.9/site-packages/pandas/core/generic.py\u001b[0m in \u001b[0;36m__nonzero__\u001b[0;34m(self)\u001b[0m\n\u001b[1;32m   1532\u001b[0m     \u001b[0;34m@\u001b[0m\u001b[0mfinal\u001b[0m\u001b[0;34m\u001b[0m\u001b[0;34m\u001b[0m\u001b[0m\n\u001b[1;32m   1533\u001b[0m     \u001b[0;32mdef\u001b[0m \u001b[0m__nonzero__\u001b[0m\u001b[0;34m(\u001b[0m\u001b[0mself\u001b[0m\u001b[0;34m)\u001b[0m\u001b[0;34m:\u001b[0m\u001b[0;34m\u001b[0m\u001b[0;34m\u001b[0m\u001b[0m\n\u001b[0;32m-> 1534\u001b[0;31m         raise ValueError(\n\u001b[0m\u001b[1;32m   1535\u001b[0m             \u001b[0;34mf\"The truth value of a {type(self).__name__} is ambiguous. \"\u001b[0m\u001b[0;34m\u001b[0m\u001b[0;34m\u001b[0m\u001b[0m\n\u001b[1;32m   1536\u001b[0m             \u001b[0;34m\"Use a.empty, a.bool(), a.item(), a.any() or a.all().\"\u001b[0m\u001b[0;34m\u001b[0m\u001b[0;34m\u001b[0m\u001b[0m\n",
      "\u001b[0;31mValueError\u001b[0m: The truth value of a Series is ambiguous. Use a.empty, a.bool(), a.item(), a.any() or a.all()."
     ]
    }
   ],
   "metadata": {}
  },
  {
   "cell_type": "markdown",
   "source": [
    "Le squadre che hanno giocato in casa sono di più di quelle che hanno giocato precedentemente, controlliamo:"
   ],
   "metadata": {}
  },
  {
   "cell_type": "code",
   "execution_count": 88,
   "source": [
    "np.setdiff1d(home_teams, country_list) # Return the unique values in ar1 that are not in ar2."
   ],
   "outputs": [
    {
     "output_type": "execute_result",
     "data": {
      "text/plain": [
       "array(['Abkhazia', 'Alderney', 'Andalusia', 'Arameans Suryoye', 'Artsakh',\n",
       "       'Bahamas', 'Barawa', 'Basque Country', 'Bolivia', 'Bonaire',\n",
       "       'British Virgin Islands', 'Brittany', 'Brunei', 'Burma',\n",
       "       'Canary Islands', 'Cape Verde', 'Cascadia', 'Catalonia',\n",
       "       'Cayman Islands', 'Central African Republic', 'Central Spain',\n",
       "       'Chagos Islands', 'Chameria', 'China PR', 'Comoros', 'Congo',\n",
       "       'Cook Islands', 'Corsica', 'County of Nice', 'Crimea',\n",
       "       'Czech Republic', 'Czechoslovakia', 'DR Congo', 'Darfur',\n",
       "       'Dominican Republic', 'East Timor', 'Ellan Vannin', 'England',\n",
       "       'Falkland Islands', 'Faroe Islands', 'Felvidék', 'Frøya',\n",
       "       'Galicia', 'Gambia', 'German DR', 'Gotland', 'Gozo', 'Găgăuzia',\n",
       "       'Hitra', 'Iran', 'Iraqi Kurdistan', 'Isle of Wight', 'Ivory Coast',\n",
       "       'Kabylia', 'Kernow', 'Kosovo', 'Kárpátalja', 'Laos', 'Macau',\n",
       "       'Madrid', 'Manchukuo', 'Matabeleland', 'Menorca', 'Micronesia',\n",
       "       'Moldova', 'Netherlands', 'Niger', 'North Korea',\n",
       "       'North Macedonia', 'North Vietnam', 'Northern Cyprus',\n",
       "       'Northern Ireland', 'Northern Mariana Islands', 'Occitania',\n",
       "       'Orkney', 'Padania', 'Palestine', 'Panjab', 'Parishes of Jersey',\n",
       "       'Philippines', 'Provence', 'Raetia', 'Republic of Ireland',\n",
       "       'Republic of St. Pauli', 'Rhodes', 'Romani people', 'Russia',\n",
       "       'Saare County', 'Saarland', 'Saint Helena', 'Saint Martin', 'Sark',\n",
       "       'Scotland', 'Shetland', 'Silesia', 'Sint Maarten', 'Somaliland',\n",
       "       'South Korea', 'South Ossetia', 'Sudan', 'Syria', 'Székely Land',\n",
       "       'Sápmi', 'São Tomé and Príncipe', 'Tahiti', 'Tamil Eelam',\n",
       "       'Tanzania', 'Tibet', 'Turks and Caicos Islands',\n",
       "       'United Arab Emirates', 'United Koreans in Japan', 'United States',\n",
       "       'United States Virgin Islands', 'Vatican City', 'Venezuela',\n",
       "       'Vietnam', 'Vietnam Republic', 'Wales',\n",
       "       'Wallis Islands and Futuna', 'Western Armenia', 'Western Isles',\n",
       "       'Yemen DPR', 'Ynys Môn', 'Yorkshire', 'Yugoslavia', 'Zanzibar'],\n",
       "      dtype=object)"
      ]
     },
     "metadata": {},
     "execution_count": 88
    }
   ],
   "metadata": {}
  },
  {
   "cell_type": "code",
   "execution_count": 31,
   "source": [
    "print(res_view['home_team'].value_counts())\n",
    "\n",
    "\n",
    "print(res_view['away_team'].value_counts())"
   ],
   "outputs": [
    {
     "output_type": "stream",
     "name": "stdout",
     "text": [
      "Brazil           581\n",
      "Argentina        557\n",
      "Mexico           524\n",
      "Germany          518\n",
      "England          513\n",
      "                ... \n",
      "Kabylia            1\n",
      "Madrid             1\n",
      "Crimea             1\n",
      "Romani people      1\n",
      "Saint Helena       1\n",
      "Name: home_team, Length: 308, dtype: int64\n",
      "Uruguay          547\n",
      "Sweden           539\n",
      "England          516\n",
      "Hungary          484\n",
      "Paraguay         461\n",
      "                ... \n",
      "Central Spain      1\n",
      "Surrey             1\n",
      "Asturias           1\n",
      "Andalusia          1\n",
      "Malabo             1\n",
      "Name: away_team, Length: 306, dtype: int64\n"
     ]
    }
   ],
   "metadata": {}
  },
  {
   "cell_type": "code",
   "execution_count": 18,
   "source": [
    "data['shootouts'].head()"
   ],
   "outputs": [
    {
     "output_type": "execute_result",
     "data": {
      "text/html": [
       "<div>\n",
       "<style scoped>\n",
       "    .dataframe tbody tr th:only-of-type {\n",
       "        vertical-align: middle;\n",
       "    }\n",
       "\n",
       "    .dataframe tbody tr th {\n",
       "        vertical-align: top;\n",
       "    }\n",
       "\n",
       "    .dataframe thead th {\n",
       "        text-align: right;\n",
       "    }\n",
       "</style>\n",
       "<table border=\"1\" class=\"dataframe\">\n",
       "  <thead>\n",
       "    <tr style=\"text-align: right;\">\n",
       "      <th></th>\n",
       "      <th>date</th>\n",
       "      <th>home_team</th>\n",
       "      <th>away_team</th>\n",
       "      <th>winner</th>\n",
       "    </tr>\n",
       "  </thead>\n",
       "  <tbody>\n",
       "    <tr>\n",
       "      <th>0</th>\n",
       "      <td>1967-08-22</td>\n",
       "      <td>India</td>\n",
       "      <td>Taiwan</td>\n",
       "      <td>Taiwan</td>\n",
       "    </tr>\n",
       "    <tr>\n",
       "      <th>1</th>\n",
       "      <td>1971-11-14</td>\n",
       "      <td>South Korea</td>\n",
       "      <td>Vietnam Republic</td>\n",
       "      <td>South Korea</td>\n",
       "    </tr>\n",
       "    <tr>\n",
       "      <th>2</th>\n",
       "      <td>1972-05-17</td>\n",
       "      <td>Thailand</td>\n",
       "      <td>South Korea</td>\n",
       "      <td>South Korea</td>\n",
       "    </tr>\n",
       "    <tr>\n",
       "      <th>3</th>\n",
       "      <td>1972-05-19</td>\n",
       "      <td>Thailand</td>\n",
       "      <td>Cambodia</td>\n",
       "      <td>Thailand</td>\n",
       "    </tr>\n",
       "    <tr>\n",
       "      <th>4</th>\n",
       "      <td>1973-07-26</td>\n",
       "      <td>Malaysia</td>\n",
       "      <td>Kuwait</td>\n",
       "      <td>Malaysia</td>\n",
       "    </tr>\n",
       "  </tbody>\n",
       "</table>\n",
       "</div>"
      ],
      "text/plain": [
       "         date    home_team         away_team       winner\n",
       "0  1967-08-22        India            Taiwan       Taiwan\n",
       "1  1971-11-14  South Korea  Vietnam Republic  South Korea\n",
       "2  1972-05-17     Thailand       South Korea  South Korea\n",
       "3  1972-05-19     Thailand          Cambodia     Thailand\n",
       "4  1973-07-26     Malaysia            Kuwait     Malaysia"
      ]
     },
     "metadata": {},
     "execution_count": 18
    }
   ],
   "metadata": {}
  }
 ],
 "metadata": {
  "orig_nbformat": 4,
  "language_info": {
   "name": "python",
   "version": "3.9.5",
   "mimetype": "text/x-python",
   "codemirror_mode": {
    "name": "ipython",
    "version": 3
   },
   "pygments_lexer": "ipython3",
   "nbconvert_exporter": "python",
   "file_extension": ".py"
  },
  "kernelspec": {
   "name": "python3",
   "display_name": "Python 3.9.5 64-bit"
  },
  "interpreter": {
   "hash": "aee8b7b246df8f9039afb4144a1f6fd8d2ca17a180786b69acc140d282b71a49"
  }
 },
 "nbformat": 4,
 "nbformat_minor": 2
}