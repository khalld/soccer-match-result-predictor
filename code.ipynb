{
 "cells": [
  {
   "cell_type": "markdown",
   "source": [
    "## Import libs and custom vars"
   ],
   "metadata": {}
  },
  {
   "cell_type": "code",
   "execution_count": 1,
   "source": [
    "import pandas as pd\n",
    "import numpy as np\n",
    "from datetime import datetime\n",
    "from libs.utils import return_outcome, fix_continent_matches\n",
    "from matplotlib import pyplot as plt\n",
    "import datetime\n",
    "from numba import jit"
   ],
   "outputs": [],
   "metadata": {}
  },
  {
   "cell_type": "markdown",
   "source": [
    "<b>L'obbiettivo del progetto è la costruzione di un modello per predizioni di match internazionali</b>\n",
    "\n",
    "\n",
    "<ul>\n",
    "    <li>Ci sono alcuni nomi di squadre che sono cambiate nel tempo, uniformizza </li>\n",
    "    <li>Shootouts è il db dei penalty, quindi bisogna manipolare il dataset per vedere chi vince alla fine quella partita</li>\n",
    "</ul>"
   ],
   "metadata": {}
  },
  {
   "cell_type": "markdown",
   "source": [
    "### Descrizione del dataset"
   ],
   "metadata": {}
  },
  {
   "cell_type": "markdown",
   "source": [
    "\n",
    "Il Dataset contiene 42483 risultati di partite di calcio internazionale maschile. In particolare, sono incluse sia le partite ufficiali di tutte le competizioni: dalle amichevoli alla coppa del mondo eccetto i Giochi Olimpici o le partite dove almeno una delle due squadre era la squadra B o U-23. Inoltre, il dataset presenta un ulteriore file che contiene 432 risultati di partite terminate con i calci di rigore, <u>che non considereremo in quanto il modello dovrà predirre il risultato come: 'Home win', 'Draw', 'Away win'.</u>"
   ],
   "metadata": {}
  },
  {
   "cell_type": "code",
   "execution_count": 2,
   "source": [
    "dst_df = pd.read_csv('dataset/results.csv');\n",
    "\n",
    "print(\"Null values:\", dst_df.isnull().values.any(), \"| shape:\", dst_df.shape)\n",
    "print(\"***\"*15)\n",
    "print(dst_df.info())"
   ],
   "outputs": [
    {
     "output_type": "stream",
     "name": "stdout",
     "text": [
      "Null values: False | shape: (42483, 9)\n",
      "*********************************************\n",
      "<class 'pandas.core.frame.DataFrame'>\n",
      "RangeIndex: 42483 entries, 0 to 42482\n",
      "Data columns (total 9 columns):\n",
      " #   Column      Non-Null Count  Dtype \n",
      "---  ------      --------------  ----- \n",
      " 0   date        42483 non-null  object\n",
      " 1   home_team   42483 non-null  object\n",
      " 2   away_team   42483 non-null  object\n",
      " 3   home_score  42483 non-null  int64 \n",
      " 4   away_score  42483 non-null  int64 \n",
      " 5   tournament  42483 non-null  object\n",
      " 6   city        42483 non-null  object\n",
      " 7   country     42483 non-null  object\n",
      " 8   neutral     42483 non-null  bool  \n",
      "dtypes: bool(1), int64(2), object(6)\n",
      "memory usage: 2.6+ MB\n",
      "None\n"
     ]
    }
   ],
   "metadata": {}
  },
  {
   "cell_type": "markdown",
   "source": [
    "### Preparazione del daset"
   ],
   "metadata": {}
  },
  {
   "cell_type": "markdown",
   "source": [
    "- campo date formattato in anno\n",
    "- colonna 'risultato'\n",
    "- converto home_score e away_score in float"
   ],
   "metadata": {}
  },
  {
   "cell_type": "code",
   "execution_count": 3,
   "source": [
    "dst_df = dst_df.astype({\"home_score\": float, \"away_score\": float})\n",
    "\n",
    "dst_df['outcome'] = None\n",
    "dst_df['day'] = None\n",
    "dst_df['month'] = None\n",
    "dst_df['year'] = None\n",
    "\n",
    "date_separator = ', '\n",
    "\n",
    "counter = 0\n",
    "for i in range(0, len(dst_df)):\n",
    "    counter = counter + 1\n",
    "    print('*** Processing %d/%d ***' % (counter, len(dst_df)), end='\\r')\n",
    "\n",
    "    # Formatto i nomi dei continenti per standardizzarli al dataset FIFA usato dopo\n",
    "    if(dst_df.loc[i]['country'] == 'United States'):\n",
    "        dst_df.at[i, 'country'] = 'USA'\n",
    "\n",
    "    # estraggo dati necessari dalla data\n",
    "    row_date = datetime.date.fromisoformat(dst_df.iloc[i]['date'])\n",
    "    dst_df.at[i, 'day'] = row_date.strftime('%d') + date_separator + row_date.strftime('%A')\n",
    "    dst_df.at[i, 'month'] = row_date.strftime('%B')\n",
    "    dst_df.at[i, 'year'] = int(row_date.strftime('%Y'))\n",
    "\n",
    "    # calcolo il risultato della partita\n",
    "    dst_df.at[i, 'outcome'] = return_outcome(dst_df.iloc[i]['home_score'], dst_df.iloc[i]['away_score'])\n",
    "\n",
    "    # deprecato\n",
    "    # if(dst_df.iloc[i]['outcome'] == 'D'):\n",
    "    #     dst_df.at[i, 'outcome'] = find_penalty(data['results'].iloc[i], data['shootouts'], sht_len - 1)\n",
    "\n",
    "dst_df.drop(labels=['date'], axis=1, inplace=True)\n",
    "dst_df.to_csv('dataset/dataset.csv')"
   ],
   "outputs": [
    {
     "output_type": "stream",
     "name": "stdout",
     "text": []
    }
   ],
   "metadata": {}
  },
  {
   "cell_type": "markdown",
   "source": [],
   "metadata": {}
  },
  {
   "cell_type": "markdown",
   "source": [
    "### To do:\n",
    "Da vedere come inserire:\n",
    "- comparare il numero di partite per nazione\n",
    "- score per games?\n",
    "\n",
    "Modelli:\n",
    "    - Regressione logistica\n",
    "    - Alberi decisionali\n",
    "    - o...?\n",
    "\n",
    "Da inserire (?)\n",
    "    - FIFa ranking per elaborazione modello\n",
    "        - regole del ranking\n",
    "        - spiegare funzionamento\n",
    "        - aggiungere 'ranking' in base alla data\n",
    "    \n",
    "Aggiuntivi da implementare via facendo + descrizione\n",
    "- Eliminare i paesi che hanno cambiato nome/pulizia dataset\n",
    "- Riduzione delle dimensionalità\n",
    "    - per il calcolo del modello considera solo se le partite sono state giocate in campo neutrale"
   ],
   "metadata": {}
  },
  {
   "cell_type": "code",
   "execution_count": 4,
   "source": [
    "dst = pd.read_csv('dataset/dataset.csv')\n",
    "dst.drop(labels=['Unnamed: 0', 'city'], axis=1, inplace=True)\n",
    "\n",
    "dst.head()"
   ],
   "outputs": [
    {
     "output_type": "execute_result",
     "data": {
      "text/html": [
       "<div>\n",
       "<style scoped>\n",
       "    .dataframe tbody tr th:only-of-type {\n",
       "        vertical-align: middle;\n",
       "    }\n",
       "\n",
       "    .dataframe tbody tr th {\n",
       "        vertical-align: top;\n",
       "    }\n",
       "\n",
       "    .dataframe thead th {\n",
       "        text-align: right;\n",
       "    }\n",
       "</style>\n",
       "<table border=\"1\" class=\"dataframe\">\n",
       "  <thead>\n",
       "    <tr style=\"text-align: right;\">\n",
       "      <th></th>\n",
       "      <th>home_team</th>\n",
       "      <th>away_team</th>\n",
       "      <th>home_score</th>\n",
       "      <th>away_score</th>\n",
       "      <th>tournament</th>\n",
       "      <th>country</th>\n",
       "      <th>neutral</th>\n",
       "      <th>outcome</th>\n",
       "      <th>day</th>\n",
       "      <th>month</th>\n",
       "      <th>year</th>\n",
       "    </tr>\n",
       "  </thead>\n",
       "  <tbody>\n",
       "    <tr>\n",
       "      <th>0</th>\n",
       "      <td>Scotland</td>\n",
       "      <td>England</td>\n",
       "      <td>0.0</td>\n",
       "      <td>0.0</td>\n",
       "      <td>Friendly</td>\n",
       "      <td>Scotland</td>\n",
       "      <td>False</td>\n",
       "      <td>Draw</td>\n",
       "      <td>30, Saturday</td>\n",
       "      <td>November</td>\n",
       "      <td>1872</td>\n",
       "    </tr>\n",
       "    <tr>\n",
       "      <th>1</th>\n",
       "      <td>England</td>\n",
       "      <td>Scotland</td>\n",
       "      <td>4.0</td>\n",
       "      <td>2.0</td>\n",
       "      <td>Friendly</td>\n",
       "      <td>England</td>\n",
       "      <td>False</td>\n",
       "      <td>Home</td>\n",
       "      <td>08, Saturday</td>\n",
       "      <td>March</td>\n",
       "      <td>1873</td>\n",
       "    </tr>\n",
       "    <tr>\n",
       "      <th>2</th>\n",
       "      <td>Scotland</td>\n",
       "      <td>England</td>\n",
       "      <td>2.0</td>\n",
       "      <td>1.0</td>\n",
       "      <td>Friendly</td>\n",
       "      <td>Scotland</td>\n",
       "      <td>False</td>\n",
       "      <td>Home</td>\n",
       "      <td>07, Saturday</td>\n",
       "      <td>March</td>\n",
       "      <td>1874</td>\n",
       "    </tr>\n",
       "    <tr>\n",
       "      <th>3</th>\n",
       "      <td>England</td>\n",
       "      <td>Scotland</td>\n",
       "      <td>2.0</td>\n",
       "      <td>2.0</td>\n",
       "      <td>Friendly</td>\n",
       "      <td>England</td>\n",
       "      <td>False</td>\n",
       "      <td>Draw</td>\n",
       "      <td>06, Saturday</td>\n",
       "      <td>March</td>\n",
       "      <td>1875</td>\n",
       "    </tr>\n",
       "    <tr>\n",
       "      <th>4</th>\n",
       "      <td>Scotland</td>\n",
       "      <td>England</td>\n",
       "      <td>3.0</td>\n",
       "      <td>0.0</td>\n",
       "      <td>Friendly</td>\n",
       "      <td>Scotland</td>\n",
       "      <td>False</td>\n",
       "      <td>Home</td>\n",
       "      <td>04, Saturday</td>\n",
       "      <td>March</td>\n",
       "      <td>1876</td>\n",
       "    </tr>\n",
       "  </tbody>\n",
       "</table>\n",
       "</div>"
      ],
      "text/plain": [
       "  home_team away_team  home_score  away_score tournament   country  neutral  \\\n",
       "0  Scotland   England         0.0         0.0   Friendly  Scotland    False   \n",
       "1   England  Scotland         4.0         2.0   Friendly   England    False   \n",
       "2  Scotland   England         2.0         1.0   Friendly  Scotland    False   \n",
       "3   England  Scotland         2.0         2.0   Friendly   England    False   \n",
       "4  Scotland   England         3.0         0.0   Friendly  Scotland    False   \n",
       "\n",
       "  outcome           day     month  year  \n",
       "0    Draw  30, Saturday  November  1872  \n",
       "1    Home  08, Saturday     March  1873  \n",
       "2    Home  07, Saturday     March  1874  \n",
       "3    Draw  06, Saturday     March  1875  \n",
       "4    Home  04, Saturday     March  1876  "
      ]
     },
     "metadata": {},
     "execution_count": 4
    }
   ],
   "metadata": {}
  },
  {
   "cell_type": "markdown",
   "source": [
    "### 1. Statistica descrittiva - Distribuzione dei dati"
   ],
   "metadata": {}
  },
  {
   "cell_type": "markdown",
   "source": [
    "Descrizione del dataset\n",
    "1. <s>Numero di partie per anno</s>\n",
    "2. <s>Numero di partie per anno per contiente</s>\n",
    "    - Approssimazione a CMF/PMF ???\n",
    "3. Numero di squadre per continente\n",
    "4. Numero di goal per anno (? / scatterplot)\n",
    "\n",
    "    - Migliore team (per attacco e difesa) per decade\n",
    "    - Distribuizione di goal con boxplot/scatterplot (Football most progressive countries)\n",
    "\n",
    "5. Numero di vittorie (scatterplot)\n",
    "\n",
    "Scatterplot draw, home win away win\n"
   ],
   "metadata": {}
  },
  {
   "cell_type": "markdown",
   "source": [
    "##### Numero di partite per anno:"
   ],
   "metadata": {}
  },
  {
   "cell_type": "code",
   "execution_count": 5,
   "source": [
    "#### inserire prima guerra mondiale, seconda e covid\n",
    "\n",
    "mpy = dst['year'].value_counts().sort_index()\n",
    "\n",
    "plt.figure(figsize=(10,4))\n",
    "plt.title(label='Number of games per year')\n",
    "plt.ylabel(ylabel='number of games')\n",
    "plt.xlabel(xlabel='years')\n",
    "plt.plot(mpy)\n",
    "\n",
    "plt.grid()\n",
    "plt.show()"
   ],
   "outputs": [
    {
     "output_type": "display_data",
     "data": {
      "image/png": "[encoded data removed]",
      "text/plain": [
       "<Figure size 720x288 with 1 Axes>"
      ]
     },
     "metadata": {
      "needs_background": "light"
     }
    }
   ],
   "metadata": {}
  },
  {
   "cell_type": "markdown",
   "source": [
    "##### Numero di partite giocate per anno da ogni continente"
   ],
   "metadata": {}
  },
  {
   "cell_type": "code",
   "execution_count": 3,
   "source": [
    "# continente in cui è stato disputato il match\n",
    "dst['continent'] = ''\n",
    "\n",
    "# mi ricavo le confederazioni delle nazionali dal dataset FIFA\n",
    "dst_fifa = pd.read_csv('dataset/fifa_ranking-2021-05-27.csv')\n",
    "dst_fifa.drop(labels=['rank', 'rank_date', 'rank_change', 'total_points', 'previous_points', 'id'], axis=1, inplace=True)\n",
    "dst_fifa.drop_duplicates(subset=\"country_full\", keep=\"first\", inplace=True)\n",
    "\n",
    "# so già a prescindere che ci saranno delle nazioni non riconosciute\n",
    "df_nocontinent_found = pd.DataFrame(columns=dst.columns)\n",
    "\n",
    "index_mismatches_dst = []\n",
    "\n",
    "for i in range(0, len(dst)):\n",
    "    if( dst_fifa[(dst_fifa.country_full == dst.iloc[i]['country'])]['confederation'].values.__len__() == 1 ):\n",
    "        confederation = dst_fifa[(dst_fifa.country_full == dst.iloc[i]['country'])]['confederation'].values[0]\n",
    "        \n",
    "        if confederation in \"CONCACAF\":\n",
    "            continent = \"America\"\n",
    "\n",
    "        if confederation in \"CONMEBOL\":\n",
    "            continent = \"America\"\n",
    "\n",
    "        if confederation == \"UEFA\":\n",
    "            continent = \"Europe\"\n",
    "\n",
    "        if(confederation == \"AFC\"):\n",
    "            continent = \"Asia\"\n",
    "        \n",
    "        if(confederation == \"CAF\"):\n",
    "            continent = \"Africa\"\n",
    "\n",
    "        if(confederation == \"OFC\"):\n",
    "            continent = \"Oceania\"\n",
    "\n",
    "        dst.at[i, 'continent'] = continent\n",
    "    else:\n",
    "            current = dst.iloc[i]['country']\n",
    "\n",
    "            if (current == 'Bohemia'\n",
    "                    or current == 'Soviet Union'\n",
    "                    or current == 'Irish Free State'\n",
    "                    or current == 'German DR'\n",
    "                    or current == 'Saarland'\n",
    "                    or current == 'Jersey'\n",
    "                    or current == 'Northern Cyprus'\n",
    "                    or current == 'Isle of Man'\n",
    "                    or current == 'Guernsey'\n",
    "                    or current == 'Bohemia and Moravia'\n",
    "                    or current == 'Monaco' ):\n",
    "                dst.at[i, 'continent'] = 'Europe'\n",
    "\n",
    "            elif (dst.iloc[i]['country'] == 'British Guyana'\n",
    "                    or current == 'Netherlands Guyana'\n",
    "                    or current == 'French Guiana'\n",
    "                    or current == 'Saint Kitts and Nevis'\n",
    "                    or current == 'Éire'\n",
    "                    or current == 'Guadeloupe'\n",
    "                    or current == 'Martinique'\n",
    "                    or current == 'Saint Lucia'\n",
    "                    or current == 'Saint Vincent and the Grenadines'\n",
    "                    or current == 'Saint Martin'\n",
    "                    or current == 'United States Virgin Islands'\n",
    "                    or current == 'Sint Maarten'\n",
    "                    or current == 'Greenland' ):\n",
    "                dst.at[i, 'continent'] = 'America'\n",
    "\n",
    "            elif (dst.iloc[i]['country'] == 'Manchuria'\n",
    "                    or current == 'Iran'\n",
    "                    or current == 'Ceylon'\n",
    "                    or current == 'Burma'\n",
    "                    or current == 'Malaya'\n",
    "                    or current == 'South Korea'\n",
    "                    or current == 'Vietnam Republic'\n",
    "                    or current == 'United Arab Republic'\n",
    "                    or current == 'North Korea'\n",
    "                    or current == 'Vietnam DR'\n",
    "                    or current == 'Taiwan'\n",
    "                    or current == 'Kyrgyzstan'\n",
    "                    or current == 'East Timor'\n",
    "                    or current == 'Brunei'\n",
    "                    or current == 'Yemen DPR'\n",
    "                    or current == 'Yemen AR' ):\n",
    "                dst.at[i, 'continent'] = 'Asia'\n",
    "\n",
    "            elif (dst.iloc[i]['country'] == 'Northern Rhodesia'\n",
    "                    or current == 'Tanganyika'\n",
    "                    or current == 'French Somaliland'\n",
    "                    or current == 'Belgian Congo'\n",
    "                    or current == 'Southern Rhodesia'\n",
    "                    or current == 'Réunion'\n",
    "                    or current == 'Zanzibar' \n",
    "                    or current == 'Gold Coast'\n",
    "                    or current == 'Nyasaland'\n",
    "                    or current == 'Dahomey'\n",
    "                    or current == 'Mali Federation'\n",
    "                    or current == 'Ivory Coast'\n",
    "                    or current == 'DR Congo'\n",
    "                    or current == 'Upper Volta'\n",
    "                    or current == 'Eswatini'\n",
    "                    or current == 'Zaïre'\n",
    "                    or current == 'Cape Verde'\n",
    "                    or current == 'Mayotte'\n",
    "                    or current == 'Portuguese Guinea'\n",
    "                    or current == 'Rhodesia' ):\n",
    "                dst.at[i, 'continent'] = 'Africa'\n",
    "\n",
    "            elif (dst.iloc[i]['country'] == 'French Polynesia'\n",
    "                    or current == 'New Hebrides'\n",
    "                    or current == 'Lautoka'\n",
    "                    or current == 'Northern Mariana Islands'\n",
    "                    or current == 'Micronesia'\n",
    "                    or current == 'Palau'\n",
    "                    or current == 'Western Samoa' ):\n",
    "                dst.at[i, 'continent'] = 'Oceania'\n",
    "\n",
    "            else:\n",
    "                print(\"Exception at row: %d\" % i)\n",
    "                df_nocontinent_found = df_nocontinent_found.append(dst.iloc[i])\n",
    "\n",
    "\n",
    "if(df_nocontinent_found.__len__() == 0):\n",
    "    print(\"All rows are correctly updated\")\n",
    "else:\n",
    "    # per analizzare meglio salvo il csv\n",
    "    df_nocontinent_found.to_csv('output.csv')\n",
    "\n",
    "\n",
    "# salvo per evitare di doverlo ricreare se faccio errori\n",
    "dst.to_csv('dataset/dataset_continent.csv')"
   ],
   "outputs": [
    {
     "output_type": "stream",
     "name": "stdout",
     "text": [
      "All rows are correctly updated\n"
     ]
    }
   ],
   "metadata": {}
  },
  {
   "cell_type": "code",
   "execution_count": 2,
   "source": [
    "dst_continent_ = pd.read_csv('dataset/dataset_continent.csv')\n",
    "dst_continent_.drop(labels=['Unnamed: 0'], axis=1, inplace=True)\n",
    "\n",
    "dst_continent_reduced = dst_continent_.groupby(['continent','year']).size().to_csv('output.csv')\n",
    "dst_continent_reduced = pd.read_csv('output.csv')\n",
    "dst_continent_reduced = dst_continent_reduced.sort_values(by='year').reset_index().drop(columns=['index']).rename(columns={'0': 'matches'})\n",
    "\n",
    "if dst_continent_.__len__() == dst_continent_reduced['matches'].sum():\n",
    "    print(\"Groupby eseguito correttamente\")\n",
    "\n",
    "years = dst_continent_reduced['year'].drop_duplicates().to_numpy()\n",
    "\n",
    "africa = dst_continent_reduced[dst_continent_reduced['continent'] == 'Africa' ].reset_index().drop(columns=['continent', 'index'])\n",
    "america = dst_continent_reduced[dst_continent_reduced['continent'] == 'America'].reset_index().drop(columns=['continent', 'index'])\n",
    "asia = dst_continent_reduced[dst_continent_reduced['continent'] == 'Asia'].reset_index().drop(columns=['continent', 'index'])\n",
    "europe = dst_continent_reduced[dst_continent_reduced['continent'] == 'Europe'].reset_index().drop(columns=['continent', 'index'])\n",
    "oceania = dst_continent_reduced[dst_continent_reduced['continent'] == 'Oceania'].reset_index().drop(columns=['continent', 'index'])\n",
    "\n",
    "\n",
    "print(\"First appearance in national match:\\nAfrica: %d\\nAmerica: %d\\nAsia: %d\\nEurope: %d\\nOceania: %d\" % (africa['year'].min(), america['year'].min(), asia['year'].min(), europe['year'].min(), oceania['year'].min() ))\n",
    "africa  =  fix_continent_matches(years, africa)\n",
    "america =  fix_continent_matches(years, america)\n",
    "asia     = fix_continent_matches(years, asia)\n",
    "europe  =  fix_continent_matches(years, europe)\n",
    "oceania =  fix_continent_matches(years, oceania)\n",
    "\n",
    "if (len(africa) == len(europe) == len(america) == len(oceania) == len(asia) ):\n",
    "    print(\"Tutti i df hanno lo stesso numero di righe\")"
   ],
   "outputs": [
    {
     "output_type": "stream",
     "name": "stdout",
     "text": [
      "Groupby eseguito correttamente\n",
      "First appearance in national match:\n",
      "Africa: 1926\n",
      "America: 1885\n",
      "Asia: 1917\n",
      "Europe: 1872\n",
      "Oceania: 1922\n",
      "Tutti i df hanno lo stesso numero di righe\n"
     ]
    }
   ],
   "metadata": {}
  },
  {
   "cell_type": "code",
   "execution_count": 155,
   "source": [
    "fig, ax = plt.subplots(figsize=(15,5))\n",
    "plt.bar(years, europe.matches.values, color='steelblue')\n",
    "plt.bar(years, america.matches.values, bottom=europe.matches.values , color='crimson')\n",
    "plt.bar(years, asia.matches.values, bottom = europe.matches.values+america.matches.values, color='darkorange')\n",
    "plt.bar(years, oceania.matches.values, bottom = europe.matches.values+america.matches.values+asia.matches.values , color='salmon')\n",
    "plt.bar(years, africa.matches.values, bottom=europe.matches.values + america.matches.values + asia.matches.values + oceania.matches.values, color='gold')\n",
    "plt.legend(['Europe', 'America', 'Asia', 'Oceania', 'Africa'])"
   ],
   "outputs": [
    {
     "output_type": "execute_result",
     "data": {
      "text/plain": [
       "<matplotlib.legend.Legend at 0x7f840852b160>"
      ]
     },
     "metadata": {},
     "execution_count": 155
    },
    {
     "output_type": "display_data",
     "data": {
      "image/png": "[encoded data removed]",
      "text/plain": [
       "<Figure size 1080x360 with 1 Axes>"
      ]
     },
     "metadata": {
      "needs_background": "light"
     }
    }
   ],
   "metadata": {}
  },
  {
   "cell_type": "code",
   "execution_count": 154,
   "source": [
    "\n",
    "fig, ax = plt.subplots(figsize=(10, 5))\n",
    "ax.stackplot(years, africa.matches.values, america.matches.values, asia.matches.values, europe.matches.values, oceania.matches.values, labels=['Africa', 'America', 'Asia', 'Europa', 'Oceania'])\n",
    "ax.set_title('matches per year for each continent')\n",
    "ax.legend(loc='upper left')\n",
    "ax.set_ylabel('matches')\n",
    "ax.set_xlabel('years')\n",
    "ax.set_xlim(xmin=years[0], xmax=years[-1])\n",
    "fig.tight_layout()"
   ],
   "outputs": [
    {
     "output_type": "display_data",
     "data": {
      "image/png": "[encoded data removed]",
      "text/plain": [
       "<Figure size 720x360 with 1 Axes>"
      ]
     },
     "metadata": {
      "needs_background": "light"
     }
    }
   ],
   "metadata": {}
  },
  {
   "cell_type": "markdown",
   "source": [
    "##### Numero di squadre per continente"
   ],
   "metadata": {}
  },
  {
   "cell_type": "code",
   "execution_count": 46,
   "source": [
    "dst = pd.read_csv('dataset/dataset_continent.csv')\n",
    "dst.drop(labels=['Unnamed: 0'], axis=1, inplace=True)\n",
    "\n",
    "dst_ = dst.copy()\n",
    "\n",
    "home_teams = dst.groupby('home_team', as_index=False).max()\n",
    "home_teams = home_teams['home_team'].values\n",
    "\n",
    "\n",
    "away_teams = dst_.groupby('away_team', as_index=False).max()\n",
    "away_teams = away_teams['away_team'].values\n",
    "\n",
    "\n",
    "print(home_teams.__len__() , away_teams.__len__(), type(away_teams))\n",
    "\n",
    "teams = np.concatenate((home_teams, away_teams))\n",
    "\n",
    "print(home_teams.__len__() , away_teams.__len__())\n",
    "\n",
    "\n",
    "\n",
    "\n",
    "print(away_teams)\n",
    "print(home_teams)\n",
    "\n",
    "# dst.head()"
   ],
   "outputs": [
    {
     "output_type": "stream",
     "name": "stdout",
     "text": [
      "308 306 <class 'numpy.ndarray'>\n",
      "308 306 Åland Islands\n",
      "['Abkhazia' 'Afghanistan' 'Albania' 'Alderney' 'Algeria' 'American Samoa'\n",
      " 'Andalusia' 'Andorra' 'Angola' 'Anguilla' 'Antigua and Barbuda'\n",
      " 'Arameans Suryoye' 'Argentina' 'Armenia' 'Artsakh' 'Aruba' 'Asturias'\n",
      " 'Australia' 'Austria' 'Azerbaijan' 'Bahamas' 'Bahrain' 'Bangladesh'\n",
      " 'Barawa' 'Barbados' 'Basque Country' 'Belarus' 'Belgium' 'Belize' 'Benin'\n",
      " 'Bermuda' 'Bhutan' 'Bolivia' 'Bonaire' 'Bosnia and Herzegovina'\n",
      " 'Botswana' 'Brazil' 'British Virgin Islands' 'Brittany' 'Brunei'\n",
      " 'Bulgaria' 'Burkina Faso' 'Burma' 'Burundi' 'Cambodia' 'Cameroon'\n",
      " 'Canada' 'Cape Verde' 'Cascadia' 'Catalonia' 'Cayman Islands'\n",
      " 'Central African Republic' 'Central Spain' 'Chad' 'Chagos Islands'\n",
      " 'Chameria' 'Chile' 'China PR' 'Colombia' 'Comoros' 'Congo' 'Cook Islands'\n",
      " 'Corsica' 'Costa Rica' 'County of Nice' 'Crimea' 'Croatia' 'Cuba'\n",
      " 'Curaçao' 'Cyprus' 'Czech Republic' 'Czechoslovakia' 'DR Congo' 'Darfur'\n",
      " 'Denmark' 'Djibouti' 'Dominica' 'Dominican Republic' 'East Timor'\n",
      " 'Ecuador' 'Egypt' 'El Salvador' 'Ellan Vannin' 'England'\n",
      " 'Equatorial Guinea' 'Eritrea' 'Estonia' 'Eswatini' 'Ethiopia'\n",
      " 'Falkland Islands' 'Faroe Islands' 'Felvidék' 'Fiji' 'Finland' 'France'\n",
      " 'French Guiana' 'Frøya' 'Gabon' 'Galicia' 'Gambia' 'Georgia' 'German DR'\n",
      " 'Germany' 'Ghana' 'Gibraltar' 'Gotland' 'Gozo' 'Greece' 'Greenland'\n",
      " 'Grenada' 'Guadeloupe' 'Guam' 'Guatemala' 'Guernsey' 'Guinea'\n",
      " 'Guinea-Bissau' 'Guyana' 'Haiti' 'Hitra' 'Honduras' 'Hong Kong' 'Hungary'\n",
      " 'Iceland' 'India' 'Indonesia' 'Iran' 'Iraq' 'Iraqi Kurdistan'\n",
      " 'Isle of Man' 'Isle of Wight' 'Israel' 'Italy' 'Ivory Coast' 'Jamaica'\n",
      " 'Japan' 'Jersey' 'Jordan' 'Kabylia' 'Kazakhstan' 'Kenya' 'Kernow'\n",
      " 'Kiribati' 'Kosovo' 'Kuwait' 'Kyrgyzstan' 'Kárpátalja' 'Laos' 'Latvia'\n",
      " 'Lebanon' 'Lesotho' 'Liberia' 'Libya' 'Liechtenstein' 'Lithuania'\n",
      " 'Luxembourg' 'Macau' 'Madagascar' 'Malabo' 'Malawi' 'Malaysia' 'Maldives'\n",
      " 'Mali' 'Malta' 'Manchukuo' 'Martinique' 'Matabeleland' 'Mauritania'\n",
      " 'Mauritius' 'Mayotte' 'Menorca' 'Mexico' 'Micronesia' 'Moldova' 'Monaco'\n",
      " 'Mongolia' 'Montenegro' 'Montserrat' 'Morocco' 'Mozambique' 'Myanmar'\n",
      " 'Namibia' 'Nepal' 'Netherlands' 'New Caledonia' 'New Zealand' 'Nicaragua'\n",
      " 'Niger' 'Nigeria' 'North Korea' 'North Macedonia' 'North Vietnam'\n",
      " 'Northern Cyprus' 'Northern Ireland' 'Northern Mariana Islands' 'Norway'\n",
      " 'Occitania' 'Oman' 'Orkney' 'Padania' 'Pakistan' 'Palestine' 'Panama'\n",
      " 'Panjab' 'Papua New Guinea' 'Paraguay' 'Parishes of Jersey' 'Peru'\n",
      " 'Philippines' 'Poland' 'Portugal' 'Provence' 'Puerto Rico' 'Qatar'\n",
      " 'Raetia' 'Republic of Ireland' 'Rhodes' 'Romani people' 'Romania'\n",
      " 'Russia' 'Rwanda' 'Réunion' 'Saare County' 'Saarland' 'Saint Helena'\n",
      " 'Saint Kitts and Nevis' 'Saint Lucia' 'Saint Martin'\n",
      " 'Saint Pierre and Miquelon' 'Saint Vincent and the Grenadines' 'Samoa'\n",
      " 'San Marino' 'Sark' 'Saudi Arabia' 'Scotland' 'Senegal' 'Serbia'\n",
      " 'Seychelles' 'Shetland' 'Sierra Leone' 'Singapore' 'Sint Maarten'\n",
      " 'Slovakia' 'Slovenia' 'Solomon Islands' 'Somalia' 'Somaliland'\n",
      " 'South Africa' 'South Korea' 'South Ossetia' 'South Sudan' 'Spain'\n",
      " 'Sri Lanka' 'Sudan' 'Suriname' 'Surrey' 'Sweden' 'Switzerland' 'Syria'\n",
      " 'Székely Land' 'Sápmi' 'São Tomé and Príncipe' 'Tahiti' 'Taiwan'\n",
      " 'Tajikistan' 'Tamil Eelam' 'Tanzania' 'Thailand' 'Tibet' 'Timor-Leste'\n",
      " 'Togo' 'Tonga' 'Trinidad and Tobago' 'Tunisia' 'Turkey' 'Turkmenistan'\n",
      " 'Turks and Caicos Islands' 'Tuvalu' 'Two Sicilies' 'Uganda' 'Ukraine'\n",
      " 'United Arab Emirates' 'United Koreans in Japan' 'United States'\n",
      " 'United States Virgin Islands' 'Uruguay' 'Uzbekistan' 'Vanuatu'\n",
      " 'Vatican City' 'Venezuela' 'Vietnam' 'Vietnam Republic' 'Wales'\n",
      " 'Wallis Islands and Futuna' 'Western Armenia' 'Western Australia'\n",
      " 'Western Isles' 'Western Sahara' 'Yemen' 'Yemen DPR' 'Ynys Môn'\n",
      " 'Yorkshire' 'Yugoslavia' 'Zambia' 'Zanzibar' 'Zimbabwe' 'Åland Islands']\n",
      "['Abkhazia' 'Afghanistan' 'Albania' 'Alderney' 'Algeria' 'American Samoa'\n",
      " 'Andalusia' 'Andorra' 'Angola' 'Anguilla' 'Antigua and Barbuda'\n",
      " 'Arameans Suryoye' 'Argentina' 'Armenia' 'Artsakh' 'Aruba' 'Australia'\n",
      " 'Austria' 'Azerbaijan' 'Bahamas' 'Bahrain' 'Bangladesh' 'Barawa'\n",
      " 'Barbados' 'Basque Country' 'Belarus' 'Belgium' 'Belize' 'Benin'\n",
      " 'Bermuda' 'Bhutan' 'Bolivia' 'Bonaire' 'Bosnia and Herzegovina'\n",
      " 'Botswana' 'Brazil' 'British Virgin Islands' 'Brittany' 'Brunei'\n",
      " 'Bulgaria' 'Burkina Faso' 'Burma' 'Burundi' 'Cambodia' 'Cameroon'\n",
      " 'Canada' 'Canary Islands' 'Cape Verde' 'Cascadia' 'Catalonia'\n",
      " 'Cayman Islands' 'Central African Republic' 'Central Spain' 'Chad'\n",
      " 'Chagos Islands' 'Chameria' 'Chile' 'China PR' 'Colombia' 'Comoros'\n",
      " 'Congo' 'Cook Islands' 'Corsica' 'Costa Rica' 'County of Nice' 'Crimea'\n",
      " 'Croatia' 'Cuba' 'Curaçao' 'Cyprus' 'Czech Republic' 'Czechoslovakia'\n",
      " 'DR Congo' 'Darfur' 'Denmark' 'Djibouti' 'Dominica' 'Dominican Republic'\n",
      " 'East Timor' 'Ecuador' 'Egypt' 'El Salvador' 'Ellan Vannin' 'England'\n",
      " 'Equatorial Guinea' 'Eritrea' 'Estonia' 'Eswatini' 'Ethiopia'\n",
      " 'Falkland Islands' 'Faroe Islands' 'Felvidék' 'Fiji' 'Finland' 'France'\n",
      " 'French Guiana' 'Frøya' 'Gabon' 'Galicia' 'Gambia' 'Georgia' 'German DR'\n",
      " 'Germany' 'Ghana' 'Gibraltar' 'Gotland' 'Gozo' 'Greece' 'Greenland'\n",
      " 'Grenada' 'Guadeloupe' 'Guam' 'Guatemala' 'Guernsey' 'Guinea'\n",
      " 'Guinea-Bissau' 'Guyana' 'Găgăuzia' 'Haiti' 'Hitra' 'Honduras'\n",
      " 'Hong Kong' 'Hungary' 'Iceland' 'India' 'Indonesia' 'Iran' 'Iraq'\n",
      " 'Iraqi Kurdistan' 'Isle of Man' 'Isle of Wight' 'Israel' 'Italy'\n",
      " 'Ivory Coast' 'Jamaica' 'Japan' 'Jersey' 'Jordan' 'Kabylia' 'Kazakhstan'\n",
      " 'Kenya' 'Kernow' 'Kiribati' 'Kosovo' 'Kuwait' 'Kyrgyzstan' 'Kárpátalja'\n",
      " 'Laos' 'Latvia' 'Lebanon' 'Lesotho' 'Liberia' 'Libya' 'Liechtenstein'\n",
      " 'Lithuania' 'Luxembourg' 'Macau' 'Madagascar' 'Madrid' 'Malawi'\n",
      " 'Malaysia' 'Maldives' 'Mali' 'Malta' 'Manchukuo' 'Martinique'\n",
      " 'Matabeleland' 'Mauritania' 'Mauritius' 'Mayotte' 'Menorca' 'Mexico'\n",
      " 'Micronesia' 'Moldova' 'Monaco' 'Mongolia' 'Montenegro' 'Montserrat'\n",
      " 'Morocco' 'Mozambique' 'Myanmar' 'Namibia' 'Nepal' 'Netherlands'\n",
      " 'New Caledonia' 'New Zealand' 'Nicaragua' 'Niger' 'Nigeria' 'Niue'\n",
      " 'North Korea' 'North Macedonia' 'North Vietnam' 'Northern Cyprus'\n",
      " 'Northern Ireland' 'Northern Mariana Islands' 'Norway' 'Occitania' 'Oman'\n",
      " 'Orkney' 'Padania' 'Pakistan' 'Palau' 'Palestine' 'Panama' 'Panjab'\n",
      " 'Papua New Guinea' 'Paraguay' 'Parishes of Jersey' 'Peru' 'Philippines'\n",
      " 'Poland' 'Portugal' 'Provence' 'Puerto Rico' 'Qatar' 'Raetia'\n",
      " 'Republic of Ireland' 'Republic of St. Pauli' 'Rhodes' 'Romani people'\n",
      " 'Romania' 'Russia' 'Rwanda' 'Réunion' 'Saare County' 'Saarland'\n",
      " 'Saint Helena' 'Saint Kitts and Nevis' 'Saint Lucia' 'Saint Martin'\n",
      " 'Saint Pierre and Miquelon' 'Saint Vincent and the Grenadines' 'Samoa'\n",
      " 'San Marino' 'Sark' 'Saudi Arabia' 'Scotland' 'Senegal' 'Serbia'\n",
      " 'Seychelles' 'Shetland' 'Sierra Leone' 'Silesia' 'Singapore'\n",
      " 'Sint Maarten' 'Slovakia' 'Slovenia' 'Solomon Islands' 'Somalia'\n",
      " 'Somaliland' 'South Africa' 'South Korea' 'South Ossetia' 'South Sudan'\n",
      " 'Spain' 'Sri Lanka' 'Sudan' 'Suriname' 'Sweden' 'Switzerland' 'Syria'\n",
      " 'Székely Land' 'Sápmi' 'São Tomé and Príncipe' 'Tahiti' 'Taiwan'\n",
      " 'Tajikistan' 'Tamil Eelam' 'Tanzania' 'Thailand' 'Tibet' 'Timor-Leste'\n",
      " 'Togo' 'Tonga' 'Trinidad and Tobago' 'Tunisia' 'Turkey' 'Turkmenistan'\n",
      " 'Turks and Caicos Islands' 'Tuvalu' 'Uganda' 'Ukraine'\n",
      " 'United Arab Emirates' 'United Koreans in Japan' 'United States'\n",
      " 'United States Virgin Islands' 'Uruguay' 'Uzbekistan' 'Vanuatu'\n",
      " 'Vatican City' 'Venezuela' 'Vietnam' 'Vietnam Republic' 'Wales'\n",
      " 'Wallis Islands and Futuna' 'Western Armenia' 'Western Isles'\n",
      " 'Western Sahara' 'Yemen' 'Yemen DPR' 'Ynys Môn' 'Yorkshire' 'Yugoslavia'\n",
      " 'Zambia' 'Zanzibar' 'Zimbabwe' 'Åland Islands']\n"
     ]
    }
   ],
   "metadata": {}
  },
  {
   "cell_type": "markdown",
   "source": [
    "##### Numero di goal per anno -- TO DO"
   ],
   "metadata": {}
  },
  {
   "cell_type": "code",
   "execution_count": 45,
   "source": [
    "years = dst['year'].drop_duplicates().to_numpy()\n",
    "\n",
    "# years\n",
    "\n",
    "df = pd.DataFrame(data={\n",
    "                    'year': years,\n",
    "                    'n_matches': np.zeros(len(years), dtype=float),\n",
    "                    # home goals\n",
    "                    'hg': np.zeros(len(years), dtype=float),\n",
    "                    # away goals\n",
    "                    'ag': np.zeros(len(years), dtype=float),\n",
    "                    # total goals\n",
    "                    'tot': np.zeros(len(years), dtype=float)\n",
    "                    })\n",
    "\n",
    "\n",
    "for i in years:\n",
    "    df.at[ df['year'] == i, 'n_matches'] = dst[dst['year'] == i].home_score.__len__()\n",
    "    df.at[ df['year'] == i, 'hg'] = dst[dst['year'] == i].home_score.sum()\n",
    "    df.at[ df['year'] == i, 'ag'] = dst[dst['year'] == i].away_score.sum()\n",
    "    df.at[ df['year'] == i, 'tot'] = dst[dst['year'] == i].home_score.sum() + dst[dst['year'] == i].away_score.sum()\n",
    "\n",
    "df.head()"
   ],
   "outputs": [
    {
     "output_type": "execute_result",
     "data": {
      "text/html": [
       "<div>\n",
       "<style scoped>\n",
       "    .dataframe tbody tr th:only-of-type {\n",
       "        vertical-align: middle;\n",
       "    }\n",
       "\n",
       "    .dataframe tbody tr th {\n",
       "        vertical-align: top;\n",
       "    }\n",
       "\n",
       "    .dataframe thead th {\n",
       "        text-align: right;\n",
       "    }\n",
       "</style>\n",
       "<table border=\"1\" class=\"dataframe\">\n",
       "  <thead>\n",
       "    <tr style=\"text-align: right;\">\n",
       "      <th></th>\n",
       "      <th>year</th>\n",
       "      <th>n_matches</th>\n",
       "      <th>hg</th>\n",
       "      <th>ag</th>\n",
       "      <th>tot</th>\n",
       "    </tr>\n",
       "  </thead>\n",
       "  <tbody>\n",
       "    <tr>\n",
       "      <th>0</th>\n",
       "      <td>1872</td>\n",
       "      <td>1.0</td>\n",
       "      <td>0.0</td>\n",
       "      <td>0.0</td>\n",
       "      <td>0.0</td>\n",
       "    </tr>\n",
       "    <tr>\n",
       "      <th>1</th>\n",
       "      <td>1873</td>\n",
       "      <td>1.0</td>\n",
       "      <td>4.0</td>\n",
       "      <td>2.0</td>\n",
       "      <td>6.0</td>\n",
       "    </tr>\n",
       "    <tr>\n",
       "      <th>2</th>\n",
       "      <td>1874</td>\n",
       "      <td>1.0</td>\n",
       "      <td>2.0</td>\n",
       "      <td>1.0</td>\n",
       "      <td>3.0</td>\n",
       "    </tr>\n",
       "    <tr>\n",
       "      <th>3</th>\n",
       "      <td>1875</td>\n",
       "      <td>1.0</td>\n",
       "      <td>2.0</td>\n",
       "      <td>2.0</td>\n",
       "      <td>4.0</td>\n",
       "    </tr>\n",
       "    <tr>\n",
       "      <th>4</th>\n",
       "      <td>1876</td>\n",
       "      <td>2.0</td>\n",
       "      <td>7.0</td>\n",
       "      <td>0.0</td>\n",
       "      <td>7.0</td>\n",
       "    </tr>\n",
       "  </tbody>\n",
       "</table>\n",
       "</div>"
      ],
      "text/plain": [
       "   year  n_matches   hg   ag  tot\n",
       "0  1872        1.0  0.0  0.0  0.0\n",
       "1  1873        1.0  4.0  2.0  6.0\n",
       "2  1874        1.0  2.0  1.0  3.0\n",
       "3  1875        1.0  2.0  2.0  4.0\n",
       "4  1876        2.0  7.0  0.0  7.0"
      ]
     },
     "metadata": {},
     "execution_count": 45
    }
   ],
   "metadata": {}
  },
  {
   "cell_type": "markdown",
   "source": [
    "##### Numero di vittorie per continente -- TO DO"
   ],
   "metadata": {}
  },
  {
   "cell_type": "markdown",
   "source": [
    "### Decision-Trees"
   ],
   "metadata": {}
  },
  {
   "cell_type": "markdown",
   "source": [
    "Riduco la dimensionalità del dataset per semplicità"
   ],
   "metadata": {}
  },
  {
   "cell_type": "code",
   "execution_count": 2,
   "source": [
    "from sklearn.model_selection import train_test_split\n",
    "\n",
    "dst = pd.read_csv('dataset/dataset.csv')\n",
    "dst.drop(labels=['Unnamed: 0', 'city', 'country', 'tournament', 'day', 'month'], axis=1, inplace=True)\n",
    "dst = dst[dst['year'] >= 2010]\n",
    "dst = dst.reset_index().drop(labels=['index'], axis=1)\n",
    "\n",
    "np.random.seed(1346)\n",
    "\n",
    "dst_training, dst_test = train_test_split(dst,test_size=0.15)\n",
    "\n",
    "len(dst)\n",
    "dst"
   ],
   "outputs": [
    {
     "output_type": "error",
     "ename": "ModuleNotFoundError",
     "evalue": "No module named 'sklearn'",
     "traceback": [
      "\u001b[0;31m---------------------------------------------------------------------------\u001b[0m",
      "\u001b[0;31mModuleNotFoundError\u001b[0m                       Traceback (most recent call last)",
      "\u001b[0;32m/var/folders/xc/1c23sj2s5h7d869ldsyfkyk40000gn/T/ipykernel_6247/4086715865.py\u001b[0m in \u001b[0;36m<module>\u001b[0;34m\u001b[0m\n\u001b[0;32m----> 1\u001b[0;31m \u001b[0;32mfrom\u001b[0m \u001b[0msklearn\u001b[0m\u001b[0;34m.\u001b[0m\u001b[0mmodel_selection\u001b[0m \u001b[0;32mimport\u001b[0m \u001b[0mtrain_test_split\u001b[0m\u001b[0;34m\u001b[0m\u001b[0;34m\u001b[0m\u001b[0m\n\u001b[0m\u001b[1;32m      2\u001b[0m \u001b[0;34m\u001b[0m\u001b[0m\n\u001b[1;32m      3\u001b[0m \u001b[0mdst\u001b[0m \u001b[0;34m=\u001b[0m \u001b[0mpd\u001b[0m\u001b[0;34m.\u001b[0m\u001b[0mread_csv\u001b[0m\u001b[0;34m(\u001b[0m\u001b[0;34m'dataset/dataset.csv'\u001b[0m\u001b[0;34m)\u001b[0m\u001b[0;34m\u001b[0m\u001b[0;34m\u001b[0m\u001b[0m\n\u001b[1;32m      4\u001b[0m \u001b[0mdst\u001b[0m\u001b[0;34m.\u001b[0m\u001b[0mdrop\u001b[0m\u001b[0;34m(\u001b[0m\u001b[0mlabels\u001b[0m\u001b[0;34m=\u001b[0m\u001b[0;34m[\u001b[0m\u001b[0;34m'Unnamed: 0'\u001b[0m\u001b[0;34m,\u001b[0m \u001b[0;34m'city'\u001b[0m\u001b[0;34m,\u001b[0m \u001b[0;34m'country'\u001b[0m\u001b[0;34m,\u001b[0m \u001b[0;34m'tournament'\u001b[0m\u001b[0;34m,\u001b[0m \u001b[0;34m'day'\u001b[0m\u001b[0;34m,\u001b[0m \u001b[0;34m'month'\u001b[0m\u001b[0;34m]\u001b[0m\u001b[0;34m,\u001b[0m \u001b[0maxis\u001b[0m\u001b[0;34m=\u001b[0m\u001b[0;36m1\u001b[0m\u001b[0;34m,\u001b[0m \u001b[0minplace\u001b[0m\u001b[0;34m=\u001b[0m\u001b[0;32mTrue\u001b[0m\u001b[0;34m)\u001b[0m\u001b[0;34m\u001b[0m\u001b[0;34m\u001b[0m\u001b[0m\n\u001b[1;32m      5\u001b[0m \u001b[0mdst\u001b[0m \u001b[0;34m=\u001b[0m \u001b[0mdst\u001b[0m\u001b[0;34m[\u001b[0m\u001b[0mdst\u001b[0m\u001b[0;34m[\u001b[0m\u001b[0;34m'year'\u001b[0m\u001b[0;34m]\u001b[0m \u001b[0;34m>=\u001b[0m \u001b[0;36m2010\u001b[0m\u001b[0;34m]\u001b[0m\u001b[0;34m\u001b[0m\u001b[0;34m\u001b[0m\u001b[0m\n",
      "\u001b[0;31mModuleNotFoundError\u001b[0m: No module named 'sklearn'"
     ]
    }
   ],
   "metadata": {}
  },
  {
   "cell_type": "code",
   "execution_count": 20,
   "source": [
    "!pip install sklearn"
   ],
   "outputs": [
    {
     "output_type": "stream",
     "name": "stdout",
     "text": [
      "Collecting sklearn\n",
      "  Downloading sklearn-0.0.tar.gz (1.1 kB)\n",
      "Requirement already satisfied: scikit-learn in /Users/danilo/opt/anaconda3/lib/python3.8/site-packages (from sklearn) (0.24.1)\n",
      "Requirement already satisfied: joblib>=0.11 in /Users/danilo/opt/anaconda3/lib/python3.8/site-packages (from scikit-learn->sklearn) (1.0.1)\n",
      "Requirement already satisfied: scipy>=0.19.1 in /Users/danilo/opt/anaconda3/lib/python3.8/site-packages (from scikit-learn->sklearn) (1.6.2)\n",
      "Requirement already satisfied: numpy>=1.13.3 in /Users/danilo/opt/anaconda3/lib/python3.8/site-packages (from scikit-learn->sklearn) (1.20.1)\n",
      "Requirement already satisfied: threadpoolctl>=2.0.0 in /Users/danilo/opt/anaconda3/lib/python3.8/site-packages (from scikit-learn->sklearn) (2.1.0)\n",
      "Building wheels for collected packages: sklearn\n",
      "  Building wheel for sklearn (setup.py) ... \u001b[?25ldone\n",
      "\u001b[?25h  Created wheel for sklearn: filename=sklearn-0.0-py2.py3-none-any.whl size=1316 sha256=6dcc0ea2086061b6744ee3df5b10065afc9e9782c039c9323e2c908ab97d4068\n",
      "  Stored in directory: /Users/danilo/Library/Caches/pip/wheels/22/0b/40/fd3f795caaa1fb4c6cb738bc1f56100be1e57da95849bfc897\n",
      "Successfully built sklearn\n",
      "Installing collected packages: sklearn\n",
      "Successfully installed sklearn-0.0\n"
     ]
    }
   ],
   "metadata": {}
  }
 ],
 "metadata": {
  "orig_nbformat": 4,
  "language_info": {
   "name": "python",
   "version": "3.9.7",
   "mimetype": "text/x-python",
   "codemirror_mode": {
    "name": "ipython",
    "version": 3
   },
   "pygments_lexer": "ipython3",
   "nbconvert_exporter": "python",
   "file_extension": ".py"
  },
  "kernelspec": {
   "name": "python3",
   "display_name": "Python 3.9.7 64-bit"
  },
  "interpreter": {
   "hash": "aee8b7b246df8f9039afb4144a1f6fd8d2ca17a180786b69acc140d282b71a49"
  }
 },
 "nbformat": 4,
 "nbformat_minor": 2
}