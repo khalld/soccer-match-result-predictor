{
 "cells": [
  {
   "cell_type": "markdown",
   "source": [
    "## Import libs and custom vars"
   ],
   "metadata": {}
  },
  {
   "cell_type": "code",
   "execution_count": 2,
   "source": [
    "import pandas as pd\n",
    "import numpy as np\n",
    "from datetime import datetime\n",
    "from libs.utils import find_penalty, return_outcome, check_element, add_labels\n",
    "from matplotlib import pyplot as plt\n",
    "import datetime\n",
    "from numba import jit"
   ],
   "outputs": [],
   "metadata": {}
  },
  {
   "cell_type": "markdown",
   "source": [
    "<ul>\n",
    "    <li>Ci sono alcuni nomi di squadre che sono cambiate nel tempo, uniformizza </li>\n",
    "    <li>Shootouts è il db dei penalty, quindi bisogna manipolare il dataset per vedere chi vince alla fine quella partita</li>\n",
    "</ul>"
   ],
   "metadata": {}
  },
  {
   "cell_type": "markdown",
   "source": [
    "## Descrizione del dataset e preprocessing\n",
    "\n",
    "Il Dataset contiene 42483 risultati di partite di calcio internazionale,\n",
    "\n",
    "Il primo match risale al 1872-11-30 mentre l’ultimo è del 2021-08-01\n",
    "\n",
    "Nel dataset sono incluse sia le partite ufficiali di tutte le competizioni, dalle amichevoli alla coppa del mondo. è da specificare inoltre che comprende solo le competizioni nazionali maschili e sono esclusi: Olympic Games or matches where at least one of the teams was the nation's B-team, U-23 or a league select team.\n",
    "\n",
    "Inoltre, il dataset presenta un ulteriore file che contiene, in totale 432 risultati finali di partite terminate ai calci di rigore (vincenti).\n",
    "\n",
    "Per correttezza, controlleremo inizialmente che il Dataset non contenga elementi nulli e i due dataset verranno inoltre ‘mergiate’ in un unico file contenti i risultati, dove presenti, anche dopo i calci di rigore."
   ],
   "metadata": {}
  },
  {
   "cell_type": "code",
   "execution_count": 57,
   "source": [
    "data = {\n",
    "    'results': pd.read_csv('dataset/results.csv'),\n",
    "    'shootouts': pd.read_csv('dataset/shootouts.csv')\n",
    "}\n",
    "\n",
    "# print('**'*5, ' results.csv ', '**'*5)\n",
    "# print(data['results'].info())\n",
    "# print('**'*5, ' shootouts.csv ', '**'*5)\n",
    "# print(data['shootouts'].info())"
   ],
   "outputs": [],
   "metadata": {}
  },
  {
   "cell_type": "markdown",
   "source": [
    "Il dataset non contiene elementi nulli. Visualizziamo le prime 5 righe di ogni dataset"
   ],
   "metadata": {}
  },
  {
   "cell_type": "code",
   "execution_count": null,
   "source": [
    "print('**'*5, ' results.csv ', '**'*5)\n",
    "print(data['results'].head(5))\n",
    "print('**'*5, ' shootouts.csv ', '**'*5)\n",
    "print(data['shootouts'].head(5))"
   ],
   "outputs": [],
   "metadata": {}
  },
  {
   "cell_type": "markdown",
   "source": [
    "Applichiamo dunque alcune modifiche al dataset. Si integrano di conseguenza alcune informazioni del dataset 'shootouts'\n",
    "\n",
    "In particolare, processeremo il dataset (partendo da quello di results.csv):\n",
    "- aggiungendo la colonna 'outcome', sarà classificato come:\n",
    "    - H (home win)\n",
    "    - A (away win)\n",
    "    - D (draw), in particolare se in 'shootouts' è presente la partita 'draw':\n",
    "        - HP (home win at penalty)\n",
    "        - AP (away win at penalty)\n",
    "\n",
    "- saranno estratti i dati relativi alla data della partita in quanto serviranno successivamente"
   ],
   "metadata": {}
  },
  {
   "cell_type": "code",
   "execution_count": null,
   "source": [
    "dst_df = data['results'].copy()\n",
    "\n",
    "res_len = data['results'].__len__()\n",
    "sht_len = data['shootouts'].__len__()\n",
    "\n",
    "print('results.csv tot records: %d | shape: %s' % (res_len, data['results'].shape))\n",
    "print('shootouts.csv tot records: %d | shape: %s' % (sht_len, data['shootouts'].shape))"
   ],
   "outputs": [],
   "metadata": {}
  },
  {
   "cell_type": "code",
   "execution_count": null,
   "source": [
    "# aggiungi una colonna al dataFrame che aggiorna con i risultati dei rigori\n",
    "\n",
    "dst_df['outcome'] = None\n",
    "dst_df['day_of_week'] = None\n",
    "dst_df['month'] = None\n",
    "dst_df['year'] = None\n",
    "\n",
    "counter = 0\n",
    "for i in range(0, res_len):\n",
    "    counter = counter + 1\n",
    "    print('*** Processing %d/%d ***' % (counter, res_len), end='\\r')\n",
    "\n",
    "    # estraggo dati necessari dalla data\n",
    "    row_date = datetime.fromisoformat(dst_df.iloc[i]['date'])\n",
    "\n",
    "    dst_df.at[i, 'day_of_week'] = row_date.strftime('%A')\n",
    "    dst_df.at[i, 'month'] = row_date.strftime('%B')\n",
    "    dst_df.at[i, 'year'] = int(row_date.strftime('%Y'))\n",
    "\n",
    "    # calcolo il risultato della partita\n",
    "    dst_df.at[i, 'outcome'] = return_outcome(data['results'].iloc[i]['home_score'], data['results'].iloc[i]['away_score'])\n",
    "\n",
    "    if(dst_df.iloc[i]['outcome'] == 'D'):\n",
    "        dst_df.at[i, 'outcome'] = find_penalty(data['results'].iloc[i], data['shootouts'], sht_len - 1)\n",
    "\n",
    "dst_df.to_csv('dataset/dataset.csv')"
   ],
   "outputs": [],
   "metadata": {}
  },
  {
   "cell_type": "markdown",
   "source": [
    "## Split del dataset"
   ],
   "metadata": {}
  },
  {
   "cell_type": "code",
   "execution_count": 3,
   "source": [
    "dst_df = pd.read_csv('dataset/dataset.csv')\n",
    "# dst_df.rename(columns = {'Unnamed: 0':'match_id'}, inplace = True)\n",
    "dst_df.drop('Unnamed: 0', inplace=True, axis=1)\n",
    "\n",
    "\n",
    "print('tot records: %d | shape: %s' % (dst_df.__len__(), dst_df.shape))\n",
    "print(\"***\"*15)\n",
    "dst_df.info()\n",
    "print(\"***\"*15)\n",
    "dst_df.shape"
   ],
   "outputs": [
    {
     "output_type": "stream",
     "name": "stdout",
     "text": [
      "tot records: 42483 | shape: (42483, 14)\n",
      "*********************************************\n",
      "<class 'pandas.core.frame.DataFrame'>\n",
      "RangeIndex: 42483 entries, 0 to 42482\n",
      "Data columns (total 14 columns):\n",
      " #   Column       Non-Null Count  Dtype \n",
      "---  ------       --------------  ----- \n",
      " 0   match_id     42483 non-null  int64 \n",
      " 1   date         42483 non-null  object\n",
      " 2   home_team    42483 non-null  object\n",
      " 3   away_team    42483 non-null  object\n",
      " 4   home_score   42483 non-null  int64 \n",
      " 5   away_score   42483 non-null  int64 \n",
      " 6   tournament   42483 non-null  object\n",
      " 7   city         42483 non-null  object\n",
      " 8   country      42483 non-null  object\n",
      " 9   neutral      42483 non-null  bool  \n",
      " 10  outcome      42483 non-null  object\n",
      " 11  day_of_week  42483 non-null  object\n",
      " 12  month        42483 non-null  object\n",
      " 13  year         42483 non-null  int64 \n",
      "dtypes: bool(1), int64(4), object(9)\n",
      "memory usage: 4.3+ MB\n",
      "*********************************************\n"
     ]
    },
    {
     "output_type": "execute_result",
     "data": {
      "text/plain": [
       "(42483, 14)"
      ]
     },
     "metadata": {},
     "execution_count": 3
    }
   ],
   "metadata": {}
  },
  {
   "cell_type": "markdown",
   "source": [
    "Grazie alla funzione `describe` visualizzo i gli indici di posizione rispetto al numero di partite giocate per ogni anno. Elimino le label `count`, `max` e `min` dal dataframe in quanto non necessarie per calcolo."
   ],
   "metadata": {}
  },
  {
   "cell_type": "code",
   "execution_count": 3,
   "source": [
    "i_p = dst_df['year'].describe().astype(int).drop(labels=['std', 'min', 'max', 'count'])\n",
    "i_p_serie = i_p.copy()\n",
    "\n",
    "i_p = i_p.to_frame()\n",
    "i_p"
   ],
   "outputs": [
    {
     "output_type": "execute_result",
     "data": {
      "text/html": [
       "<div>\n",
       "<style scoped>\n",
       "    .dataframe tbody tr th:only-of-type {\n",
       "        vertical-align: middle;\n",
       "    }\n",
       "\n",
       "    .dataframe tbody tr th {\n",
       "        vertical-align: top;\n",
       "    }\n",
       "\n",
       "    .dataframe thead th {\n",
       "        text-align: right;\n",
       "    }\n",
       "</style>\n",
       "<table border=\"1\" class=\"dataframe\">\n",
       "  <thead>\n",
       "    <tr style=\"text-align: right;\">\n",
       "      <th></th>\n",
       "      <th>year</th>\n",
       "    </tr>\n",
       "  </thead>\n",
       "  <tbody>\n",
       "    <tr>\n",
       "      <th>mean</th>\n",
       "      <td>1991</td>\n",
       "    </tr>\n",
       "    <tr>\n",
       "      <th>25%</th>\n",
       "      <td>1978</td>\n",
       "    </tr>\n",
       "    <tr>\n",
       "      <th>50%</th>\n",
       "      <td>1998</td>\n",
       "    </tr>\n",
       "    <tr>\n",
       "      <th>75%</th>\n",
       "      <td>2009</td>\n",
       "    </tr>\n",
       "  </tbody>\n",
       "</table>\n",
       "</div>"
      ],
      "text/plain": [
       "      year\n",
       "mean  1991\n",
       "25%   1978\n",
       "50%   1998\n",
       "75%   2009"
      ]
     },
     "metadata": {},
     "execution_count": 3
    }
   ],
   "metadata": {}
  },
  {
   "cell_type": "markdown",
   "source": [
    "Vedo con un istogramma il numero di match per anno (in base a come sono distribuiti). Inoltre con descr con gli indici di posizione vedo di dividere idealmente il dataset in epoche differenti di calcio"
   ],
   "metadata": {}
  },
  {
   "cell_type": "code",
   "execution_count": 6,
   "source": [
    "# number of matches per year\n",
    "nmy = dst_df['year'].value_counts().sort_index()\n",
    "colors = ['blue' if check_element(i, i_p.values) else 'green' for i in nmy.index]\n",
    "lbls = [ add_labels(i, i_p_serie) if check_element(i, i_p.values) else '' for i in nmy.index]\n",
    "\n",
    "plot_graph = nmy.plot(kind='bar', figsize=(35,6), title='Number of matches per year', xlabel='years', ylabel='matches', color=colors)\n",
    "plot_graph.bar_label(container=plot_graph.containers[0], labels=lbls, label_type='edge')\n",
    "plot_graph.margins(y=0.5)\n",
    "\n",
    "plt.grid()\n",
    "plt.show()"
   ],
   "outputs": [
    {
     "output_type": "display_data",
     "data": {
      "image/png": "[encoded data removed]",
      "text/plain": [
       "<Figure size 2520x432 with 1 Axes>"
      ]
     },
     "metadata": {
      "needs_background": "light"
     }
    }
   ],
   "metadata": {}
  },
  {
   "cell_type": "markdown",
   "source": [
    "Inoltre controlliamo il mediano degli anni"
   ],
   "metadata": {}
  },
  {
   "cell_type": "code",
   "execution_count": 4,
   "source": [
    "dst_df['year'].median().astype(int)"
   ],
   "outputs": [
    {
     "output_type": "execute_result",
     "data": {
      "text/plain": [
       "1998"
      ]
     },
     "metadata": {},
     "execution_count": 4
    }
   ],
   "metadata": {}
  },
  {
   "cell_type": "markdown",
   "source": [
    "Che coincide col 50% percentile. Possiamo dunque splittare il dataset in due parti: calcio moderno e calcio 'vecchio'"
   ],
   "metadata": {}
  },
  {
   "cell_type": "code",
   "execution_count": 20,
   "source": [
    "old_era = pd.DataFrame(columns=dst_df.columns.drop(labels=['match_id', 'date']))\n",
    "modern_era = old_era.copy()\n",
    "\n",
    "for i in range(0, dst_df.__len__()):    \n",
    "    if(dst_df.iloc[i]['year'] < dst_df['year'].median().astype(int)):\n",
    "        old_era = old_era.append(dst_df.iloc[i].drop(labels=['date','match_id']))\n",
    "\n",
    "    if(dst_df.iloc[i]['year'] >= dst_df['year'].median().astype(int)):\n",
    "        modern_era = modern_era.append(dst_df.iloc[i])\n",
    "\n",
    "old_era.to_csv('dataset/dataset_old_era.csv', index=False)\n",
    "modern_era.to_csv('dataset/dataset_modern_era.csv', index=False)\n",
    "\n",
    "if(old_era.__len__() + modern_era.__len__() == dst_df.__len__()):\n",
    "    print(\"Dataset splitted successfully\")\n",
    "else:\n",
    "    print(\"Something went wrong\")"
   ],
   "outputs": [
    {
     "output_type": "stream",
     "name": "stdout",
     "text": [
      "Dataset splitted successfully\n"
     ]
    }
   ],
   "metadata": {}
  },
  {
   "cell_type": "markdown",
   "source": [
    "## Todo ..."
   ],
   "metadata": {}
  }
 ],
 "metadata": {
  "orig_nbformat": 4,
  "language_info": {
   "name": "python",
   "version": "3.9.7",
   "mimetype": "text/x-python",
   "codemirror_mode": {
    "name": "ipython",
    "version": 3
   },
   "pygments_lexer": "ipython3",
   "nbconvert_exporter": "python",
   "file_extension": ".py"
  },
  "kernelspec": {
   "name": "python3",
   "display_name": "Python 3.9.7 64-bit"
  },
  "interpreter": {
   "hash": "aee8b7b246df8f9039afb4144a1f6fd8d2ca17a180786b69acc140d282b71a49"
  }
 },
 "nbformat": 4,
 "nbformat_minor": 2
}