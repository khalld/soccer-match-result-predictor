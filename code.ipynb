{
 "cells": [
  {
   "cell_type": "markdown",
   "source": [
    "## Import libs and custom vars"
   ],
   "metadata": {}
  },
  {
   "cell_type": "code",
   "execution_count": 1,
   "source": [
    "import pandas as pd\n",
    "import numpy as np\n",
    "from datetime import datetime\n",
    "from libs.utils import find_penalty, return_outcome, check_element, add_labels, find_range\n",
    "from matplotlib import pyplot as plt\n",
    "import matplotlib.colors as mcolors\n",
    "import datetime\n",
    "from numba import jit"
   ],
   "outputs": [],
   "metadata": {}
  },
  {
   "cell_type": "markdown",
   "source": [
    "<b>L'obbiettivo del progetto è la costruzione di un modello per predizioni di match internazionali</b>\n",
    "\n",
    "\n",
    "<ul>\n",
    "    <li>Ci sono alcuni nomi di squadre che sono cambiate nel tempo, uniformizza </li>\n",
    "    <li>Shootouts è il db dei penalty, quindi bisogna manipolare il dataset per vedere chi vince alla fine quella partita</li>\n",
    "</ul>"
   ],
   "metadata": {}
  },
  {
   "cell_type": "markdown",
   "source": [
    "### Descrizione del dataset"
   ],
   "metadata": {}
  },
  {
   "cell_type": "markdown",
   "source": [
    "\n",
    "Il Dataset contiene 42483 risultati di partite di calcio internazionale maschile. In particolare, sono incluse sia le partite ufficiali di tutte le competizioni: dalle amichevoli alla coppa del mondo eccetto i Giochi Olimpici o le partite dove almeno una delle due squadre era la squadra B o U-23. Inoltre, il dataset presenta un ulteriore file che contiene 432 risultati di partite terminate con i calci di rigore, <u>che non considereremo in quanto il modello dovrà predirre il risultato come: 'Home win', 'Draw', 'Away win'.</u>"
   ],
   "metadata": {}
  },
  {
   "cell_type": "code",
   "execution_count": 3,
   "source": [
    "dst_df = pd.read_csv('dataset/results.csv');\n",
    "\n",
    "print(\"Null values:\", dst_df.isnull().values.any(), \"| shape:\", dst_df.shape)\n",
    "print(\"***\"*15)\n",
    "print(dst_df.info())"
   ],
   "outputs": [
    {
     "output_type": "stream",
     "name": "stdout",
     "text": [
      "Null values: False | shape: (42483, 9)\n",
      "*********************************************\n",
      "<class 'pandas.core.frame.DataFrame'>\n",
      "RangeIndex: 42483 entries, 0 to 42482\n",
      "Data columns (total 9 columns):\n",
      " #   Column      Non-Null Count  Dtype \n",
      "---  ------      --------------  ----- \n",
      " 0   date        42483 non-null  object\n",
      " 1   home_team   42483 non-null  object\n",
      " 2   away_team   42483 non-null  object\n",
      " 3   home_score  42483 non-null  int64 \n",
      " 4   away_score  42483 non-null  int64 \n",
      " 5   tournament  42483 non-null  object\n",
      " 6   city        42483 non-null  object\n",
      " 7   country     42483 non-null  object\n",
      " 8   neutral     42483 non-null  bool  \n",
      "dtypes: bool(1), int64(2), object(6)\n",
      "memory usage: 2.6+ MB\n",
      "None\n"
     ]
    }
   ],
   "metadata": {}
  },
  {
   "cell_type": "markdown",
   "source": [
    "### Preparazione del daset\n",
    "- campo date formattato in anno\n",
    "- colonna 'risultato'\n",
    "- converto home_score e away_score in float"
   ],
   "metadata": {}
  },
  {
   "cell_type": "code",
   "execution_count": 4,
   "source": [
    "dst_df = dst_df.astype({\"home_score\": float, \"away_score\": float})\n",
    "\n",
    "dst_df['outcome'] = None\n",
    "dst_df['day'] = None\n",
    "dst_df['month'] = None\n",
    "dst_df['year'] = None\n",
    "\n",
    "date_separator = ', '\n",
    "\n",
    "counter = 0\n",
    "for i in range(0, len(dst_df)):\n",
    "    counter = counter + 1\n",
    "    print('*** Processing %d/%d ***' % (counter, len(dst_df)), end='\\r')\n",
    "\n",
    "    # estraggo dati necessari dalla data\n",
    "    row_date = datetime.date.fromisoformat(dst_df.iloc[i]['date'])\n",
    "    dst_df.at[i, 'day'] = row_date.strftime('%d') + date_separator + row_date.strftime('%A')\n",
    "    dst_df.at[i, 'month'] = row_date.strftime('%B')\n",
    "    dst_df.at[i, 'year'] = int(row_date.strftime('%Y'))\n",
    "\n",
    "    # calcolo il risultato della partita\n",
    "    dst_df.at[i, 'outcome'] = return_outcome(dst_df.iloc[i]['home_score'], dst_df.iloc[i]['away_score'])\n",
    "\n",
    "    # deprecato\n",
    "    # if(dst_df.iloc[i]['outcome'] == 'D'):\n",
    "    #     dst_df.at[i, 'outcome'] = find_penalty(data['results'].iloc[i], data['shootouts'], sht_len - 1)\n",
    "\n",
    "dst_df.drop(labels=['date'], axis=1, inplace=True)\n",
    "dst_df.to_csv('dataset/dataset.csv')"
   ],
   "outputs": [
    {
     "output_type": "stream",
     "name": "stdout",
     "text": []
    }
   ],
   "metadata": {}
  },
  {
   "cell_type": "markdown",
   "source": [
    "### To do:\n",
    "1. Distribuzione dei dati - grafico a barre per anni/decadi\n",
    "2. PMF sui dati degli anni / approssimaziona a CMF (?)\n",
    "3. Barplot su:\n",
    "    - goal fatti\n",
    "    - sul numero di partite per continente\n",
    "4. Scatterplot\n",
    "    - sui goal ?\n",
    "    - dei risultati di outcome D/H/A (?)\n",
    "\n",
    "Da vedere come inserire:\n",
    "- comparare il numero di partite per nazione\n",
    "- score per games?\n",
    "\n",
    "Modelli:\n",
    "    - Regressione logistica\n",
    "    - Alberi decisionali\n",
    "    - o...?\n",
    "\n",
    "Da inserire (?)\n",
    "    - FIFa ranking per elaborazione modello\n",
    "        - regole del ranking\n",
    "        - spiegare funzionamento\n",
    "        - aggiungere 'ranking' in base alla data\n",
    "    \n",
    "Aggiuntivi da implementare via facendo + descrizione\n",
    "- Eliminare i paesi che hanno cambiato nome/pulizia dataset\n",
    "- Riduzione delle dimensionalità\n",
    "    - per il calcolo del modello considera solo se le partite sono state giocate in campo neutrale"
   ],
   "metadata": {}
  },
  {
   "cell_type": "code",
   "execution_count": 14,
   "source": [
    "dst = pd.read_csv('dataset/dataset.csv')\n",
    "dst.drop(labels=['Unnamed: 0'], axis=1, inplace=True)\n",
    "\n",
    "dst.head()"
   ],
   "outputs": [
    {
     "output_type": "execute_result",
     "data": {
      "text/html": [
       "<div>\n",
       "<style scoped>\n",
       "    .dataframe tbody tr th:only-of-type {\n",
       "        vertical-align: middle;\n",
       "    }\n",
       "\n",
       "    .dataframe tbody tr th {\n",
       "        vertical-align: top;\n",
       "    }\n",
       "\n",
       "    .dataframe thead th {\n",
       "        text-align: right;\n",
       "    }\n",
       "</style>\n",
       "<table border=\"1\" class=\"dataframe\">\n",
       "  <thead>\n",
       "    <tr style=\"text-align: right;\">\n",
       "      <th></th>\n",
       "      <th>home_team</th>\n",
       "      <th>away_team</th>\n",
       "      <th>home_score</th>\n",
       "      <th>away_score</th>\n",
       "      <th>tournament</th>\n",
       "      <th>city</th>\n",
       "      <th>country</th>\n",
       "      <th>neutral</th>\n",
       "      <th>outcome</th>\n",
       "      <th>day</th>\n",
       "      <th>month</th>\n",
       "      <th>year</th>\n",
       "    </tr>\n",
       "  </thead>\n",
       "  <tbody>\n",
       "    <tr>\n",
       "      <th>0</th>\n",
       "      <td>Scotland</td>\n",
       "      <td>England</td>\n",
       "      <td>0.0</td>\n",
       "      <td>0.0</td>\n",
       "      <td>Friendly</td>\n",
       "      <td>Glasgow</td>\n",
       "      <td>Scotland</td>\n",
       "      <td>False</td>\n",
       "      <td>draw</td>\n",
       "      <td>30, Saturday</td>\n",
       "      <td>November</td>\n",
       "      <td>1872</td>\n",
       "    </tr>\n",
       "    <tr>\n",
       "      <th>1</th>\n",
       "      <td>England</td>\n",
       "      <td>Scotland</td>\n",
       "      <td>4.0</td>\n",
       "      <td>2.0</td>\n",
       "      <td>Friendly</td>\n",
       "      <td>London</td>\n",
       "      <td>England</td>\n",
       "      <td>False</td>\n",
       "      <td>home</td>\n",
       "      <td>08, Saturday</td>\n",
       "      <td>March</td>\n",
       "      <td>1873</td>\n",
       "    </tr>\n",
       "    <tr>\n",
       "      <th>2</th>\n",
       "      <td>Scotland</td>\n",
       "      <td>England</td>\n",
       "      <td>2.0</td>\n",
       "      <td>1.0</td>\n",
       "      <td>Friendly</td>\n",
       "      <td>Glasgow</td>\n",
       "      <td>Scotland</td>\n",
       "      <td>False</td>\n",
       "      <td>home</td>\n",
       "      <td>07, Saturday</td>\n",
       "      <td>March</td>\n",
       "      <td>1874</td>\n",
       "    </tr>\n",
       "    <tr>\n",
       "      <th>3</th>\n",
       "      <td>England</td>\n",
       "      <td>Scotland</td>\n",
       "      <td>2.0</td>\n",
       "      <td>2.0</td>\n",
       "      <td>Friendly</td>\n",
       "      <td>London</td>\n",
       "      <td>England</td>\n",
       "      <td>False</td>\n",
       "      <td>draw</td>\n",
       "      <td>06, Saturday</td>\n",
       "      <td>March</td>\n",
       "      <td>1875</td>\n",
       "    </tr>\n",
       "    <tr>\n",
       "      <th>4</th>\n",
       "      <td>Scotland</td>\n",
       "      <td>England</td>\n",
       "      <td>3.0</td>\n",
       "      <td>0.0</td>\n",
       "      <td>Friendly</td>\n",
       "      <td>Glasgow</td>\n",
       "      <td>Scotland</td>\n",
       "      <td>False</td>\n",
       "      <td>home</td>\n",
       "      <td>04, Saturday</td>\n",
       "      <td>March</td>\n",
       "      <td>1876</td>\n",
       "    </tr>\n",
       "  </tbody>\n",
       "</table>\n",
       "</div>"
      ],
      "text/plain": [
       "  home_team away_team  home_score  away_score tournament     city   country  \\\n",
       "0  Scotland   England         0.0         0.0   Friendly  Glasgow  Scotland   \n",
       "1   England  Scotland         4.0         2.0   Friendly   London   England   \n",
       "2  Scotland   England         2.0         1.0   Friendly  Glasgow  Scotland   \n",
       "3   England  Scotland         2.0         2.0   Friendly   London   England   \n",
       "4  Scotland   England         3.0         0.0   Friendly  Glasgow  Scotland   \n",
       "\n",
       "   neutral outcome           day     month  year  \n",
       "0    False    draw  30, Saturday  November  1872  \n",
       "1    False    home  08, Saturday     March  1873  \n",
       "2    False    home  07, Saturday     March  1874  \n",
       "3    False    draw  06, Saturday     March  1875  \n",
       "4    False    home  04, Saturday     March  1876  "
      ]
     },
     "metadata": {},
     "execution_count": 14
    }
   ],
   "metadata": {}
  },
  {
   "cell_type": "markdown",
   "source": [
    "### Statistica descrittiva - Distribuzione dei dati"
   ],
   "metadata": {}
  },
  {
   "cell_type": "markdown",
   "source": [
    "Descrizione del dataset. Grafico a barre per anni/decadi"
   ],
   "metadata": {}
  }
 ],
 "metadata": {
  "orig_nbformat": 4,
  "language_info": {
   "name": "python",
   "version": "3.9.7",
   "mimetype": "text/x-python",
   "codemirror_mode": {
    "name": "ipython",
    "version": 3
   },
   "pygments_lexer": "ipython3",
   "nbconvert_exporter": "python",
   "file_extension": ".py"
  },
  "kernelspec": {
   "name": "python3",
   "display_name": "Python 3.9.7 64-bit"
  },
  "interpreter": {
   "hash": "aee8b7b246df8f9039afb4144a1f6fd8d2ca17a180786b69acc140d282b71a49"
  }
 },
 "nbformat": 4,
 "nbformat_minor": 2
}