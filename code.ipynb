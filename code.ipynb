{
 "cells": [
  {
   "cell_type": "code",
   "execution_count": null,
   "metadata": {
    "collapsed": false,
    "pycharm": {
     "name": "#%%\n"
    }
   },
   "outputs": [],
   "source": [
    "import pandas as pd\n",
    "import numpy as np\n",
    "import matplotlib.colors as mcolors\n",
    "import seaborn as sns\n",
    "import statsmodels.formula.api as smf\n",
    "import statsmodels.api as sm\n",
    "import warnings\n",
    "warnings.simplefilter(action='ignore', category=FutureWarning) # suppress some future warning\n",
    "\n",
    "from os import path\n",
    "from scipy.stats import poisson # TODO sostituisci con smf o sm?\n",
    "from matplotlib import pyplot as plt\n",
    "from matplotlib.collections import LineCollection\n",
    "\n",
    "# custom libs\n",
    "from libs.utils import fix_continent_matches, show_cdf, show_cdf_splitted, format_dataframe, extract_continent_from_FIFA, check_records_validity, remove_outliers, get_match_result\n",
    "# from libs.utils import convert_onehot, convert_onehot_simplified TODO al momento non sono utilizzate, eventualmente elimina\n",
    "\n",
    "plt.style.use('ggplot') # stile di default del grafico\n",
    "# plt.rcParams.update({'figure.figsize':(45,10), 'figure.dpi':100})\n",
    "\n",
    "# costanti\n",
    "PATH_ORIGINAL_DST = 'dataset/original'\n",
    "PATH_DST = 'dataset'"
   ]
  },
  {
   "cell_type": "markdown",
   "metadata": {},
   "source": [
    "## Parte 1: Introduzione dataset, verifica e preparazione\n",
    "\n",
    "Si prende in analisi un dataset contenente 4483 risultati di partite di calcio internazionale maschile.<br>\n",
    "L'obbiettivo è realizzare un predittore di risultati di partite di calcio internazionale [... aggiungi descrizione dal dataset stesso...]. Inizialmente viene preso in esame il dataset, vengono estratte alcune informazioni utilizzando la statistica descrittiva.<br>\n",
    "Per prima cosa verifico l'eventuale presenza di valori nulli del dataset"
   ]
  },
  {
   "cell_type": "code",
   "execution_count": null,
   "metadata": {},
   "outputs": [],
   "source": [
    "df = pd.read_csv(path.join(PATH_ORIGINAL_DST ,'results.csv') )\n",
    "\n",
    "print(\"Null values:\", df.isnull().values.any(), \"| shape:\", df.shape)\n",
    "print(\"***\"*15)\n",
    "print(df.info())"
   ]
  },
  {
   "cell_type": "markdown",
   "metadata": {},
   "source": [
    "### Pre-processing\n",
    "Dopo essermi accertato che il dataset non contiene elementi nulli procedo con il pre-processing:\n",
    "- Estraggo la data dalla colonna `date` in rispettivamente in `day` `day_of_week` `month` `year`:\n",
    "- Calcolo `outcome` dall'incontro utilizzando la funzione `return_outcome` che ritorna `Home` per vittoria della squadra di casa, `Draw` per il pareggio e `Away` per vittoria della squadra ospite\n",
    "- Converto il valore `home_score` e `away_score` in `float` (servirà successivamente)\n",
    "- Alcuni nomi di nazioni sono cambiate nel tempo, in quanto il dataset presenta incontri che comprendono ad ese\n",
    "- Formatto i nomi delle nazioni [scrivi meglio]"
   ]
  },
  {
   "cell_type": "code",
   "execution_count": null,
   "metadata": {},
   "outputs": [],
   "source": [
    "df = format_dataframe(df)"
   ]
  },
  {
   "cell_type": "markdown",
   "metadata": {},
   "source": [
    "Solitamente, nel calcio, la prima squadra è considerata sempre quella di casa. Controllo dunque che il dataset sia coerente con questa convenzione prima di procedere al calcolo delle statistiche per ogni team"
   ]
  },
  {
   "cell_type": "code",
   "execution_count": null,
   "metadata": {},
   "outputs": [],
   "source": [
    "if len(df.query(\"away_team == country\")) > 0:\n",
    "    print(\"Trovati %d record incorenti con la convenzione\" % len(df.query(\"away_team == country\")))"
   ]
  },
  {
   "cell_type": "markdown",
   "metadata": {},
   "source": [
    "Visto l'esiguo numero di elementi li visualizzo"
   ]
  },
  {
   "cell_type": "code",
   "execution_count": null,
   "metadata": {},
   "outputs": [],
   "source": [
    "df.query(\"away_team == country\")"
   ]
  },
  {
   "cell_type": "markdown",
   "metadata": {},
   "source": [
    "Sono state trovate dunque 25 incoerenze riguardo alla convenzione spiegata sopre. È semplice spiegarle:\n",
    "- I record che presentano neutral = False: è spiegato dal fatto che la Silesia è oggi parte della Polonia e della Republica Ceca, mentre la Catalonia ad oggi è annessa alla Spagna. Questo sta a dimostrare che sono presenti  dati 'spuri' dal dataset di cui è già stata prevista l'eliminazione in seguito,<br>\n",
    "- I record che presentano neutral = True sono incoerenti<br>\n",
    "\n",
    "Sistemo:"
   ]
  },
  {
   "cell_type": "code",
   "execution_count": null,
   "metadata": {},
   "outputs": [],
   "source": [
    "for i in df.query(\"away_team == country and neutral == True\").index:\n",
    "    df.at[i, \"neutral\"] = False"
   ]
  },
  {
   "cell_type": "markdown",
   "metadata": {},
   "source": [
    "Controllo che la presenza di ulteriori incoerenze anche nel caso in cui `home_team` sia uguale a `contry` e `neutral` sia uguale a `True`"
   ]
  },
  {
   "cell_type": "code",
   "execution_count": null,
   "metadata": {},
   "outputs": [],
   "source": [
    "df.query(\"home_team == country and neutral == True\")"
   ]
  },
  {
   "cell_type": "code",
   "execution_count": null,
   "metadata": {},
   "outputs": [],
   "source": [
    "for i in df.query(\"home_team == country and neutral == True\").index:\n",
    "    df.at[i, \"neutral\"] = False"
   ]
  },
  {
   "cell_type": "code",
   "execution_count": null,
   "metadata": {},
   "outputs": [],
   "source": [
    "pd.options.mode.chained_assignment = None  # default='warn'\n",
    "\n",
    "def swap_outcome(val):\n",
    "    val.replace({\"Home\": \"Away\", \"Away\":\"Home\"})\n",
    "    return val\n",
    "\n",
    "neutral_games = df.query(\"neutral == True\")\n",
    "not_neutral_games = df.query(\"neutral == False\")\n",
    "\n",
    "invalid_ = not_neutral_games.query(\"away_team == country\")\n",
    "\n",
    "invalid_copy = invalid_.copy()\n",
    "\n",
    "invalid_.loc[invalid_.index.values, 'home_team'] = invalid_copy.loc[invalid_.index.values, 'away_team']\n",
    "invalid_.loc[invalid_.index.values, 'home_score'] = invalid_copy.loc[invalid_.index.values, 'away_score'] \n",
    "invalid_.loc[invalid_.index.values, 'away_team'] = invalid_copy.loc[invalid_.index.values, 'home_team'] \n",
    "invalid_.loc[invalid_.index.values, 'away_score'] = invalid_copy.loc[invalid_.index.values, 'home_score'] \n",
    "invalid_['outcome'] = invalid_['outcome'].replace({\"Home\": \"Away\", \"Away\":\"Home\"})\n",
    "\n",
    "for i in invalid_.index.values:\n",
    "    df.loc[i, 'home_team'] = invalid_.loc[i, 'home_team']\n",
    "    df.loc[i, 'home_score'] = invalid_.loc[i, 'home_score']\n",
    "    df.loc[i, 'away_team'] = invalid_.loc[i, 'away_team']\n",
    "    df.loc[i, 'away_score'] = invalid_.loc[i, 'away_score']\n",
    "    df.loc[i, 'outcome'] = invalid_.loc[i, 'outcome']"
   ]
  },
  {
   "cell_type": "code",
   "execution_count": null,
   "metadata": {},
   "outputs": [],
   "source": [
    "df.to_csv(path.join(PATH_DST, 'dataset_v1.csv'))"
   ]
  },
  {
   "cell_type": "markdown",
   "metadata": {},
   "source": [
    "### Check validità match\n",
    "\n",
    "Controllo la presenza di eventuali record ambigui, data anche la presenza di partite vecchie, ad esempio di nazioni non più presenti... spiega meglio ... non li considero da subito.\n",
    "\n",
    "Per validare le squadre utilizzerò il dataset FIFA ...descrivi...."
   ]
  },
  {
   "cell_type": "code",
   "execution_count": null,
   "metadata": {},
   "outputs": [],
   "source": [
    "len(df)"
   ]
  },
  {
   "cell_type": "code",
   "execution_count": null,
   "metadata": {},
   "outputs": [],
   "source": [
    "df_fifa = pd.read_csv(path.join(PATH_ORIGINAL_DST, 'fifa_ranking-2021-05-27.csv'))\n",
    "\n",
    "df = check_records_validity(df, df_fifa)\n",
    "\n",
    "df_valid = df.query(\"is_valid == True\").drop(columns=['is_valid']).reset_index(drop=True)\n",
    "df_valid.to_csv(path.join(PATH_DST, \"dataset_v1_valid.csv\"))\n",
    "df_not_valid = df.query(\"is_valid == False\").drop(columns=['is_valid']).reset_index(drop=True)\n",
    "df_not_valid.to_csv(path.join(PATH_DST, \"dataset_v1_not_valid.csv\"))\n",
    "\n",
    "if len(df_valid) + len(df_not_valid) == len(df):\n",
    "    print(\"valid: %s not valid: %s, totale di record esaminati %s\" % ( len(df_valid),len(df_not_valid), len(df) ) )\n",
    "else:\n",
    "    print(\"Something wrong happened!\")"
   ]
  },
  {
   "cell_type": "markdown",
   "metadata": {},
   "source": [
    "### Check validità nazioni\n",
    "\n",
    "Dovrebbe servire per dopo nello specifico ma dato che questa è la parte dove pulisco il dataset lo faccio qui..."
   ]
  },
  {
   "cell_type": "code",
   "execution_count": null,
   "metadata": {},
   "outputs": [],
   "source": [
    "pd.options.mode.chained_assignment = None  # default='warn'\n",
    "df_valid_country = pd.read_csv(path.join(PATH_DST, 'dataset_v1_valid.csv')).drop(columns=['Unnamed: 0'])\n",
    "\n",
    "df_fifa = pd.read_csv(path.join(PATH_ORIGINAL_DST, 'fifa_ranking-2021-05-27.csv')).drop(columns=['id','rank', 'country_abrv', 'total_points', 'previous_points', 'rank_change', 'rank_date']).sort_values(by='country_full').drop_duplicates().reset_index(drop=True)\n",
    "\n",
    "df_unvalid_country = pd.DataFrame()\n",
    "\n",
    "# estraggo tutti i team presenti in dataset_reduced_fixed\n",
    "df_ht = df_valid_country['home_team'].drop_duplicates().sort_values().reset_index().drop(labels=['index'], axis=1).rename(columns={'home_team': 'team'})\n",
    "df_at = df_valid_country['away_team'].drop_duplicates().sort_values().reset_index().drop(labels=['index'], axis=1).rename(columns={'away_team': 'team'})\n",
    "\n",
    "# controllo che il numero di squadre sia lo stesso\n",
    "if df_ht.__len__() != df_at.__len__():\n",
    "    print(\"Not same length! Some mismatch\")\n",
    "\n",
    "\n",
    "\n",
    "df_valid_country = pd.concat([df_ht,df_at]).drop_duplicates().sort_values(by='team').reset_index().drop(labels=['index'], axis=1)\n",
    "\n",
    "df_valid_country['confederation'] = \"\"\n",
    "\n",
    "for i, row in df_valid_country.iterrows():\n",
    "    if(len(df_fifa.query(\"country_full == @row.team\")) > 0):\n",
    "        df_valid_country.at[i, 'confederation'] = df_fifa.query(\"country_full == @row.team\").confederation.values[0]\n",
    "\n",
    "df_valid_country.replace(\"\", np.nan, inplace=True)\n",
    "\n",
    "df_unvalid_country = df_valid_country[df_valid_country['confederation'].isna()]\n",
    "df_unvalid_country.reset_index(drop=True, inplace=True)\n",
    "df_unvalid_country.drop(labels=['confederation'], axis=1, inplace=True)\n",
    "\n",
    "# utilizzo le squadre non presenti in FIFA ranking\n",
    "df_valid_country.dropna(subset = ['confederation'], inplace=True)\n",
    "df_valid_country.reset_index(drop=True, inplace=True)\n",
    "\n",
    "print(\"... Fixed. Number of teams: %d\" % len(df_valid_country))\n",
    "\n",
    "# salvo i dataframe perché potrebbero servire successivamente\n",
    "df_valid_country.to_csv(path.join(PATH_DST, 'dataset_v1_valid_country.csv'))\n",
    "df_unvalid_country.to_csv(path.join(PATH_DST, 'dataset_v1_not_valid_country.csv'))"
   ]
  },
  {
   "cell_type": "markdown",
   "metadata": {},
   "source": [
    "Procedo con eliminare tutte quei match che presentano squadre in 'df_unvalid_countries_csv' e realizzo la seconda versione del dataset"
   ]
  },
  {
   "cell_type": "code",
   "execution_count": null,
   "metadata": {},
   "outputs": [],
   "source": [
    "# per evitare problemi riguardo le variabili reimporto i csv\n",
    "df = pd.read_csv(path.join(PATH_DST, 'dataset_v1_valid.csv')).drop(columns=['Unnamed: 0'])\n",
    "\n",
    "for index, row in df_unvalid_country.iterrows():\n",
    "    if(len(df.query(\"home_team == @row.team or away_team == @row.team\")) > 0):\n",
    "        df.drop(df.query(\"home_team == @row.team or away_team == @row.team\").index.values, inplace=True)\n",
    "    \n",
    "\n",
    "print(\"Now dataset is formed by: %d records\"% len(df))"
   ]
  },
  {
   "cell_type": "markdown",
   "metadata": {},
   "source": [
    "Controllo che il numero di squadre che ha giocato fuori casa è lo stesso di chi ha giocato in casa ed eventualmente visualizzo"
   ]
  },
  {
   "cell_type": "code",
   "execution_count": null,
   "metadata": {},
   "outputs": [],
   "source": [
    "if len(df['home_team'].drop_duplicates().sort_values().values) > len(df['away_team'].drop_duplicates().sort_values().values):\n",
    "    print(\"Mismatch home_team > away_team: %s\" % list(set(df['home_team'].drop_duplicates().sort_values().values).difference(df['away_team'].drop_duplicates().sort_values().values)))\n",
    "elif len(df['home_team'].drop_duplicates().sort_values().values) < len(df['away_team'].drop_duplicates().sort_values().values):\n",
    "    print(\"Mismatch home_team < away_team: %s\" % list(set(df['away_team'].drop_duplicates().sort_values().values).difference(df['home_team'].drop_duplicates().sort_values().values)))\n",
    "else:\n",
    "    print(\"Home teams and away teams are the same\")"
   ]
  },
  {
   "cell_type": "code",
   "execution_count": null,
   "metadata": {},
   "outputs": [],
   "source": [
    "# print(\"Deleting %s records from dataset...\"% len(df[df.home_team == \"St. Kitts and Nevis\"].index) )\n",
    "# df = df.drop(df[df.home_team == \"St. Kitts and Nevis\"].index).reset_index(drop=True)\n",
    "# print(\"Now dataset is formed by: %d records\"% len(df))\n",
    "df = df.reset_index(drop=True)\n",
    "df.to_csv(path.join(PATH_DST, \"dataset_v2.csv\"))\n"
   ]
  },
  {
   "cell_type": "markdown",
   "metadata": {},
   "source": [
    "## Parte 2: Statistica descrittiva - Distribuzione dei dati\n",
    "Una volta effettuato il preprocessing del dataset vengono applicati alcuni studi. In ordine verrà definito, graficamente:\n",
    "- Competizioni presenti nel dataset\n",
    "- Numero di partite disputate per anno\n",
    "- Numero di partite disputate per anno in base al continente (in modo tale da capire anche una eventuale inizio della diffusione del calcio nel mondo)\n",
    "- Numero di goal per anno, divise in base al continente\n",
    "\n",
    "Dopo aver estrapolato queste informazioni, si procede con una selezione dei migliori team durante la storia divisi per attacco/difesa goal fatti/subiti.<br>\n",
    "Da questi insiemi verranno estratti una gruppo di squadre per mostrare l'andamento della squadra negli anni.<br>\n",
    "Inoltre verrà controllato se questo insieme di squadre hanno più propensione di vincere a casa o in trasferta.<br>\n",
    "\n",
    "<b>Per questo 'capitolo' pendo come riferimento il dataset v2'</b>"
   ]
  },
  {
   "cell_type": "code",
   "execution_count": null,
   "metadata": {},
   "outputs": [],
   "source": [
    "df = pd.read_csv(path.join(PATH_DST, 'dataset_v2.csv')).drop(columns=['Unnamed: 0'])\n",
    "\n",
    "df.head(5)"
   ]
  },
  {
   "cell_type": "markdown",
   "metadata": {},
   "source": [
    "### Competizioni presenti nel dataset"
   ]
  },
  {
   "cell_type": "code",
   "execution_count": null,
   "metadata": {},
   "outputs": [],
   "source": [
    "tournaments = df['tournament'].value_counts()\n",
    "\n",
    "print(\"Number of tournaments: %d\" % ( len(tournaments) ))\n",
    "\n",
    "# Visto l'elevato numero di competizioni presenti, considero solo le prime 15 in base al numero di partite.\n",
    "\n",
    "plt.title('Frequency of competition in dataset')\n",
    "plt.ylabel('Number of matches')\n",
    "plt.xlabel('Competitions')\n",
    "plt.bar(tournaments.index[:15], tournaments.values[:15], color=[i for i in mcolors.TABLEAU_COLORS], edgecolor='black')\n",
    "\n",
    "plt.show()"
   ]
  },
  {
   "cell_type": "markdown",
   "metadata": {},
   "source": [
    "### Numero di partite disputate per anno"
   ]
  },
  {
   "cell_type": "code",
   "execution_count": null,
   "metadata": {},
   "outputs": [],
   "source": [
    "# matches per year\n",
    "mpy = df['year'].value_counts().sort_index()\n",
    "\n",
    "plt.figure(figsize=(15,4))\n",
    "plt.title(label='Number of games per year')\n",
    "plt.ylabel(ylabel='number of games')\n",
    "plt.xlabel(xlabel='years')\n",
    "\n",
    "l1 = [(1914,0), (1914,1200)]\n",
    "l2 = [(1918,0), (1918,1200)]\n",
    "l3 = [(1939,0), (1939,1200)]\n",
    "l4 = [(1945,0), (1945,1200)]\n",
    "l5 = [(2019,0), (2019, 1200)]\n",
    "\n",
    "lc = LineCollection([l1, l2, l3, l4, l5], color=[\"orangered\",\"orangered\", \"crimson\",\"crimson\", \"darkcyan\"], lw=2, linestyles='-.')\n",
    "\n",
    "plt.annotate('1st World War', xy=(1914, 200), xycoords='data', ha='center', xytext=(-40, -20), textcoords='offset points', color='orangered')\n",
    "plt.annotate('2nd World War', xy=(1939, 200), xycoords='data', ha='center', xytext=(-40, -30), textcoords='offset points', color='crimson')\n",
    "plt.annotate('COVID-19', xy=(2019, 200), xycoords='data', ha='center', xytext=(-40, -20), textcoords='offset points', color='darkcyan')\n",
    "\n",
    "plt.gca().add_collection(lc)\n",
    "\n",
    "plt.plot(mpy, color='royalblue')\n",
    "plt.grid(True)\n",
    "plt.show()"
   ]
  },
  {
   "cell_type": "markdown",
   "metadata": {},
   "source": [
    "Si nota che il numero di match si è abbassato durante le Guerre Mondiali ed è drasticamente calato durante la pandemia di Covid-19 ad inizio 2020."
   ]
  },
  {
   "cell_type": "markdown",
   "metadata": {},
   "source": [
    "### Numero di partite giocate per anno in ogni continente\n",
    "Dal dataset FIFA carico le confederazioni delle nazionali. Ricavo dunque i continenti in cui è stato disputato il match"
   ]
  },
  {
   "cell_type": "code",
   "execution_count": null,
   "metadata": {},
   "outputs": [],
   "source": [
    "df_fifa = pd.read_csv(path.join(PATH_ORIGINAL_DST,'fifa_ranking-2021-05-27.csv'))\n",
    "\n",
    "df = extract_continent_from_FIFA(df, df_fifa)"
   ]
  },
  {
   "cell_type": "code",
   "execution_count": null,
   "metadata": {},
   "outputs": [],
   "source": [
    "# dataframe continent reduced\n",
    "df_cr = df.groupby(['continent','year']).size().to_csv('output.csv') # risolvo il bug del groupby che non scrive in tutte le colonne i continenti\n",
    "df_cr = pd.read_csv('output.csv')\n",
    "\n",
    "df_cr.sort_values(by='year', axis=0, inplace=True)\n",
    "df_cr = df_cr.reset_index().drop(columns=['index']).rename(columns={'0': 'matches'})\n",
    "\n",
    "if df.__len__() == df_cr['matches'].sum():\n",
    "    print(\"Groupby eseguito correttamente\")\n",
    "\n",
    "years = df_cr['year'].drop_duplicates().to_numpy()\n",
    "\n",
    "africa = df_cr[df_cr['continent'] == 'Africa' ].reset_index().drop(columns=['continent', 'index'])\n",
    "america = df_cr[df_cr['continent'] == 'America'].reset_index().drop(columns=['continent', 'index'])\n",
    "asia = df_cr[df_cr['continent'] == 'Asia'].reset_index().drop(columns=['continent', 'index'])\n",
    "europe = df_cr[df_cr['continent'] == 'Europe'].reset_index().drop(columns=['continent', 'index'])\n",
    "oceania = df_cr[df_cr['continent'] == 'Oceania'].reset_index().drop(columns=['continent', 'index'])\n",
    "\n",
    "print(\"First appearance in national match:\\nAfrica: %d\\nAmerica: %d\\nAsia: %d\\nEurope: %d\\nOceania: %d\" % (africa['year'].min(), america['year'].min(), asia['year'].min(), europe['year'].min(), oceania['year'].min() ))\n",
    "africa  =  fix_continent_matches(years, africa)\n",
    "america =  fix_continent_matches(years, america)\n",
    "asia     = fix_continent_matches(years, asia)\n",
    "europe  =  fix_continent_matches(years, europe)\n",
    "oceania =  fix_continent_matches(years, oceania)\n",
    "\n",
    "if len(africa) == len(europe) == len(america) == len(oceania) == len(asia):\n",
    "    print(\"All df have the same number of rows\")"
   ]
  },
  {
   "cell_type": "code",
   "execution_count": null,
   "metadata": {},
   "outputs": [],
   "source": [
    "plt.title('Number of games played by each continent')\n",
    "plt.ylabel('Number of matches')\n",
    "plt.xlabel('Years')\n",
    "plt.bar(years, europe.matches.values, color='steelblue')\n",
    "plt.bar(years, america.matches.values, bottom=europe.matches.values , color='crimson')\n",
    "plt.bar(years, asia.matches.values, bottom = europe.matches.values+america.matches.values, color='darkorange')\n",
    "plt.bar(years, oceania.matches.values, bottom = europe.matches.values+america.matches.values+asia.matches.values , color='salmon')\n",
    "plt.bar(years, africa.matches.values, bottom=europe.matches.values + america.matches.values + asia.matches.values + oceania.matches.values, color='gold')\n",
    "plt.legend(['Europe', 'America', 'Asia', 'Oceania', 'Africa'])\n",
    "\n",
    "plt.show()"
   ]
  },
  {
   "cell_type": "markdown",
   "metadata": {},
   "source": [
    "Dal grafico si evince che Europa ed America sono i continenti dove si sono disputato più partite. Il numero di partite disputate in oceania è irrilevante rispetto al numero degli altri continenti nonostante l'Africa abbia disputato la prima partita ufficiale per ultima. <br>\n",
    "Salvo comunque il dataframe per eventuali utilizzi"
   ]
  },
  {
   "cell_type": "code",
   "execution_count": null,
   "metadata": {},
   "outputs": [],
   "source": [
    "df.to_csv(path.join(PATH_DST, \"dataset_v2_continent.csv\"))"
   ]
  },
  {
   "cell_type": "markdown",
   "metadata": {},
   "source": [
    "### Estrazione statistiche squadre presenti nel dataset"
   ]
  },
  {
   "cell_type": "code",
   "execution_count": null,
   "metadata": {},
   "outputs": [],
   "source": [
    "df = pd.read_csv(path.join(PATH_DST, 'dataset_v2_continent.csv')).drop(columns=['Unnamed: 0'])\n",
    "# print(df.columns)\n",
    "\n",
    "valid_country = pd.read_csv(path.join(PATH_DST, 'dataset_v1_valid_country.csv')).drop(columns=['Unnamed: 0']).team.values\n",
    "\n",
    "df_country = df.country.drop_duplicates().values\n",
    "\n",
    "# print(df_country)\n",
    "\n",
    "not_valid_country = []\n",
    "\n",
    "for i in df_country:\n",
    "    if i not in valid_country:\n",
    "        not_valid_country.append(i)\n",
    "# print(not_valid_country)\n",
    "\n",
    "# trovati altri record non validi. Li elimino\n",
    "\n",
    "print(\"Lunghezza del dataframe prima del controllo: %s\" % (len(df)) )\n",
    "\n",
    "for i, row in df.iterrows():\n",
    "    if(row.country in not_valid_country):\n",
    "        df.drop(i, inplace=True)\n",
    "\n",
    "print(\"Lunghezza del dataframe prima del controllo: %s\" % (len(df)) )\n",
    "\n",
    "df = df.reset_index(drop=True).to_csv(path.join(PATH_DST, 'dataset_v3.csv'))"
   ]
  },
  {
   "cell_type": "code",
   "execution_count": null,
   "metadata": {},
   "outputs": [],
   "source": [
    "# creo un dataframe con le statistiche di ogni squadra per vedere se ci sono delle correlazioni sul giocare in casa o no nello specifico\n",
    "# e nei goal subiti/segnati\n",
    "df = pd.read_csv(path.join(PATH_DST, 'dataset_v3.csv')).drop(columns=['Unnamed: 0'])\n",
    "\n",
    "teams = pd.read_csv(path.join(PATH_DST, 'dataset_v1_valid_country.csv')).drop(columns=['Unnamed: 0'])\n",
    "\n",
    "teams['games'] = 0\n",
    "teams['home_games'] = 0\n",
    "teams['away_games'] = 0\n",
    "teams['neutral_games'] = 0\n",
    "\n",
    "teams['wins'] = 0\n",
    "teams['home_wins'] = 0\n",
    "teams['away_wins'] = 0\n",
    "teams['neutral_wins'] = 0\n",
    "    \n",
    "teams['defeats'] = 0\n",
    "teams['home_defeats'] = 0\n",
    "teams['away_defeats'] = 0\n",
    "teams['neutral_defeats'] = 0\n",
    "\n",
    "teams['draws'] = 0\n",
    "teams['home_draws'] = 0\n",
    "teams['away_draws'] = 0\n",
    "teams['neutral_draws'] = 0\n",
    "\n",
    "teams['goals_scored'] = 0\n",
    "teams['home_goals_scored'] = 0\n",
    "teams['away_goals_scored'] = 0\n",
    "teams['neutral_goals_scored'] = 0\n",
    "\n",
    "teams['goals_conceded'] = 0\n",
    "teams['home_goals_conceded'] = 0\n",
    "teams['away_goals_conceded'] = 0\n",
    "teams['neutral_goals_conceded'] = 0\n",
    "\n",
    "counter = 0\n",
    "for team in teams.team.values:\n",
    "    print('*** Processing %d/%d ***' % (counter, len(teams.team.values)), end='\\r')\n",
    "\n",
    "    team_df = df.query(\"home_team == @team or away_team == @team\")\n",
    "\n",
    "    home_games_df = team_df.query(\"neutral == False and country == @team \")\n",
    "    away_games_df = team_df.query(\"neutral == False and country != @team \")\n",
    "    neutral_games_df = team_df.query(\"neutral == True \")\n",
    "\n",
    "    teams.at[teams.team == team, 'games'] = len(team_df)\n",
    "    teams.at[teams.team == team, 'home_games'] = len(home_games_df)\n",
    "    teams.at[teams.team == team, 'away_games'] = len(away_games_df)\n",
    "    teams.at[teams.team == team, 'neutral_games'] = len(neutral_games_df)\n",
    "\n",
    "        # non dovrebbe essere necessario fare tutti e 3 i controlli ma data la presneza di errori nel dataset lo faccio comunque\n",
    "    query1 = \"home_team == @team and outcome == 'Home' or away_team == @team and outcome == 'Away' \"\n",
    "    teams.at[teams.team == team, 'wins'] = len( team_df.query(query1) )\n",
    "    teams.at[teams.team == team, 'home_wins'] = len(home_games_df.query(query1))\n",
    "    teams.at[teams.team == team, 'away_wins'] = len(away_games_df.query(query1))\n",
    "    teams.at[teams.team == team, 'neutral_wins'] = len(neutral_games_df.query(query1))\n",
    "\n",
    "    query2 = \"home_team == @team and outcome == 'Away' or away_team == @team and outcome == 'Home' \"\n",
    "    teams.at[teams.team == team, 'defeats'] = len( team_df.query(query2) )\n",
    "    teams.at[teams.team == team, 'home_defeats'] = len(home_games_df.query(query2))\n",
    "    teams.at[teams.team == team, 'away_defeats'] = len(away_games_df.query(query2))\n",
    "    teams.at[teams.team == team, 'neutral_defeats'] = len(neutral_games_df.query(query2))\n",
    "\n",
    "    query3 = \"outcome == 'Draw' \"\n",
    "    teams.at[teams.team == team, 'draws'] = len(team_df.query(query3))\n",
    "    teams.at[teams.team == team, 'home_draws'] = len(home_games_df.query(query3))\n",
    "    teams.at[teams.team == team, 'away_draws'] = len(away_games_df.query(query3))\n",
    "    teams.at[teams.team == team, 'neutral_draws'] = len(neutral_games_df.query(query3))\n",
    "\n",
    "    teams.at[teams.team == team, 'goals_scored'] = team_df.query(\"home_team == @team\")['home_score'].sum() + team_df.query(\"away_team == @team\")['away_score'].sum()\n",
    "    teams.at[teams.team == team, 'home_goals_scored'] = home_games_df.query(\"home_team == @team\")['home_score'].sum() + home_games_df.query(\"away_team == @team\")['away_score'].sum()\n",
    "    teams.at[teams.team == team, 'away_goals_scored'] = away_games_df.query(\"home_team == @team\")['home_score'].sum() + away_games_df.query(\"away_team == @team\")['away_score'].sum()\n",
    "    teams.at[teams.team == team, 'neutral_goals_scored'] = neutral_games_df.query(\"home_team == @team\")['home_score'].sum() + neutral_games_df.query(\"away_team == @team\")['away_score'].sum()\n",
    "\n",
    "    teams.at[teams.team == team, 'goals_conceded'] = team_df.query(\"home_team == @team\")['away_score'].sum() + team_df.query(\"away_team == @team\")['home_score'].sum()\n",
    "    teams.at[teams.team == team, 'home_goals_conceded'] = home_games_df.query(\"home_team == @team\")['away_score'].sum() + home_games_df.query(\"away_team == @team\")['home_score'].sum()\n",
    "    teams.at[teams.team == team, 'away_goals_conceded'] = away_games_df.query(\"home_team == @team\")['away_score'].sum() + away_games_df.query(\"away_team == @team\")['home_score'].sum()\n",
    "    teams.at[teams.team == team, 'neutral_goals_conceded'] = neutral_games_df.query(\"home_team == @team\")['away_score'].sum() + neutral_games_df.query(\"away_team == @team\")['home_score'].sum()\n",
    "\n",
    "    counter = counter + 1\n",
    "\n",
    "teams.to_csv(path.join(PATH_DST, 'teams_statistics.csv'))"
   ]
  },
  {
   "cell_type": "code",
   "execution_count": null,
   "metadata": {},
   "outputs": [],
   "source": [
    "plt.rcParams.update({'figure.figsize':(30,30), 'figure.dpi':100})\n",
    "fig, axs = plt.subplots(4, 2)\n",
    "\n",
    "df = pd.read_csv(path.join(PATH_DST, 'teams_statistics.csv')).drop(columns=['Unnamed: 0'])\n",
    "colors = list(mcolors.XKCD_COLORS)\n",
    "df['color'] = colors[:len(df)]\n",
    "\n",
    "df_axs = df.sort_values(by=['games'], ascending=False)\n",
    "axs[0, 0].set_title(\"Squadra che ha giocato di più\")\n",
    "axs[0, 0].barh(df_axs.team.values[:10], df_axs.games.values[:10], color=df_axs.color.values[:10], edgecolor='black')\n",
    "\n",
    "df_axs = df.sort_values(by=['wins'], ascending=False)\n",
    "axs[0, 1].set_title(\"Squadra che ha vinto di più\")\n",
    "axs[0, 1].barh(df_axs.team.values[:10], df_axs.wins.values[:10], color=df_axs.color.values[:10], edgecolor='black')\n",
    "\n",
    "df_axs = df.sort_values(by=['defeats'], ascending=False)\n",
    "axs[1, 0].set_title(\"Squadra che ha perso di più\")\n",
    "axs[1, 0].barh(df_axs.team.values[:10], df_axs.defeats.values[:10], color=df_axs.color.values[:10], edgecolor='black')\n",
    "\n",
    "df_axs = df.sort_values(by=['draws'], ascending=False)\n",
    "axs[1, 1].set_title(\"Squadra che ha pareggiato di più\")\n",
    "axs[1, 1].barh(df_axs.team.values[:10], df_axs.draws.values[:10], color=df_axs.color.values[:10], edgecolor='black')\n",
    "\n",
    "df_axs = df.sort_values(by=['goals_scored'], ascending=False)\n",
    "axs[2, 0].set_title(\"Squadra che ha segnato di più\")\n",
    "axs[2, 0].barh(df_axs.team.values[:10], df_axs.goals_scored.values[:10], color=df_axs.color.values[:10], edgecolor='black')\n",
    "\n",
    "df_axs = df.sort_values(by=['goals_scored'], ascending=True)\n",
    "axs[2, 1].set_title(\"Squadra che ha segnato di meno\")\n",
    "axs[2, 1].barh(df_axs.team.values[:10], df_axs.goals_scored.values[:10], color=df_axs.color.values[:10], edgecolor='black')\n",
    "\n",
    "df_axs = df.sort_values(by=['goals_conceded'], ascending=False)\n",
    "axs[3, 0].set_title(\"Squadra che ha concesso di più\")\n",
    "axs[3, 0].barh(df_axs.team.values[:10], df_axs.goals_conceded.values[:10], color=df_axs.color.values[:10], edgecolor='black')\n",
    "\n",
    "df_axs = df.sort_values(by=['goals_conceded'], ascending=True)\n",
    "axs[3, 1].set_title(\"Squadra che ha segnato di meno\")\n",
    "axs[3, 1].barh(df_axs.team.values[:10], df_axs.goals_conceded.values[:10], color=df_axs.color.values[:10], edgecolor='black')\n",
    "\n",
    "plt.show()"
   ]
  },
  {
   "cell_type": "markdown",
   "metadata": {},
   "source": [
    "correlazione di partite risultati di partite con goal fatti e subiti"
   ]
  },
  {
   "cell_type": "code",
   "execution_count": null,
   "metadata": {},
   "outputs": [],
   "source": [
    "df = pd.read_csv(path.join(PATH_DST, 'teams_statistics.csv')).drop(columns=['Unnamed: 0','games', 'home_games', 'away_games',\n",
    "    'neutral_games','home_wins', 'away_wins', 'neutral_wins','home_defeats', 'away_defeats', 'neutral_defeats','home_draws', 'away_draws', 'neutral_draws','home_goals_scored', 'away_goals_scored',\n",
    "    'neutral_goals_scored','home_goals_conceded',\n",
    "    'away_goals_conceded', 'neutral_goals_conceded'])\n",
    "\n",
    "# sns.heatmap(df.corr(method='spearman'), annot=True)\n",
    "\n",
    "plt.figure(figsize=(5, 5))\n",
    "sns.heatmap(df.corr(method='spearman')[['goals_scored','goals_conceded']].sort_values(by=['goals_scored','goals_conceded'], ascending=False), vmin=-1, vmax=1, annot=True)\n",
    "\n",
    "plt.show()"
   ]
  },
  {
   "cell_type": "markdown",
   "metadata": {},
   "source": [
    "correlazione tra partite giocate in casa/ fuori casa e partite neutrali/away/home"
   ]
  },
  {
   "cell_type": "code",
   "execution_count": null,
   "metadata": {},
   "outputs": [],
   "source": [
    "# df = pd.read_csv(path.join(PATH_DST, 'teams_statistics.csv')).drop(columns=['Unnamed: 0'])\n",
    "\n",
    "# correlated = df.corr(method='spearman').unstack().sort_values(ascending=False).drop_duplicates()\n",
    "# correlated[1:15]\n",
    "\n",
    "# strong_corr = correlated[(correlated >= .7) & (correlated <= 1)]\n",
    "# moderate_corr = correlated[(correlated >= .3) & (correlated <= .7)]\n",
    "# weak_corr = correlated[(correlated >= .0) & (correlated <= .3)]\n",
    "\n",
    "# print(strong_corr.__len__())\n",
    "# print(moderate_corr.__len__())\n",
    "# print(weak_corr.__len__())\n",
    "# print(strong_corr)\n",
    "# strong_corr.to_csv(\"output.csv\")\n",
    "\n",
    "df = pd.read_csv(path.join(PATH_DST, 'teams_statistics.csv')).drop(columns=['Unnamed: 0', 'confederation', 'games','wins','defeats','draws','goals_scored', 'home_goals_scored', 'away_goals_scored',\n",
    "    'neutral_goals_scored', 'goals_conceded', 'home_goals_conceded',\n",
    "    'away_goals_conceded', 'neutral_goals_conceded'])\n",
    "\n",
    "# df.columns.values\n",
    "\n",
    "sns.heatmap(df.corr(),annot=True)\n",
    "plt.show()"
   ]
  },
  {
   "cell_type": "markdown",
   "metadata": {},
   "source": [
    "## Parte 3 - Modello predittivo di goal fatti e subiti "
   ]
  },
  {
   "cell_type": "code",
   "execution_count": null,
   "metadata": {},
   "outputs": [],
   "source": [
    "df = pd.read_csv(path.join(PATH_DST, 'dataset_v3.csv')).drop(columns=['Unnamed: 0'])"
   ]
  },
  {
   "cell_type": "markdown",
   "metadata": {},
   "source": [
    "### 3A - Visualizzazioni"
   ]
  },
  {
   "cell_type": "markdown",
   "metadata": {},
   "source": [
    "Somma cumulativa dei risultati una specifica squadra"
   ]
  },
  {
   "cell_type": "code",
   "execution_count": null,
   "metadata": {},
   "outputs": [],
   "source": [
    "plt.rcParams.update({'figure.figsize':(8,5), 'figure.dpi':100})\n",
    "show_cdf(df, 'Italy')"
   ]
  },
  {
   "cell_type": "code",
   "execution_count": null,
   "metadata": {},
   "outputs": [],
   "source": [
    "show_cdf_splitted(df, 'Italy')"
   ]
  },
  {
   "cell_type": "markdown",
   "metadata": {},
   "source": [
    "Distribuzione dei goal segnati squadra di casa / squadra fuori casa"
   ]
  },
  {
   "cell_type": "code",
   "execution_count": null,
   "metadata": {},
   "outputs": [],
   "source": [
    "plt.figure(figsize=(20,5))\n",
    "sns.histplot(df[df['home_score'] > 0]['home_score'], kde=False, bins=30, label=\"Home score\", color=\"y\")\n",
    "sns.histplot(df[df['away_score'] > 0]['away_score'], kde=False, bins=30, label=\"Away score\", color=\"b\")\n",
    "# plt.xticks([i for i in range(1,15)])\n",
    "plt.legend()\n",
    "plt.title(\"Distribuzione di goals segnati\")\n",
    "plt.xlabel(\"Goals\")\n",
    "plt.ylabel(\"Frequenza\")\n",
    "plt.show()"
   ]
  },
  {
   "cell_type": "markdown",
   "metadata": {},
   "source": [
    "Boxplot goal fatti / concessi rispettivamente nella squadra di casa e non"
   ]
  },
  {
   "cell_type": "code",
   "execution_count": null,
   "metadata": {},
   "outputs": [],
   "source": [
    "# boxplot con i goal medi delle squadre\n",
    "\n",
    "neutral_games = df.query(\"neutral == True\")\n",
    "not_neutral_games = df.query(\"neutral == False\")\n",
    "\n",
    "plt.figure(figsize=(20,5))\n",
    "scores = {\n",
    "    'home_score_NEUTRAL': neutral_games['home_score'], 'away_score_NEUTRAL': neutral_games['away_score'],\n",
    "    'home_score_NOT_NEUTRAL': not_neutral_games['home_score'], 'away_score_NOT_NEUTRAL': not_neutral_games['away_score'],\n",
    "    }\n",
    "plt.boxplot(scores.values())\n",
    "\n",
    "ax = plt.gca()\n",
    "ax.set_xticklabels(scores.keys())\n",
    "\n",
    "plt.show()"
   ]
  },
  {
   "cell_type": "markdown",
   "metadata": {},
   "source": [
    "### 3B - Individuo la distribuzione e controllo la correlazione"
   ]
  },
  {
   "cell_type": "code",
   "execution_count": null,
   "metadata": {},
   "outputs": [],
   "source": [
    "# confronto l'istogramma con la distribuzione di poisson per vedere se sono simili\n",
    "plt.figure(figsize=(20,5))\n",
    "\n",
    "plt.hist(df[['home_score', 'away_score']].values, range(6), alpha=0.8, label=['Home', 'Away'], density=True, color=[\"#6fa8dc\", \"#f6b26b\"])\n",
    "\n",
    "# sns.histplot(df[df['home_score'] > 0]['home_score'], kde=False, bins=30, label=\"Home score\", color=\"y\")\n",
    "# sns.histplot(df[df['away_score'] > 0]['away_score'], kde=False, bins=30, label=\"Away score\", color=\"b\")\n",
    "# plt.xticks([i for i in range(1,15)])\n",
    "\n",
    "means = df[['home_score','away_score']].mean()\n",
    "# construct Poisson  for each mean goals value\n",
    "poisson_pred = np.column_stack([[poisson.pmf(k, means[j]) for k in range(8)] for j in range(2)])\n",
    "\n",
    "plt.plot([i-0.5 for i in range(1,9)], poisson_pred[:,0],linestyle='-', marker='o',label=\"Home\", color = '#6fa8dc')\n",
    "plt.plot([i-0.5 for i in range(1,9)], poisson_pred[:,1],linestyle='-', marker='o',label=\"Away\", color = '#f6b26b')\n",
    "\n",
    "plt.legend()\n",
    "plt.title(\"Distribuzione di goals segnati\")\n",
    "plt.xlabel(\"Goals\")\n",
    "plt.ylabel(\"Frequenza\")\n",
    "plt.show()"
   ]
  },
  {
   "cell_type": "code",
   "execution_count": null,
   "metadata": {},
   "outputs": [],
   "source": [
    "# devo individuare la distribuzione notevole che più approssima il campione preso in esame.\n",
    "\n",
    "# nota: voglio prevedere il numero di goal fatti dalla squadra home e quella away\n",
    "\n",
    "# Supponiamo di sapere per certo che i pesi si distribuiscono secondo una distribuzione Gaussiana ed \n",
    "# effettuiamo il fit dei parametri. Confrontiamo dunque la Gaussiana trovata con l'istogramma di densità e la\n",
    "# stima di densità del campione:\n",
    "\n",
    "fig, axs = plt.subplots(2,1)\n",
    "sns.despine(left=True)\n",
    "\n",
    "sns.distplot(df['home_score'], ax=axs[0])\n",
    "sns.distplot(df['away_score'], ax=axs[1])\n",
    "\n",
    "plt.setp(axs, yticks=[])\n",
    "plt.tight_layout()\n",
    "plt.show()\n",
    "\n",
    "print(\"Skewness home_score: %f\" % df['home_score'].skew())\n",
    "print(\"Skewness away_score: %f\" % df['away_score'].skew())\n",
    "print(\"Kurtosis home_score: %f\" % df['home_score'].skew())\n",
    "print(\"Kurtosis away_score: %f\" % df['away_score'].skew())\n",
    "\n",
    "# da notare l'asimmetria a dx e scriverlo.. e curtosi verso un certo punto."
   ]
  },
  {
   "cell_type": "code",
   "execution_count": null,
   "metadata": {},
   "outputs": [],
   "source": [
    "df['total_score'] = df['home_score'] + df['away_score']\n",
    "sns.lmplot('total_score','away_score',data=df)\n",
    "plt.show()"
   ]
  },
  {
   "cell_type": "code",
   "execution_count": null,
   "metadata": {},
   "outputs": [],
   "source": [
    "sns.lmplot('total_score','away_score',data=df)\n",
    "plt.show()"
   ]
  },
  {
   "cell_type": "code",
   "execution_count": null,
   "metadata": {},
   "outputs": [],
   "source": [
    "sns.heatmap(df.drop(columns=['year']).corr(),annot=True)\n",
    "plt.show()"
   ]
  },
  {
   "cell_type": "markdown",
   "metadata": {},
   "source": [
    "### 3C - Rimuovo outliers\n",
    "\n",
    "e vedo le differenze...."
   ]
  },
  {
   "cell_type": "code",
   "execution_count": null,
   "metadata": {},
   "outputs": [],
   "source": [
    "df.describe()"
   ]
  },
  {
   "cell_type": "code",
   "execution_count": null,
   "metadata": {},
   "outputs": [],
   "source": [
    "print(f\"rows before removing: {df.shape[0]}\")\n",
    "df = remove_outliers(df, 'home_score')\n",
    "df = remove_outliers(df, 'away_score')\n",
    "print(f\"rows after removing: {df.shape[0]}\")"
   ]
  },
  {
   "cell_type": "code",
   "execution_count": null,
   "metadata": {},
   "outputs": [],
   "source": [
    "df.describe()"
   ]
  },
  {
   "cell_type": "code",
   "execution_count": null,
   "metadata": {},
   "outputs": [],
   "source": [
    "fig, axs = plt.subplots(2,1)\n",
    "sns.despine(left=True)\n",
    "\n",
    "sns.distplot(df['home_score'], ax=axs[0])\n",
    "sns.distplot(df['away_score'], ax=axs[1])\n",
    "\n",
    "plt.setp(axs, yticks=[])\n",
    "plt.tight_layout()\n",
    "plt.show()\n",
    "\n",
    "print(\"Skewness home_score: %f\" % df['home_score'].skew())\n",
    "print(\"Skewness away_score: %f\" % df['away_score'].skew())\n",
    "print(\"Kurtosis home_score: %f\" % df['home_score'].skew())\n",
    "print(\"Kurtosis away_score: %f\" % df['away_score'].skew())"
   ]
  },
  {
   "cell_type": "code",
   "execution_count": null,
   "metadata": {},
   "outputs": [],
   "source": [
    "sns.lmplot('total_score','away_score',data=df)\n",
    "plt.show()"
   ]
  },
  {
   "cell_type": "code",
   "execution_count": null,
   "metadata": {},
   "outputs": [],
   "source": [
    "sns.lmplot('total_score','away_score',data=df)\n",
    "plt.show()"
   ]
  },
  {
   "cell_type": "code",
   "execution_count": null,
   "metadata": {},
   "outputs": [],
   "source": [
    "sns.heatmap(df.drop(columns=['year']).corr(),annot=True)\n",
    "plt.show()"
   ]
  },
  {
   "cell_type": "code",
   "execution_count": null,
   "metadata": {},
   "outputs": [],
   "source": [
    "df.reset_index(drop=True).to_csv(path.join(PATH_DST, \"dataset_v4.csv\"))"
   ]
  },
  {
   "cell_type": "markdown",
   "metadata": {},
   "source": [
    "## d - Modello"
   ]
  },
  {
   "cell_type": "code",
   "execution_count": null,
   "metadata": {},
   "outputs": [],
   "source": [
    "#### ----- completaaaa ------\n",
    "\n",
    "# confronto con cdf\n",
    "plt.figure(figsize=(10,6))\n",
    "\n",
    "# weight home_score\n",
    "cdf_hs = df['home_score'].value_counts(normalize=True).sort_index().cumsum()\n",
    "cdf_hs.plot()\n",
    "\n",
    "# poisson cdf predicted\n",
    "poisson_pred = [poisson.pmf(k, means[0]) for k in cdf_hs.index.values]\n",
    "#TODO\n",
    "\n",
    "plt.plot()\n",
    "plt.grid()\n",
    "plt.legend(['CDF Campione','CDF Poisson'])\n",
    "plt.show()"
   ]
  },
  {
   "cell_type": "code",
   "execution_count": null,
   "metadata": {},
   "outputs": [],
   "source": [
    "# posso anche considerarmi il caso con outliers\n",
    "# e con encoding\n",
    "df = pd.read_csv(path.join(PATH_DST, 'dataset_v4.csv')).drop(columns=['Unnamed: 0'])\n",
    "\n",
    "matches_model_data = pd.concat([df[['home_team','away_team','home_score']].rename(columns={'home_team':'team', 'away_team':'opponent','home_score':'goals'}),\n",
    "            df[['away_team','home_team','away_score']].rename(columns={'away_team':'team', 'home_team':'opponent','away_score':'goals'})])\n",
    "\n",
    "poisson_model = smf.glm(formula=\"goals ~ team + opponent\", data=matches_model_data, \n",
    "                        family=sm.families.Poisson()).fit()\n",
    "\n",
    "poisson_model.summary()"
   ]
  },
  {
   "cell_type": "code",
   "execution_count": null,
   "metadata": {},
   "outputs": [],
   "source": [
    "print(get_match_result(poisson_model, 'Germany', 'Spain'))\n",
    "print(get_match_result(poisson_model, 'Argentina', 'Germany'))\n",
    "print(get_match_result(poisson_model, 'England', 'Morocco'))\n",
    "print(get_match_result(poisson_model, 'Italy', 'Brazil'))"
   ]
  },
  {
   "cell_type": "code",
   "execution_count": null,
   "metadata": {},
   "outputs": [],
   "source": []
  }
 ],
 "metadata": {
  "interpreter": {
   "hash": "df4bf9cb7965da357c4b6c51f18c30aca47f03f7eca761aed8b6baf28facbe12"
  },
  "kernelspec": {
   "display_name": "Python 3.8.8 64-bit ('venv': venv)",
   "name": "python3"
  },
  "language_info": {
   "codemirror_mode": {
    "name": "ipython",
    "version": 3
   },
   "file_extension": ".py",
   "mimetype": "text/x-python",
   "name": "python",
   "nbconvert_exporter": "python",
   "pygments_lexer": "ipython3",
   "version": "3.8.8"
  },
  "orig_nbformat": 4
 },
 "nbformat": 4,
 "nbformat_minor": 2
}
