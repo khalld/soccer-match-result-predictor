{
 "cells": [
  {
   "cell_type": "markdown",
   "source": [
    "## Import libs and custom vars"
   ],
   "metadata": {}
  },
  {
   "cell_type": "code",
   "execution_count": 1,
   "source": [
    "import pandas as pd\n",
    "import numpy as np\n",
    "from datetime import datetime\n",
    "from libs.utils import find_penalty, return_outcome, check_element, add_labels, find_range\n",
    "from matplotlib import pyplot as plt\n",
    "import matplotlib.colors as mcolors\n",
    "import datetime\n",
    "from numba import jit\n",
    "import pycountry_convert as pc\n"
   ],
   "outputs": [],
   "metadata": {}
  },
  {
   "cell_type": "markdown",
   "source": [
    "<b>L'obbiettivo del progetto è la costruzione di un modello per predizioni di match internazionali</b>\n",
    "\n",
    "\n",
    "<ul>\n",
    "    <li>Ci sono alcuni nomi di squadre che sono cambiate nel tempo, uniformizza </li>\n",
    "    <li>Shootouts è il db dei penalty, quindi bisogna manipolare il dataset per vedere chi vince alla fine quella partita</li>\n",
    "</ul>"
   ],
   "metadata": {}
  },
  {
   "cell_type": "markdown",
   "source": [
    "### Descrizione del dataset"
   ],
   "metadata": {}
  },
  {
   "cell_type": "markdown",
   "source": [
    "\n",
    "Il Dataset contiene 42483 risultati di partite di calcio internazionale maschile. In particolare, sono incluse sia le partite ufficiali di tutte le competizioni: dalle amichevoli alla coppa del mondo eccetto i Giochi Olimpici o le partite dove almeno una delle due squadre era la squadra B o U-23. Inoltre, il dataset presenta un ulteriore file che contiene 432 risultati di partite terminate con i calci di rigore, <u>che non considereremo in quanto il modello dovrà predirre il risultato come: 'Home win', 'Draw', 'Away win'.</u>"
   ],
   "metadata": {}
  },
  {
   "cell_type": "code",
   "execution_count": 2,
   "source": [
    "dst_df = pd.read_csv('dataset/results.csv');\n",
    "\n",
    "print(\"Null values:\", dst_df.isnull().values.any(), \"| shape:\", dst_df.shape)\n",
    "print(\"***\"*15)\n",
    "print(dst_df.info())"
   ],
   "outputs": [
    {
     "output_type": "stream",
     "name": "stdout",
     "text": [
      "Null values: False | shape: (42483, 9)\n",
      "*********************************************\n",
      "<class 'pandas.core.frame.DataFrame'>\n",
      "RangeIndex: 42483 entries, 0 to 42482\n",
      "Data columns (total 9 columns):\n",
      " #   Column      Non-Null Count  Dtype \n",
      "---  ------      --------------  ----- \n",
      " 0   date        42483 non-null  object\n",
      " 1   home_team   42483 non-null  object\n",
      " 2   away_team   42483 non-null  object\n",
      " 3   home_score  42483 non-null  int64 \n",
      " 4   away_score  42483 non-null  int64 \n",
      " 5   tournament  42483 non-null  object\n",
      " 6   city        42483 non-null  object\n",
      " 7   country     42483 non-null  object\n",
      " 8   neutral     42483 non-null  bool  \n",
      "dtypes: bool(1), int64(2), object(6)\n",
      "memory usage: 2.6+ MB\n",
      "None\n"
     ]
    }
   ],
   "metadata": {}
  },
  {
   "cell_type": "markdown",
   "source": [
    "### Preparazione del daset\n",
    "- campo date formattato in anno\n",
    "- colonna 'risultato'\n",
    "- converto home_score e away_score in float"
   ],
   "metadata": {}
  },
  {
   "cell_type": "code",
   "execution_count": 3,
   "source": [
    "dst_df = dst_df.astype({\"home_score\": float, \"away_score\": float})\n",
    "\n",
    "dst_df['outcome'] = None\n",
    "dst_df['day'] = None\n",
    "dst_df['month'] = None\n",
    "dst_df['year'] = None\n",
    "\n",
    "date_separator = ', '\n",
    "\n",
    "counter = 0\n",
    "for i in range(0, len(dst_df)):\n",
    "    counter = counter + 1\n",
    "    print('*** Processing %d/%d ***' % (counter, len(dst_df)), end='\\r')\n",
    "\n",
    "    # Formatto i nomi dei continenti per standardizzarli al dataset FIFA usato dopo\n",
    "    if(dst_df.loc[i]['country'] == 'United States'):\n",
    "        dst_df.at[i, 'country'] = 'USA'\n",
    "\n",
    "    # estraggo dati necessari dalla data\n",
    "    row_date = datetime.date.fromisoformat(dst_df.iloc[i]['date'])\n",
    "    dst_df.at[i, 'day'] = row_date.strftime('%d') + date_separator + row_date.strftime('%A')\n",
    "    dst_df.at[i, 'month'] = row_date.strftime('%B')\n",
    "    dst_df.at[i, 'year'] = int(row_date.strftime('%Y'))\n",
    "\n",
    "    # calcolo il risultato della partita\n",
    "    dst_df.at[i, 'outcome'] = return_outcome(dst_df.iloc[i]['home_score'], dst_df.iloc[i]['away_score'])\n",
    "\n",
    "    # deprecato\n",
    "    # if(dst_df.iloc[i]['outcome'] == 'D'):\n",
    "    #     dst_df.at[i, 'outcome'] = find_penalty(data['results'].iloc[i], data['shootouts'], sht_len - 1)\n",
    "\n",
    "dst_df.drop(labels=['date'], axis=1, inplace=True)\n",
    "dst_df.to_csv('dataset/dataset.csv')"
   ],
   "outputs": [
    {
     "output_type": "stream",
     "name": "stdout",
     "text": []
    }
   ],
   "metadata": {}
  },
  {
   "cell_type": "markdown",
   "source": [
    "### To do:\n",
    "1. <s>Statistica descrittiva</s> DOING\n",
    "2. PMF sui dati degli anni / approssimaziona a CMF (?)\n",
    "3. Barplot su:\n",
    "    - goal fatti\n",
    "    - sul numero di partite per continente\n",
    "4. Scatterplot\n",
    "    - sui goal ?\n",
    "    - dei risultati di outcome D/H/A (?)\n",
    "\n",
    "Da vedere come inserire:\n",
    "- comparare il numero di partite per nazione\n",
    "- score per games?\n",
    "\n",
    "Modelli:\n",
    "    - Regressione logistica\n",
    "    - Alberi decisionali\n",
    "    - o...?\n",
    "\n",
    "Da inserire (?)\n",
    "    - FIFa ranking per elaborazione modello\n",
    "        - regole del ranking\n",
    "        - spiegare funzionamento\n",
    "        - aggiungere 'ranking' in base alla data\n",
    "    \n",
    "Aggiuntivi da implementare via facendo + descrizione\n",
    "- Eliminare i paesi che hanno cambiato nome/pulizia dataset\n",
    "- Riduzione delle dimensionalità\n",
    "    - per il calcolo del modello considera solo se le partite sono state giocate in campo neutrale"
   ],
   "metadata": {}
  },
  {
   "cell_type": "code",
   "execution_count": 7,
   "source": [
    "dst = pd.read_csv('dataset/dataset.csv')\n",
    "dst.drop(labels=['Unnamed: 0', 'city'], axis=1, inplace=True)\n",
    "\n",
    "dst.head()"
   ],
   "outputs": [
    {
     "output_type": "execute_result",
     "data": {
      "text/html": [
       "<div>\n",
       "<style scoped>\n",
       "    .dataframe tbody tr th:only-of-type {\n",
       "        vertical-align: middle;\n",
       "    }\n",
       "\n",
       "    .dataframe tbody tr th {\n",
       "        vertical-align: top;\n",
       "    }\n",
       "\n",
       "    .dataframe thead th {\n",
       "        text-align: right;\n",
       "    }\n",
       "</style>\n",
       "<table border=\"1\" class=\"dataframe\">\n",
       "  <thead>\n",
       "    <tr style=\"text-align: right;\">\n",
       "      <th></th>\n",
       "      <th>home_team</th>\n",
       "      <th>away_team</th>\n",
       "      <th>home_score</th>\n",
       "      <th>away_score</th>\n",
       "      <th>tournament</th>\n",
       "      <th>country</th>\n",
       "      <th>neutral</th>\n",
       "      <th>outcome</th>\n",
       "      <th>day</th>\n",
       "      <th>month</th>\n",
       "      <th>year</th>\n",
       "    </tr>\n",
       "  </thead>\n",
       "  <tbody>\n",
       "    <tr>\n",
       "      <th>0</th>\n",
       "      <td>Scotland</td>\n",
       "      <td>England</td>\n",
       "      <td>0.0</td>\n",
       "      <td>0.0</td>\n",
       "      <td>Friendly</td>\n",
       "      <td>Scotland</td>\n",
       "      <td>False</td>\n",
       "      <td>Draw</td>\n",
       "      <td>30, Saturday</td>\n",
       "      <td>November</td>\n",
       "      <td>1872</td>\n",
       "    </tr>\n",
       "    <tr>\n",
       "      <th>1</th>\n",
       "      <td>England</td>\n",
       "      <td>Scotland</td>\n",
       "      <td>4.0</td>\n",
       "      <td>2.0</td>\n",
       "      <td>Friendly</td>\n",
       "      <td>England</td>\n",
       "      <td>False</td>\n",
       "      <td>Home</td>\n",
       "      <td>08, Saturday</td>\n",
       "      <td>March</td>\n",
       "      <td>1873</td>\n",
       "    </tr>\n",
       "    <tr>\n",
       "      <th>2</th>\n",
       "      <td>Scotland</td>\n",
       "      <td>England</td>\n",
       "      <td>2.0</td>\n",
       "      <td>1.0</td>\n",
       "      <td>Friendly</td>\n",
       "      <td>Scotland</td>\n",
       "      <td>False</td>\n",
       "      <td>Home</td>\n",
       "      <td>07, Saturday</td>\n",
       "      <td>March</td>\n",
       "      <td>1874</td>\n",
       "    </tr>\n",
       "    <tr>\n",
       "      <th>3</th>\n",
       "      <td>England</td>\n",
       "      <td>Scotland</td>\n",
       "      <td>2.0</td>\n",
       "      <td>2.0</td>\n",
       "      <td>Friendly</td>\n",
       "      <td>England</td>\n",
       "      <td>False</td>\n",
       "      <td>Draw</td>\n",
       "      <td>06, Saturday</td>\n",
       "      <td>March</td>\n",
       "      <td>1875</td>\n",
       "    </tr>\n",
       "    <tr>\n",
       "      <th>4</th>\n",
       "      <td>Scotland</td>\n",
       "      <td>England</td>\n",
       "      <td>3.0</td>\n",
       "      <td>0.0</td>\n",
       "      <td>Friendly</td>\n",
       "      <td>Scotland</td>\n",
       "      <td>False</td>\n",
       "      <td>Home</td>\n",
       "      <td>04, Saturday</td>\n",
       "      <td>March</td>\n",
       "      <td>1876</td>\n",
       "    </tr>\n",
       "  </tbody>\n",
       "</table>\n",
       "</div>"
      ],
      "text/plain": [
       "  home_team away_team  home_score  away_score tournament   country  neutral  \\\n",
       "0  Scotland   England         0.0         0.0   Friendly  Scotland    False   \n",
       "1   England  Scotland         4.0         2.0   Friendly   England    False   \n",
       "2  Scotland   England         2.0         1.0   Friendly  Scotland    False   \n",
       "3   England  Scotland         2.0         2.0   Friendly   England    False   \n",
       "4  Scotland   England         3.0         0.0   Friendly  Scotland    False   \n",
       "\n",
       "  outcome           day     month  year  \n",
       "0    Draw  30, Saturday  November  1872  \n",
       "1    Home  08, Saturday     March  1873  \n",
       "2    Home  07, Saturday     March  1874  \n",
       "3    Draw  06, Saturday     March  1875  \n",
       "4    Home  04, Saturday     March  1876  "
      ]
     },
     "metadata": {},
     "execution_count": 7
    }
   ],
   "metadata": {}
  },
  {
   "cell_type": "markdown",
   "source": [
    "### 1. Statistica descrittiva - Distribuzione dei dati"
   ],
   "metadata": {}
  },
  {
   "cell_type": "markdown",
   "source": [
    "Descrizione del dataset\n",
    "1. Numero di partie per anno\n",
    "2. Numero di partie per anno per contiente\n",
    "3. Numero di goal per anno (? / scatterplot)\n",
    "4. Numero di vittorie (scatterplot)\n"
   ],
   "metadata": {}
  },
  {
   "cell_type": "markdown",
   "source": [
    "##### Numero di partite per anno:"
   ],
   "metadata": {}
  },
  {
   "cell_type": "code",
   "execution_count": 5,
   "source": [
    "#### inserire prima guerra mondiale, seconda e covid\n",
    "\n",
    "mpy = dst['year'].value_counts().sort_index()\n",
    "\n",
    "plt.figure(figsize=(10,4))\n",
    "plt.title(label='Number of games per year')\n",
    "plt.ylabel(ylabel='number of games')\n",
    "plt.xlabel(xlabel='years')\n",
    "plt.plot(mpy)\n",
    "\n",
    "plt.grid()\n",
    "plt.show()"
   ],
   "outputs": [
    {
     "output_type": "display_data",
     "data": {
      "image/png": "[encoded data removed]",
      "text/plain": [
       "<Figure size 720x288 with 1 Axes>"
      ]
     },
     "metadata": {
      "needs_background": "light"
     }
    }
   ],
   "metadata": {}
  },
  {
   "cell_type": "markdown",
   "source": [
    "##### Numero di partite giocate per anno da ogni continente"
   ],
   "metadata": {}
  },
  {
   "cell_type": "code",
   "execution_count": 8,
   "source": [
    "# continente in cui è stato disputato il match\n",
    "dst['continent'] = ''\n",
    "\n",
    "# mi ricavo le confederazioni delle nazionali dal dataset FIFA\n",
    "dst_fifa = pd.read_csv('dataset/fifa_ranking-2021-05-27.csv')\n",
    "dst_fifa.drop(labels=['rank', 'rank_date', 'rank_change', 'total_points', 'previous_points', 'id'], axis=1, inplace=True)\n",
    "dst_fifa.drop_duplicates(subset=\"country_full\", keep=\"first\", inplace=True)\n",
    "\n",
    "# so già a prescindere che ci saranno delle nazioni non riconosciute\n",
    "df_nocontinent_found = pd.DataFrame(columns=dst.columns)\n",
    "\n",
    "index_mismatches_dst = []\n",
    "\n",
    "for i in range(0, len(dst)):\n",
    "    if( dst_fifa[(dst_fifa.country_full == dst.iloc[i]['country'])]['confederation'].values.__len__() == 1 ):\n",
    "        confederation = dst_fifa[(dst_fifa.country_full == dst.iloc[i]['country'])]['confederation'].values[0]\n",
    "        \n",
    "        if confederation == \"UEFA\":\n",
    "            continent = \"Europe\"\n",
    "\n",
    "        if(confederation == \"AFC\"):\n",
    "            continent = \"Asia\"\n",
    "        \n",
    "        if(confederation == \"CAF\"):\n",
    "            continent = \"Africa\"\n",
    "\n",
    "        if(confederation == \"OFC\"):\n",
    "            continent = \"Oceania\"\n",
    "\n",
    "        if confederation in \"CONCACAF\":\n",
    "            continent = \"America\"\n",
    "\n",
    "        if confederation in \"CONMEBOL\":\n",
    "            continent = \"America\"\n",
    "\n",
    "        dst.at[i, 'continent'] = continent\n",
    "    else:\n",
    "        df_nocontinent_found = df_nocontinent_found.append(dst.iloc[i])\n",
    "\n",
    "# salvo per evitare di doverlo ricreare se faccio errori\n",
    "dst.to_csv(\"dataset/dataset_continent.csv\")\n",
    "# per analizzare meglio salvo il csv\n",
    "df_nocontinent_found.to_csv('output.csv')"
   ],
   "outputs": [],
   "metadata": {}
  },
  {
   "cell_type": "code",
   "execution_count": null,
   "source": [
    "df_nocontinent_found.info()"
   ],
   "outputs": [],
   "metadata": {}
  },
  {
   "cell_type": "markdown",
   "source": [
    "Converto i le country con quelle aggiornate"
   ],
   "metadata": {}
  },
  {
   "cell_type": "code",
   "execution_count": null,
   "source": [
    "df_nocontinent_found.index, type(df_nocontinent_found.index)"
   ],
   "outputs": [],
   "metadata": {}
  },
  {
   "cell_type": "code",
   "execution_count": null,
   "source": [
    "df_nocontinent_found = pd.read_csv('output.csv')\n",
    "dst = pd.read_csv('dataset/dataset_continent.csv')\n",
    "# risalvalo alla fine quando tutto va bene come dataset normale anche nella cella sopra! oppure elimina proprio il save"
   ],
   "outputs": [],
   "metadata": {}
  },
  {
   "cell_type": "code",
   "execution_count": null,
   "source": [
    "for i in df_nocontinent_found.index:\n",
    "    print(dst.iloc[i])\n",
    "    if (dst.iloc[i]['country'] == 'Bohemia' or 'Soviet Union' or 'Irish Free State'):\n",
    "        dst.at[i, 'continent'] = 'Europe'\n",
    "\n",
    "    if (dst.iloc[i]['contruy'] == 'British Guyana' or 'Netherlands Guyana' or 'French Guiana' or 'Saint Kitts and Nevis' or 'Éire'):\n",
    "        dst.at[i, 'continent'] = 'America'\n",
    "\n",
    "    if (dst.iloc[i]['country'] == 'Manchuria'):\n",
    "        dst.at[i, 'continent'] = 'Asia'\n",
    "\n",
    "        #### sono arrivato ad ispezionare l'index 2346\n",
    "\n",
    "\n",
    "        break\n"
   ],
   "outputs": [],
   "metadata": {}
  },
  {
   "cell_type": "markdown",
   "source": [
    "Controllo i le nazioni non trovate, in quanto so già da prima che vi sono nazioni che hanno cambiato nome SCRIVI BENE"
   ],
   "metadata": {}
  },
  {
   "cell_type": "code",
   "execution_count": 29,
   "source": [
    "df_nocontinent_found.value_counts('country')"
   ],
   "outputs": [
    {
     "output_type": "execute_result",
     "data": {
      "text/plain": [
       "Series([], dtype: int64)"
      ]
     },
     "metadata": {},
     "execution_count": 29
    }
   ],
   "metadata": {}
  },
  {
   "cell_type": "markdown",
   "source": [
    "Vi sono delle incorenze da sistemare nel dataset delle partite sulle città in quanto sono stati"
   ],
   "metadata": {}
  },
  {
   "cell_type": "code",
   "execution_count": 8,
   "source": [
    "dst_nan = dst[dst.isna().any(axis=1)]\n",
    "dst_nan.to_csv('output2.csv')\n",
    "dst_nan.head()"
   ],
   "outputs": [
    {
     "output_type": "execute_result",
     "data": {
      "text/html": [
       "<div>\n",
       "<style scoped>\n",
       "    .dataframe tbody tr th:only-of-type {\n",
       "        vertical-align: middle;\n",
       "    }\n",
       "\n",
       "    .dataframe tbody tr th {\n",
       "        vertical-align: top;\n",
       "    }\n",
       "\n",
       "    .dataframe thead th {\n",
       "        text-align: right;\n",
       "    }\n",
       "</style>\n",
       "<table border=\"1\" class=\"dataframe\">\n",
       "  <thead>\n",
       "    <tr style=\"text-align: right;\">\n",
       "      <th></th>\n",
       "      <th>home_team</th>\n",
       "      <th>away_team</th>\n",
       "      <th>home_score</th>\n",
       "      <th>away_score</th>\n",
       "      <th>tournament</th>\n",
       "      <th>country</th>\n",
       "      <th>neutral</th>\n",
       "      <th>outcome</th>\n",
       "      <th>day</th>\n",
       "      <th>month</th>\n",
       "      <th>year</th>\n",
       "      <th>confederation</th>\n",
       "    </tr>\n",
       "  </thead>\n",
       "  <tbody>\n",
       "    <tr>\n",
       "      <th>41</th>\n",
       "      <td>USA</td>\n",
       "      <td>Canada</td>\n",
       "      <td>0.0</td>\n",
       "      <td>1.0</td>\n",
       "      <td>Friendly</td>\n",
       "      <td>United States</td>\n",
       "      <td>False</td>\n",
       "      <td>Away</td>\n",
       "      <td>28, Saturday</td>\n",
       "      <td>November</td>\n",
       "      <td>1885</td>\n",
       "      <td>None</td>\n",
       "    </tr>\n",
       "    <tr>\n",
       "      <th>48</th>\n",
       "      <td>USA</td>\n",
       "      <td>Canada</td>\n",
       "      <td>3.0</td>\n",
       "      <td>2.0</td>\n",
       "      <td>Friendly</td>\n",
       "      <td>United States</td>\n",
       "      <td>False</td>\n",
       "      <td>Home</td>\n",
       "      <td>25, Thursday</td>\n",
       "      <td>November</td>\n",
       "      <td>1886</td>\n",
       "      <td>None</td>\n",
       "    </tr>\n",
       "    <tr>\n",
       "      <th>189</th>\n",
       "      <td>Czechoslovakia</td>\n",
       "      <td>Hungary</td>\n",
       "      <td>4.0</td>\n",
       "      <td>4.0</td>\n",
       "      <td>Friendly</td>\n",
       "      <td>Bohemia</td>\n",
       "      <td>False</td>\n",
       "      <td>Draw</td>\n",
       "      <td>07, Sunday</td>\n",
       "      <td>October</td>\n",
       "      <td>1906</td>\n",
       "      <td>None</td>\n",
       "    </tr>\n",
       "    <tr>\n",
       "      <th>203</th>\n",
       "      <td>Czechoslovakia</td>\n",
       "      <td>Hungary</td>\n",
       "      <td>5.0</td>\n",
       "      <td>3.0</td>\n",
       "      <td>Friendly</td>\n",
       "      <td>Bohemia</td>\n",
       "      <td>False</td>\n",
       "      <td>Home</td>\n",
       "      <td>06, Sunday</td>\n",
       "      <td>October</td>\n",
       "      <td>1907</td>\n",
       "      <td>None</td>\n",
       "    </tr>\n",
       "    <tr>\n",
       "      <th>223</th>\n",
       "      <td>Czechoslovakia</td>\n",
       "      <td>England</td>\n",
       "      <td>0.0</td>\n",
       "      <td>4.0</td>\n",
       "      <td>Friendly</td>\n",
       "      <td>Bohemia</td>\n",
       "      <td>False</td>\n",
       "      <td>Away</td>\n",
       "      <td>13, Saturday</td>\n",
       "      <td>June</td>\n",
       "      <td>1908</td>\n",
       "      <td>None</td>\n",
       "    </tr>\n",
       "  </tbody>\n",
       "</table>\n",
       "</div>"
      ],
      "text/plain": [
       "          home_team away_team  home_score  away_score tournament  \\\n",
       "41              USA    Canada         0.0         1.0   Friendly   \n",
       "48              USA    Canada         3.0         2.0   Friendly   \n",
       "189  Czechoslovakia   Hungary         4.0         4.0   Friendly   \n",
       "203  Czechoslovakia   Hungary         5.0         3.0   Friendly   \n",
       "223  Czechoslovakia   England         0.0         4.0   Friendly   \n",
       "\n",
       "           country  neutral outcome           day     month  year  \\\n",
       "41   United States    False    Away  28, Saturday  November  1885   \n",
       "48   United States    False    Home  25, Thursday  November  1886   \n",
       "189        Bohemia    False    Draw    07, Sunday   October  1906   \n",
       "203        Bohemia    False    Home    06, Sunday   October  1907   \n",
       "223        Bohemia    False    Away  13, Saturday      June  1908   \n",
       "\n",
       "    confederation  \n",
       "41           None  \n",
       "48           None  \n",
       "189          None  \n",
       "203          None  \n",
       "223          None  "
      ]
     },
     "metadata": {},
     "execution_count": 8
    }
   ],
   "metadata": {}
  },
  {
   "cell_type": "code",
   "execution_count": 16,
   "source": [
    "rng = np.arange(50)\n",
    "rnd = np.random.randint(0, 10, size=(3, rng.size))\n",
    "yrs = 1950 + rng\n",
    "\n",
    "fig, ax = plt.subplots(figsize=(5, 3))\n",
    "ax.stackplot(yrs, rng + rnd, labels=['Eastasia', 'Eurasia', 'Oceania'])\n",
    "ax.set_title('Combined debt growth over time')\n",
    "ax.legend(loc='upper left')\n",
    "ax.set_ylabel('Total debt')\n",
    "ax.set_xlim(xmin=yrs[0], xmax=yrs[-1])\n",
    "fig.tight_layout()"
   ],
   "outputs": [
    {
     "output_type": "display_data",
     "data": {
      "image/png": "[encoded data removed]",
      "text/plain": [
       "<Figure size 360x216 with 1 Axes>"
      ]
     },
     "metadata": {
      "needs_background": "light"
     }
    }
   ],
   "metadata": {}
  }
 ],
 "metadata": {
  "orig_nbformat": 4,
  "language_info": {
   "name": "python",
   "version": "3.9.7",
   "mimetype": "text/x-python",
   "codemirror_mode": {
    "name": "ipython",
    "version": 3
   },
   "pygments_lexer": "ipython3",
   "nbconvert_exporter": "python",
   "file_extension": ".py"
  },
  "kernelspec": {
   "name": "python3",
   "display_name": "Python 3.9.7 64-bit"
  },
  "interpreter": {
   "hash": "aee8b7b246df8f9039afb4144a1f6fd8d2ca17a180786b69acc140d282b71a49"
  }
 },
 "nbformat": 4,
 "nbformat_minor": 2
}