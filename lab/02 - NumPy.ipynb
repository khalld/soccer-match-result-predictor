{
 "cells": [
  {
   "cell_type": "markdown",
   "metadata": {},
   "source": [
    "# <b>Fondamenti di Analisi Dati</b> - a.a. 2020/2021"
   ]
  },
  {
   "cell_type": "markdown",
   "metadata": {},
   "source": [
    "## 2 <b>NumPy</b>"
   ]
  },
  {
   "cell_type": "markdown",
   "metadata": {},
   "source": [
    "<b>NumPy</b> è la libreria di riferimento di <b>SciPy</b> per il calcolo scientifico. Il cuore della libreria è costituito dai <b>numpy array</b> che permettono di gestire agevolmente operazioni tra vettori e matrici. Gli array di Python sono in generale tensori, ovvero strutture numeriche dal numero di dimensioni variabili, che possono dunque essere array monodimensionali, matrici bidimensionali, o\n",
    "strutture a più dimensioni (es. cuboidi 10 x 10 x 10). Per utilizzare gli array di numpy, dobbiamo prima importare il pacchetto\n",
    "numpy."
   ]
  },
  {
   "cell_type": "code",
   "execution_count": 1,
   "metadata": {},
   "outputs": [],
   "source": [
    "import numpy as np #la notazione \"as\" ci permette di referenziare il namespace numpy semplicemente con np in futuro"
   ]
  },
  {
   "cell_type": "markdown",
   "metadata": {},
   "source": [
    "### 2.1 NumPy Arrays"
   ]
  },
  {
   "cell_type": "markdown",
   "metadata": {},
   "source": [
    "Un array multidimensionale di numpy può essere definito a partire da una lista di liste."
   ]
  },
  {
   "cell_type": "code",
   "execution_count": 2,
   "metadata": {},
   "outputs": [
    {
     "name": "stdout",
     "output_type": "stream",
     "text": [
      "List of lists: [[1, 2, 3], [4, 5, 2], [1, 8, 3]]\n",
      "\n",
      "Numpy array:\n",
      " [[1 2 3]\n",
      " [4 5 2]\n",
      " [1 8 3]]\n",
      "\n",
      "Numpy array from tuple:\n",
      " [[1 2 3]\n",
      " [4 5 6]]\n"
     ]
    }
   ],
   "source": [
    "l = [[1,2,3],[4,5,2],[1,8,3]] #una lista contenente tre liste\n",
    "print(\"List of lists:\", l, end=\"\\n\\n\") #viene visualizzata così come l'abbiamo definita\n",
    "\n",
    "a = np.array(l) #costruisco un array di numpy a partire dalla lista di liste\n",
    "\n",
    "print(\"Numpy array:\\n\", a, end=\"\\n\\n\") #ogni lista interna viene identificata come una riga di unamatrice bidimensionale\n",
    "\n",
    "print(\"Numpy array from tuple:\\n\",np.array(((1,2,3),(4,5,6)))) #posso creare numpy array anche da tuple"
   ]
  },
  {
   "cell_type": "markdown",
   "metadata": {},
   "source": [
    "Ogni array di numpy ha una proprietà <i>shape</i> che ci permette di determinare il numero di dimensioni della struttura."
   ]
  },
  {
   "cell_type": "code",
   "execution_count": 3,
   "metadata": {},
   "outputs": [
    {
     "name": "stdout",
     "output_type": "stream",
     "text": [
      "(3, 3)\n"
     ]
    }
   ],
   "source": [
    "print(a.shape) #si tratta di una matrice 3 x 3"
   ]
  },
  {
   "cell_type": "code",
   "execution_count": 4,
   "metadata": {},
   "outputs": [
    {
     "name": "stdout",
     "output_type": "stream",
     "text": [
      "Array: [1 2 3 4] (4,) \n",
      "\n",
      "Matrix:\n",
      " [[1 2 3 4]\n",
      " [5 4 2 3]\n",
      " [7 5 3 2]\n",
      " [0 2 3 1]] (4, 4) \n",
      "\n",
      "Tensor:\n",
      " [[['1' '2' '3' '4']\n",
      "  ['a' 'b' 'c' 'd']]\n",
      "\n",
      " [['5' '4' '2' '3']\n",
      "  ['a' 'b' 'c' 'd']]\n",
      "\n",
      " [['7' '5' '3' '2']\n",
      "  ['a' 'b' 'c' 'd']]\n",
      "\n",
      " [['0' '2' '3' '1']\n",
      "  ['a' 'b' 'c' 'd']]] (4, 2, 4)\n"
     ]
    }
   ],
   "source": [
    "array = np.array([1,2,3,4])\n",
    "matrice = np.array([[1,2,3,4],[5,4,2,3],[7,5,3,2],[0,2,3,1]])\n",
    "tensore = np.array([[[1,2,3,4],['a','b','c','d']],[[5,4,2,3],['a','b','c','d']],[[7,5,3,2],['a','b','c','d']],[[0,2,3,1],['a','b','c','d']]])\n",
    "print('Array:',array, array.shape, \"\\n\") #array monodimensionale, avrà una sola dimensione\n",
    "print('Matrix:\\n',matrice, matrice.shape, \"\\n\")\n",
    "print('Tensor:\\n',tensore, tensore.shape) #tensore: avrà tre dimensioni"
   ]
  },
  {
   "cell_type": "markdown",
   "metadata": {},
   "source": [
    "Alcune operazioni tra numpy array:"
   ]
  },
  {
   "cell_type": "code",
   "execution_count": 5,
   "metadata": {},
   "outputs": [
    {
     "name": "stdout",
     "output_type": "stream",
     "text": [
      "Sum: [ 5  5 11  5]\n",
      "Elementwise multiplication: [ 4  6 24  4]\n",
      "Power of two: [ 1  4  9 16]\n",
      "Elementwise power: [   1    8 6561    4]\n",
      "Dot product: 38\n",
      "Minimum: 1\n",
      "Maximum: 4\n",
      "Sum: 16\n",
      "Product: 96\n",
      "Mean: 2.5\n"
     ]
    }
   ],
   "source": [
    "a1 = np.array([1,2,3,4])\n",
    "a2 = np.array([4,3,8,1])\n",
    "print(\"Sum:\",a1+a2) #somma tra vettori\n",
    "print(\"Elementwise multiplication:\",a1*a2) #moltiplicazione tra elementi corrispondenti\n",
    "print(\"Power of two:\",a1**2) #quadrato degli elementi\n",
    "print(\"Elementwise power:\",a1**a2) #elevamento a potenza elemento per elemento\n",
    "print(\"Dot product:\",a1.dot(a2)) #prodotto interno\n",
    "print(\"Minimum:\",a1.min()) #minimo dell'array\n",
    "print(\"Maximum:\",a1.max()) #massimo dell'array\n",
    "print(\"Sum:\",a2.sum()) #somma di tutti i valori dell'array\n",
    "print(\"Product:\",a2.prod()) #prodotto di tutti i valori dell'array\n",
    "print(\"Mean:\",a1.mean()) #media di tutti i valori dell'array"
   ]
  },
  {
   "cell_type": "markdown",
   "metadata": {},
   "source": [
    "Operazioni tra matrici:"
   ]
  },
  {
   "cell_type": "code",
   "execution_count": 6,
   "metadata": {},
   "outputs": [
    {
     "name": "stdout",
     "output_type": "stream",
     "text": [
      "m1:\n",
      " [[1 2 3 4]\n",
      " [5 4 2 3]\n",
      " [7 5 3 2]\n",
      " [0 2 3 1]] \n",
      "m2:\n",
      " [[8 2 1 4]\n",
      " [0 4 6 1]\n",
      " [4 4 2 0]\n",
      " [0 1 8 6]]\n",
      "Sum:\n",
      " [[ 9  4  4  8]\n",
      " [ 5  8  8  4]\n",
      " [11  9  5  2]\n",
      " [ 0  3 11  7]]\n",
      "Elementwise product:\n",
      " [[ 8  4  3 16]\n",
      " [ 0 16 12  3]\n",
      " [28 20  6  0]\n",
      " [ 0  2 24  6]]\n",
      "Power of two:\n",
      " [[ 1  4  9 16]\n",
      " [25 16  4  9]\n",
      " [49 25  9  4]\n",
      " [ 0  4  9  1]]\n",
      "Elementwise power:\n",
      " [[   1    4    3  256]\n",
      " [   1  256   64    3]\n",
      " [2401  625    9    1]\n",
      " [   1    2 6561    1]]\n",
      "Matrix multiplication:\n",
      " [[20 26 51 30]\n",
      " [48 37 57 42]\n",
      " [68 48 59 45]\n",
      " [12 21 26  8]]\n",
      "Minimum: 0\n",
      "Maximum: 7\n",
      "Minimum along columns: [0 2 2 1]\n",
      "Minimum along rows: [1 2 2 0]\n",
      "Sum: 47\n",
      "Mean: 2.9375\n",
      "Diagonal: [1 4 3 1]\n",
      "Transposed:\n",
      " [[1 5 7 0]\n",
      " [2 4 5 2]\n",
      " [3 2 3 3]\n",
      " [4 3 2 1]]\n"
     ]
    }
   ],
   "source": [
    "m1 = np.array([[1,2,3,4],[5,4,2,3],[7,5,3,2],[0,2,3,1]])\n",
    "m2 = np.array([[8,2,1,4],[0,4,6,1],[4,4,2,0],[0,1,8,6]])\n",
    "print(\"m1:\\n\",m1,\"\\nm2:\\n\",m2)\n",
    "print(\"Sum:\\n\",m1+m2) #somma tra matrici\n",
    "print(\"Elementwise product:\\n\",m1*m2) #prodotto elemento per elemento\n",
    "print(\"Power of two:\\n\",m1**2) #quadrato degli elementi\n",
    "print(\"Elementwise power:\\n\",m1**m2) #elevamento a potenza elemento per elemento\n",
    "print(\"Matrix multiplication:\\n\",m1.dot(m2)) #prodotto matriciale\n",
    "print(\"Minimum:\",m1.min()) #minimo\n",
    "print(\"Maximum:\",m1.max()) #massimo\n",
    "print(\"Minimum along columns:\",m1.min(0)) #minimo per colonne\n",
    "print(\"Minimum along rows:\",m1.min(1)) #minimo per righe\n",
    "print(\"Sum:\",m1.sum()) #somma dei valori\n",
    "print(\"Mean:\",m1.mean()) #valore medio\n",
    "print(\"Diagonal:\",m1.diagonal()) #diagonale principale della matrice\n",
    "print(\"Transposed:\\n\",m1.T) #matrice trasposta"
   ]
  },
  {
   "cell_type": "markdown",
   "metadata": {},
   "source": [
    "### 2.2 Linspace, Arange, Zeros, Ones, Eye e Random"
   ]
  },
  {
   "cell_type": "markdown",
   "metadata": {},
   "source": [
    "Le funzioni <b>linspace</b>, <b>arange</b>, <b>zeros</b>, <b>ones</b>, <b>eye</b> e <b>random</b> di numpy sono utili a generare array numerici.<br>\n",
    "In particolare <b>linspace</b> permette di generare una sequenza di <b>n</b> numeri equispaziati che vanno da un valore minimo a un valore massimo."
   ]
  },
  {
   "cell_type": "code",
   "execution_count": 7,
   "metadata": {},
   "outputs": [
    {
     "name": "stdout",
     "output_type": "stream",
     "text": [
      "[10.  12.5 15.  17.5 20. ]\n"
     ]
    }
   ],
   "source": [
    "a=np.linspace(10,20,5) # genera 5 valori equispaziati che vanno da 10 a 20\n",
    "print(a)"
   ]
  },
  {
   "cell_type": "markdown",
   "metadata": {},
   "source": [
    "<b>arange</b> è molto simile a range, ma restituisce direttamente un array di numpy:"
   ]
  },
  {
   "cell_type": "code",
   "execution_count": 8,
   "metadata": {},
   "outputs": [
    {
     "name": "stdout",
     "output_type": "stream",
     "text": [
      "[0 1 2 3 4 5 6 7 8 9]\n",
      "[1 2 3 4 5]\n",
      "[0 2 4 6]\n"
     ]
    }
   ],
   "source": [
    "print(np.arange(10)) #numeri da 0 a 9\n",
    "print(np.arange(1,6)) #numeri da 1 a 5\n",
    "print(np.arange(0,7,2)) #numeri pari da 0 a 6"
   ]
  },
  {
   "cell_type": "code",
   "execution_count": 9,
   "metadata": {},
   "outputs": [
    {
     "name": "stdout",
     "output_type": "stream",
     "text": [
      "[0, 1, 2, 3, 4, 5, 6, 7, 8, 9]\n",
      "[0 1 2 3 4 5 6 7 8 9]\n"
     ]
    }
   ],
   "source": [
    "print(list(range(10)))\n",
    "print(np.arange(10))"
   ]
  },
  {
   "cell_type": "markdown",
   "metadata": {},
   "source": [
    "Possiamo creare array di forme arbitrarie, contenenti zero o uno, attraverso <b>zeros</b> e <b>ones</b>."
   ]
  },
  {
   "cell_type": "code",
   "execution_count": 10,
   "metadata": {},
   "outputs": [
    {
     "name": "stdout",
     "output_type": "stream",
     "text": [
      "[[0. 0. 0. 0.]\n",
      " [0. 0. 0. 0.]\n",
      " [0. 0. 0. 0.]]\n",
      "[[1.]\n",
      " [1.]]\n"
     ]
    }
   ],
   "source": [
    "print(np.zeros((3,4)))#zeros e ones prendono come parametro una tupla contenente le dimensioni desiderate\n",
    "print(np.ones((2,1)))"
   ]
  },
  {
   "cell_type": "markdown",
   "metadata": {},
   "source": [
    "La funzione <b>eye</b> permette di creare una matrice identità."
   ]
  },
  {
   "cell_type": "code",
   "execution_count": 11,
   "metadata": {},
   "outputs": [
    {
     "name": "stdout",
     "output_type": "stream",
     "text": [
      "[[1. 0. 0.]\n",
      " [0. 1. 0.]\n",
      " [0. 0. 1.]]\n",
      "[[1. 0. 0. 0. 0.]\n",
      " [0. 1. 0. 0. 0.]\n",
      " [0. 0. 1. 0. 0.]\n",
      " [0. 0. 0. 1. 0.]\n",
      " [0. 0. 0. 0. 1.]]\n"
     ]
    }
   ],
   "source": [
    "print(np.eye(3))\n",
    "print(np.eye(5))"
   ]
  },
  {
   "cell_type": "markdown",
   "metadata": {},
   "source": [
    "NumPy possiede un sottomodulo <b>random</b> per generare numeri casuali attraverso diversi metodi.\n",
    "Possiamo costruire, per esempio, un numpy array di valori casuali (distribuzione uniforme) tra 0 e 1 (zero incluso, uno escluso) tramite <b>rand</b>."
   ]
  },
  {
   "cell_type": "code",
   "execution_count": 12,
   "metadata": {},
   "outputs": [
    {
     "name": "stdout",
     "output_type": "stream",
     "text": [
      "[0.3993123  0.70523959 0.42138811 0.02090879 0.92875614]\n",
      "[[0.68040171 0.88780473]\n",
      " [0.78882549 0.63137248]\n",
      " [0.70813349 0.8428989 ]]\n"
     ]
    }
   ],
   "source": [
    "print(np.random.rand(5)) #un array con 5 valori casuali tra 0 e 1\n",
    "print(np.random.rand(3,2)) #una matrice 3x2 di valori casuali tra 0 e 1"
   ]
  },
  {
   "cell_type": "markdown",
   "metadata": {},
   "source": [
    "Possiamo invece generare un array di valori casuali distribuiti in maniera normale (Gaussiana) con randn."
   ]
  },
  {
   "cell_type": "code",
   "execution_count": 13,
   "metadata": {},
   "outputs": [
    {
     "name": "stdout",
     "output_type": "stream",
     "text": [
      "[[-0.4295706  -1.95041137]\n",
      " [ 2.29769345 -0.21760275]\n",
      " [-0.4020634   0.08450852]\n",
      " [-0.43217539  0.24033547]\n",
      " [-0.08637498 -0.44869471]]\n"
     ]
    }
   ],
   "source": [
    "print(np.random.randn(5,2))"
   ]
  },
  {
   "cell_type": "markdown",
   "metadata": {},
   "source": [
    "Possiamo generare numeri interi compresi tra un minimo (incluso) e un massimo (escluso) usando <b>randint</b>."
   ]
  },
  {
   "cell_type": "code",
   "execution_count": 14,
   "metadata": {},
   "outputs": [
    {
     "name": "stdout",
     "output_type": "stream",
     "text": [
      "[35 14  0]\n",
      "[[12 28 10]\n",
      " [ 7 46  9]]\n"
     ]
    }
   ],
   "source": [
    "print(np.random.randint(0,50,3))#tre valori compresi tra 0 e 50 (escluso)\n",
    "print(np.random.randint(0,50,(2,3)))#matrice 2x3 di valori interi casuali tra 0 e 50 (escluso)"
   ]
  },
  {
   "cell_type": "markdown",
   "metadata": {},
   "source": [
    "Per generare valori casuali in maniera replicabile è possibile specificare un <b>seed</b>."
   ]
  },
  {
   "cell_type": "code",
   "execution_count": 20,
   "metadata": {},
   "outputs": [
    {
     "name": "stdout",
     "output_type": "stream",
     "text": [
      "[0.92961609 0.31637555 0.18391881 0.20456028 0.56772503]\n"
     ]
    }
   ],
   "source": [
    "np.random.seed(12345)\n",
    "print(np.random.rand(5))"
   ]
  },
  {
   "cell_type": "markdown",
   "metadata": {},
   "source": [
    "Specificando lo stesso seed otterremo gli stessi valori."
   ]
  },
  {
   "cell_type": "code",
   "execution_count": 23,
   "metadata": {},
   "outputs": [
    {
     "name": "stdout",
     "output_type": "stream",
     "text": [
      "[0.69646919 0.28613933 0.22685145 0.55131477 0.71946897]\n"
     ]
    }
   ],
   "source": [
    "np.random.seed(123)\n",
    "print(np.random.rand(5))"
   ]
  },
  {
   "cell_type": "markdown",
   "metadata": {},
   "source": [
    "### 2.3 max, min, sum, argmax, argmin"
   ]
  },
  {
   "cell_type": "code",
   "execution_count": 24,
   "metadata": {},
   "outputs": [
    {
     "name": "stdout",
     "output_type": "stream",
     "text": [
      "[[ -1   3   7]\n",
      " [  6   2   5]\n",
      " [  4  -3  -9]\n",
      " [ 15  21 -14]] \n",
      "\n",
      "[15 21  7] \n",
      "\n",
      "[ 7  6  4 21] \n",
      "\n",
      "[ -1  -3 -14] \n",
      "\n",
      "[ -1   2  -9 -14] \n",
      "\n",
      "[ 24  23 -11] \n",
      "\n",
      "[ 9 13 -8 22] \n",
      "\n",
      "21\n",
      "-14\n",
      "36\n"
     ]
    }
   ],
   "source": [
    "m = np.array([[-1,3,7],[6,2,5],[4,-3,-9],[15,21,-14]])\n",
    "print(m,\"\\n\")\n",
    "print(m.max(0),\"\\n\")# massimi per colonne\n",
    "print(m.max(1),\"\\n\")# massimi per righe\n",
    "print(m.min(0),\"\\n\")# minimi per colonne\n",
    "print(m.min(1),\"\\n\")# minimi per righe\n",
    "print(m.sum(0),\"\\n\")# somma per colonne\n",
    "print(m.sum(1),\"\\n\")# somma per righe\n",
    "print(m.max())# massimo globale\n",
    "print(m.min())# minimo globale\n",
    "print(m.sum())# somma globale"
   ]
  },
  {
   "cell_type": "markdown",
   "metadata": {},
   "source": [
    "È possibile ottenere gli indici in corrispondenza dei quali si hanno massimi e minimi usando <b>argmax</b> e <b>argmin</b>."
   ]
  },
  {
   "cell_type": "code",
   "execution_count": 25,
   "metadata": {},
   "outputs": [
    {
     "name": "stdout",
     "output_type": "stream",
     "text": [
      "[3 3 0]\n",
      "[2 0 0 1]\n",
      "[0 2 3]\n",
      "[0 1 2 2]\n"
     ]
    }
   ],
   "source": [
    "print(m.argmax(0)) #indice colonna del valore massimo\n",
    "print(m.argmax(1)) #indice riga del valore massimo\n",
    "print(m.argmin(0)) #indice colonna del valore minimo\n",
    "print(m.argmin(1)) #indice riga del valore minimo"
   ]
  },
  {
   "cell_type": "markdown",
   "metadata": {},
   "source": [
    "### 2.4 Indicizzazione e Slicing"
   ]
  },
  {
   "cell_type": "markdown",
   "metadata": {},
   "source": [
    "Gli array di numpy possono essere indicizzati in maniera simile a quanto avviene per le liste."
   ]
  },
  {
   "cell_type": "code",
   "execution_count": 26,
   "metadata": {},
   "outputs": [
    {
     "name": "stdout",
     "output_type": "stream",
     "text": [
      "arr[0] -> 0\n",
      "arr[:3] -> [0 1 2]\n",
      "arr[1:4:2] -> [1 3]\n"
     ]
    }
   ],
   "source": [
    "arr = np.array([0,1,2,3,4,5])\n",
    "print(\"arr[0] ->\",arr[0]) #primo elemento dell'array (indice 0)\n",
    "print(\"arr[:3] ->\",arr[:3]) #primi tre elementi (da 0 a 3 escluso)\n",
    "print(\"arr[1:4:2] ->\",arr[1:4:2]) #dall'elemento con indice 1 a quello con indice 4 (escluso) a step 2"
   ]
  },
  {
   "cell_type": "markdown",
   "metadata": {},
   "source": [
    "Quando si indicizza un array a più di una dimensioni con un unico indice, viene in automatico indicizzata la prima dimensione.\n",
    "<br>Vediamo qualche esempio con le matrici bidimensionali:"
   ]
  },
  {
   "cell_type": "code",
   "execution_count": 27,
   "metadata": {},
   "outputs": [
    {
     "name": "stdout",
     "output_type": "stream",
     "text": [
      "Matrice:\n",
      " [[2 6 7 2]\n",
      " [3 7 3 1]\n",
      " [4 9 8 9]] (3, 4)\n",
      "mat[0] -> [2 6 7 2]\n",
      "mat[-1] -> [4 9 8 9]\n",
      "mat[::2] -> [[2 6 7 2]\n",
      " [4 9 8 9]]\n"
     ]
    }
   ],
   "source": [
    "mat = np.array(([2,6,7,2],[3,7,3,1],[4,9,8,9]))\n",
    "print(\"Matrice:\\n\",mat,mat.shape) #matrice 3 x 4\n",
    "print(\"mat[0] ->\",mat[0]) #una matrice è una collezione di righe, per cui mat[0] restituisce la prima riga\n",
    "print(\"mat[-1] ->\",mat[-1]) #ultima riga\n",
    "print(\"mat[::2] ->\",mat[::2]) #righe dispari (una riga sì e una no)"
   ]
  },
  {
   "cell_type": "markdown",
   "metadata": {},
   "source": [
    "Vediamo qualche esempio con tensori a più dimensioni."
   ]
  },
  {
   "cell_type": "code",
   "execution_count": null,
   "metadata": {},
   "outputs": [],
   "source": [
    "tens = np.array(([[1,5,2,7],[2,7,3,2],[1,5,2,1]],\n",
    "                 [[3,4,2,6],[2,3,2,2],[1,1,4,5]],\n",
    "                 [[2,4,6,8],[3,6,9,0],[1,2,3,4]]))\n",
    "print(\"Tensore:\\n\",tens,tens.shape,\"\\n\") #tensore 2x3x4\n",
    "print(\"tens[0] ->\",tens[0],\"\\n\") #prima matrice 3x4\n",
    "print(\"tens[-1] ->\",tens[-1],\"\\n\") #ultima matrice 3x4\n",
    "print(\"tens[::2] ->\",tens[::2]) #matrici dispari"
   ]
  },
  {
   "cell_type": "markdown",
   "metadata": {},
   "source": [
    "L'indicizzazione può proseguire attraverso le altre dimensioni specificando un ulteriore indice in parentesi quadre o separando i\n",
    "vari indici con la virgola."
   ]
  },
  {
   "cell_type": "code",
   "execution_count": null,
   "metadata": {},
   "outputs": [],
   "source": [
    "mat = np.array(([1,5,2,7],[2,7,3,2],[3,4,2,1]))\n",
    "print(\"Matrice:\\n\",mat,mat.shape) #matrice 3 x 4\n",
    "print(\"mat[2][1] ->\",mat[2][1]) #terza riga, seconda colonna\n",
    "print(\"mat[0,0] ->\",mat[0,0]) #prima riga, prima colonna (notazione più compatta)\n",
    "print(\"mat[0] -> \",mat[0]) #restituisce l'intera prima riga della matrice\n",
    "print(\"mat[:,0] -> \",mat[:,0]) #restituisce la prima colonna della matrice.\n",
    "#I due punti \":\" significano \"lascia tutto inalterato lungo questa dimensione\"\n",
    "print(\"mat[0,:] ->\",mat[0,:]) #notazione alternativa per ottenere la prima riga del la matrice\n",
    "print(\"mat[0:2,:] ->\\n\",mat[0:2,:]) #prime due righe\n",
    "print(\"mat[:,0:2] ->\\n\",mat[:,0:2]) #prime due colonne\n",
    "print(\"mat[-1] ->\",mat[-1]) #ultima riga"
   ]
  },
  {
   "cell_type": "markdown",
   "metadata": {},
   "source": [
    "Caso di tensori a più dimensioni:"
   ]
  },
  {
   "cell_type": "code",
   "execution_count": null,
   "metadata": {},
   "outputs": [],
   "source": [
    "mat=np.array([[[1,2,3,4],['a','b','c','d']],\n",
    "              [[5,4,2,3],['a','b','c','d']],\n",
    "              [[7,5,3,2],['a','b','c','d']],\n",
    "              [[0,2,3,1],['a','b','c','d']]])\n",
    "print(mat,\"\\n\")\n",
    "print(\"mat[:,:,0] ->\\n\", mat[:,:,0],\"\\n\") #matrice contenuta nel \"primo canale\" del tensore\n",
    "print(\"mat[:,:,1] ->\\n\",mat[:,:,1],\"\\n\") #matrice contenuta nel \"secondo canale\" del tensore\n",
    "print(\"mat[...,0] ->\\n\", mat[...,0],\"\\n\") #matrice contenuta nel \"primo canale\" del tensore (notazione alternativa)\n",
    "print(\"mat[...,1] ->\\n\",mat[...,1],\"\\n\") #matrice contenuta nel \"secondo canale\" del tensore (notazione alternativa)\n",
    "#la notazione \"...\" serve a dire \"lascia tutto invariato lungo le dimensioni omesse\""
   ]
  },
  {
   "cell_type": "markdown",
   "metadata": {},
   "source": [
    "In genere, quando da un array si estrae un sottoinsieme di dati si parla di <b>slicing</b> (affettare)."
   ]
  },
  {
   "cell_type": "markdown",
   "metadata": {},
   "source": [
    "### 2.4.1 Indicizzazione e Slicing Logici"
   ]
  },
  {
   "cell_type": "markdown",
   "metadata": {},
   "source": [
    "In numpy è inoltre possibile indicizzare gli array in maniera \"logica\", ovvero passando come indici un array di valori booleani. Ad\n",
    "esempio, se vogliamo selezionare il primo e il terzo valore di un array, dobbiamo passare come indici l'array [True, False,\n",
    "True]."
   ]
  },
  {
   "cell_type": "code",
   "execution_count": null,
   "metadata": {},
   "outputs": [],
   "source": [
    "x = np.array([0,1,2])\n",
    "print(x[np.array([True,False,True])]) #per selezionare solo 0 e 2\n",
    "print(x[np.array([False,True,False])]) #per selezionare solo 1"
   ]
  },
  {
   "cell_type": "markdown",
   "metadata": {},
   "source": [
    "L'indicizzazione logica è molto utile se combinata alla possibilità di costruire array logici <i>on the fly</i> specificando una condizione che gli elementi di un array possono o non possono soddisfare."
   ]
  },
  {
   "cell_type": "code",
   "execution_count": null,
   "metadata": {},
   "outputs": [],
   "source": [
    "x = np.arange(10)\n",
    "print(x)\n",
    "print(x>2) #genera un array di valori booleani che conterrà True in presenza dei valori di x che verificano la condizione x>2\n",
    "print(x==3) #True solo in presenza del valore 3"
   ]
  },
  {
   "cell_type": "markdown",
   "metadata": {},
   "source": [
    "Unendo questi due principi è possibile selezionare solo alcuni valori da un array sulla base di una condizione."
   ]
  },
  {
   "cell_type": "code",
   "execution_count": null,
   "metadata": {},
   "outputs": [],
   "source": [
    "x = np.arange(10)\n",
    "print(x[x%2==0]) #seleziona i valori pari\n",
    "print(x[x%2!=0]) #seleziona i valori dispari\n",
    "print(x[x>2]) #seleziona i valori maggiori di 2"
   ]
  },
  {
   "cell_type": "markdown",
   "metadata": {},
   "source": [
    "### 2.5 Reshape"
   ]
  },
  {
   "cell_type": "markdown",
   "metadata": {},
   "source": [
    "In alcuni casi può essere utile cambiare la \"shape\" di una matrice. Ad esempio, una matrice 3x2 può essere modificata\n",
    "riarrangiando gli elementi in modo da ottenere una matrice 2x3, una matrice 1x6 o una matrice 6x1. Ciò si può fare mediante il\n",
    "metodo <b>reshape</b>."
   ]
  },
  {
   "cell_type": "code",
   "execution_count": null,
   "metadata": {},
   "outputs": [],
   "source": [
    "mat = np.array([[1,2],[3,4],[5,6]])\n",
    "print(mat,\"\\n\")\n",
    "print(mat.reshape(2,3),\"\\n\")\n",
    "print(mat.reshape(1,6),\"\\n\")\n",
    "print(mat.reshape(6,1),\"\\n\") #matrice 6 x 1\n",
    "print(mat.reshape(6),\"\\n\") #vettore unidimensionale\n",
    "print(mat.ravel())#equivalente al precedente, ma aparametrico"
   ]
  },
  {
   "cell_type": "markdown",
   "metadata": {},
   "source": [
    "Notiamo che, se leggiamo per righe (da sinistra verso destra, dall'alto verso il basso), l'ordine degli elementi resta immutato.\n",
    "Possiamo anche lasciare che numpy clacoli una delle dimensioni sostituendola con <b>-1</b>."
   ]
  },
  {
   "cell_type": "code",
   "execution_count": null,
   "metadata": {},
   "outputs": [],
   "source": [
    "print(mat.reshape(2,-1))\n",
    "print(mat.reshape(-1,6))"
   ]
  },
  {
   "cell_type": "markdown",
   "metadata": {},
   "source": [
    "Reshape può prendere in input le singole dimensioni o una tupla contenente la shape. È quindi possibile passare come parametro la shape di un'altra matrice."
   ]
  },
  {
   "cell_type": "code",
   "execution_count": null,
   "metadata": {},
   "outputs": [],
   "source": [
    "mat1 = np.random.rand(3,2)\n",
    "mat2 = np.random.rand(2,3)\n",
    "print(mat2.reshape(mat1.shape)) #diamo a mat2 la stessa shape di mat1"
   ]
  },
  {
   "cell_type": "markdown",
   "metadata": {},
   "source": [
    "### 2.6 Composizione di array mediante <i>concatenate</i> e <i>stack</i>"
   ]
  },
  {
   "cell_type": "markdown",
   "metadata": {},
   "source": [
    "NumPy permette di unire diversi array mediante due funzioni principale: <b>concatenate</b> e <b>stack</b>.\n",
    "<br>La funzione <b>concatenate</b> prende in input una lista (o tupla) di array e permette di concatenarli lungo una dimensione esistente\n",
    "specificata (axis), che di default è pari a 0 (concatenazione per righe)."
   ]
  },
  {
   "cell_type": "code",
   "execution_count": null,
   "metadata": {},
   "outputs": [],
   "source": [
    "a=np.arange(9).reshape(3,3)\n",
    "print(a,a.shape,\"\\n\")\n",
    "cat=np.concatenate([a,a])\n",
    "print(cat,cat.shape,\"\\n\")\n",
    "cat2=np.concatenate([a,a,a])\n",
    "print(cat2,cat2.shape)"
   ]
  },
  {
   "cell_type": "markdown",
   "metadata": {},
   "source": [
    "È possibile concatenare array su una dimensione diversa specificandola mediante il parametro <i>axis</i>."
   ]
  },
  {
   "cell_type": "code",
   "execution_count": null,
   "metadata": {},
   "outputs": [],
   "source": [
    "a=np.arange(9).reshape(3,3)\n",
    "print(a,a.shape,\"\\n\")\n",
    "cat=np.concatenate([a,a], axis=1) #concatenazione per colonne\n",
    "print(cat,cat.shape,\"\\n\")\n",
    "cat2=np.concatenate([a,a,a], axis=1) #concatenazione per colonne\n",
    "print(cat2,cat2.shape)"
   ]
  },
  {
   "cell_type": "markdown",
   "metadata": {},
   "source": [
    "<b>N.B.:</b> affinché la concatenazione sia compatibile, gli array della lista devono avere lo stesso numero di dimensioni lungo quelle che <u>non vengono concatenate</u>."
   ]
  },
  {
   "cell_type": "code",
   "execution_count": null,
   "metadata": {},
   "outputs": [],
   "source": [
    "print(cat.shape,a.shape,\"\\n\") #concatenazione lungo l'asse 0, le dimensioni lungo gli altri assi devono essere uguali\n",
    "print(cat,\"\\n\\n\",a,\"\\n\")\n",
    "print(np.concatenate([cat,a], axis=1)) #concatenazione per righe (nel nostro caso uguali a 3 sia per cat che per a)"
   ]
  },
  {
   "cell_type": "code",
   "execution_count": null,
   "metadata": {},
   "outputs": [],
   "source": [
    "np.concatenate([cat,a], axis=0) #concatenazione per colonne (6 per cat e 3 per a: errore!)"
   ]
  },
  {
   "cell_type": "markdown",
   "metadata": {},
   "source": [
    "La funzione <b>stack</b>, a differenza di concatenate permette di concatenare array lungo una nuova dimensione. Si confrontino\n",
    "gli output delle due funzioni."
   ]
  },
  {
   "cell_type": "code",
   "execution_count": null,
   "metadata": {},
   "outputs": [],
   "source": [
    "cat=np.concatenate([a,a])\n",
    "print(cat,cat.shape,\"\\n\")\n",
    "stack=np.stack([a,a])\n",
    "print(stack,stack.shape)"
   ]
  },
  {
   "cell_type": "markdown",
   "metadata": {},
   "source": [
    "Nel caso di stack, gli array sono stati concatenati lungo una nuova dimensione. E' possibile specificare dimensioni alternative\n",
    "come nel caso di concatenate."
   ]
  },
  {
   "cell_type": "code",
   "execution_count": null,
   "metadata": {},
   "outputs": [],
   "source": [
    "stack=np.stack([a,a],axis=1)\n",
    "print(stack,stack.shape)"
   ]
  },
  {
   "cell_type": "markdown",
   "metadata": {},
   "source": [
    "In questo caso gli array sono stati concatenati lungo la seconda dimensione."
   ]
  },
  {
   "cell_type": "code",
   "execution_count": null,
   "metadata": {},
   "outputs": [],
   "source": [
    "stack=np.stack([a,a],axis=2)\n",
    "print(stack,stack.shape)"
   ]
  },
  {
   "cell_type": "markdown",
   "metadata": {},
   "source": [
    "In questo caso gli array sono stati concatenati lungo l'ultima dimensione."
   ]
  },
  {
   "cell_type": "markdown",
   "metadata": {},
   "source": [
    "### 2.7 Tipi"
   ]
  },
  {
   "cell_type": "markdown",
   "metadata": {},
   "source": [
    "Ogni array di numpy ha il suo tipo (si veda <a href=\"https://docs.scipy.org/doc/numpy-1.13.0/user/basics.types.html\" target=\"_blank\">https://docs.scipy.org/doc/numpy-1.13.0/user/basics.types.html</a> per la lista di tipi\n",
    "supportati). Possiamo vedere il tipo di un array ispezionando la proprietà <b>dtype</b>."
   ]
  },
  {
   "cell_type": "code",
   "execution_count": null,
   "metadata": {},
   "outputs": [],
   "source": [
    "print(mat1)\n",
    "print(mat1.dtype)"
   ]
  },
  {
   "cell_type": "markdown",
   "metadata": {},
   "source": [
    "Possiamo specificare il tipo in fase di costruzione dell'array."
   ]
  },
  {
   "cell_type": "code",
   "execution_count": null,
   "metadata": {},
   "outputs": [],
   "source": [
    "mat = np.array([[1,2,3],[4,5,6]],int)\n",
    "print(mat.dtype)"
   ]
  },
  {
   "cell_type": "markdown",
   "metadata": {},
   "source": [
    "Possiamo inoltre cambiare il tipo di un array utilizzando <b>astype</b>."
   ]
  },
  {
   "cell_type": "code",
   "execution_count": null,
   "metadata": {},
   "outputs": [],
   "source": [
    "m =  np.array([[1.5,2.3,3.4],[4.6,5,6.2]],float)\n",
    "print(m)\n",
    "print(m.astype(int))"
   ]
  },
  {
   "cell_type": "markdown",
   "metadata": {},
   "source": [
    "### 2.8 Gestione della memoria in NumPy"
   ]
  },
  {
   "cell_type": "markdown",
   "metadata": {},
   "source": [
    "NumPy gestisce la memoria in maniera dinamica per questioni di efficienza. Pertanto, un assegnamento o una operazione di\n",
    "slicing in genere <b>non creano una nuova copia dei dati</b>. Si consideri ad esempio questo codice:"
   ]
  },
  {
   "cell_type": "code",
   "execution_count": null,
   "metadata": {},
   "outputs": [],
   "source": [
    "a=np.array([[1,2,3],[4,5,6]])\n",
    "print(a,\"\\n\")\n",
    "b=a[0,0:2]\n",
    "print(b)"
   ]
  },
  {
   "cell_type": "markdown",
   "metadata": {},
   "source": [
    "L'operazione di slicing <code>b=a[0,0:2]</code> ha solo permesso di ottenere una nuova \"vista\" di una parte di <code>a</code>, ma i dati non sono stati replicati in memoria. Pertanto, se modifichiamo un elemento di <code>b</code>, la modifica verrà applicata in realtà ad <code>a</code>."
   ]
  },
  {
   "cell_type": "code",
   "execution_count": null,
   "metadata": {},
   "outputs": [],
   "source": [
    "b[0]=-1\n",
    "print(b,\"\\n\")\n",
    "print(a)"
   ]
  },
  {
   "cell_type": "markdown",
   "metadata": {},
   "source": [
    "Per evitare questo genere di comportamenti, è possibile utilizzare il metodo <b>copy</b> che forza numpy a creare una nuova copia\n",
    "dei dati."
   ]
  },
  {
   "cell_type": "code",
   "execution_count": null,
   "metadata": {},
   "outputs": [],
   "source": [
    "a=np.array([[1,2,3],[4,5,6]])\n",
    "print(a,\"\\n\")\n",
    "b=a[0,0:2].copy()\n",
    "print(b,\"\\n\")\n",
    "b[0]=-1\n",
    "print(b,\"\\n\")\n",
    "print(a)\n",
    "#in questo caso a resta inalterato alla modifica di b"
   ]
  },
  {
   "cell_type": "markdown",
   "metadata": {},
   "source": [
    "### 2.9 Broadcasting"
   ]
  },
  {
   "cell_type": "markdown",
   "metadata": {},
   "source": [
    "NumPy gestisce in maniera intelligente le operazioni tra array che presentano shape diverse sotto determinate condizioni.\n",
    "Vediamo un esempio pratico: supponiamo di avere una matrice 2x3 e un array 1x3:"
   ]
  },
  {
   "cell_type": "code",
   "execution_count": null,
   "metadata": {},
   "outputs": [],
   "source": [
    "mat=np.array([[1,2,3],[4,5,6]],dtype=np.float)\n",
    "arr=np.array([2,3,8])\n",
    "print(mat,mat.shape,\"\\n\")\n",
    "print(arr,arr.shape)"
   ]
  },
  {
   "cell_type": "markdown",
   "metadata": {},
   "source": [
    "Supponiamo adesso di voler dividere, elemento per elemento, tutti i valori di ogni riga della matrice per i valori dell'array.\n",
    "Possiamo eseguire l'operazione richiesta mediante un ciclo for:"
   ]
  },
  {
   "cell_type": "code",
   "execution_count": null,
   "metadata": {},
   "outputs": [],
   "source": [
    "mat2=mat.copy() #copia il contenuto della matrice per non sovrascriverla\n",
    "for i in range(mat2.shape[0]): #indicizza le righe\n",
    "    mat2[i]=mat2[i]/arr\n",
    "print(mat2)"
   ]
  },
  {
   "cell_type": "markdown",
   "metadata": {},
   "source": [
    "Se non volessimo utilizzare cicli for, potremmo replicare <code>arr</code> in modo da ottenere una matrice e poi effettuare una semplice\n",
    "divisione elemento per elemento."
   ]
  },
  {
   "cell_type": "code",
   "execution_count": null,
   "metadata": {},
   "outputs": [],
   "source": [
    "arr2=np.stack([arr,arr])\n",
    "print(arr2,\"\\n\")\n",
    "print(mat/arr2)"
   ]
  },
  {
   "cell_type": "markdown",
   "metadata": {},
   "source": [
    "Lo stesso risultato si può ottenere semplicemente chiedendo a numpy di dividere <code>mat</code> per <code>arr</code>:"
   ]
  },
  {
   "cell_type": "code",
   "execution_count": null,
   "metadata": {},
   "outputs": [],
   "source": [
    "print(mat/arr)"
   ]
  },
  {
   "cell_type": "markdown",
   "metadata": {},
   "source": [
    "Ciò avviene in quanto numpy confronta le dimensioni dei due operandi (2x3 e 1x3) e adatta l'operando con shape più\n",
    "piccola a quello con shape più grande, replicandone gli elementi lungo la dimensione unitaria (la prima). Il broadcasting in pratica\n",
    "generalizza le operazioni tra scalari e vettori/matrici."
   ]
  },
  {
   "cell_type": "markdown",
   "metadata": {},
   "source": [
    "In generale, quando vengono effettuate operazioni tra due array, numpy compara le shape dimensione per dimensione, dall'ultima\n",
    "alla prima. Due dimensioni sono compatibili se:\n",
    "<ul>\n",
    "    <li>Sono uguali\n",
    "    <li>Una di loro è uguale a uno\n",
    "</ul>\n",
    "Inoltre, le due shape non devono avere necessariamente lo stesso numero di dimensioni."
   ]
  },
  {
   "cell_type": "code",
   "execution_count": null,
   "metadata": {},
   "outputs": [],
   "source": [
    "mat1=np.array([[[1,3,5],[7,6,2]],[[6,5,2],[8,9,9]]])\n",
    "mat2=np.array([[2,1,3],[7,6,2]])\n",
    "print(\"mat1 shape\",mat1.shape)\n",
    "print(\"mat2 shape\",mat2.shape)\n",
    "print()\n",
    "print(\"mat1\\n\",mat1)\n",
    "print()\n",
    "print(\"mat2\\n\",mat2)\n",
    "print()\n",
    "print(\"mat1*Mat2\\n\",mat1*mat2)"
   ]
  },
  {
   "cell_type": "markdown",
   "metadata": {},
   "source": [
    "Il prodotto tra i due tensori è stato effettuato moltiplicando le matrici bidimensionali <code>mat1[0,...]</code> e <code>mat1[1,...]</code> per <code>mat2</code>. Ciò è equivalente a ripetere gli elementi di <code>mat2</code> lungo la dimensione mancante ed effettuare un prodotto punto a punto tra <code>mat1</code> e la versione adattata di <code>mat2</code>."
   ]
  },
  {
   "cell_type": "markdown",
   "metadata": {},
   "source": [
    "## - NumPy - FINE "
   ]
  }
 ],
 "metadata": {
  "kernelspec": {
   "display_name": "Python 3",
   "language": "python",
   "name": "python3"
  },
  "language_info": {
   "codemirror_mode": {
    "name": "ipython",
    "version": 3
   },
   "file_extension": ".py",
   "mimetype": "text/x-python",
   "name": "python",
   "nbconvert_exporter": "python",
   "pygments_lexer": "ipython3",
   "version": "3.7.6"
  }
 },
 "nbformat": 4,
 "nbformat_minor": 4
}
