{
 "cells": [
  {
   "cell_type": "markdown",
   "metadata": {},
   "source": [
    "## <b>Fondamenti di Analisi Dati</b> - a.a. 2019/2021"
   ]
  },
  {
   "cell_type": "markdown",
   "metadata": {},
   "source": [
    "## 1 <b>Introduzione a Python</b>"
   ]
  },
  {
   "cell_type": "markdown",
   "metadata": {},
   "source": [
    "<b>Python</b> è un linguaggio di programmazione ad alto livello interpretato che supporta diversi paradigmi di programmazione tra cui la programmazione orientata agli oggetti, la programmazione imperativa, la programmazione funzionale e la programmazione procedurale. Fu ideato da <b>Guido van Rossum</b> all'inizio degli anni novanta e il suo nome è ispirato alla serie TV satirica <i>Monty Python's Flying Circus</i>.\n",
    "\n",
    "<u>Link utili:</u>\n",
    "<ul>\n",
    "    <li>Python 3.8: <a href=\"https://docs.python.org/3.8/index.html\" target=\"_blank\">https://docs.python.org/3.8/index.html</a>\n",
    "    <li>Anaconda: <a href=\"https://www.anaconda.com/\" target=\"_blank\">https://www.anaconda.com/</a>\n",
    "</ul>"
   ]
  },
  {
   "cell_type": "markdown",
   "metadata": {},
   "source": [
    "### 1.1 Numeri e operazioni "
   ]
  },
  {
   "cell_type": "code",
   "execution_count": 1,
   "metadata": {},
   "outputs": [
    {
     "data": {
      "text/plain": [
       "12"
      ]
     },
     "execution_count": 1,
     "metadata": {},
     "output_type": "execute_result"
    }
   ],
   "source": [
    "7 + 5 #somma"
   ]
  },
  {
   "cell_type": "code",
   "execution_count": 2,
   "metadata": {},
   "outputs": [
    {
     "data": {
      "text/plain": [
       "-8"
      ]
     },
     "execution_count": 2,
     "metadata": {},
     "output_type": "execute_result"
    }
   ],
   "source": [
    "3 - 11 #differenza"
   ]
  },
  {
   "cell_type": "code",
   "execution_count": 3,
   "metadata": {},
   "outputs": [
    {
     "data": {
      "text/plain": [
       "36"
      ]
     },
     "execution_count": 3,
     "metadata": {},
     "output_type": "execute_result"
    }
   ],
   "source": [
    "4 * 9 #prodotto"
   ]
  },
  {
   "cell_type": "code",
   "execution_count": 4,
   "metadata": {},
   "outputs": [
    {
     "data": {
      "text/plain": [
       "1.5"
      ]
     },
     "execution_count": 4,
     "metadata": {},
     "output_type": "execute_result"
    }
   ],
   "source": [
    "3 / 2 #divisione"
   ]
  },
  {
   "cell_type": "code",
   "execution_count": 5,
   "metadata": {},
   "outputs": [
    {
     "name": "stdout",
     "output_type": "stream",
     "text": [
      "5.0\n"
     ]
    },
    {
     "data": {
      "text/plain": [
       "float"
      ]
     },
     "execution_count": 5,
     "metadata": {},
     "output_type": "execute_result"
    }
   ],
   "source": [
    "x = 5 / 1\n",
    "print(x)\n",
    "type(x) #restituisce il \"tipo\" della variabile (che tipo è x?)"
   ]
  },
  {
   "cell_type": "code",
   "execution_count": 6,
   "metadata": {},
   "outputs": [
    {
     "data": {
      "text/plain": [
       "1"
      ]
     },
     "execution_count": 6,
     "metadata": {},
     "output_type": "execute_result"
    }
   ],
   "source": [
    "4 // 3 #divisione intera"
   ]
  },
  {
   "cell_type": "code",
   "execution_count": 7,
   "metadata": {},
   "outputs": [
    {
     "data": {
      "text/plain": [
       "9"
      ]
     },
     "execution_count": 7,
     "metadata": {},
     "output_type": "execute_result"
    }
   ],
   "source": [
    "3 ** 2 #elevamento a potenza"
   ]
  },
  {
   "cell_type": "code",
   "execution_count": 8,
   "metadata": {},
   "outputs": [
    {
     "data": {
      "text/plain": [
       "1"
      ]
     },
     "execution_count": 8,
     "metadata": {},
     "output_type": "execute_result"
    }
   ],
   "source": [
    "5 % 2 #modulo"
   ]
  },
  {
   "cell_type": "code",
   "execution_count": null,
   "metadata": {},
   "outputs": [],
   "source": [
    "#questo è un commento\n",
    "\"\"\"questo è un\n",
    "commento su\n",
    "più righe\"\"\""
   ]
  },
  {
   "cell_type": "markdown",
   "metadata": {},
   "source": [
    "### 1.2 Variabili e tipi di dati"
   ]
  },
  {
   "cell_type": "markdown",
   "metadata": {},
   "source": [
    "Python utilizza la <i>tipizzazione dinamica</i> delle variabili: non è necessario dichiarare le variabili prima di usarle né tantomeno dichiararne il tipo.<br>\n",
    "<u>Ciascuna variabile in Python è un oggetto</u> e come tale supporta le seguenti funzioni:\n",
    "\n",
    "<ul>\n",
    "<li>help(object): mostra le informazioni circa l'uso dell'oggetto\n",
    "<li>dir(object): mostra la struttura interna dell'oggetto restituendo una lista di attributi e medodi\n",
    "</ul>"
   ]
  },
  {
   "cell_type": "code",
   "execution_count": 9,
   "metadata": {},
   "outputs": [
    {
     "name": "stdout",
     "output_type": "stream",
     "text": [
      "12\n"
     ]
    },
    {
     "data": {
      "text/plain": [
       "int"
      ]
     },
     "execution_count": 9,
     "metadata": {},
     "output_type": "execute_result"
    }
   ],
   "source": [
    "x = 7\n",
    "y = 5\n",
    "z = x + y\n",
    "print(z)\n",
    "type(z)"
   ]
  },
  {
   "cell_type": "code",
   "execution_count": 10,
   "metadata": {},
   "outputs": [
    {
     "name": "stdout",
     "output_type": "stream",
     "text": [
      "Help on int object:\n",
      "\n",
      "class int(object)\n",
      " |  int([x]) -> integer\n",
      " |  int(x, base=10) -> integer\n",
      " |  \n",
      " |  Convert a number or string to an integer, or return 0 if no arguments\n",
      " |  are given.  If x is a number, return x.__int__().  For floating point\n",
      " |  numbers, this truncates towards zero.\n",
      " |  \n",
      " |  If x is not a number or if base is given, then x must be a string,\n",
      " |  bytes, or bytearray instance representing an integer literal in the\n",
      " |  given base.  The literal can be preceded by '+' or '-' and be surrounded\n",
      " |  by whitespace.  The base defaults to 10.  Valid bases are 0 and 2-36.\n",
      " |  Base 0 means to interpret the base from the string as an integer literal.\n",
      " |  >>> int('0b100', base=0)\n",
      " |  4\n",
      " |  \n",
      " |  Methods defined here:\n",
      " |  \n",
      " |  __abs__(self, /)\n",
      " |      abs(self)\n",
      " |  \n",
      " |  __add__(self, value, /)\n",
      " |      Return self+value.\n",
      " |  \n",
      " |  __and__(self, value, /)\n",
      " |      Return self&value.\n",
      " |  \n",
      " |  __bool__(self, /)\n",
      " |      self != 0\n",
      " |  \n",
      " |  __ceil__(...)\n",
      " |      Ceiling of an Integral returns itself.\n",
      " |  \n",
      " |  __divmod__(self, value, /)\n",
      " |      Return divmod(self, value).\n",
      " |  \n",
      " |  __eq__(self, value, /)\n",
      " |      Return self==value.\n",
      " |  \n",
      " |  __float__(self, /)\n",
      " |      float(self)\n",
      " |  \n",
      " |  __floor__(...)\n",
      " |      Flooring an Integral returns itself.\n",
      " |  \n",
      " |  __floordiv__(self, value, /)\n",
      " |      Return self//value.\n",
      " |  \n",
      " |  __format__(self, format_spec, /)\n",
      " |      Default object formatter.\n",
      " |  \n",
      " |  __ge__(self, value, /)\n",
      " |      Return self>=value.\n",
      " |  \n",
      " |  __getattribute__(self, name, /)\n",
      " |      Return getattr(self, name).\n",
      " |  \n",
      " |  __getnewargs__(self, /)\n",
      " |  \n",
      " |  __gt__(self, value, /)\n",
      " |      Return self>value.\n",
      " |  \n",
      " |  __hash__(self, /)\n",
      " |      Return hash(self).\n",
      " |  \n",
      " |  __index__(self, /)\n",
      " |      Return self converted to an integer, if self is suitable for use as an index into a list.\n",
      " |  \n",
      " |  __int__(self, /)\n",
      " |      int(self)\n",
      " |  \n",
      " |  __invert__(self, /)\n",
      " |      ~self\n",
      " |  \n",
      " |  __le__(self, value, /)\n",
      " |      Return self<=value.\n",
      " |  \n",
      " |  __lshift__(self, value, /)\n",
      " |      Return self<<value.\n",
      " |  \n",
      " |  __lt__(self, value, /)\n",
      " |      Return self<value.\n",
      " |  \n",
      " |  __mod__(self, value, /)\n",
      " |      Return self%value.\n",
      " |  \n",
      " |  __mul__(self, value, /)\n",
      " |      Return self*value.\n",
      " |  \n",
      " |  __ne__(self, value, /)\n",
      " |      Return self!=value.\n",
      " |  \n",
      " |  __neg__(self, /)\n",
      " |      -self\n",
      " |  \n",
      " |  __or__(self, value, /)\n",
      " |      Return self|value.\n",
      " |  \n",
      " |  __pos__(self, /)\n",
      " |      +self\n",
      " |  \n",
      " |  __pow__(self, value, mod=None, /)\n",
      " |      Return pow(self, value, mod).\n",
      " |  \n",
      " |  __radd__(self, value, /)\n",
      " |      Return value+self.\n",
      " |  \n",
      " |  __rand__(self, value, /)\n",
      " |      Return value&self.\n",
      " |  \n",
      " |  __rdivmod__(self, value, /)\n",
      " |      Return divmod(value, self).\n",
      " |  \n",
      " |  __repr__(self, /)\n",
      " |      Return repr(self).\n",
      " |  \n",
      " |  __rfloordiv__(self, value, /)\n",
      " |      Return value//self.\n",
      " |  \n",
      " |  __rlshift__(self, value, /)\n",
      " |      Return value<<self.\n",
      " |  \n",
      " |  __rmod__(self, value, /)\n",
      " |      Return value%self.\n",
      " |  \n",
      " |  __rmul__(self, value, /)\n",
      " |      Return value*self.\n",
      " |  \n",
      " |  __ror__(self, value, /)\n",
      " |      Return value|self.\n",
      " |  \n",
      " |  __round__(...)\n",
      " |      Rounding an Integral returns itself.\n",
      " |      Rounding with an ndigits argument also returns an integer.\n",
      " |  \n",
      " |  __rpow__(self, value, mod=None, /)\n",
      " |      Return pow(value, self, mod).\n",
      " |  \n",
      " |  __rrshift__(self, value, /)\n",
      " |      Return value>>self.\n",
      " |  \n",
      " |  __rshift__(self, value, /)\n",
      " |      Return self>>value.\n",
      " |  \n",
      " |  __rsub__(self, value, /)\n",
      " |      Return value-self.\n",
      " |  \n",
      " |  __rtruediv__(self, value, /)\n",
      " |      Return value/self.\n",
      " |  \n",
      " |  __rxor__(self, value, /)\n",
      " |      Return value^self.\n",
      " |  \n",
      " |  __sizeof__(self, /)\n",
      " |      Returns size in memory, in bytes.\n",
      " |  \n",
      " |  __str__(self, /)\n",
      " |      Return str(self).\n",
      " |  \n",
      " |  __sub__(self, value, /)\n",
      " |      Return self-value.\n",
      " |  \n",
      " |  __truediv__(self, value, /)\n",
      " |      Return self/value.\n",
      " |  \n",
      " |  __trunc__(...)\n",
      " |      Truncating an Integral returns itself.\n",
      " |  \n",
      " |  __xor__(self, value, /)\n",
      " |      Return self^value.\n",
      " |  \n",
      " |  bit_length(self, /)\n",
      " |      Number of bits necessary to represent self in binary.\n",
      " |      \n",
      " |      >>> bin(37)\n",
      " |      '0b100101'\n",
      " |      >>> (37).bit_length()\n",
      " |      6\n",
      " |  \n",
      " |  conjugate(...)\n",
      " |      Returns self, the complex conjugate of any int.\n",
      " |  \n",
      " |  to_bytes(self, /, length, byteorder, *, signed=False)\n",
      " |      Return an array of bytes representing an integer.\n",
      " |      \n",
      " |      length\n",
      " |        Length of bytes object to use.  An OverflowError is raised if the\n",
      " |        integer is not representable with the given number of bytes.\n",
      " |      byteorder\n",
      " |        The byte order used to represent the integer.  If byteorder is 'big',\n",
      " |        the most significant byte is at the beginning of the byte array.  If\n",
      " |        byteorder is 'little', the most significant byte is at the end of the\n",
      " |        byte array.  To request the native byte order of the host system, use\n",
      " |        `sys.byteorder' as the byte order value.\n",
      " |      signed\n",
      " |        Determines whether two's complement is used to represent the integer.\n",
      " |        If signed is False and a negative integer is given, an OverflowError\n",
      " |        is raised.\n",
      " |  \n",
      " |  ----------------------------------------------------------------------\n",
      " |  Class methods defined here:\n",
      " |  \n",
      " |  from_bytes(bytes, byteorder, *, signed=False) from builtins.type\n",
      " |      Return the integer represented by the given array of bytes.\n",
      " |      \n",
      " |      bytes\n",
      " |        Holds the array of bytes to convert.  The argument must either\n",
      " |        support the buffer protocol or be an iterable object producing bytes.\n",
      " |        Bytes and bytearray are examples of built-in objects that support the\n",
      " |        buffer protocol.\n",
      " |      byteorder\n",
      " |        The byte order used to represent the integer.  If byteorder is 'big',\n",
      " |        the most significant byte is at the beginning of the byte array.  If\n",
      " |        byteorder is 'little', the most significant byte is at the end of the\n",
      " |        byte array.  To request the native byte order of the host system, use\n",
      " |        `sys.byteorder' as the byte order value.\n",
      " |      signed\n",
      " |        Indicates whether two's complement is used to represent the integer.\n",
      " |  \n",
      " |  ----------------------------------------------------------------------\n",
      " |  Static methods defined here:\n",
      " |  \n",
      " |  __new__(*args, **kwargs) from builtins.type\n",
      " |      Create and return a new object.  See help(type) for accurate signature.\n",
      " |  \n",
      " |  ----------------------------------------------------------------------\n",
      " |  Data descriptors defined here:\n",
      " |  \n",
      " |  denominator\n",
      " |      the denominator of a rational number in lowest terms\n",
      " |  \n",
      " |  imag\n",
      " |      the imaginary part of a complex number\n",
      " |  \n",
      " |  numerator\n",
      " |      the numerator of a rational number in lowest terms\n",
      " |  \n",
      " |  real\n",
      " |      the real part of a complex number\n",
      "\n"
     ]
    }
   ],
   "source": [
    "help(x)"
   ]
  },
  {
   "cell_type": "code",
   "execution_count": 11,
   "metadata": {},
   "outputs": [
    {
     "data": {
      "text/plain": [
       "['__abs__',\n",
       " '__add__',\n",
       " '__and__',\n",
       " '__bool__',\n",
       " '__ceil__',\n",
       " '__class__',\n",
       " '__delattr__',\n",
       " '__dir__',\n",
       " '__divmod__',\n",
       " '__doc__',\n",
       " '__eq__',\n",
       " '__float__',\n",
       " '__floor__',\n",
       " '__floordiv__',\n",
       " '__format__',\n",
       " '__ge__',\n",
       " '__getattribute__',\n",
       " '__getnewargs__',\n",
       " '__gt__',\n",
       " '__hash__',\n",
       " '__index__',\n",
       " '__init__',\n",
       " '__init_subclass__',\n",
       " '__int__',\n",
       " '__invert__',\n",
       " '__le__',\n",
       " '__lshift__',\n",
       " '__lt__',\n",
       " '__mod__',\n",
       " '__mul__',\n",
       " '__ne__',\n",
       " '__neg__',\n",
       " '__new__',\n",
       " '__or__',\n",
       " '__pos__',\n",
       " '__pow__',\n",
       " '__radd__',\n",
       " '__rand__',\n",
       " '__rdivmod__',\n",
       " '__reduce__',\n",
       " '__reduce_ex__',\n",
       " '__repr__',\n",
       " '__rfloordiv__',\n",
       " '__rlshift__',\n",
       " '__rmod__',\n",
       " '__rmul__',\n",
       " '__ror__',\n",
       " '__round__',\n",
       " '__rpow__',\n",
       " '__rrshift__',\n",
       " '__rshift__',\n",
       " '__rsub__',\n",
       " '__rtruediv__',\n",
       " '__rxor__',\n",
       " '__setattr__',\n",
       " '__sizeof__',\n",
       " '__str__',\n",
       " '__sub__',\n",
       " '__subclasshook__',\n",
       " '__truediv__',\n",
       " '__trunc__',\n",
       " '__xor__',\n",
       " 'bit_length',\n",
       " 'conjugate',\n",
       " 'denominator',\n",
       " 'from_bytes',\n",
       " 'imag',\n",
       " 'numerator',\n",
       " 'real',\n",
       " 'to_bytes']"
      ]
     },
     "execution_count": 11,
     "metadata": {},
     "output_type": "execute_result"
    }
   ],
   "source": [
    "dir(x)"
   ]
  },
  {
   "cell_type": "code",
   "execution_count": 12,
   "metadata": {},
   "outputs": [
    {
     "data": {
      "text/plain": [
       "3"
      ]
     },
     "execution_count": 12,
     "metadata": {},
     "output_type": "execute_result"
    }
   ],
   "source": [
    "x.bit_length()"
   ]
  },
  {
   "cell_type": "code",
   "execution_count": 13,
   "metadata": {},
   "outputs": [
    {
     "name": "stdout",
     "output_type": "stream",
     "text": [
      "1.4\n",
      "<class 'float'>\n"
     ]
    }
   ],
   "source": [
    "t = x / y\n",
    "print (t)\n",
    "print(type(t))"
   ]
  },
  {
   "cell_type": "code",
   "execution_count": 14,
   "metadata": {},
   "outputs": [
    {
     "data": {
      "text/plain": [
       "1"
      ]
     },
     "execution_count": 14,
     "metadata": {},
     "output_type": "execute_result"
    }
   ],
   "source": [
    "int(t) #casting"
   ]
  },
  {
   "cell_type": "code",
   "execution_count": 15,
   "metadata": {},
   "outputs": [
    {
     "data": {
      "text/plain": [
       "2.0"
      ]
     },
     "execution_count": 15,
     "metadata": {},
     "output_type": "execute_result"
    }
   ],
   "source": [
    "float(2)"
   ]
  },
  {
   "cell_type": "code",
   "execution_count": 16,
   "metadata": {},
   "outputs": [
    {
     "name": "stdout",
     "output_type": "stream",
     "text": [
      "12\n"
     ]
    }
   ],
   "source": [
    "x += y #equivale a x = x + y (non esistono le notazioni ++ e --)\n",
    "print(x)"
   ]
  },
  {
   "cell_type": "code",
   "execution_count": 17,
   "metadata": {},
   "outputs": [
    {
     "name": "stdout",
     "output_type": "stream",
     "text": [
      "13\n"
     ]
    }
   ],
   "source": [
    "x += 1 # x = x + 1\n",
    "print(x)"
   ]
  },
  {
   "cell_type": "markdown",
   "metadata": {},
   "source": [
    "### 1.3 Booleani e operatori logici"
   ]
  },
  {
   "cell_type": "code",
   "execution_count": 18,
   "metadata": {},
   "outputs": [
    {
     "name": "stdout",
     "output_type": "stream",
     "text": [
      "True False\n"
     ]
    }
   ],
   "source": [
    "print(True, False)"
   ]
  },
  {
   "cell_type": "code",
   "execution_count": 19,
   "metadata": {},
   "outputs": [
    {
     "data": {
      "text/plain": [
       "True"
      ]
     },
     "execution_count": 19,
     "metadata": {},
     "output_type": "execute_result"
    }
   ],
   "source": [
    "5>3"
   ]
  },
  {
   "cell_type": "code",
   "execution_count": 20,
   "metadata": {},
   "outputs": [
    {
     "data": {
      "text/plain": [
       "False"
      ]
     },
     "execution_count": 20,
     "metadata": {},
     "output_type": "execute_result"
    }
   ],
   "source": [
    "-3>-2"
   ]
  },
  {
   "cell_type": "code",
   "execution_count": 21,
   "metadata": {},
   "outputs": [
    {
     "data": {
      "text/plain": [
       "False"
      ]
     },
     "execution_count": 21,
     "metadata": {},
     "output_type": "execute_result"
    }
   ],
   "source": [
    "x=2\n",
    "y=3\n",
    "x==y"
   ]
  },
  {
   "cell_type": "code",
   "execution_count": 22,
   "metadata": {},
   "outputs": [
    {
     "data": {
      "text/plain": [
       "True"
      ]
     },
     "execution_count": 22,
     "metadata": {},
     "output_type": "execute_result"
    }
   ],
   "source": [
    "5==5 and 3>2"
   ]
  },
  {
   "cell_type": "code",
   "execution_count": 23,
   "metadata": {},
   "outputs": [
    {
     "data": {
      "text/plain": [
       "True"
      ]
     },
     "execution_count": 23,
     "metadata": {},
     "output_type": "execute_result"
    }
   ],
   "source": [
    "3==1 or 7<9"
   ]
  },
  {
   "cell_type": "code",
   "execution_count": 24,
   "metadata": {},
   "outputs": [
    {
     "data": {
      "text/plain": [
       "True"
      ]
     },
     "execution_count": 24,
     "metadata": {},
     "output_type": "execute_result"
    }
   ],
   "source": [
    "type(7)==int"
   ]
  },
  {
   "cell_type": "code",
   "execution_count": 25,
   "metadata": {},
   "outputs": [
    {
     "data": {
      "text/plain": [
       "True"
      ]
     },
     "execution_count": 25,
     "metadata": {},
     "output_type": "execute_result"
    }
   ],
   "source": [
    "# isinstance(object, classinfo)\n",
    "x=3.1\n",
    "isinstance(x, float)"
   ]
  },
  {
   "cell_type": "code",
   "execution_count": 26,
   "metadata": {},
   "outputs": [
    {
     "data": {
      "text/plain": [
       "False"
      ]
     },
     "execution_count": 26,
     "metadata": {},
     "output_type": "execute_result"
    }
   ],
   "source": [
    "s='4'\n",
    "isinstance(s,(int, float))"
   ]
  },
  {
   "cell_type": "code",
   "execution_count": 27,
   "metadata": {},
   "outputs": [
    {
     "name": "stdout",
     "output_type": "stream",
     "text": [
      "<class 'str'>\n"
     ]
    }
   ],
   "source": [
    "print(type(s))"
   ]
  },
  {
   "cell_type": "markdown",
   "metadata": {},
   "source": [
    "### 1.4 Print"
   ]
  },
  {
   "cell_type": "code",
   "execution_count": 28,
   "metadata": {},
   "outputs": [
    {
     "name": "stdout",
     "output_type": "stream",
     "text": [
      "Hello world!\n"
     ]
    }
   ],
   "source": [
    "print(\"Hello world!\")"
   ]
  },
  {
   "cell_type": "code",
   "execution_count": 29,
   "metadata": {},
   "outputs": [
    {
     "name": "stdout",
     "output_type": "stream",
     "text": [
      "2 Hello world!\n"
     ]
    }
   ],
   "source": [
    "print(2, \"Hello world!\")"
   ]
  },
  {
   "cell_type": "code",
   "execution_count": 30,
   "metadata": {},
   "outputs": [
    {
     "name": "stdout",
     "output_type": "stream",
     "text": [
      "Hello world!\t 2\n"
     ]
    }
   ],
   "source": [
    "print(\"Hello world!\\t\", 2)"
   ]
  },
  {
   "cell_type": "code",
   "execution_count": 31,
   "metadata": {},
   "outputs": [
    {
     "name": "stdout",
     "output_type": "stream",
     "text": [
      "Hello world!\n",
      " 2\n"
     ]
    }
   ],
   "source": [
    "print(\"Hello world!\\n\", 2)"
   ]
  },
  {
   "cell_type": "code",
   "execution_count": 32,
   "metadata": {},
   "outputs": [
    {
     "name": "stdout",
     "output_type": "stream",
     "text": [
      "Hello world!\n",
      "Ciao mondo!\n"
     ]
    }
   ],
   "source": [
    "print(\"Hello world!\")\n",
    "print(\"Ciao mondo!\")"
   ]
  },
  {
   "cell_type": "code",
   "execution_count": 33,
   "metadata": {},
   "outputs": [
    {
     "name": "stdout",
     "output_type": "stream",
     "text": [
      "Ciao mondo\n"
     ]
    }
   ],
   "source": [
    "s1 = \"Ciao\"\n",
    "s2 = \"mondo\"\n",
    "print(s1,s2)"
   ]
  },
  {
   "cell_type": "code",
   "execution_count": 34,
   "metadata": {},
   "outputs": [
    {
     "name": "stdout",
     "output_type": "stream",
     "text": [
      "Ciao-mondo\n"
     ]
    }
   ],
   "source": [
    "print(s1, end=\"-\")\n",
    "print(s2)"
   ]
  },
  {
   "cell_type": "markdown",
   "metadata": {},
   "source": [
    "### 1.5 Liste"
   ]
  },
  {
   "cell_type": "markdown",
   "metadata": {},
   "source": [
    "Le liste sono una struttura dati di tipo sequenziali e possono contenere dati di tipo omogeneo o misto."
   ]
  },
  {
   "cell_type": "code",
   "execution_count": 35,
   "metadata": {},
   "outputs": [
    {
     "name": "stdout",
     "output_type": "stream",
     "text": [
      "[4, 23, 7, 85]\n",
      "[2.3, 0, 'testo']\n"
     ]
    }
   ],
   "source": [
    "lista_A = [4, 23, 7, 85] #la lista va definita attraverso le parentesi quadre\n",
    "lista_B = [2.3, 0, \"testo\"]\n",
    "print (lista_A)\n",
    "print (lista_B)"
   ]
  },
  {
   "cell_type": "code",
   "execution_count": 36,
   "metadata": {},
   "outputs": [
    {
     "name": "stdout",
     "output_type": "stream",
     "text": [
      "[9, 23, 7, 85]\n",
      "9\n"
     ]
    }
   ],
   "source": [
    "lista_A[0]=9 #assegnamento di un nuovo valore alla prima posizione (N.B. l'indicizzazione inizia da 0) \n",
    "print(lista_A)\n",
    "print(lista_A[0])"
   ]
  },
  {
   "cell_type": "code",
   "execution_count": 37,
   "metadata": {},
   "outputs": [
    {
     "data": {
      "text/plain": [
       "['__add__',\n",
       " '__class__',\n",
       " '__contains__',\n",
       " '__delattr__',\n",
       " '__delitem__',\n",
       " '__dir__',\n",
       " '__doc__',\n",
       " '__eq__',\n",
       " '__format__',\n",
       " '__ge__',\n",
       " '__getattribute__',\n",
       " '__getitem__',\n",
       " '__gt__',\n",
       " '__hash__',\n",
       " '__iadd__',\n",
       " '__imul__',\n",
       " '__init__',\n",
       " '__init_subclass__',\n",
       " '__iter__',\n",
       " '__le__',\n",
       " '__len__',\n",
       " '__lt__',\n",
       " '__mul__',\n",
       " '__ne__',\n",
       " '__new__',\n",
       " '__reduce__',\n",
       " '__reduce_ex__',\n",
       " '__repr__',\n",
       " '__reversed__',\n",
       " '__rmul__',\n",
       " '__setattr__',\n",
       " '__setitem__',\n",
       " '__sizeof__',\n",
       " '__str__',\n",
       " '__subclasshook__',\n",
       " 'append',\n",
       " 'clear',\n",
       " 'copy',\n",
       " 'count',\n",
       " 'extend',\n",
       " 'index',\n",
       " 'insert',\n",
       " 'pop',\n",
       " 'remove',\n",
       " 'reverse',\n",
       " 'sort']"
      ]
     },
     "execution_count": 37,
     "metadata": {},
     "output_type": "execute_result"
    }
   ],
   "source": [
    "dir(lista_A)"
   ]
  },
  {
   "cell_type": "code",
   "execution_count": 38,
   "metadata": {},
   "outputs": [
    {
     "name": "stdout",
     "output_type": "stream",
     "text": [
      "[]\n",
      "[3, 5.7, -4, 11, 23, -12, 23, 44]\n"
     ]
    }
   ],
   "source": [
    "#possiamo aggiungere elementi ad una lista attraverso il metodo append\n",
    "lista = []\n",
    "print(lista)\n",
    "lista.append(3)\n",
    "lista.append(5.7)\n",
    "lista.append(-4)\n",
    "lista.append(11)\n",
    "lista.append(23)\n",
    "lista.append(-12)\n",
    "lista.append(23)\n",
    "lista.append(44)\n",
    "print(lista)"
   ]
  },
  {
   "cell_type": "code",
   "execution_count": 39,
   "metadata": {},
   "outputs": [
    {
     "data": {
      "text/plain": [
       "44"
      ]
     },
     "execution_count": 39,
     "metadata": {},
     "output_type": "execute_result"
    }
   ],
   "source": [
    "lista.pop()"
   ]
  },
  {
   "cell_type": "code",
   "execution_count": 40,
   "metadata": {},
   "outputs": [
    {
     "name": "stdout",
     "output_type": "stream",
     "text": [
      "[3, 5.7, -4, 11, 23, -12, 23]\n"
     ]
    }
   ],
   "source": [
    "print(lista)"
   ]
  },
  {
   "cell_type": "code",
   "execution_count": 41,
   "metadata": {},
   "outputs": [
    {
     "name": "stdout",
     "output_type": "stream",
     "text": [
      "[3, 5.7, -4, 11, -12, 23]\n"
     ]
    }
   ],
   "source": [
    "lista.remove(23) #rimuove la prima occorrenza del valore indicato\n",
    "print(lista)"
   ]
  },
  {
   "cell_type": "code",
   "execution_count": 42,
   "metadata": {},
   "outputs": [
    {
     "name": "stdout",
     "output_type": "stream",
     "text": [
      "[3, -4, 11, -12, 23]\n"
     ]
    }
   ],
   "source": [
    "del lista[1] #rimuove l'elemento con indice 1\n",
    "print(lista)"
   ]
  },
  {
   "cell_type": "code",
   "execution_count": 43,
   "metadata": {},
   "outputs": [
    {
     "name": "stdout",
     "output_type": "stream",
     "text": [
      "[-12, -4, 3, 11, 23]\n"
     ]
    }
   ],
   "source": [
    "lista.sort()\n",
    "print(lista)"
   ]
  },
  {
   "cell_type": "code",
   "execution_count": 44,
   "metadata": {},
   "outputs": [
    {
     "name": "stdout",
     "output_type": "stream",
     "text": [
      "-12\n",
      "23\n"
     ]
    }
   ],
   "source": [
    "print(min(lista)) #min e max restituiscono il minimo e il massimo di una lista\n",
    "print(max(lista))"
   ]
  },
  {
   "cell_type": "code",
   "execution_count": 45,
   "metadata": {},
   "outputs": [
    {
     "name": "stdout",
     "output_type": "stream",
     "text": [
      "['a', 'b', 'c', 'd', 'e', 'f', 'feb', 'jan', 'mar']\n"
     ]
    }
   ],
   "source": [
    "l = ['jan', 'feb', 'mar', 'a', 'b', 'c', 'd', 'e', 'f']\n",
    "l.sort()\n",
    "print(l)"
   ]
  },
  {
   "cell_type": "code",
   "execution_count": 46,
   "metadata": {},
   "outputs": [
    {
     "name": "stdout",
     "output_type": "stream",
     "text": [
      "a\n",
      "mar\n"
     ]
    }
   ],
   "source": [
    "print(min(l))\n",
    "print(max(l))"
   ]
  },
  {
   "cell_type": "code",
   "execution_count": 47,
   "metadata": {},
   "outputs": [
    {
     "name": "stdout",
     "output_type": "stream",
     "text": [
      "True\n"
     ]
    }
   ],
   "source": [
    "print('feb' in l) #restituisce True se l'elemento si trova nella lista"
   ]
  },
  {
   "cell_type": "code",
   "execution_count": 48,
   "metadata": {},
   "outputs": [
    {
     "data": {
      "text/plain": [
       "6"
      ]
     },
     "execution_count": 48,
     "metadata": {},
     "output_type": "execute_result"
    }
   ],
   "source": [
    "l.index('feb') #restituisce l'indice relativo all'elemento"
   ]
  },
  {
   "cell_type": "code",
   "execution_count": 49,
   "metadata": {},
   "outputs": [
    {
     "name": "stdout",
     "output_type": "stream",
     "text": [
      "[2, 4, 6, 8]\n"
     ]
    }
   ],
   "source": [
    "l1 = [2,4]\n",
    "l2 = [6,8]\n",
    "print(l1+l2) #le liste possono essere concatenate mediante l'operatore +"
   ]
  },
  {
   "cell_type": "code",
   "execution_count": 50,
   "metadata": {},
   "outputs": [
    {
     "name": "stdout",
     "output_type": "stream",
     "text": [
      "['a', 'b', 'a', 'b', 'a', 'b']\n"
     ]
    }
   ],
   "source": [
    "l3 = ['a','b']\n",
    "print(l3*3) #mediante l'operatore * possiamo concatenare la lista a se stessa n volte"
   ]
  },
  {
   "cell_type": "markdown",
   "metadata": {},
   "source": [
    "Utilizzando l'operatore <strong>*</strong> è possibile creare velocemente liste con un numero arbitrario di valori uguali."
   ]
  },
  {
   "cell_type": "code",
   "execution_count": 51,
   "metadata": {},
   "outputs": [
    {
     "name": "stdout",
     "output_type": "stream",
     "text": [
      "[0, 0, 0, 0, 0]\n",
      "[0, 0, 0, 0, 1]\n"
     ]
    }
   ],
   "source": [
    "print([0]*5) #lista di 5 zeri\n",
    "print([0]*4+[1]*1) #4 zeri seguiti da 1 uno"
   ]
  },
  {
   "cell_type": "code",
   "execution_count": 52,
   "metadata": {},
   "outputs": [
    {
     "name": "stdout",
     "output_type": "stream",
     "text": [
      "2\n",
      "4\n"
     ]
    }
   ],
   "source": [
    "print(len(l1)) #len restituisce la lunghezza della lista\n",
    "print(len(l1+l2))"
   ]
  },
  {
   "cell_type": "markdown",
   "metadata": {},
   "source": [
    "Sulle liste è definito un ordinamento che dipende dalla loro lunghezza: liste più corte sono \"minori di\" liste più lunghe."
   ]
  },
  {
   "cell_type": "code",
   "execution_count": 53,
   "metadata": {},
   "outputs": [
    {
     "name": "stdout",
     "output_type": "stream",
     "text": [
      "True\n",
      "True\n"
     ]
    }
   ],
   "source": [
    "print([1,2,3]<[1,2,3,4])\n",
    "print([1,2,3,5]>=[1,2,3,4])"
   ]
  },
  {
   "cell_type": "markdown",
   "metadata": {},
   "source": [
    "L'operatore == non controlla se le lunghezze sono uguali, ma verifica che il contenuto delle due liste sia effettivamente uguale."
   ]
  },
  {
   "cell_type": "code",
   "execution_count": 54,
   "metadata": {},
   "outputs": [
    {
     "name": "stdout",
     "output_type": "stream",
     "text": [
      "True\n",
      "False\n"
     ]
    }
   ],
   "source": [
    "print([1,2,3]==[1,2,3])\n",
    "print([1,2,3]==[1,3,2])"
   ]
  },
  {
   "cell_type": "markdown",
   "metadata": {},
   "source": [
    "#### 1.5.1 Indicizzazione e slicing"
   ]
  },
  {
   "cell_type": "markdown",
   "metadata": {},
   "source": [
    "È possibile estrarre una sottolista da una lista specificando il primo indice (incluso) e l'ultimo indice (escluso) separati dal simbolo <b>:</b>"
   ]
  },
  {
   "cell_type": "code",
   "execution_count": 55,
   "metadata": {},
   "outputs": [
    {
     "name": "stdout",
     "output_type": "stream",
     "text": [
      "Lista l -> [0, 1, 2, 3, 4, 5, 6, 7, 8, 9]\n",
      "l[0:3] -> [0, 1, 2]\n",
      "l[1:2] -> [1]\n"
     ]
    }
   ],
   "source": [
    "l = [0,1,2,3,4,5,6,7,8,9]\n",
    "print(\"Lista l ->\", l)\n",
    "print(\"l[0:3] ->\", l[0:3]) #dall'indice 0 (incluso) all'indice 3 (escluso)\n",
    "print(\"l[1:2] ->\", l[1:2]) #dall'indice 1 (incluso) all'indice 2 (escluso)"
   ]
  },
  {
   "cell_type": "markdown",
   "metadata": {},
   "source": [
    "Quando il primo indice è omesso, esso verrà sostituito di default con 0"
   ]
  },
  {
   "cell_type": "code",
   "execution_count": 56,
   "metadata": {},
   "outputs": [
    {
     "name": "stdout",
     "output_type": "stream",
     "text": [
      "l[:2] -> [0, 1]\n",
      "l[0:2] -> [0, 1]\n"
     ]
    }
   ],
   "source": [
    "print(\"l[:2] ->\", l[:2]) #dall'indice 0 (incluso) all'indice 2 (escluso)\n",
    "#equivalente a:\n",
    "print(\"l[0:2] ->\", l[0:2])"
   ]
  },
  {
   "cell_type": "markdown",
   "metadata": {},
   "source": [
    "Analogamente, se omettiamo il secondo indice, esso verrà sostituito con l'ultimo indice della lista."
   ]
  },
  {
   "cell_type": "code",
   "execution_count": 57,
   "metadata": {},
   "outputs": [
    {
     "name": "stdout",
     "output_type": "stream",
     "text": [
      "l[3:] -> [3, 4, 5, 6, 7, 8, 9]\n",
      "l[3:10] -> [3, 4, 5, 6, 7, 8, 9]\n"
     ]
    }
   ],
   "source": [
    "print(\"l[3:] ->\", l[3:]) #dall'indice 3 (incluso) all'indice 9 (questa volta incluso)\n",
    "#equivalente a:\n",
    "print(\"l[3:10] ->\", l[3:10])"
   ]
  },
  {
   "cell_type": "markdown",
   "metadata": {},
   "source": [
    "Se omettiamo entrambi gli indici:"
   ]
  },
  {
   "cell_type": "code",
   "execution_count": 58,
   "metadata": {},
   "outputs": [
    {
     "name": "stdout",
     "output_type": "stream",
     "text": [
      "[0, 1, 2, 3, 4, 5, 6, 7, 8, 9]\n",
      "[0, 1, 2, 3, 4, 5, 6, 7, 8, 9]\n",
      "[0, 1, 2, 3, 4, 5, 6, 7, 8, 9]\n"
     ]
    }
   ],
   "source": [
    "print(l[:])\n",
    "#che equivale a\n",
    "print(l)\n",
    "#ovvero, nel nostro caso a\n",
    "print(l[0:10])"
   ]
  },
  {
   "cell_type": "markdown",
   "metadata": {},
   "source": [
    "È possibile specificare lo <i>step</i> come terzo numero separato da un altro simbolo <b>:</b>"
   ]
  },
  {
   "cell_type": "code",
   "execution_count": 59,
   "metadata": {},
   "outputs": [
    {
     "name": "stdout",
     "output_type": "stream",
     "text": [
      "l[0:10:2] -> [0, 2, 4, 6, 8]\n",
      "l[::2] -> [0, 2, 4, 6, 8]\n"
     ]
    }
   ],
   "source": [
    "print(\"l[0:10:2] ->\", l[0:10:2]) #da 0 (incluso) a 10 (escluso) con uno step di 2 (un elemento sì e uno no)\n",
    "#che equivale a \n",
    "print(\"l[::2] ->\", l[::2])"
   ]
  },
  {
   "cell_type": "markdown",
   "metadata": {},
   "source": [
    "Per invertire l'ordine degli elementi è inoltre possibile specificare un passo negativo. In questo caso bisogna assicurarsi che il primo indice sia maggiore del secondo."
   ]
  },
  {
   "cell_type": "code",
   "execution_count": 60,
   "metadata": {},
   "outputs": [
    {
     "name": "stdout",
     "output_type": "stream",
     "text": [
      "[0, 1, 2, 3, 4, 5, 6, 7, 8, 9]\n",
      "l[5:2:-1] -> [5, 4, 3]\n",
      "l[2:5:-1] -> []\n"
     ]
    }
   ],
   "source": [
    "print(l)\n",
    "print(\"l[5:2:-1] ->\", l[5:2:-1]) #da 5 (incluso) a 2 (escluso) con step di -1\n",
    "print(\"l[2:5:-1] ->\", l[2:5:-1]) #in questo caso, il primo indice è più piccolo del secondo e il risultato sarà una lista vuota"
   ]
  },
  {
   "cell_type": "code",
   "execution_count": 61,
   "metadata": {},
   "outputs": [
    {
     "name": "stdout",
     "output_type": "stream",
     "text": [
      "[9, 8, 7, 6, 5, 4, 3, 2, 1, 0]\n",
      "[9, 8, 7, 6, 5, 4, 3, 2, 1, 0]\n"
     ]
    }
   ],
   "source": [
    "#Qual è la differenza tra\n",
    "print(l[::-1])\n",
    "#e\n",
    "l.reverse()\n",
    "#?\n",
    "print(l)"
   ]
  },
  {
   "cell_type": "code",
   "execution_count": 62,
   "metadata": {},
   "outputs": [
    {
     "name": "stdout",
     "output_type": "stream",
     "text": [
      "[0, 8, 0, 6, 0, 4, 0, 2, 0, 0]\n"
     ]
    }
   ],
   "source": [
    "l[::2]=[0,0,0,0,0] #assegno 0 ai numeri di indice pari\n",
    "print(l)"
   ]
  },
  {
   "cell_type": "markdown",
   "metadata": {},
   "source": [
    "Le liste possono essere anche annidate (liste contenenti altre liste)."
   ]
  },
  {
   "cell_type": "code",
   "execution_count": 63,
   "metadata": {},
   "outputs": [
    {
     "name": "stdout",
     "output_type": "stream",
     "text": [
      "[0, [1, 2], [3, 4, [5, 6]], [[7], 8], 9]\n",
      "[3, 4, [5, 6]]\n",
      "[5, 6]\n",
      "5\n"
     ]
    }
   ],
   "source": [
    "a = [0,[1,2],[3,4,[5,6]],[[7],8],9]\n",
    "print(a)\n",
    "print(a[2])\n",
    "print(a[2][2])\n",
    "print(a[2][2][0]) "
   ]
  },
  {
   "cell_type": "markdown",
   "metadata": {},
   "source": [
    "### 1.6 Tuple"
   ]
  },
  {
   "cell_type": "markdown",
   "metadata": {},
   "source": [
    "Le tuple sono simili alle liste, ma sono immutabili. Non possono cioè essere modificate dopo la loro inizializzazione. A differenza delle liste, le tuple vengono definite utilizzando le parentesi tonde."
   ]
  },
  {
   "cell_type": "code",
   "execution_count": 64,
   "metadata": {},
   "outputs": [
    {
     "name": "stdout",
     "output_type": "stream",
     "text": [
      "(0, 1, 2, 3, 4)\n",
      "<class 'tuple'>\n"
     ]
    }
   ],
   "source": [
    "t = (0,1,2,3,4)\n",
    "print(t)\n",
    "print(type(t))"
   ]
  },
  {
   "cell_type": "markdown",
   "metadata": {},
   "source": [
    "Le regole di indicizzazione e slicing per le tuple sono le stesse descritte per le liste, tenendo conto però che le tuple non possono essere modificate."
   ]
  },
  {
   "cell_type": "code",
   "execution_count": 65,
   "metadata": {},
   "outputs": [
    {
     "ename": "TypeError",
     "evalue": "'tuple' object does not support item assignment",
     "output_type": "error",
     "traceback": [
      "\u001b[1;31m---------------------------------------------------------------------------\u001b[0m",
      "\u001b[1;31mTypeError\u001b[0m                                 Traceback (most recent call last)",
      "\u001b[1;32m<ipython-input-65-2cd59bdb050f>\u001b[0m in \u001b[0;36m<module>\u001b[1;34m\u001b[0m\n\u001b[1;32m----> 1\u001b[1;33m \u001b[0mt\u001b[0m\u001b[1;33m[\u001b[0m\u001b[1;36m0\u001b[0m\u001b[1;33m]\u001b[0m \u001b[1;33m=\u001b[0m \u001b[1;36m3\u001b[0m \u001b[1;31m#restituirà un errore poiché le tuple sono immutabili\u001b[0m\u001b[1;33m\u001b[0m\u001b[1;33m\u001b[0m\u001b[0m\n\u001b[0m",
      "\u001b[1;31mTypeError\u001b[0m: 'tuple' object does not support item assignment"
     ]
    }
   ],
   "source": [
    "t[0] = 3 #restituirà un errore poiché le tuple sono immutabili"
   ]
  },
  {
   "cell_type": "markdown",
   "metadata": {},
   "source": [
    "Inizializzare una tupla con un solo elemento produrrà un numero poichè le parentesi tonde vengono utilizzate anche per raggruppare i diversi termini di una operazione."
   ]
  },
  {
   "cell_type": "code",
   "execution_count": 66,
   "metadata": {},
   "outputs": [
    {
     "name": "stdout",
     "output_type": "stream",
     "text": [
      "1\n",
      "<class 'int'>\n"
     ]
    }
   ],
   "source": [
    "t = (1)\n",
    "print(t)\n",
    "print(type(t))"
   ]
  },
  {
   "cell_type": "markdown",
   "metadata": {},
   "source": [
    "Per definire una tupla monodimensionale, dobbiamo aggiungere una virgola dopo il primo elemento:"
   ]
  },
  {
   "cell_type": "code",
   "execution_count": 67,
   "metadata": {},
   "outputs": [
    {
     "name": "stdout",
     "output_type": "stream",
     "text": [
      "(1,)\n",
      "<class 'tuple'>\n"
     ]
    }
   ],
   "source": [
    "t = (1,)\n",
    "print(t)\n",
    "print(type(t))"
   ]
  },
  {
   "cell_type": "markdown",
   "metadata": {},
   "source": [
    "Le tuple possono essere definite anche senza l'uso delle parentesi. È convenzione, però, racchiudere le tuple tra parentesi tonde per ragioni di chiarezza."
   ]
  },
  {
   "cell_type": "code",
   "execution_count": 68,
   "metadata": {},
   "outputs": [
    {
     "name": "stdout",
     "output_type": "stream",
     "text": [
      "(1, 2, 3, 4) (5, 6)\n",
      "<class 'tuple'> <class 'tuple'>\n"
     ]
    }
   ],
   "source": [
    "t1 = 1, 2, 3, 4\n",
    "t2 = (5, 6)\n",
    "print(t1, t2)\n",
    "print(type(t1),type(t2))"
   ]
  },
  {
   "cell_type": "markdown",
   "metadata": {},
   "source": [
    "È possibile convertire tuple in liste e viceversa."
   ]
  },
  {
   "cell_type": "code",
   "execution_count": 69,
   "metadata": {},
   "outputs": [
    {
     "name": "stdout",
     "output_type": "stream",
     "text": [
      "[4, 5, 6, 7, 4, 8, 2, 4] <class 'list'>\n",
      "(1, 2, 3, 4, 5, 6, 7, 8) <class 'tuple'>\n"
     ]
    }
   ],
   "source": [
    "L=[1,2,3,4,5,6,7,8]\n",
    "T=(4,5,6,7,4,8,2,4)\n",
    "TtoL = list(T)\n",
    "LtoT = tuple(L)\n",
    "print(TtoL, type(TtoL))\n",
    "print(LtoT, type(LtoT))"
   ]
  },
  {
   "cell_type": "markdown",
   "metadata": {},
   "source": [
    "Le tuple possono inoltre essere create e <i>spacchettate</i> al volo (<i>unpacking</i>)"
   ]
  },
  {
   "cell_type": "code",
   "execution_count": 70,
   "metadata": {},
   "outputs": [
    {
     "name": "stdout",
     "output_type": "stream",
     "text": [
      "(1, 2, 3)\n",
      "1 2 3\n"
     ]
    }
   ],
   "source": [
    "t1=(1,2,3)\n",
    "print(t1)\n",
    "a,b,c=t1 #unpacking della tupla\n",
    "print(a,b,c)"
   ]
  },
  {
   "cell_type": "markdown",
   "metadata": {},
   "source": [
    "In questo modo possiamo effettuare lo swap di due variabili in una sola riga di codice."
   ]
  },
  {
   "cell_type": "code",
   "execution_count": 71,
   "metadata": {},
   "outputs": [
    {
     "name": "stdout",
     "output_type": "stream",
     "text": [
      "Var 1 Var 2\n",
      "Var 2 Var 1\n",
      "Var 2 Var 1\n"
     ]
    }
   ],
   "source": [
    "var1 = \"Var 1\"\n",
    "var2 = \"Var 2\"\n",
    "print(var1,var2)\n",
    "var1,var2 = var2,var1\n",
    "print(var1,var2)\n",
    "\n",
    "#equivalente a\n",
    "\n",
    "var1 = \"Var 1\"\n",
    "var2 = \"Var 2\"\n",
    "t = (var2,var1)\n",
    "var1=t[0]\n",
    "var2=t[1]\n",
    "print(var1,var2)"
   ]
  },
  {
   "cell_type": "markdown",
   "metadata": {},
   "source": [
    "Le tuple annidate possono essere \"spacchetate\"."
   ]
  },
  {
   "cell_type": "code",
   "execution_count": 72,
   "metadata": {},
   "outputs": [
    {
     "name": "stdout",
     "output_type": "stream",
     "text": [
      "(1, (2, 3), (4, 5, 6))\n",
      "1 2 3 4 5 6\n"
     ]
    }
   ],
   "source": [
    "t = (1,(2,3),(4,5,6))\n",
    "x,(t11,t12),(t21,t22,t23) = t\n",
    "print(t)\n",
    "print(x, t11, t12, t21, t22, t23)\n",
    "#La notazione a,b,c,d,e,f = t restituirebbe un errore"
   ]
  },
  {
   "cell_type": "markdown",
   "metadata": {},
   "source": [
    "### 1.7 Stringhe"
   ]
  },
  {
   "cell_type": "code",
   "execution_count": 73,
   "metadata": {},
   "outputs": [
    {
     "data": {
      "text/plain": [
       "(str, str, str)"
      ]
     },
     "execution_count": 73,
     "metadata": {},
     "output_type": "execute_result"
    }
   ],
   "source": [
    "stringa1 = 'È possibile definire una stringa attraverso i singoli apici'\n",
    "stringa2 = \"oppure attraverso l'uso dei doppi apici, che possono contenere anche apici singoli '' \"\n",
    "stringa3 = \"\"\"Infine possiamo utilizzare i tripli\n",
    "doppi (o singoli) apici\n",
    "per definire una stringa su più righe\"\"\"\n",
    "type(stringa1), type(stringa2), type(stringa3)"
   ]
  },
  {
   "cell_type": "code",
   "execution_count": 74,
   "metadata": {},
   "outputs": [
    {
     "name": "stdout",
     "output_type": "stream",
     "text": [
      "Infine possiamo utilizzare i tripli\n",
      "doppi (o singoli) apici\n",
      "per definire una stringa su più righe\n"
     ]
    }
   ],
   "source": [
    "print(stringa3)"
   ]
  },
  {
   "cell_type": "markdown",
   "metadata": {},
   "source": [
    "Esistono una serie di metodi predefiniti per le stringhe"
   ]
  },
  {
   "cell_type": "code",
   "execution_count": 75,
   "metadata": {},
   "outputs": [
    {
     "data": {
      "text/plain": [
       "['__add__',\n",
       " '__class__',\n",
       " '__contains__',\n",
       " '__delattr__',\n",
       " '__dir__',\n",
       " '__doc__',\n",
       " '__eq__',\n",
       " '__format__',\n",
       " '__ge__',\n",
       " '__getattribute__',\n",
       " '__getitem__',\n",
       " '__getnewargs__',\n",
       " '__gt__',\n",
       " '__hash__',\n",
       " '__init__',\n",
       " '__init_subclass__',\n",
       " '__iter__',\n",
       " '__le__',\n",
       " '__len__',\n",
       " '__lt__',\n",
       " '__mod__',\n",
       " '__mul__',\n",
       " '__ne__',\n",
       " '__new__',\n",
       " '__reduce__',\n",
       " '__reduce_ex__',\n",
       " '__repr__',\n",
       " '__rmod__',\n",
       " '__rmul__',\n",
       " '__setattr__',\n",
       " '__sizeof__',\n",
       " '__str__',\n",
       " '__subclasshook__',\n",
       " 'capitalize',\n",
       " 'casefold',\n",
       " 'center',\n",
       " 'count',\n",
       " 'encode',\n",
       " 'endswith',\n",
       " 'expandtabs',\n",
       " 'find',\n",
       " 'format',\n",
       " 'format_map',\n",
       " 'index',\n",
       " 'isalnum',\n",
       " 'isalpha',\n",
       " 'isascii',\n",
       " 'isdecimal',\n",
       " 'isdigit',\n",
       " 'isidentifier',\n",
       " 'islower',\n",
       " 'isnumeric',\n",
       " 'isprintable',\n",
       " 'isspace',\n",
       " 'istitle',\n",
       " 'isupper',\n",
       " 'join',\n",
       " 'ljust',\n",
       " 'lower',\n",
       " 'lstrip',\n",
       " 'maketrans',\n",
       " 'partition',\n",
       " 'replace',\n",
       " 'rfind',\n",
       " 'rindex',\n",
       " 'rjust',\n",
       " 'rpartition',\n",
       " 'rsplit',\n",
       " 'rstrip',\n",
       " 'split',\n",
       " 'splitlines',\n",
       " 'startswith',\n",
       " 'strip',\n",
       " 'swapcase',\n",
       " 'title',\n",
       " 'translate',\n",
       " 'upper',\n",
       " 'zfill']"
      ]
     },
     "execution_count": 75,
     "metadata": {},
     "output_type": "execute_result"
    }
   ],
   "source": [
    "s = \"Hello World\"\n",
    "dir(s)"
   ]
  },
  {
   "cell_type": "code",
   "execution_count": 76,
   "metadata": {},
   "outputs": [
    {
     "name": "stdout",
     "output_type": "stream",
     "text": [
      "CIAO\n",
      "ciao\n",
      "Ciao come stai\n",
      "['ciao', 'come', 'stai']\n",
      "['ciao', ' come stai']\n",
      "uno-due-tre\n"
     ]
    }
   ],
   "source": [
    "print(\"ciao\".upper()) #rende il testo tutto maiuscolo\n",
    "print(\"CIAO\".lower()) #rende il testo tutto minuscolo\n",
    "print(\"ciao come stai\".capitalize()) #prima lettera maiuscola\n",
    "print(\"ciao come stai\".split()) #spezza una stringa e restituisce una lista\n",
    "print(\"ciao, come stai\".split(',')) #spezza la stringa quando trova il simbolo indiciato (in questo caso la virgola)\n",
    "print(\"-\".join([\"uno\",\"due\",\"tre\"])) #costruisce una stringa concatenando gli elementi della lista e separandoli mediante il delimitatore"
   ]
  },
  {
   "cell_type": "markdown",
   "metadata": {},
   "source": [
    "Le stringhe possono essere indicizzate in maniera simile alle liste."
   ]
  },
  {
   "cell_type": "code",
   "execution_count": 77,
   "metadata": {},
   "outputs": [
    {
     "name": "stdout",
     "output_type": "stream",
     "text": [
      "Hell\n",
      "o World\n",
      "o W\n",
      "dlroW olleH\n"
     ]
    }
   ],
   "source": [
    "s = \"Hello World\"\n",
    "print(s[:4]) #primi 4 caratteri\n",
    "print(s[4:]) #dal quarto carattere alla fine\n",
    "print(s[4:7]) #dal quarto al sesto carattere\n",
    "print(s[::-1]) #inversione della stringa"
   ]
  },
  {
   "cell_type": "markdown",
   "metadata": {},
   "source": [
    "Il metodo <b>split</b>, in particolare, può essere utilizzato per la tokenizzazione o per estrarre sottostringhe in maniera agevole. Ad\n",
    "esempio, supponiamo di voler estrarre il numero 2017 dalla stringa A-2017-B2:"
   ]
  },
  {
   "cell_type": "code",
   "execution_count": 78,
   "metadata": {},
   "outputs": [
    {
     "name": "stdout",
     "output_type": "stream",
     "text": [
      "2017\n"
     ]
    }
   ],
   "source": [
    "print(\"A-2017-B2\".split('-')[1])"
   ]
  },
  {
   "cell_type": "code",
   "execution_count": 79,
   "metadata": {},
   "outputs": [
    {
     "name": "stdout",
     "output_type": "stream",
     "text": [
      "True\n",
      "False\n",
      "True\n",
      "False\n"
     ]
    }
   ],
   "source": [
    "print(\"ciao\"==\"ciao\") #l'operatore == contralla se due stringhe sono uguali\n",
    "print(\"ciao\"==\"ciao2\")\n",
    "print(\"abc\"<\"def\") #gli operatori < e > controllano l'ordinamento lessicografico tra stringhe\n",
    "print(\"abc\">\"def\")"
   ]
  },
  {
   "cell_type": "markdown",
   "metadata": {},
   "source": [
    "#### 1.7.1 Formattazione di Stringhe"
   ]
  },
  {
   "cell_type": "code",
   "execution_count": 80,
   "metadata": {},
   "outputs": [
    {
     "name": "stdout",
     "output_type": "stream",
     "text": [
      "Questa stringa è formattata. Posso inserire numeri, ad esempio 4.72\n"
     ]
    }
   ],
   "source": [
    "#per costruire una stringa formattat utilizzo il simbolo \"%\" e poi inserisco una tupla contenente gli argomenti\n",
    "s1 = \"Questa %s è formattata. Posso inserire numeri, ad esempio %0.2f\" % (\"stringa\",4.7249)\n",
    "print(s1)"
   ]
  },
  {
   "cell_type": "code",
   "execution_count": 81,
   "metadata": {},
   "outputs": [
    {
     "name": "stdout",
     "output_type": "stream",
     "text": [
      "Questa stringa è formattata. Posso inserire numeri, ad esempio 4.7249\n"
     ]
    }
   ],
   "source": [
    "#posso anche utilizzare il metodo format\n",
    "s2 = \"Questa {} è formattata. Posso inserire numeri, ad esempio {}\"\\\n",
    ".format(\"stringa\",4.7249) #il carattere \"\\\" permette di spezzare il codice su più righe\n",
    "print(s2)"
   ]
  },
  {
   "cell_type": "code",
   "execution_count": 82,
   "metadata": {},
   "outputs": [
    {
     "name": "stdout",
     "output_type": "stream",
     "text": [
      "Questa stringa è formattata. Posso inserire numeri, ad esempio 4.72\n"
     ]
    }
   ],
   "source": [
    "#è possibile specificare il tipo di argomento utilizzando i due punti\n",
    "s2 = \"Questa {:s} è formattata. Posso inserire numeri, ad esempio {:0.2f}\"\\\n",
    ".format(\"stringa\",4.7249) #il carattere \"\\\" permette di spezzare il codice su più righe\n",
    "print(s2)"
   ]
  },
  {
   "cell_type": "code",
   "execution_count": 83,
   "metadata": {},
   "outputs": [
    {
     "name": "stdout",
     "output_type": "stream",
     "text": [
      "Questa stringa è formattata. Posso inserire numeri, ad esempio 4.72\n"
     ]
    }
   ],
   "source": [
    "#inoltre possiamo richiamare gli argomenti in maniera non ordinata in questo modo:\n",
    "print(\"Questa {stringa:s} è formattata. Posso inserire numeri, ad esempio {numero:0.2f}\"\\\n",
    ".format(numero=4.7249, stringa=\"stringa\"))"
   ]
  },
  {
   "cell_type": "markdown",
   "metadata": {},
   "source": [
    "### 1.8 Dizionari"
   ]
  },
  {
   "cell_type": "markdown",
   "metadata": {},
   "source": [
    "I dizionari sono simili a delle liste, ma vengono indicizzate da oggetti di tipo \"hashable\", ad esempio stringhe, e vengono definiti tramite parentesi graffe."
   ]
  },
  {
   "cell_type": "code",
   "execution_count": 84,
   "metadata": {},
   "outputs": [
    {
     "name": "stdout",
     "output_type": "stream",
     "text": [
      "{'val1': 1, 'val2': 2}\n",
      "1\n"
     ]
    }
   ],
   "source": [
    "d = {\"val1\":1, \"val2\":2}\n",
    "print(d)\n",
    "print(d[\"val1\"])"
   ]
  },
  {
   "cell_type": "markdown",
   "metadata": {},
   "source": [
    "Possiamo ottenere la lista delle chiavi o dei valori col metodo <b>keys</b> e <b>values</b>."
   ]
  },
  {
   "cell_type": "code",
   "execution_count": 85,
   "metadata": {},
   "outputs": [
    {
     "name": "stdout",
     "output_type": "stream",
     "text": [
      "dict_keys(['val1', 'val2'])\n",
      "dict_values([1, 2])\n"
     ]
    }
   ],
   "source": [
    "print(d.keys())\n",
    "print(d.values())"
   ]
  },
  {
   "cell_type": "markdown",
   "metadata": {},
   "source": [
    "È inoltre possibile indicizzare i dizionari con tuple."
   ]
  },
  {
   "cell_type": "code",
   "execution_count": 86,
   "metadata": {},
   "outputs": [
    {
     "name": "stdout",
     "output_type": "stream",
     "text": [
      "25\n"
     ]
    }
   ],
   "source": [
    "d = {(1,6):7, (3,2):25}\n",
    "print(d[(3,2)])"
   ]
  },
  {
   "cell_type": "markdown",
   "metadata": {},
   "source": [
    "I dizionari possono essere estesi."
   ]
  },
  {
   "cell_type": "code",
   "execution_count": 87,
   "metadata": {},
   "outputs": [
    {
     "name": "stdout",
     "output_type": "stream",
     "text": [
      "{'chiave': 'valore'}\n"
     ]
    }
   ],
   "source": [
    "d = dict() #dizionario vuoto d= {}\n",
    "d[\"chiave\"]=\"valore\"\n",
    "print(d)"
   ]
  },
  {
   "cell_type": "markdown",
   "metadata": {},
   "source": [
    "Possiamo controllare che un elemento si trovi tra le <b>chiavi</b> di un dizionario in questo modo:"
   ]
  },
  {
   "cell_type": "code",
   "execution_count": 88,
   "metadata": {},
   "outputs": [
    {
     "name": "stdout",
     "output_type": "stream",
     "text": [
      "False\n",
      "True\n"
     ]
    }
   ],
   "source": [
    "d = {0:'Hello World!', '7': 7, 9: -3}\n",
    "print(7 in d)\n",
    "print('7' in d)"
   ]
  },
  {
   "cell_type": "markdown",
   "metadata": {},
   "source": [
    "Mentre per controllare la presenza di un elemento tra i valori di un dizionario è necessario ricercarlo tramite metodo <b>values()</b>."
   ]
  },
  {
   "cell_type": "code",
   "execution_count": 89,
   "metadata": {},
   "outputs": [
    {
     "name": "stdout",
     "output_type": "stream",
     "text": [
      "True\n"
     ]
    }
   ],
   "source": [
    "print(-3 in d.values())"
   ]
  },
  {
   "cell_type": "markdown",
   "metadata": {},
   "source": [
    "### 1.9 Set"
   ]
  },
  {
   "cell_type": "markdown",
   "metadata": {},
   "source": [
    "I set sono strutture dati che conengono una sola istanza per ogni elemento (non è possibile avere elementi ripetuti) e vengono definite tramite parentesi graffe."
   ]
  },
  {
   "cell_type": "code",
   "execution_count": 90,
   "metadata": {},
   "outputs": [
    {
     "name": "stdout",
     "output_type": "stream",
     "text": [
      "{0, 1, 2, 3, 4, 5, 6, 7, 8, 9}\n"
     ]
    }
   ],
   "source": [
    "s = {0,1,2,3,4,4,4,5,5,6,7,8,8,8,8,8,8,9}\n",
    "print(s)"
   ]
  },
  {
   "cell_type": "code",
   "execution_count": 91,
   "metadata": {},
   "outputs": [
    {
     "data": {
      "text/plain": [
       "['__and__',\n",
       " '__class__',\n",
       " '__contains__',\n",
       " '__delattr__',\n",
       " '__dir__',\n",
       " '__doc__',\n",
       " '__eq__',\n",
       " '__format__',\n",
       " '__ge__',\n",
       " '__getattribute__',\n",
       " '__gt__',\n",
       " '__hash__',\n",
       " '__iand__',\n",
       " '__init__',\n",
       " '__init_subclass__',\n",
       " '__ior__',\n",
       " '__isub__',\n",
       " '__iter__',\n",
       " '__ixor__',\n",
       " '__le__',\n",
       " '__len__',\n",
       " '__lt__',\n",
       " '__ne__',\n",
       " '__new__',\n",
       " '__or__',\n",
       " '__rand__',\n",
       " '__reduce__',\n",
       " '__reduce_ex__',\n",
       " '__repr__',\n",
       " '__ror__',\n",
       " '__rsub__',\n",
       " '__rxor__',\n",
       " '__setattr__',\n",
       " '__sizeof__',\n",
       " '__str__',\n",
       " '__sub__',\n",
       " '__subclasshook__',\n",
       " '__xor__',\n",
       " 'add',\n",
       " 'clear',\n",
       " 'copy',\n",
       " 'difference',\n",
       " 'difference_update',\n",
       " 'discard',\n",
       " 'intersection',\n",
       " 'intersection_update',\n",
       " 'isdisjoint',\n",
       " 'issubset',\n",
       " 'issuperset',\n",
       " 'pop',\n",
       " 'remove',\n",
       " 'symmetric_difference',\n",
       " 'symmetric_difference_update',\n",
       " 'union',\n",
       " 'update']"
      ]
     },
     "execution_count": 91,
     "metadata": {},
     "output_type": "execute_result"
    }
   ],
   "source": [
    "dir(s)"
   ]
  },
  {
   "cell_type": "code",
   "execution_count": 92,
   "metadata": {},
   "outputs": [
    {
     "name": "stdout",
     "output_type": "stream",
     "text": [
      "{0, 1, 2, 3, 4, 5, 6, 7, 8, 9, 10}\n"
     ]
    }
   ],
   "source": [
    "s.add(10) #è possibile aggiungere elementi al set tramite metodo add\n",
    "s.add(3) #elemento già presente\n",
    "print(s)"
   ]
  },
  {
   "cell_type": "code",
   "execution_count": 93,
   "metadata": {},
   "outputs": [
    {
     "name": "stdout",
     "output_type": "stream",
     "text": [
      "True\n",
      "False\n"
     ]
    }
   ],
   "source": [
    "print(1 in s) #anche in questo caso è possibile controllare la presenza di un elemento tramite \"in\"\n",
    "print(-2 in s)"
   ]
  },
  {
   "cell_type": "code",
   "execution_count": 94,
   "metadata": {},
   "outputs": [
    {
     "name": "stdout",
     "output_type": "stream",
     "text": [
      "{4, 5, 6, 7, 8, 9, 10}\n",
      "{12, 13, 14}\n"
     ]
    }
   ],
   "source": [
    "s_ = {0,1,2,3,12,13,14}\n",
    "print(s.difference(s_)) #tramite questo metodo è possibile vedere gli elementi che differiscono tra un set e l'altro\n",
    "print(s_.difference(s))"
   ]
  },
  {
   "cell_type": "markdown",
   "metadata": {},
   "source": [
    "### 1.10 IF, ELIF, ELSE"
   ]
  },
  {
   "cell_type": "markdown",
   "metadata": {},
   "source": [
    "Nei costrutti condizionali, in Python, le parentesi vengono sostituite con l'<b>indentazione</b> obbligatoria come nell'esempio che segue."
   ]
  },
  {
   "cell_type": "code",
   "execution_count": 95,
   "metadata": {},
   "outputs": [
    {
     "name": "stdout",
     "output_type": "stream",
     "text": [
      "Hello World\n",
      "6\n",
      "\n",
      "\n",
      "Testo non appartenente al costrutto condizionale\n"
     ]
    }
   ],
   "source": [
    "a = 3\n",
    "b = 3\n",
    "if a==b: #i due punti indicano l'inizio del corpo del costrutto condizionale\n",
    "    c = a+b #l'indentazione indica il codice che appartiene all'if\n",
    "    print(\"Hello World\")\n",
    "    print(c)\n",
    "else:\n",
    "    print(\"This is the end\")\n",
    "print(\"\\n\\nTesto non appartenente al costrutto condizionale\")"
   ]
  },
  {
   "cell_type": "markdown",
   "metadata": {},
   "source": [
    "<u>In Python l'indentazione fa parte della sintassi</u> e per questo motivo in casi ben specifici è obbligatoria. Non è consentito indentare parti di codice in maniera arbitraria come nel seguente esempio:"
   ]
  },
  {
   "cell_type": "code",
   "execution_count": 96,
   "metadata": {},
   "outputs": [
    {
     "ename": "IndentationError",
     "evalue": "unexpected indent (<ipython-input-96-4895bcde3b38>, line 2)",
     "output_type": "error",
     "traceback": [
      "\u001b[1;36m  File \u001b[1;32m\"<ipython-input-96-4895bcde3b38>\"\u001b[1;36m, line \u001b[1;32m2\u001b[0m\n\u001b[1;33m    print(testo)\u001b[0m\n\u001b[1;37m    ^\u001b[0m\n\u001b[1;31mIndentationError\u001b[0m\u001b[1;31m:\u001b[0m unexpected indent\n"
     ]
    }
   ],
   "source": [
    "testo = \"Hello World\"\n",
    "    print(testo)"
   ]
  },
  {
   "cell_type": "code",
   "execution_count": 97,
   "metadata": {},
   "outputs": [
    {
     "name": "stdout",
     "output_type": "stream",
     "text": [
      "it's ok\n"
     ]
    }
   ],
   "source": [
    "true_condition = True\n",
    "false_condition = False\n",
    "\n",
    "if not true_condition: #neghiamo la condizione con not\n",
    "    print(\"it's not true\")\n",
    "elif true_condition != false_condition: #else if\n",
    "    print(\"it's ok\")\n",
    "else:\n",
    "    print(\"not good\")"
   ]
  },
  {
   "cell_type": "markdown",
   "metadata": {},
   "source": [
    "Per esempio è possibile verificare se un valore appartiene a una lista."
   ]
  },
  {
   "cell_type": "code",
   "execution_count": 98,
   "metadata": {},
   "outputs": [
    {
     "name": "stdout",
     "output_type": "stream",
     "text": [
      "double is ok\n"
     ]
    }
   ],
   "source": [
    "allowed_parameters = [\"single\", \"double\", 5, -2]\n",
    "parameter = \"double\"\n",
    "if parameter in allowed_parameters:\n",
    "    print(parameter,\"is ok\")\n",
    "else:\n",
    "    print(parameter,\"not in\",allowed_parameters)"
   ]
  },
  {
   "cell_type": "markdown",
   "metadata": {},
   "source": [
    "Esiste la variante <i>inline</i> del costrutto condizionale che può essere utilizzata per gli assegnamenti alle variabili."
   ]
  },
  {
   "cell_type": "code",
   "execution_count": null,
   "metadata": {},
   "outputs": [],
   "source": [
    "var1 = 2\n",
    "var2 = 7\n",
    "m = var1 if var1>var2 else var2 #calcola il massimo e lo assegna a m\n",
    "print(m)"
   ]
  },
  {
   "cell_type": "markdown",
   "metadata": {},
   "source": [
    "In Python non esiste il costrutto <i>switch</i>."
   ]
  },
  {
   "cell_type": "code",
   "execution_count": null,
   "metadata": {},
   "outputs": [],
   "source": [
    "s = \"ciao\"\n",
    "if s==\"help\":\n",
    "    print(\"help\")\n",
    "elif s==\"world\":\n",
    "    print(\"hello\",s)\n",
    "elif s==\"ciao\":\n",
    "    print(s,\"mondo\")\n",
    "else:\n",
    "    print(\"Default\")"
   ]
  },
  {
   "cell_type": "markdown",
   "metadata": {},
   "source": [
    "### 1.11 Cicli WHILE e FOR"
   ]
  },
  {
   "cell_type": "code",
   "execution_count": null,
   "metadata": {},
   "outputs": [],
   "source": [
    "#ciclo while\n",
    "i=0\n",
    "while i<=5: #due punti \":\"\n",
    "    print(i) #indentazione\n",
    "    i+=1"
   ]
  },
  {
   "cell_type": "markdown",
   "metadata": {},
   "source": [
    "La sintassi dei cicli <i>for</i> è un po' diversa dalla sintassi standard di altri linguaggi. I cicli <i>for</i> in Python sono più simili a dei \"foreach\" e richiedono un \"iterable\" (ad esempio una lista o una tupla) per essere eseguiti."
   ]
  },
  {
   "cell_type": "code",
   "execution_count": null,
   "metadata": {},
   "outputs": [],
   "source": [
    "l=[2,4,6,8]\n",
    "for n in l:\n",
    "    print(n)"
   ]
  },
  {
   "cell_type": "markdown",
   "metadata": {},
   "source": [
    "Per scrivere qualcosa di equivalente al seguente codice for (i=0; i<10; i++) {...}<br>\n",
    "possiamo utilizzare la funzione <i>range</i> che genera numeri sequenziali."
   ]
  },
  {
   "cell_type": "code",
   "execution_count": null,
   "metadata": {},
   "outputs": [],
   "source": [
    "for i in range(10):\n",
    "    print(i)"
   ]
  },
  {
   "cell_type": "markdown",
   "metadata": {},
   "source": [
    "<b>Range</b> non genera direttamente una lista, ma un \"generator\" di tipo range, ovvero un oggetto capace di generare numeri. Se\n",
    "vogliamo convertirlo in una lista dobbiamo farlo esplicitamente."
   ]
  },
  {
   "cell_type": "code",
   "execution_count": null,
   "metadata": {},
   "outputs": [],
   "source": [
    "print(range(10)) #oggetto di tipo range, genera numeri da 0 a 10 (10 escluso)\n",
    "print(list(range(10))) #range non fa altro che generare numeri consecutivi\n",
    "#convertendo range in una lista possiamo verificare quali numeri vengono generati"
   ]
  },
  {
   "cell_type": "code",
   "execution_count": null,
   "metadata": {},
   "outputs": [],
   "source": [
    "lista=[1,3,5,7,9,0,2,4,6,8]\n",
    "for i in range(len(lista)): #in questo modo scorriamo indice e valori di un array\n",
    "    print(i,\"->\",lista[i])"
   ]
  },
  {
   "cell_type": "markdown",
   "metadata": {},
   "source": [
    "In Python però, è possibile utilizzare la funzione <strong>enumerate</strong> per ottenere lo stesso risultato in maniera più compatta."
   ]
  },
  {
   "cell_type": "code",
   "execution_count": null,
   "metadata": {},
   "outputs": [],
   "source": [
    "for index,value in enumerate(lista): #get both index and value\n",
    "    print(index,\"->\",value)"
   ]
  },
  {
   "cell_type": "code",
   "execution_count": null,
   "metadata": {},
   "outputs": [],
   "source": [
    "print(enumerate(lista)) #come range, enumerate è un generator\n",
    "print(list(enumerate(lista)))"
   ]
  },
  {
   "cell_type": "code",
   "execution_count": null,
   "metadata": {},
   "outputs": [],
   "source": [
    "a=[12,34,55,67,29,320]\n",
    "for i in a: #scorriamo gli elementi di a\n",
    "    print(i)"
   ]
  },
  {
   "cell_type": "markdown",
   "metadata": {},
   "source": [
    "Una funzione molto utile quando si lavora con i cicli è <b>zip</b>, che permette di raggruppare gli elementi corrispondenti di diverse liste."
   ]
  },
  {
   "cell_type": "code",
   "execution_count": null,
   "metadata": {},
   "outputs": [],
   "source": [
    "a=[0,2,4,6]\n",
    "b=[1,3,5,7]\n",
    "c=[10,11,12,13]\n",
    "zipped = list(zip(a,b,c))\n",
    "print(zipped)"
   ]
  },
  {
   "cell_type": "markdown",
   "metadata": {},
   "source": [
    "Zip raggruppa gli elementi i-esimi delle liste in tuple. La i-esima tupla di <i>zipped</i> contiene gli i-esimi elementi delle\n",
    "tre liste.<br>Combinando <i>zip</i> con un ciclo <i>for</i> otteniamo:"
   ]
  },
  {
   "cell_type": "code",
   "execution_count": null,
   "metadata": {},
   "outputs": [],
   "source": [
    "for x,y,z in zip(a,b,c):\n",
    "    print(x,y,z)"
   ]
  },
  {
   "cell_type": "code",
   "execution_count": null,
   "metadata": {},
   "outputs": [],
   "source": [
    "for n,(x,y,z) in enumerate(zip(a,b,c)): #utilizziamo zip e enumerate\n",
    "    print(n,\"->\",x,y,z)"
   ]
  },
  {
   "cell_type": "code",
   "execution_count": null,
   "metadata": {},
   "outputs": [],
   "source": [
    "print(zip(a,b)) #N.B.: zip, come range, produce un generator\n",
    "print(list(zip(a,b))) #è necessario convertirlo esplicitamente in una lista per stamparne i valori"
   ]
  },
  {
   "cell_type": "markdown",
   "metadata": {},
   "source": [
    "### 1.12 Comprensione di liste e dizionari (rivedere)"
   ]
  },
  {
   "cell_type": "markdown",
   "metadata": {},
   "source": [
    "La comprensione di liste è uno strumento sintattico che permette di definire liste a partire da altre liste in maniera iterativa."
   ]
  },
  {
   "cell_type": "code",
   "execution_count": null,
   "metadata": {},
   "outputs": [],
   "source": [
    "a = list(range(8))\n",
    "b = [x*3 for x in a] #La lista \"a\" viene iterata. La variabile \"x\" conterrà di volta in volta i valori di a\n",
    "print(a)\n",
    "print(b)"
   ]
  },
  {
   "cell_type": "code",
   "execution_count": null,
   "metadata": {},
   "outputs": [],
   "source": [
    "print([x for x in a if x%2==0]) #include solo i numeri pari grazie all'if"
   ]
  },
  {
   "cell_type": "code",
   "execution_count": null,
   "metadata": {},
   "outputs": [],
   "source": [
    "a = [1,3,8,2,9]\n",
    "b = [4,9,2,1,4]\n",
    "c = [x+y for x,y in zip(a,b)]\n",
    "print(a)\n",
    "print(b)\n",
    "print(c) #i suoi elementi sono le somme degli elementi di a e b"
   ]
  },
  {
   "cell_type": "markdown",
   "metadata": {},
   "source": [
    "I meccanismi di comprensione si possono utilizzare anche nel caso dei dizionari."
   ]
  },
  {
   "cell_type": "code",
   "execution_count": null,
   "metadata": {},
   "outputs": [],
   "source": [
    "months = [\"jan\",\"feb\",\"mar\",\"apr\",\"may\",\"jun\",\"jul\",\"aug\",\"sep\",\"oct\",\"nov\",\"dic\"]\n",
    "n = range(1,13)\n",
    "d = {i:m for i,m in zip(months,n)}\n",
    "print(d)"
   ]
  },
  {
   "cell_type": "markdown",
   "metadata": {},
   "source": [
    "### 1.13 Funzioni"
   ]
  },
  {
   "cell_type": "code",
   "execution_count": null,
   "metadata": {},
   "outputs": [],
   "source": [
    "def fun(x, y): #valgono le stesse regole di indentazione\n",
    "    return x**y\n",
    "print(fun(4,5))"
   ]
  },
  {
   "cell_type": "code",
   "execution_count": null,
   "metadata": {},
   "outputs": [],
   "source": [
    "def fun(x, y=2): #è possibile definire valori di default per i parametri\n",
    "    return x**y\n",
    "print(fun(3)) #il valore di default \"2\" viene utilizzato"
   ]
  },
  {
   "cell_type": "code",
   "execution_count": null,
   "metadata": {},
   "outputs": [],
   "source": [
    "print(fun(y=5,x=2)) #i parametri di una funzione, se specificati attraverso il nome, possono essere richiamati in qualsiasi ordine"
   ]
  },
  {
   "cell_type": "code",
   "execution_count": null,
   "metadata": {},
   "outputs": [],
   "source": [
    "def Fun(x,y):\n",
    "    return x**y, y**x #la funzione restituisce una tupla\n",
    "print(Fun(4,5))\n",
    "a,b=Fun(3,2) #\"spacchetto\" la tupla restituita\n",
    "print(a,b)"
   ]
  },
  {
   "cell_type": "markdown",
   "metadata": {},
   "source": [
    "#### 1.13.1 Funzione lambda"
   ]
  },
  {
   "cell_type": "markdown",
   "metadata": {},
   "source": [
    "Python supporta la funzione <b>lambda</b> (o anonima) che può essere utilizzata \"on the fly\" senza ricorrere alla definizione della funzione stessa (attraverso def)."
   ]
  },
  {
   "cell_type": "code",
   "execution_count": null,
   "metadata": {},
   "outputs": [],
   "source": [
    "myfun = lambda x: x**2 #un input e un output\n",
    "print(myfun(2))\n",
    "myfun1 = lambda x,y: x+y #due input e un output\n",
    "print(myfun1(2,3))\n",
    "myfun2 = lambda x,y: (x**2,y**2) #due input e due output\n",
    "print(myfun2(2,3))"
   ]
  },
  {
   "cell_type": "markdown",
   "metadata": {},
   "source": [
    "### 1.14 Map e Filter"
   ]
  },
  {
   "cell_type": "markdown",
   "metadata": {},
   "source": [
    "Le funzioni <b>map</b> e <b>filter</b> permettono di eseguire operazioni sugli elementi di una lista. In particolare, map applica una funzione a tutti gli elementi di una lista: <u>map(function_to_apply, list_of_inputs)</u>"
   ]
  },
  {
   "cell_type": "code",
   "execution_count": null,
   "metadata": {},
   "outputs": [],
   "source": [
    "def pow2(x):\n",
    "    return(x**2)\n",
    "l1 = list(range(10))\n",
    "l2 = list(map(pow2,l1)) #applica pow2 a tutti gli elementi della lista l1\n",
    "print(l1)\n",
    "print(l2)"
   ]
  },
  {
   "cell_type": "markdown",
   "metadata": {},
   "source": [
    "Quando si utilizzano map e filter, tornano particolarmente utili le funzioni lambda che ci permettono di scrivere in maniera più\n",
    "compatta. Ad esempio, possiamo riscrivere quanto visto sopra come segue:"
   ]
  },
  {
   "cell_type": "code",
   "execution_count": null,
   "metadata": {},
   "outputs": [],
   "source": [
    "l2 = list(map(lambda x: x**2, l1))\n",
    "print(l2)"
   ]
  },
  {
   "cell_type": "markdown",
   "metadata": {},
   "source": [
    "Come sufferisce il nome, <b>filter</b> restituisce una lista di elementi per i quali una funzione (\"filtro\") restituisce True."
   ]
  },
  {
   "cell_type": "code",
   "execution_count": null,
   "metadata": {},
   "outputs": [],
   "source": [
    "print(list(filter(lambda x: x%2==0,l1))) #filtra solo i numeri pari"
   ]
  },
  {
   "cell_type": "markdown",
   "metadata": {},
   "source": [
    "### 1.15 Programmazione Orientata agli Oggetti - Definizione di Classi"
   ]
  },
  {
   "cell_type": "markdown",
   "metadata": {},
   "source": [
    "In Python le principali differenze rispetto ai più comuni linguaggi di programmazione orientata agli oggetti sono:\n",
    "<ul>\n",
    "<li>non esistono i modificatori di visibilità (private, protected e public); per convenzione tutti i simboli privati vanno preceduti\n",
    "da \"__\" (doppio underscore)\n",
    "<li>il costruttore si chiama \"__init__\"\n",
    "<li>il primo parametro del costruttore (e di tutti i metodi di istanza) è <b>self</b> (chiamato in questo modo per convenzione), il quale permette di accedere all’oggetto creato.\n",
    "</ul>\n",
    "I metodi di <u>istanza</u> sono quelli che useremo nella maggior parte dei casi e vengono definiti come una funzione con primo argomento <b>self</b>.<br>\n",
    "Negli esempi successivi, per complettezza, vedremo cos'è un metodo di <u>classe</u> e un metodo <u>statico</u>."
   ]
  },
  {
   "cell_type": "code",
   "execution_count": null,
   "metadata": {},
   "outputs": [],
   "source": [
    "class Classe(object): #ereditiamo dalla classe standard \"object\" (può essere omesso)\n",
    "    def __init__(self, x): #costruttore\n",
    "        self.x=x #inserisco il valore x nello stato dell'oggetto\n",
    "\n",
    "    def prt(self):\n",
    "        print(self.x)\n",
    "\n",
    "    def power(self,y=2):\n",
    "        self.x = self.x**y\n",
    "\n",
    "c = Classe(3)\n",
    "c.prt()\n",
    "c.power(3)\n",
    "c.prt()\n",
    "c.power()\n",
    "c.prt()"
   ]
  },
  {
   "cell_type": "markdown",
   "metadata": {},
   "source": [
    "Possiamo estendere una classe in questo modo:"
   ]
  },
  {
   "cell_type": "code",
   "execution_count": null,
   "metadata": {},
   "outputs": [],
   "source": [
    "class Classe2(Classe): #derivo la classe \"Classe\" ed eredito metodi e proprietà\n",
    "    \n",
    "    def __init__(self,x):\n",
    "        super().__init__(x) #chiamo il costruttore della classe madre (potrei scrivere anche super(Classe2, self).__init__(x))\n",
    "        \n",
    "    def prt(self): #ridefinisco il metodo prt\n",
    "        print(\"nuovo metodo prt\",self.x)\n",
    "\n",
    "c2 = Classe2(2)\n",
    "c2.power()\n",
    "c2.prt()"
   ]
  },
  {
   "cell_type": "markdown",
   "metadata": {},
   "source": [
    "Come già detto, per convenzione si utilizza <b>self</b> come primo paramentro del costruttore e dei metodi di istanza\n",
    "mentre si utilizza <b>cls</b> come paramentro per i metodi di classe."
   ]
  },
  {
   "cell_type": "code",
   "execution_count": null,
   "metadata": {},
   "outputs": [],
   "source": [
    "class Foo(object):\n",
    "    #Qui si trovano gli attributi di classe, che sono delle variabili che vengono definite al momento della creazione.\n",
    "    #Il loro valore è già definito al momento dell’istanza dell’oggetto e ha senso definirli quando il valore che\n",
    "    #contengono vale per tutti gli oggetti appartenenti a quella classe.\n",
    "    thing = 'athing' #questo è un attributo di classe\n",
    "\n",
    "    def __init__(self, bar):\n",
    "        self.bar = bar #per permettere ad altri metodi di accedere a \"bar\"\n",
    "        \n",
    "    @classmethod #I decoratori sono uno strumento che ci consente di estendere e modificare il comportamento\n",
    "                 #di funzioni e classi senza doverne alterare direttamente il codice sorgente.\n",
    "                 #Si tratta di una funzione che prende come parametro un’altra funzione, aggiunge delle funzionalità \n",
    "                 #e restituisce una funzione senza alterare il codice sorgente della funzione passata come parametro.\n",
    "    def two_things(cls):\n",
    "        # Il metodo di classe può accedere gli attributi di classe, come \"thing\",\n",
    "        # ma non agli attributi di istanza, come \"bar\".\n",
    "        print (cls.thing, cls.thing)\n",
    "\n",
    "    @staticmethod \n",
    "    def default_foo():\n",
    "        # I metodi statici sono spesso usati come costruttori alternativi,\n",
    "        # poiché non hanno bisogno di accedere a nessuna parte della classe.\n",
    "        # Questo tipo di metodo non accetta né un parametro self né un parametro cls \n",
    "        # (ma ovviamente è libero di accettare un numero arbitrario di altri parametri).\n",
    "        return Foo('cappuccino')"
   ]
  },
  {
   "cell_type": "code",
   "execution_count": null,
   "metadata": {},
   "outputs": [],
   "source": [
    "f = Foo('coffee')\n",
    "print (f.bar)\n",
    "print (f.thing)\n",
    "f.two_things()\n",
    "print(f.default_foo().bar)"
   ]
  },
  {
   "cell_type": "code",
   "execution_count": null,
   "metadata": {},
   "outputs": [],
   "source": [
    "def funzione_decoratore(funzione_parametro): \n",
    "    def wrapper(): #nome convenzionale - wrapper significa 'incarto, confezione'\n",
    "        print(\"... codice da eseguire prima di 'funzione_parametro' ...\")\n",
    "        funzione_parametro()\n",
    "        print(\"... codice da eseguire dopo di 'funzione_parametro' ...\") \n",
    "    return wrapper \n",
    "\n",
    "@funzione_decoratore\n",
    "def mia_funzione(): \n",
    "    print(\"Hello World!\")\n",
    "    \n",
    "mia_funzione()"
   ]
  },
  {
   "cell_type": "markdown",
   "metadata": {},
   "source": [
    "### 1.16 Duck Typing"
   ]
  },
  {
   "cell_type": "markdown",
   "metadata": {},
   "source": [
    "Per identificare i tipi dei dati, Python segue il principio del duck typing. Secondo tale principio, i tipi sono definiti utilizzando il <i>duck test</i>:\n",
    "<ul>\n",
    "    <li>If it looks like a duck, swims like a duck, and quacks like a duck, then it probably is a duck.\n",
    "</ul>\n",
    "Ciò significa che i tipi sono definiti in relazione alle operazioni che possono essere eseguite su di essi. Vediamo un esempio\n",
    "<i>(fonte Wikipedia)</i>:"
   ]
  },
  {
   "cell_type": "code",
   "execution_count": null,
   "metadata": {},
   "outputs": [],
   "source": [
    "class Sparrow(object):\n",
    "    def fly(self):\n",
    "        print(\"Sparrow flying\")\n",
    "class Airplane(object):\n",
    "    def fly(self):\n",
    "        print(\"Airplane flying\")\n",
    "class Whale(object):\n",
    "    def swim(self):\n",
    "        print(\"Whale swimming\")\n",
    "\n",
    "def lift_off(entity):\n",
    "    entity.fly()\n",
    "    \n",
    "sparrow = Sparrow()\n",
    "airplane = Airplane()\n",
    "whale = Whale()\n",
    "\n",
    "try:\n",
    "    lift_off(sparrow)\n",
    "    lift_off(airplane)\n",
    "    lift_off(whale) #Errore, il \"tipo\" di questo oggetto non permette di eseguire il metodo \"fly\".\n",
    "                    #Secondo il duck test, questo tipo è incompatibile\n",
    "except AttributeError as e:\n",
    "    print(\"Error:\",e)"
   ]
  },
  {
   "cell_type": "markdown",
   "metadata": {},
   "source": [
    "### 1.17 Eccezioni"
   ]
  },
  {
   "cell_type": "markdown",
   "metadata": {},
   "source": [
    "Python, come molti altri linguaggi, supporta l'uso delle eccezioni. È possibile catturare una eccezione con il\n",
    "costrutto <b>try</b> - <b>except</b>."
   ]
  },
  {
   "cell_type": "code",
   "execution_count": null,
   "metadata": {},
   "outputs": [],
   "source": [
    "try:\n",
    "    7/0\n",
    "except:\n",
    "    print(\"La mamma non ti ha insegnato che non si divide per 0?\")"
   ]
  },
  {
   "cell_type": "markdown",
   "metadata": {},
   "source": [
    "In Python le eccezioni sono tipizzate. Possiamo decidere quali tipi di eccezioni catturare."
   ]
  },
  {
   "cell_type": "code",
   "execution_count": null,
   "metadata": {},
   "outputs": [],
   "source": [
    "x = 3\n",
    "y = 0\n",
    "try:\n",
    "    x/y\n",
    "except ZeroDivisionError:\n",
    "    print(\"La mamma non ti ha insegnato che non si divide per 0?\")"
   ]
  },
  {
   "cell_type": "markdown",
   "metadata": {},
   "source": [
    "Possiamo avere accesso all'eccezione catturata (ad es. per ottenere maggiori informazioni) in questo modo:"
   ]
  },
  {
   "cell_type": "code",
   "execution_count": null,
   "metadata": {},
   "outputs": [],
   "source": [
    "x = 3\n",
    "y = 0\n",
    "try:\n",
    "    x/y\n",
    "except ZeroDivisionError as e:\n",
    "    print(\"La mamma non ti ha insegnato che non si divide per 0?\")\n",
    "    print(e)"
   ]
  },
  {
   "cell_type": "markdown",
   "metadata": {},
   "source": [
    "Possiamo definire nuove eccezioni estendendo la classe Exception."
   ]
  },
  {
   "cell_type": "code",
   "execution_count": null,
   "metadata": {},
   "outputs": [],
   "source": [
    "class MyException(Exception):\n",
    "    def __init__(self, message):\n",
    "        self.message = message\n",
    "        \n",
    "raise MyException(\"Exception!\") #È possibile lanciare una eccezione mediante raise."
   ]
  },
  {
   "cell_type": "markdown",
   "metadata": {},
   "source": [
    "Un modo veloce e comodo per lanciare una eccezione (un AssertionError nello specifico) quando qualcosa va male, è utilizzare\n",
    "<b>assert</b>, che prende in input un booleano e, opzionalmente, un messaggio di errore. Il booleano va posto uguale a False se\n",
    "qualcosa è andato storto."
   ]
  },
  {
   "cell_type": "code",
   "execution_count": null,
   "metadata": {},
   "outputs": [],
   "source": [
    "def div(x,y):\n",
    "    assert y!=0, \"Cannot divide by zero!\"\n",
    "    return x/y\n",
    "\n",
    "div(5,2)\n",
    "div(5,0)"
   ]
  },
  {
   "cell_type": "markdown",
   "metadata": {},
   "source": [
    "### 1.18 Definizione di Moduli"
   ]
  },
  {
   "cell_type": "markdown",
   "metadata": {},
   "source": [
    "Quando si costruiscono programmi complessi, può essere utile raggruppare le definizioni di funzione e classi in moduli. Il modo\n",
    "più semplice di definire un modulo in Python consiste nell'inserire le definizioni all'interno di un file apposito <i>modulo.py</i>. Le definizioni potranno poi essere importate mediante la sintassi <i><b>from</b> modulo <b>import</b> funzione</i>, a patto che il file che richiama le funzioni e quello che definisce il modulo si trovino nella stessa cartella."
   ]
  },
  {
   "cell_type": "code",
   "execution_count": null,
   "metadata": {},
   "outputs": [],
   "source": [
    "#file modulo.py\n",
    "def mysum(a,b):\n",
    "    return a+b\n",
    "def myprod(a,b):\n",
    "    return a*b\n",
    "\n",
    "#file main.py (stessa cartella di modulo.py)\n",
    "from modulo import mysum, myprod\n",
    "print(mysum(2,3)) #5\n",
    "print(myprod(2,3)) #6"
   ]
  },
  {
   "cell_type": "markdown",
   "metadata": {},
   "source": [
    "Altre informazioni su usi più avanzati di moduli e pacchetti possono essere reperite su <a href=\"https://docs.python.org/3/tutorial\n",
    "/modules.html\" target=_blank>https://docs.python.org/3/tutorial/modules.html</a>."
   ]
  },
  {
   "cell_type": "markdown",
   "metadata": {},
   "source": [
    "## - Introduzione a Python - FINE "
   ]
  }
 ],
 "metadata": {
  "kernelspec": {
   "display_name": "Python 3",
   "language": "python",
   "name": "python3"
  },
  "language_info": {
   "codemirror_mode": {
    "name": "ipython",
    "version": 3
   },
   "file_extension": ".py",
   "mimetype": "text/x-python",
   "name": "python",
   "nbconvert_exporter": "python",
   "pygments_lexer": "ipython3",
   "version": "3.7.6"
  }
 },
 "nbformat": 4,
 "nbformat_minor": 4
}
