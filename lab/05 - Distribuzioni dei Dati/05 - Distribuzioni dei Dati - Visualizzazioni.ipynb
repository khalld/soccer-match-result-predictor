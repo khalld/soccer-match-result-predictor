{
 "cells": [
  {
   "cell_type": "markdown",
   "metadata": {},
   "source": [
    "# <b>Fondamenti di Analisi Dati</b> - a.a. 2019/2020"
   ]
  },
  {
   "cell_type": "markdown",
   "metadata": {},
   "source": [
    "## 5 <b>Distribuzioni dei Dati - Visualizzazioni</b>"
   ]
  },
  {
   "cell_type": "markdown",
   "metadata": {},
   "source": [
    "In questo modulo esploreremo alcuni strumenti utili per visualizzare distribuzioni di dati univariati."
   ]
  },
  {
   "cell_type": "markdown",
   "metadata": {},
   "source": [
    "### 5.1 Analisi di un dataset"
   ]
  },
  {
   "cell_type": "markdown",
   "metadata": {},
   "source": [
    "Utilizzeremo un dataset di contenente osservazioni relativi a pesi e altezze di diversi soggetti. Il dataset è disponibile su Kaggle all'indirizzo <a href=\"https://www.kaggle.com/yersever/500-person-gender-height-weight-bodymassindex/\" target=\"_blank\">https://www.kaggle.com/yersever/500-person-gender-height-weight-bodymassindex/</a>"
   ]
  },
  {
   "cell_type": "code",
   "execution_count": 1,
   "metadata": {},
   "outputs": [
    {
     "name": "stdout",
     "output_type": "stream",
     "text": [
      "<class 'pandas.core.frame.DataFrame'>\n",
      "RangeIndex: 500 entries, 0 to 499\n",
      "Data columns (total 4 columns):\n",
      "Gender    500 non-null object\n",
      "Height    500 non-null int64\n",
      "Weight    500 non-null int64\n",
      "Index     500 non-null int64\n",
      "dtypes: int64(3), object(1)\n",
      "memory usage: 15.7+ KB\n"
     ]
    }
   ],
   "source": [
    "import pandas as pd\n",
    "data=pd.read_csv('500_Person_Gender_Height_Weight_Index.csv')\n",
    "data.info()"
   ]
  },
  {
   "cell_type": "markdown",
   "metadata": {},
   "source": [
    "Il dataset contiene 500 osservazioni e 4 colonne: genere, altezza, peso e BMI (classificato)."
   ]
  },
  {
   "cell_type": "code",
   "execution_count": 2,
   "metadata": {},
   "outputs": [
    {
     "data": {
      "text/html": [
       "<div>\n",
       "<style scoped>\n",
       "    .dataframe tbody tr th:only-of-type {\n",
       "        vertical-align: middle;\n",
       "    }\n",
       "\n",
       "    .dataframe tbody tr th {\n",
       "        vertical-align: top;\n",
       "    }\n",
       "\n",
       "    .dataframe thead th {\n",
       "        text-align: right;\n",
       "    }\n",
       "</style>\n",
       "<table border=\"1\" class=\"dataframe\">\n",
       "  <thead>\n",
       "    <tr style=\"text-align: right;\">\n",
       "      <th></th>\n",
       "      <th>Gender</th>\n",
       "      <th>Height</th>\n",
       "      <th>Weight</th>\n",
       "      <th>Index</th>\n",
       "    </tr>\n",
       "  </thead>\n",
       "  <tbody>\n",
       "    <tr>\n",
       "      <th>0</th>\n",
       "      <td>Male</td>\n",
       "      <td>174</td>\n",
       "      <td>96</td>\n",
       "      <td>4</td>\n",
       "    </tr>\n",
       "    <tr>\n",
       "      <th>1</th>\n",
       "      <td>Male</td>\n",
       "      <td>189</td>\n",
       "      <td>87</td>\n",
       "      <td>2</td>\n",
       "    </tr>\n",
       "    <tr>\n",
       "      <th>2</th>\n",
       "      <td>Female</td>\n",
       "      <td>185</td>\n",
       "      <td>110</td>\n",
       "      <td>4</td>\n",
       "    </tr>\n",
       "    <tr>\n",
       "      <th>3</th>\n",
       "      <td>Female</td>\n",
       "      <td>195</td>\n",
       "      <td>104</td>\n",
       "      <td>3</td>\n",
       "    </tr>\n",
       "    <tr>\n",
       "      <th>4</th>\n",
       "      <td>Male</td>\n",
       "      <td>149</td>\n",
       "      <td>61</td>\n",
       "      <td>3</td>\n",
       "    </tr>\n",
       "  </tbody>\n",
       "</table>\n",
       "</div>"
      ],
      "text/plain": [
       "   Gender  Height  Weight  Index\n",
       "0    Male     174      96      4\n",
       "1    Male     189      87      2\n",
       "2  Female     185     110      4\n",
       "3  Female     195     104      3\n",
       "4    Male     149      61      3"
      ]
     },
     "execution_count": 2,
     "metadata": {},
     "output_type": "execute_result"
    }
   ],
   "source": [
    "data.head()"
   ]
  },
  {
   "cell_type": "markdown",
   "metadata": {},
   "source": [
    "Dato che ci occuperemo, in una prima fase, di dati univariati, ogni colonna del dataframe costituirà per noi un campione a sé stante."
   ]
  },
  {
   "cell_type": "markdown",
   "metadata": {},
   "source": [
    "### 5.2 Probability Mass Function"
   ]
  },
  {
   "cell_type": "markdown",
   "metadata": {},
   "source": [
    "#### 5.2.1 Diagramma a barre delle frequenze assolute"
   ]
  },
  {
   "cell_type": "markdown",
   "metadata": {},
   "source": [
    "Un primo modo di descrivere il campione consiste nel calcolare la frequenza di goni elemento tramite il metodo <code>value_counts</code>."
   ]
  },
  {
   "cell_type": "code",
   "execution_count": 3,
   "metadata": {},
   "outputs": [
    {
     "data": {
      "text/plain": [
       "188    15\n",
       "179    14\n",
       "187    14\n",
       "168    13\n",
       "178    13\n",
       "182    12\n",
       "172    12\n",
       "184    12\n",
       "183    11\n",
       "150    11\n",
       "181    11\n",
       "185    11\n",
       "157    10\n",
       "154    10\n",
       "153    10\n",
       "165    10\n",
       "169    10\n",
       "195    10\n",
       "186     9\n",
       "167     9\n",
       "164     9\n",
       "162     9\n",
       "142     9\n",
       "161     9\n",
       "159     9\n",
       "145     9\n",
       "177     9\n",
       "146     9\n",
       "190     9\n",
       "166     9\n",
       "152     8\n",
       "163     8\n",
       "151     8\n",
       "141     8\n",
       "140     8\n",
       "171     8\n",
       "174     8\n",
       "180     8\n",
       "197     7\n",
       "160     7\n",
       "147     7\n",
       "176     7\n",
       "191     7\n",
       "156     6\n",
       "192     6\n",
       "196     6\n",
       "155     6\n",
       "170     6\n",
       "194     5\n",
       "198     5\n",
       "144     5\n",
       "193     5\n",
       "189     5\n",
       "148     5\n",
       "149     5\n",
       "158     5\n",
       "175     4\n",
       "173     4\n",
       "143     3\n",
       "199     3\n",
       "Name: Height, dtype: int64"
      ]
     },
     "execution_count": 3,
     "metadata": {},
     "output_type": "execute_result"
    }
   ],
   "source": [
    "height_counts = data['Height'].value_counts()\n",
    "height_counts"
   ]
  },
  {
   "cell_type": "markdown",
   "metadata": {},
   "source": [
    "In metodo restituisce una <code>Series</code> di Pandas che ha come <i>indici</i> i valori unici delle altezze e come valori le frequenze dei valori unici.\n",
    "Gli elementi della serie sono ordinati per frequenza. Sappiamo dunque che il primo elemento della serie è il più frequente mentre l'ultimo è il meno frequente."
   ]
  },
  {
   "cell_type": "code",
   "execution_count": 4,
   "metadata": {},
   "outputs": [
    {
     "name": "stdout",
     "output_type": "stream",
     "text": [
      "Altezza più frequente: 15\n",
      "Altezza meno frequente: 3\n"
     ]
    }
   ],
   "source": [
    "print(\"Altezza più frequente:\",height_counts.iloc[0])\n",
    "print(\"Altezza meno frequente:\",height_counts.iloc[-1])"
   ]
  },
  {
   "cell_type": "markdown",
   "metadata": {},
   "source": [
    "È utile riordinare la serie ottenuta per indice in modo da ottenere una serie di valori crescente con le relative frequenze."
   ]
  },
  {
   "cell_type": "code",
   "execution_count": 5,
   "metadata": {},
   "outputs": [
    {
     "data": {
      "text/plain": [
       "140     8\n",
       "141     8\n",
       "142     9\n",
       "143     3\n",
       "144     5\n",
       "145     9\n",
       "146     9\n",
       "147     7\n",
       "148     5\n",
       "149     5\n",
       "150    11\n",
       "151     8\n",
       "152     8\n",
       "153    10\n",
       "154    10\n",
       "155     6\n",
       "156     6\n",
       "157    10\n",
       "158     5\n",
       "159     9\n",
       "160     7\n",
       "161     9\n",
       "162     9\n",
       "163     8\n",
       "164     9\n",
       "165    10\n",
       "166     9\n",
       "167     9\n",
       "168    13\n",
       "169    10\n",
       "170     6\n",
       "171     8\n",
       "172    12\n",
       "173     4\n",
       "174     8\n",
       "175     4\n",
       "176     7\n",
       "177     9\n",
       "178    13\n",
       "179    14\n",
       "180     8\n",
       "181    11\n",
       "182    12\n",
       "183    11\n",
       "184    12\n",
       "185    11\n",
       "186     9\n",
       "187    14\n",
       "188    15\n",
       "189     5\n",
       "190     9\n",
       "191     7\n",
       "192     6\n",
       "193     5\n",
       "194     5\n",
       "195    10\n",
       "196     6\n",
       "197     7\n",
       "198     5\n",
       "199     3\n",
       "Name: Height, dtype: int64"
      ]
     },
     "execution_count": 5,
     "metadata": {},
     "output_type": "execute_result"
    }
   ],
   "source": [
    "data['Height'].value_counts().sort_index()"
   ]
  },
  {
   "cell_type": "markdown",
   "metadata": {},
   "source": [
    "Le frequenze dei dati possono essere rappresentate graficamente mediante un grafico a barre utilizzando le funzionalità di plot di\n",
    "<code>Pandas</code>. Tali funzionalità si appoggiano a matplotlib, per cui, per avere maggiore controllo su di esse dobbiamo importare <code>pyplot</code>."
   ]
  },
  {
   "cell_type": "code",
   "execution_count": 48,
   "metadata": {},
   "outputs": [
    {
     "data": {
      "image/png": "[encoded data removed]",
      "text/plain": [
       "<Figure size 1152x576 with 1 Axes>"
      ]
     },
     "metadata": {
      "needs_background": "light"
     },
     "output_type": "display_data"
    }
   ],
   "source": [
    "from matplotlib import pyplot as plt\n",
    "data['Height'].value_counts().sort_index().plot.bar(figsize=(16,8))\n",
    "plt.grid()\n",
    "plt.show()"
   ]
  },
  {
   "cell_type": "markdown",
   "metadata": {},
   "source": [
    "Il parametro <code>figsize=()</code> serve a specificare le dimensioni del plot mentre <code>plt.grid()</code> serve a mostrare la griglia."
   ]
  },
  {
   "cell_type": "markdown",
   "metadata": {},
   "source": [
    "Il grafico ottenuto è detto <b>diagramma a barre delle frequenze assolute</b> e mostra il numero di volte in cui ciascun valore appare nel\n",
    "campione."
   ]
  },
  {
   "cell_type": "markdown",
   "metadata": {},
   "source": [
    "In alternativa è possibile plottare un grafico a barre direttamente tramite matplotlib nel seguente modo:"
   ]
  },
  {
   "cell_type": "code",
   "execution_count": 66,
   "metadata": {},
   "outputs": [
    {
     "data": {
      "image/png": "[encoded data removed]",
      "text/plain": [
       "<Figure size 1152x576 with 1 Axes>"
      ]
     },
     "metadata": {
      "needs_background": "light"
     },
     "output_type": "display_data"
    }
   ],
   "source": [
    "plt.figure(figsize=(16,8))\n",
    "height_counts = data['Height'].value_counts().sort_index()\n",
    "plt.bar(height_counts.index, height_counts.values)\n",
    "plt.xticks(height_counts.index, rotation='vertical')\n",
    "#plt.grid()\n",
    "plt.show()"
   ]
  },
  {
   "cell_type": "markdown",
   "metadata": {},
   "source": [
    "In molti casi sarà possibile utilizzare le funzioni compatte messe a disposizione da Pandas, mentre in altri sarà necessario utilizzare\n",
    "matplotlib esplicitamente."
   ]
  },
  {
   "cell_type": "markdown",
   "metadata": {},
   "source": [
    "#### 5.2.2 PMF"
   ]
  },
  {
   "cell_type": "markdown",
   "metadata": {},
   "source": [
    "L'istrogamma assoluto delle frequenze ci permette di farci un'idea generica sulla distribuzione dei dati, ma non ci\n",
    "permette di ragionare in termini probabilistici e di rispondere a domande del tipo: \"se scelgo un elemento a caso dal compione, qual è la\n",
    "probabilità di ottenere un individuo alto 168 cm?\".\n",
    "<br>Per ragionare in termini probabilistici dobbiamo costruire una Probability\n",
    "Mass Function $f$ che rispetti le seguenti regole:\n",
    "$$0 \\leqslant f(x_i) \\leqslant 1 \\:\\:\\:\\: \\forall i = 1,...,N$$\n",
    "$$\\sum_{i}^{N} f(x_i) = 1$$\n",
    "Le due regole sono soddisfatte dividendo le frequenze per il numero di osservazioni presenti nel campione."
   ]
  },
  {
   "cell_type": "code",
   "execution_count": 53,
   "metadata": {},
   "outputs": [
    {
     "data": {
      "text/plain": [
       "140    0.016\n",
       "141    0.016\n",
       "142    0.018\n",
       "143    0.006\n",
       "144    0.010\n",
       "145    0.018\n",
       "146    0.018\n",
       "147    0.014\n",
       "148    0.010\n",
       "149    0.010\n",
       "150    0.022\n",
       "151    0.016\n",
       "152    0.016\n",
       "153    0.020\n",
       "154    0.020\n",
       "155    0.012\n",
       "156    0.012\n",
       "157    0.020\n",
       "158    0.010\n",
       "159    0.018\n",
       "160    0.014\n",
       "161    0.018\n",
       "162    0.018\n",
       "163    0.016\n",
       "164    0.018\n",
       "165    0.020\n",
       "166    0.018\n",
       "167    0.018\n",
       "168    0.026\n",
       "169    0.020\n",
       "170    0.012\n",
       "171    0.016\n",
       "172    0.024\n",
       "173    0.008\n",
       "174    0.016\n",
       "175    0.008\n",
       "176    0.014\n",
       "177    0.018\n",
       "178    0.026\n",
       "179    0.028\n",
       "180    0.016\n",
       "181    0.022\n",
       "182    0.024\n",
       "183    0.022\n",
       "184    0.024\n",
       "185    0.022\n",
       "186    0.018\n",
       "187    0.028\n",
       "188    0.030\n",
       "189    0.010\n",
       "190    0.018\n",
       "191    0.014\n",
       "192    0.012\n",
       "193    0.010\n",
       "194    0.010\n",
       "195    0.020\n",
       "196    0.012\n",
       "197    0.014\n",
       "198    0.010\n",
       "199    0.006\n",
       "Name: Height, dtype: float64"
      ]
     },
     "execution_count": 53,
     "metadata": {},
     "output_type": "execute_result"
    }
   ],
   "source": [
    "data['Height'].value_counts().sort_index()/len(data['Height'])"
   ]
  },
  {
   "cell_type": "markdown",
   "metadata": {},
   "source": [
    "In alternativa possiamo specificare il parametro <code>normalize=True</code> all'interno di <code>value_counts</code>."
   ]
  },
  {
   "cell_type": "code",
   "execution_count": 54,
   "metadata": {},
   "outputs": [
    {
     "data": {
      "text/plain": [
       "140    0.016\n",
       "141    0.016\n",
       "142    0.018\n",
       "143    0.006\n",
       "144    0.010\n",
       "145    0.018\n",
       "146    0.018\n",
       "147    0.014\n",
       "148    0.010\n",
       "149    0.010\n",
       "150    0.022\n",
       "151    0.016\n",
       "152    0.016\n",
       "153    0.020\n",
       "154    0.020\n",
       "155    0.012\n",
       "156    0.012\n",
       "157    0.020\n",
       "158    0.010\n",
       "159    0.018\n",
       "160    0.014\n",
       "161    0.018\n",
       "162    0.018\n",
       "163    0.016\n",
       "164    0.018\n",
       "165    0.020\n",
       "166    0.018\n",
       "167    0.018\n",
       "168    0.026\n",
       "169    0.020\n",
       "170    0.012\n",
       "171    0.016\n",
       "172    0.024\n",
       "173    0.008\n",
       "174    0.016\n",
       "175    0.008\n",
       "176    0.014\n",
       "177    0.018\n",
       "178    0.026\n",
       "179    0.028\n",
       "180    0.016\n",
       "181    0.022\n",
       "182    0.024\n",
       "183    0.022\n",
       "184    0.024\n",
       "185    0.022\n",
       "186    0.018\n",
       "187    0.028\n",
       "188    0.030\n",
       "189    0.010\n",
       "190    0.018\n",
       "191    0.014\n",
       "192    0.012\n",
       "193    0.010\n",
       "194    0.010\n",
       "195    0.020\n",
       "196    0.012\n",
       "197    0.014\n",
       "198    0.010\n",
       "199    0.006\n",
       "Name: Height, dtype: float64"
      ]
     },
     "execution_count": 54,
     "metadata": {},
     "output_type": "execute_result"
    }
   ],
   "source": [
    "data['Height'].value_counts(normalize=True).sort_index()"
   ]
  },
  {
   "cell_type": "markdown",
   "metadata": {},
   "source": [
    "Tutti i numeri sono compresi tra zero e uno e la somma dei valori è pari a 1."
   ]
  },
  {
   "cell_type": "code",
   "execution_count": 56,
   "metadata": {},
   "outputs": [
    {
     "name": "stdout",
     "output_type": "stream",
     "text": [
      "1.00\n"
     ]
    }
   ],
   "source": [
    "print(\"{:0.2f}\".format(data['Height'].value_counts(normalize=True).sort_index().sum()))"
   ]
  },
  {
   "cell_type": "markdown",
   "metadata": {},
   "source": [
    "La rappresentazione grafica che si ottiene è detta <b>diagramma a barre delle frequenze</b> e rappresenta una <b>probability mass function\n",
    "(PMF)</b> che associa ad ogni <i>valore discreto</i> presente nel campione una probabilità."
   ]
  },
  {
   "cell_type": "code",
   "execution_count": 57,
   "metadata": {},
   "outputs": [
    {
     "data": {
      "image/png": "[encoded data removed]",
      "text/plain": [
       "<Figure size 1152x576 with 1 Axes>"
      ]
     },
     "metadata": {
      "needs_background": "light"
     },
     "output_type": "display_data"
    }
   ],
   "source": [
    "(data['Height'].value_counts(normalize=True).sort_index()).plot.bar(figsize=(16,8))\n",
    "plt.grid()\n",
    "plt.show()"
   ]
  },
  {
   "cell_type": "markdown",
   "metadata": {},
   "source": [
    "Le PMF possono essere utili anche per confrontare diversi campioni di dati. Consideriamo ad esempio le altezze delle donne e degli\n",
    "uomini come due campioni separati nel dataset e calcoliamone le PMF."
   ]
  },
  {
   "cell_type": "code",
   "execution_count": 12,
   "metadata": {},
   "outputs": [],
   "source": [
    "pmf_height_m = data[data['Gender']=='Male']['Height'].value_counts(normalize=True).sort_index()\n",
    "pmf_height_f = data[data['Gender']=='Female']['Height'].value_counts(normalize=True).sort_index()"
   ]
  },
  {
   "cell_type": "markdown",
   "metadata": {},
   "source": [
    "Mostriamo i due istogrammi mettendoli a confronto."
   ]
  },
  {
   "cell_type": "code",
   "execution_count": 13,
   "metadata": {},
   "outputs": [
    {
     "data": {
      "image/png": "[encoded data removed]",
      "text/plain": [
       "<Figure size 1152x576 with 1 Axes>"
      ]
     },
     "metadata": {
      "needs_background": "light"
     },
     "output_type": "display_data"
    }
   ],
   "source": [
    "plt.figure(figsize=(16,8))\n",
    "#sommiamo e sottraiamo 0.2 agli indici per traslare le barre e renderle visibili (altrimenti sarebbero sovrapposte)\n",
    "#Inoltre impostiamo alpha=0.8 per rendere le barre parzialmente trasparenti\n",
    "plt.bar(pmf_height_m.index+0.2, pmf_height_m.values, width=1, alpha=0.8)\n",
    "plt.bar(pmf_height_f.index-0.2, pmf_height_f.values, width=1, alpha=0.8)\n",
    "plt.xticks(data['Height'].unique(), rotation='vertical')\n",
    "plt.legend(['M','F']) #mostriamo una legenda\n",
    "plt.grid()\n",
    "plt.show()"
   ]
  },
  {
   "cell_type": "markdown",
   "metadata": {},
   "source": [
    "### 5.3 Cumulative Distribution Function"
   ]
  },
  {
   "cell_type": "markdown",
   "metadata": {},
   "source": [
    "Le PMF funzionano particolarmente bene quando i valori unici sono pochi.<br>\n",
    "Proviamo a plottare la PMF dei pesi."
   ]
  },
  {
   "cell_type": "code",
   "execution_count": 14,
   "metadata": {},
   "outputs": [
    {
     "data": {
      "image/png": "[encoded data removed]",
      "text/plain": [
       "<Figure size 1152x576 with 1 Axes>"
      ]
     },
     "metadata": {
      "needs_background": "light"
     },
     "output_type": "display_data"
    }
   ],
   "source": [
    "data['Weight'].value_counts(normalize=True).sort_index().plot.bar(figsize=(16,8))\n",
    "plt.show()"
   ]
  },
  {
   "cell_type": "markdown",
   "metadata": {},
   "source": [
    "Nel grafico sopra il numero di valori univoci è abbastanza alto quasi da non permetterne la lettura delle etichette sulle ascisse. Possiamo ottenere una situazione più leggibile tramite matplotlib."
   ]
  },
  {
   "cell_type": "code",
   "execution_count": 15,
   "metadata": {},
   "outputs": [
    {
     "data": {
      "image/png": "[encoded data removed]",
      "text/plain": [
       "<Figure size 1152x576 with 1 Axes>"
      ]
     },
     "metadata": {
      "needs_background": "light"
     },
     "output_type": "display_data"
    }
   ],
   "source": [
    "hist=data['Weight'].value_counts(normalize=True).sort_index()\n",
    "plt.figure(figsize=(16,8))\n",
    "plt.bar(hist.index,hist.values)\n",
    "plt.show()"
   ]
  },
  {
   "cell_type": "markdown",
   "metadata": {},
   "source": [
    "Confrontiamo i pesi di donne e uomini."
   ]
  },
  {
   "cell_type": "code",
   "execution_count": 16,
   "metadata": {},
   "outputs": [
    {
     "data": {
      "image/png": "[encoded data removed]",
      "text/plain": [
       "<Figure size 1152x576 with 1 Axes>"
      ]
     },
     "metadata": {
      "needs_background": "light"
     },
     "output_type": "display_data"
    }
   ],
   "source": [
    "pmf_weight_m = data[data['Gender']=='Male']['Weight'].value_counts(normalize=True).sort_index()\n",
    "pmf_weight_f = data[data['Gender']=='Female']['Weight'].value_counts(normalize=True).sort_index()\n",
    "plt.figure(figsize=(16,8))\n",
    "plt.bar(pmf_weight_m.index-0.2, pmf_weight_m.values, width=1, alpha=0.8)\n",
    "plt.bar(pmf_weight_f.index+0.2, pmf_weight_f.values, width=1, alpha=0.8)\n",
    "plt.legend(['M','F'])\n",
    "plt.grid()\n",
    "plt.show()"
   ]
  },
  {
   "cell_type": "markdown",
   "metadata": {},
   "source": [
    "Dal grafico sopra potremmo non essere in grado di capire bene se i due fenomeni obbediscono o meno alla stessa densità di probabilità.\n",
    "<br>Un metodo per ovviare a questo problema consiste nell'utilizzare una <b>Cumulative Distribution Function (CDF)</b>. Una CDF mappa un valore del campione al relativo \"ordine di quantile\", ovvero alla frazione di valori del campione che sono minori o uguali a $x$. Ad esempio, se il valore $x$ è il quantile $0.25$ (il 25% dei valori sono minori o uguali a $x$), la CDF assegnerà a $x$ proprio il valore $0.25$. Possiamo calcolare le CDF dei due campioni di pesi a partire dalle rispettive PMF avvalendoci della funzione <code>cumsum</code>"
   ]
  },
  {
   "cell_type": "markdown",
   "metadata": {},
   "source": [
    "La funzione <code>cumsum</code> di una serie di valori calcola ad ogni posizione $i$ la somma dei primi $i$ valori. "
   ]
  },
  {
   "cell_type": "code",
   "execution_count": 17,
   "metadata": {},
   "outputs": [
    {
     "data": {
      "text/plain": [
       "0     1\n",
       "1     4\n",
       "2    10\n",
       "3    18\n",
       "4    27\n",
       "dtype: int64"
      ]
     },
     "execution_count": 17,
     "metadata": {},
     "output_type": "execute_result"
    }
   ],
   "source": [
    "a = pd.Series([1,3,6,8,9])\n",
    "a.cumsum()"
   ]
  },
  {
   "cell_type": "markdown",
   "metadata": {},
   "source": [
    "Dal momento che le PMF sono ordinate, la funzione <code>cumsum</code> calcola per ogni indice la somma delle probabilità dei valori precedenti.<br>\n",
    "Calcoliamo le <b>CDF</b> dei due campioni e confrontiamole."
   ]
  },
  {
   "cell_type": "code",
   "execution_count": 18,
   "metadata": {},
   "outputs": [
    {
     "data": {
      "image/png": "[encoded data removed]",
      "text/plain": [
       "<Figure size 1152x576 with 1 Axes>"
      ]
     },
     "metadata": {
      "needs_background": "light"
     },
     "output_type": "display_data"
    }
   ],
   "source": [
    "cdf_weight_m = data[data['Gender']=='Male']['Weight'].value_counts(normalize=True).sort_index().cumsum()\n",
    "cdf_weight_f = data[data['Gender']=='Female']['Weight'].value_counts(normalize=True).sort_index().cumsum()\n",
    "plt.figure(figsize=(16,8))\n",
    "plt.plot(cdf_weight_m.index, cdf_weight_m.values)\n",
    "plt.plot(cdf_weight_f.index, cdf_weight_f.values)\n",
    "plt.legend(['M','F'])\n",
    "plt.grid()\n",
    "plt.show()"
   ]
  },
  {
   "cell_type": "markdown",
   "metadata": {},
   "source": [
    "Le <b>CDF</b>, quindi, tornano utili per verificare graficamente se due fenomeni obbediscono alla stessa densità di probabilità o meno. Prendiamo ad esempio il noto dataset \"Titanic\"."
   ]
  },
  {
   "cell_type": "code",
   "execution_count": 19,
   "metadata": {},
   "outputs": [],
   "source": [
    "titanic = pd.read_csv('https://raw.githubusercontent.com/agconti/kaggle-titanic/master/data/train.csv', index_col='PassengerId')"
   ]
  },
  {
   "cell_type": "code",
   "execution_count": 20,
   "metadata": {},
   "outputs": [
    {
     "data": {
      "text/html": [
       "<div>\n",
       "<style scoped>\n",
       "    .dataframe tbody tr th:only-of-type {\n",
       "        vertical-align: middle;\n",
       "    }\n",
       "\n",
       "    .dataframe tbody tr th {\n",
       "        vertical-align: top;\n",
       "    }\n",
       "\n",
       "    .dataframe thead th {\n",
       "        text-align: right;\n",
       "    }\n",
       "</style>\n",
       "<table border=\"1\" class=\"dataframe\">\n",
       "  <thead>\n",
       "    <tr style=\"text-align: right;\">\n",
       "      <th></th>\n",
       "      <th>Survived</th>\n",
       "      <th>Pclass</th>\n",
       "      <th>Name</th>\n",
       "      <th>Sex</th>\n",
       "      <th>Age</th>\n",
       "      <th>SibSp</th>\n",
       "      <th>Parch</th>\n",
       "      <th>Ticket</th>\n",
       "      <th>Fare</th>\n",
       "      <th>Cabin</th>\n",
       "      <th>Embarked</th>\n",
       "    </tr>\n",
       "    <tr>\n",
       "      <th>PassengerId</th>\n",
       "      <th></th>\n",
       "      <th></th>\n",
       "      <th></th>\n",
       "      <th></th>\n",
       "      <th></th>\n",
       "      <th></th>\n",
       "      <th></th>\n",
       "      <th></th>\n",
       "      <th></th>\n",
       "      <th></th>\n",
       "      <th></th>\n",
       "    </tr>\n",
       "  </thead>\n",
       "  <tbody>\n",
       "    <tr>\n",
       "      <th>1</th>\n",
       "      <td>0</td>\n",
       "      <td>3</td>\n",
       "      <td>Braund, Mr. Owen Harris</td>\n",
       "      <td>male</td>\n",
       "      <td>22.0</td>\n",
       "      <td>1</td>\n",
       "      <td>0</td>\n",
       "      <td>A/5 21171</td>\n",
       "      <td>7.2500</td>\n",
       "      <td>NaN</td>\n",
       "      <td>S</td>\n",
       "    </tr>\n",
       "    <tr>\n",
       "      <th>2</th>\n",
       "      <td>1</td>\n",
       "      <td>1</td>\n",
       "      <td>Cumings, Mrs. John Bradley (Florence Briggs Th...</td>\n",
       "      <td>female</td>\n",
       "      <td>38.0</td>\n",
       "      <td>1</td>\n",
       "      <td>0</td>\n",
       "      <td>PC 17599</td>\n",
       "      <td>71.2833</td>\n",
       "      <td>C85</td>\n",
       "      <td>C</td>\n",
       "    </tr>\n",
       "    <tr>\n",
       "      <th>3</th>\n",
       "      <td>1</td>\n",
       "      <td>3</td>\n",
       "      <td>Heikkinen, Miss. Laina</td>\n",
       "      <td>female</td>\n",
       "      <td>26.0</td>\n",
       "      <td>0</td>\n",
       "      <td>0</td>\n",
       "      <td>STON/O2. 3101282</td>\n",
       "      <td>7.9250</td>\n",
       "      <td>NaN</td>\n",
       "      <td>S</td>\n",
       "    </tr>\n",
       "    <tr>\n",
       "      <th>4</th>\n",
       "      <td>1</td>\n",
       "      <td>1</td>\n",
       "      <td>Futrelle, Mrs. Jacques Heath (Lily May Peel)</td>\n",
       "      <td>female</td>\n",
       "      <td>35.0</td>\n",
       "      <td>1</td>\n",
       "      <td>0</td>\n",
       "      <td>113803</td>\n",
       "      <td>53.1000</td>\n",
       "      <td>C123</td>\n",
       "      <td>S</td>\n",
       "    </tr>\n",
       "    <tr>\n",
       "      <th>5</th>\n",
       "      <td>0</td>\n",
       "      <td>3</td>\n",
       "      <td>Allen, Mr. William Henry</td>\n",
       "      <td>male</td>\n",
       "      <td>35.0</td>\n",
       "      <td>0</td>\n",
       "      <td>0</td>\n",
       "      <td>373450</td>\n",
       "      <td>8.0500</td>\n",
       "      <td>NaN</td>\n",
       "      <td>S</td>\n",
       "    </tr>\n",
       "  </tbody>\n",
       "</table>\n",
       "</div>"
      ],
      "text/plain": [
       "             Survived  Pclass  \\\n",
       "PassengerId                     \n",
       "1                   0       3   \n",
       "2                   1       1   \n",
       "3                   1       3   \n",
       "4                   1       1   \n",
       "5                   0       3   \n",
       "\n",
       "                                                          Name     Sex   Age  \\\n",
       "PassengerId                                                                    \n",
       "1                                      Braund, Mr. Owen Harris    male  22.0   \n",
       "2            Cumings, Mrs. John Bradley (Florence Briggs Th...  female  38.0   \n",
       "3                                       Heikkinen, Miss. Laina  female  26.0   \n",
       "4                 Futrelle, Mrs. Jacques Heath (Lily May Peel)  female  35.0   \n",
       "5                                     Allen, Mr. William Henry    male  35.0   \n",
       "\n",
       "             SibSp  Parch            Ticket     Fare Cabin Embarked  \n",
       "PassengerId                                                          \n",
       "1                1      0         A/5 21171   7.2500   NaN        S  \n",
       "2                1      0          PC 17599  71.2833   C85        C  \n",
       "3                0      0  STON/O2. 3101282   7.9250   NaN        S  \n",
       "4                1      0            113803  53.1000  C123        S  \n",
       "5                0      0            373450   8.0500   NaN        S  "
      ]
     },
     "execution_count": 20,
     "metadata": {},
     "output_type": "execute_result"
    }
   ],
   "source": [
    "titanic.head()"
   ]
  },
  {
   "cell_type": "markdown",
   "metadata": {},
   "source": [
    "Confrontiamo adesso le distribuzioni delle età dei passeggeri di sesso maschile e femminile."
   ]
  },
  {
   "cell_type": "code",
   "execution_count": 21,
   "metadata": {},
   "outputs": [
    {
     "data": {
      "image/png": "[encoded data removed]",
      "text/plain": [
       "<Figure size 864x576 with 1 Axes>"
      ]
     },
     "metadata": {
      "needs_background": "light"
     },
     "output_type": "display_data"
    }
   ],
   "source": [
    "a=titanic[titanic['Sex']=='male']['Age'].value_counts(normalize=True).sort_index().cumsum()\n",
    "b=titanic[titanic['Sex']=='female']['Age'].value_counts(normalize=True).sort_index().cumsum()\n",
    "plt.figure(figsize=(12,8))\n",
    "plt.plot(a.index,a.values)\n",
    "plt.plot(b.index,b.values)\n",
    "plt.grid()\n",
    "plt.legend(['M','F'])\n",
    "plt.show()"
   ]
  },
  {
   "cell_type": "markdown",
   "metadata": {},
   "source": [
    "In questo caso le due curve hanno delle forme molto simili. Ciò suggerisce che i due fenomeni obbediscono a densità di probabilità simili. È possibile notare, inoltre, che le donne tendono ad essere più giovani degli uomini."
   ]
  },
  {
   "cell_type": "markdown",
   "metadata": {},
   "source": [
    "### 5.4 Approssimare una PDF - Istogrammi"
   ]
  },
  {
   "cell_type": "markdown",
   "metadata": {},
   "source": [
    "Idealmente, sarebbe utile conoscere la Probability Density Function (PDF) della popolazione dalla quale è stato estratto il campione. Una\n",
    "PDF è l'analogo di una PMF nel caso in cui la variabile di riferimento sia considerata continua. In pratica, passare da una PMF a una PDF\n",
    "permette di descrivere meglio il fenomeno e ridurre l'influenza del rumore dovuto alle rilevazioni. Un modo per approssimare una PDF\n",
    "direttamente dai dati, consiste nel dividere il range dei dati in un certo numero di \"bin\" e costruire un \"istogramma\". Questa\n",
    "rappresentazione ha lo scopo di \"approssimare\" la PDF (continua) della popolazione di riferimento. Possiamo plottare un istogramma con\n",
    "matplotlib come segue:"
   ]
  },
  {
   "cell_type": "code",
   "execution_count": 84,
   "metadata": {},
   "outputs": [
    {
     "data": {
      "image/png": "[encoded data removed]",
      "text/plain": [
       "<Figure size 1152x576 with 1 Axes>"
      ]
     },
     "metadata": {
      "needs_background": "light"
     },
     "output_type": "display_data"
    }
   ],
   "source": [
    "plt.figure(figsize=(16,8))\n",
    "_,edges,_= plt.hist(data['Height'])\n",
    "plt.xticks(edges)\n",
    "plt.grid()\n",
    "plt.show()"
   ]
  },
  {
   "cell_type": "markdown",
   "metadata": {},
   "source": [
    "Oltre a graficare l'istogramma, la funzione <b>plt.hist</b> restituisce tre valori:\n",
    "<ul>\n",
    "<li>un vettore contenente i valori dell'istogramma;\n",
    "<li>i \"bordi\" di ogni bin;\n",
    "<li>una lista di handle agli elementi grafici visualizzati.\n",
    "    Nell'esempio sopra abbiamo utilizzato la notazione <code>_,edges,_</code> per ottenere i \"bordi\"\n",
    "dell'istogramma.\n",
    "Il numero di bin può essere specificato mediante il parametro <code>bin</code>. Calcoliamo il numero di bin mediante i criteri di di Struges ($bins = 3.3 \\: log(n)$) e Rice ($bins = 2 \\: n^{1/3}$ ) e plottiamo nuovamente l'istogramma:"
   ]
  },
  {
   "cell_type": "code",
   "execution_count": 86,
   "metadata": {},
   "outputs": [
    {
     "data": {
      "image/png": "[encoded data removed]",
      "text/plain": [
       "<Figure size 1152x432 with 2 Axes>"
      ]
     },
     "metadata": {
      "needs_background": "light"
     },
     "output_type": "display_data"
    }
   ],
   "source": [
    "import numpy as np\n",
    "bins_struges=int(3.3*np.log(len(data['Height'])))\n",
    "bins_rice=int(2*len(data['Height'])**(1/3))\n",
    "\n",
    "plt.figure(figsize=(16,6))\n",
    "plt.subplot(1,2,1)\n",
    "plt.title('Struges ({} bins)'.format(bins_struges))\n",
    "plt.hist(data['Height'], bins=bins_struges)\n",
    "plt.grid()\n",
    "plt.subplot(1,2,2)\n",
    "plt.title('Rice ({} bins)'.format(bins_rice))\n",
    "plt.grid()\n",
    "plt.hist(data['Height'], bins=bins_rice)\n",
    "plt.show()"
   ]
  },
  {
   "cell_type": "markdown",
   "metadata": {},
   "source": [
    "È possibile anche specificare i \"bordi\" dei bin esplicitamente."
   ]
  },
  {
   "cell_type": "code",
   "execution_count": 103,
   "metadata": {},
   "outputs": [
    {
     "data": {
      "image/png": "[encoded data removed]",
      "text/plain": [
       "<Figure size 864x432 with 1 Axes>"
      ]
     },
     "metadata": {
      "needs_background": "light"
     },
     "output_type": "display_data"
    }
   ],
   "source": [
    "plt.figure(figsize=(12,6))\n",
    "_,edges,_=plt.hist(data['Height'], bins=[140,150,160,170,180,190,200], width=9.6) #costruiamo un istogramma con i bin definiti\n",
    "plt.xticks(edges)\n",
    "plt.grid()\n",
    "plt.show()\n",
    "#print(plt.hist(data['Height'], bins=[140,150,160,170,180,190,200], width=9.6))"
   ]
  },
  {
   "cell_type": "markdown",
   "metadata": {},
   "source": [
    "L'istogramma mostrato sopra riporta le frequenze assolute per ogni bin e ci permette di rispondere a domande del tipo: \"quanti soggetti hanno un'altezza compresa tra 1,70 m e 1,80 m?\""
   ]
  },
  {
   "cell_type": "markdown",
   "metadata": {},
   "source": [
    "#### 5.4.1 Istogrammi di densità"
   ]
  },
  {
   "cell_type": "markdown",
   "metadata": {},
   "source": [
    "L'istogramma precedente non ci permette di ragionare in termini probabilistici, ovvero non ci permette di dire qual è la probabilità\n",
    "che un soggetto abbia un'altezza compresa tra 1,70 m e 1,80 m. Se avessimo la PDF della popolazione dalla quale è stato estratto il\n",
    "campione, potremmo rispondere a questa domanda calcolando l'integrale\n",
    "$$ \\int_{170}^{180} pdf(x)\\:dx $$"
   ]
  },
  {
   "cell_type": "markdown",
   "metadata": {},
   "source": [
    "Possiamo costruire un istogramma di densità, che approssimi in maniera discreta la PDF che cerchiamo. In pratica, vogliamo che l'area\n",
    "sottesa dal bin di \"bordi\" [170,180] contenga un valore che approssimi l'integrale della PDF\n",
    "$$ \\int_{170}^{180} pdf(x)\\:dx \\approx b_j \\cdot h_j$$"
   ]
  },
  {
   "cell_type": "markdown",
   "metadata": {},
   "source": [
    "dove $j$ indica il bin di bordi $[170,180[$, $h_j$ rappresenta la sua larghezza $(180-170)$ e $b_j$ rappresenta la sua altezza (il valore del bin).<br>\n",
    "Sotto queste condizioni, vale dunque la seguente proprietà:\n",
    "$$\\sum_{i=0}^{n} b_i \\cdot h_i  = \\int pdf(x)\\:dx = 1 $$\n",
    "dove $n$ è il numero totale di bin.<br>\n",
    "Per ottenere un istogramma di questo tipo, dobbiamo passare il parametro <code>density=True</code> alla funzione <code>hist</code>."
   ]
  },
  {
   "cell_type": "code",
   "execution_count": 99,
   "metadata": {},
   "outputs": [
    {
     "data": {
      "image/png": "[encoded data removed]",
      "text/plain": [
       "<Figure size 864x432 with 1 Axes>"
      ]
     },
     "metadata": {
      "needs_background": "light"
     },
     "output_type": "display_data"
    }
   ],
   "source": [
    "plt.figure(figsize=(12,6))\n",
    "valori,bordi,_=plt.hist(data['Height'], bins=[140,150,160,170,180,190,200], width=9.6, density=True)\n",
    "plt.xticks(bordi)\n",
    "plt.grid()\n",
    "plt.show()"
   ]
  },
  {
   "cell_type": "markdown",
   "metadata": {},
   "source": [
    "Verifichiamo che $$\\sum_{i=0}^{n} b_i \\cdot h_i  =  1 $$"
   ]
  },
  {
   "cell_type": "code",
   "execution_count": 106,
   "metadata": {},
   "outputs": [
    {
     "name": "stdout",
     "output_type": "stream",
     "text": [
      "[0.0136 0.0166 0.0186 0.017  0.0216 0.0126] [140 150 160 170 180 190 200]\n",
      "[10 10 10 10 10 10]\n",
      "1.0\n"
     ]
    }
   ],
   "source": [
    "print(valori,bordi)\n",
    "larghezze = bordi[1:]-bordi[:-1]\n",
    "print(larghezze) #tutti i bin hanno la stessa larghezza\n",
    "print((larghezze*valori).sum()) #colcoliamo la somma dei prodotti"
   ]
  },
  {
   "cell_type": "markdown",
   "metadata": {},
   "source": [
    "Gli istogrammi possono essere visualizzati anche direttamente da <code>DataFrame</code>"
   ]
  },
  {
   "cell_type": "code",
   "execution_count": 107,
   "metadata": {},
   "outputs": [
    {
     "data": {
      "image/png": "[encoded data removed]",
      "text/plain": [
       "<Figure size 864x432 with 1 Axes>"
      ]
     },
     "metadata": {
      "needs_background": "light"
     },
     "output_type": "display_data"
    }
   ],
   "source": [
    "data['Height'].plot.hist(figsize=(12,6), width=9.6, density='True', bins=[140,150,160,170,180,190,200])\n",
    "plt.grid()\n",
    "plt.show()"
   ]
  },
  {
   "cell_type": "markdown",
   "metadata": {},
   "source": [
    "La funzione prende gli stessi parametri in input di <code>hist</code> di matplotlib."
   ]
  },
  {
   "cell_type": "markdown",
   "metadata": {},
   "source": [
    "#### 5.4.2 Stima della densità"
   ]
  },
  {
   "cell_type": "markdown",
   "metadata": {},
   "source": [
    "Esistono delle tecniche che permettono di stimare in maniera non parametrica (non vengono ciò fatte assunzioni sulla natura della\n",
    "distribuzione dei dati) la densità di probabilità seguita dai dati. Queste tecniche permettono di ottenere una versione più \"continua\" di un istogramma. Possiamo stimare e plottare le densità mediante Pandas come segue:"
   ]
  },
  {
   "cell_type": "code",
   "execution_count": 108,
   "metadata": {},
   "outputs": [
    {
     "data": {
      "image/png": "[encoded data removed]",
      "text/plain": [
       "<Figure size 864x432 with 1 Axes>"
      ]
     },
     "metadata": {
      "needs_background": "light"
     },
     "output_type": "display_data"
    }
   ],
   "source": [
    "data['Height'].plot.density(figsize=(12,6))\n",
    "plt.grid()\n",
    "plt.show()"
   ]
  },
  {
   "cell_type": "markdown",
   "metadata": {},
   "source": [
    "Confrontiamo la stima della densità con l'istogramma."
   ]
  },
  {
   "cell_type": "code",
   "execution_count": 109,
   "metadata": {},
   "outputs": [
    {
     "data": {
      "image/png": "[encoded data removed]",
      "text/plain": [
       "<Figure size 864x432 with 1 Axes>"
      ]
     },
     "metadata": {
      "needs_background": "light"
     },
     "output_type": "display_data"
    }
   ],
   "source": [
    "a=data['Height'].plot.density(figsize=(12,6))\n",
    "plt.hist(data['Height'], density=True)\n",
    "plt.grid()\n",
    "plt.show()"
   ]
  },
  {
   "cell_type": "markdown",
   "metadata": {},
   "source": [
    "#### 5.4.2 Confrontare campioni mediante istogrammi"
   ]
  },
  {
   "cell_type": "markdown",
   "metadata": {},
   "source": [
    "Gli istogrammi possono essere utili per comparare campioni. Confrontiamo ad esempio gli istogrammi del campione delle altezzie degli uomini\n",
    "e del campione delle altezze delle donne."
   ]
  },
  {
   "cell_type": "code",
   "execution_count": 110,
   "metadata": {},
   "outputs": [
    {
     "data": {
      "image/png": "[encoded data removed]",
      "text/plain": [
       "<Figure size 864x432 with 1 Axes>"
      ]
     },
     "metadata": {
      "needs_background": "light"
     },
     "output_type": "display_data"
    }
   ],
   "source": [
    "plt.figure(figsize=(12,6))\n",
    "plt.hist(data[data['Gender']=='Female']['Height'], width=5, alpha=0.8)\n",
    "plt.hist(data[data['Gender']=='Male']['Height'], width=5, alpha=0.8)\n",
    "plt.legend(['F','M'])\n",
    "plt.grid()\n",
    "plt.show()"
   ]
  },
  {
   "cell_type": "markdown",
   "metadata": {},
   "source": [
    "È possibile effettuare plot combinati direttamente da Pandas utilizzando <code>groupby</code>"
   ]
  },
  {
   "cell_type": "code",
   "execution_count": 31,
   "metadata": {},
   "outputs": [
    {
     "data": {
      "image/png": "[encoded data removed]",
      "text/plain": [
       "<Figure size 864x432 with 1 Axes>"
      ]
     },
     "metadata": {
      "needs_background": "light"
     },
     "output_type": "display_data"
    }
   ],
   "source": [
    "data.groupby('Gender')['Height'].plot.hist(width=5, alpha=0.8, density=True, figsize=(12,6))\n",
    "data.groupby('Gender')['Height'].plot.density()\n",
    "plt.legend()\n",
    "plt.grid()\n",
    "plt.show()"
   ]
  },
  {
   "cell_type": "markdown",
   "metadata": {},
   "source": [
    "## 5.5 Visualizzazioni"
   ]
  },
  {
   "cell_type": "markdown",
   "metadata": {},
   "source": [
    "Abbiamo visto che i grafici a barre possono essere utilizzati per osservare le frequenze assolute e relative dei dati. Vediamo adesso alcune altre visualizzazioni che fanno uso di grafici a barre e grafici a torta per confrontare diverse quantità.<br>\n",
    "Analizziamo il dataset Titanic."
   ]
  },
  {
   "cell_type": "code",
   "execution_count": 32,
   "metadata": {},
   "outputs": [
    {
     "data": {
      "text/html": [
       "<div>\n",
       "<style scoped>\n",
       "    .dataframe tbody tr th:only-of-type {\n",
       "        vertical-align: middle;\n",
       "    }\n",
       "\n",
       "    .dataframe tbody tr th {\n",
       "        vertical-align: top;\n",
       "    }\n",
       "\n",
       "    .dataframe thead th {\n",
       "        text-align: right;\n",
       "    }\n",
       "</style>\n",
       "<table border=\"1\" class=\"dataframe\">\n",
       "  <thead>\n",
       "    <tr style=\"text-align: right;\">\n",
       "      <th></th>\n",
       "      <th>Survived</th>\n",
       "      <th>Pclass</th>\n",
       "      <th>Name</th>\n",
       "      <th>Sex</th>\n",
       "      <th>Age</th>\n",
       "      <th>SibSp</th>\n",
       "      <th>Parch</th>\n",
       "      <th>Ticket</th>\n",
       "      <th>Fare</th>\n",
       "      <th>Cabin</th>\n",
       "      <th>Embarked</th>\n",
       "    </tr>\n",
       "    <tr>\n",
       "      <th>PassengerId</th>\n",
       "      <th></th>\n",
       "      <th></th>\n",
       "      <th></th>\n",
       "      <th></th>\n",
       "      <th></th>\n",
       "      <th></th>\n",
       "      <th></th>\n",
       "      <th></th>\n",
       "      <th></th>\n",
       "      <th></th>\n",
       "      <th></th>\n",
       "    </tr>\n",
       "  </thead>\n",
       "  <tbody>\n",
       "    <tr>\n",
       "      <th>1</th>\n",
       "      <td>0</td>\n",
       "      <td>3</td>\n",
       "      <td>Braund, Mr. Owen Harris</td>\n",
       "      <td>male</td>\n",
       "      <td>22.0</td>\n",
       "      <td>1</td>\n",
       "      <td>0</td>\n",
       "      <td>A/5 21171</td>\n",
       "      <td>7.2500</td>\n",
       "      <td>NaN</td>\n",
       "      <td>S</td>\n",
       "    </tr>\n",
       "    <tr>\n",
       "      <th>2</th>\n",
       "      <td>1</td>\n",
       "      <td>1</td>\n",
       "      <td>Cumings, Mrs. John Bradley (Florence Briggs Th...</td>\n",
       "      <td>female</td>\n",
       "      <td>38.0</td>\n",
       "      <td>1</td>\n",
       "      <td>0</td>\n",
       "      <td>PC 17599</td>\n",
       "      <td>71.2833</td>\n",
       "      <td>C85</td>\n",
       "      <td>C</td>\n",
       "    </tr>\n",
       "    <tr>\n",
       "      <th>3</th>\n",
       "      <td>1</td>\n",
       "      <td>3</td>\n",
       "      <td>Heikkinen, Miss. Laina</td>\n",
       "      <td>female</td>\n",
       "      <td>26.0</td>\n",
       "      <td>0</td>\n",
       "      <td>0</td>\n",
       "      <td>STON/O2. 3101282</td>\n",
       "      <td>7.9250</td>\n",
       "      <td>NaN</td>\n",
       "      <td>S</td>\n",
       "    </tr>\n",
       "    <tr>\n",
       "      <th>4</th>\n",
       "      <td>1</td>\n",
       "      <td>1</td>\n",
       "      <td>Futrelle, Mrs. Jacques Heath (Lily May Peel)</td>\n",
       "      <td>female</td>\n",
       "      <td>35.0</td>\n",
       "      <td>1</td>\n",
       "      <td>0</td>\n",
       "      <td>113803</td>\n",
       "      <td>53.1000</td>\n",
       "      <td>C123</td>\n",
       "      <td>S</td>\n",
       "    </tr>\n",
       "    <tr>\n",
       "      <th>5</th>\n",
       "      <td>0</td>\n",
       "      <td>3</td>\n",
       "      <td>Allen, Mr. William Henry</td>\n",
       "      <td>male</td>\n",
       "      <td>35.0</td>\n",
       "      <td>0</td>\n",
       "      <td>0</td>\n",
       "      <td>373450</td>\n",
       "      <td>8.0500</td>\n",
       "      <td>NaN</td>\n",
       "      <td>S</td>\n",
       "    </tr>\n",
       "  </tbody>\n",
       "</table>\n",
       "</div>"
      ],
      "text/plain": [
       "             Survived  Pclass  \\\n",
       "PassengerId                     \n",
       "1                   0       3   \n",
       "2                   1       1   \n",
       "3                   1       3   \n",
       "4                   1       1   \n",
       "5                   0       3   \n",
       "\n",
       "                                                          Name     Sex   Age  \\\n",
       "PassengerId                                                                    \n",
       "1                                      Braund, Mr. Owen Harris    male  22.0   \n",
       "2            Cumings, Mrs. John Bradley (Florence Briggs Th...  female  38.0   \n",
       "3                                       Heikkinen, Miss. Laina  female  26.0   \n",
       "4                 Futrelle, Mrs. Jacques Heath (Lily May Peel)  female  35.0   \n",
       "5                                     Allen, Mr. William Henry    male  35.0   \n",
       "\n",
       "             SibSp  Parch            Ticket     Fare Cabin Embarked  \n",
       "PassengerId                                                          \n",
       "1                1      0         A/5 21171   7.2500   NaN        S  \n",
       "2                1      0          PC 17599  71.2833   C85        C  \n",
       "3                0      0  STON/O2. 3101282   7.9250   NaN        S  \n",
       "4                1      0            113803  53.1000  C123        S  \n",
       "5                0      0            373450   8.0500   NaN        S  "
      ]
     },
     "execution_count": 32,
     "metadata": {},
     "output_type": "execute_result"
    }
   ],
   "source": [
    "titanic.head()"
   ]
  },
  {
   "cell_type": "markdown",
   "metadata": {},
   "source": [
    "#### 5.5.1 Barplot"
   ]
  },
  {
   "cell_type": "markdown",
   "metadata": {},
   "source": [
    "Oltre a mostrare le frequenze dei dati, i barplot possono essere utili per confrontare diverse quantità numeriche. Supponiamo di voler\n",
    "confrontare il numero di donne e uomini a bordo del Titanic. Possiamo calcolare questi numeri mediante un <code>groupby</code>"
   ]
  },
  {
   "cell_type": "code",
   "execution_count": 33,
   "metadata": {},
   "outputs": [
    {
     "data": {
      "text/plain": [
       "Sex\n",
       "female    314\n",
       "male      577\n",
       "Name: Sex, dtype: int64"
      ]
     },
     "execution_count": 33,
     "metadata": {},
     "output_type": "execute_result"
    }
   ],
   "source": [
    "titanic.groupby('Sex')['Sex'].count()"
   ]
  },
  {
   "cell_type": "markdown",
   "metadata": {},
   "source": [
    "Possiamo confrontare queste due quantità visivamente mediante un barplot."
   ]
  },
  {
   "cell_type": "code",
   "execution_count": 34,
   "metadata": {},
   "outputs": [
    {
     "data": {
      "image/png": "[encoded data removed]",
      "text/plain": [
       "<Figure size 432x288 with 1 Axes>"
      ]
     },
     "metadata": {
      "needs_background": "light"
     },
     "output_type": "display_data"
    }
   ],
   "source": [
    "titanic.groupby('Sex')['Sex'].count().plot.bar()\n",
    "plt.ylabel('Number of Passengers')\n",
    "plt.show()"
   ]
  },
  {
   "cell_type": "markdown",
   "metadata": {},
   "source": [
    "Confrontiamo adesso le età medie dei passeggeri imbarcati nelle varie classi. Costruiamo prima una tabella riassuntiva mediante\n",
    "<code>groupby</code>"
   ]
  },
  {
   "cell_type": "code",
   "execution_count": 35,
   "metadata": {},
   "outputs": [
    {
     "data": {
      "text/plain": [
       "Pclass\n",
       "1    38.233441\n",
       "2    29.877630\n",
       "3    25.140620\n",
       "Name: Age, dtype: float64"
      ]
     },
     "execution_count": 35,
     "metadata": {},
     "output_type": "execute_result"
    }
   ],
   "source": [
    "titanic.groupby('Pclass')['Age'].mean()"
   ]
  },
  {
   "cell_type": "markdown",
   "metadata": {},
   "source": [
    "Possiamo confrontare le quantità ottenute graficamente tramite barplot."
   ]
  },
  {
   "cell_type": "code",
   "execution_count": 36,
   "metadata": {},
   "outputs": [
    {
     "data": {
      "image/png": "[encoded data removed]",
      "text/plain": [
       "<Figure size 432x288 with 1 Axes>"
      ]
     },
     "metadata": {
      "needs_background": "light"
     },
     "output_type": "display_data"
    }
   ],
   "source": [
    "titanic.groupby('Pclass')['Age'].mean().plot.bar()\n",
    "plt.ylabel('Age')\n",
    "plt.show()"
   ]
  },
  {
   "cell_type": "markdown",
   "metadata": {},
   "source": [
    "Calcoliamo il numero di sopravvissuti per classe di imbarco."
   ]
  },
  {
   "cell_type": "code",
   "execution_count": 37,
   "metadata": {},
   "outputs": [
    {
     "data": {
      "text/html": [
       "<div>\n",
       "<style scoped>\n",
       "    .dataframe tbody tr th:only-of-type {\n",
       "        vertical-align: middle;\n",
       "    }\n",
       "\n",
       "    .dataframe tbody tr th {\n",
       "        vertical-align: top;\n",
       "    }\n",
       "\n",
       "    .dataframe thead th {\n",
       "        text-align: right;\n",
       "    }\n",
       "</style>\n",
       "<table border=\"1\" class=\"dataframe\">\n",
       "  <thead>\n",
       "    <tr style=\"text-align: right;\">\n",
       "      <th>Survived</th>\n",
       "      <th>0</th>\n",
       "      <th>1</th>\n",
       "    </tr>\n",
       "    <tr>\n",
       "      <th>Pclass</th>\n",
       "      <th></th>\n",
       "      <th></th>\n",
       "    </tr>\n",
       "  </thead>\n",
       "  <tbody>\n",
       "    <tr>\n",
       "      <th>1</th>\n",
       "      <td>80</td>\n",
       "      <td>136</td>\n",
       "    </tr>\n",
       "    <tr>\n",
       "      <th>2</th>\n",
       "      <td>97</td>\n",
       "      <td>87</td>\n",
       "    </tr>\n",
       "    <tr>\n",
       "      <th>3</th>\n",
       "      <td>372</td>\n",
       "      <td>119</td>\n",
       "    </tr>\n",
       "  </tbody>\n",
       "</table>\n",
       "</div>"
      ],
      "text/plain": [
       "Survived    0    1\n",
       "Pclass            \n",
       "1          80  136\n",
       "2          97   87\n",
       "3         372  119"
      ]
     },
     "execution_count": 37,
     "metadata": {},
     "output_type": "execute_result"
    }
   ],
   "source": [
    "pd.crosstab(titanic['Pclass'], titanic['Survived'])"
   ]
  },
  {
   "cell_type": "markdown",
   "metadata": {},
   "source": [
    "Per ottenere delle percentuali, normalizziamo per righe."
   ]
  },
  {
   "cell_type": "code",
   "execution_count": 38,
   "metadata": {},
   "outputs": [
    {
     "data": {
      "text/html": [
       "<div>\n",
       "<style scoped>\n",
       "    .dataframe tbody tr th:only-of-type {\n",
       "        vertical-align: middle;\n",
       "    }\n",
       "\n",
       "    .dataframe tbody tr th {\n",
       "        vertical-align: top;\n",
       "    }\n",
       "\n",
       "    .dataframe thead th {\n",
       "        text-align: right;\n",
       "    }\n",
       "</style>\n",
       "<table border=\"1\" class=\"dataframe\">\n",
       "  <thead>\n",
       "    <tr style=\"text-align: right;\">\n",
       "      <th>Survived</th>\n",
       "      <th>0</th>\n",
       "      <th>1</th>\n",
       "    </tr>\n",
       "    <tr>\n",
       "      <th>Pclass</th>\n",
       "      <th></th>\n",
       "      <th></th>\n",
       "    </tr>\n",
       "  </thead>\n",
       "  <tbody>\n",
       "    <tr>\n",
       "      <th>1</th>\n",
       "      <td>0.370370</td>\n",
       "      <td>0.629630</td>\n",
       "    </tr>\n",
       "    <tr>\n",
       "      <th>2</th>\n",
       "      <td>0.527174</td>\n",
       "      <td>0.472826</td>\n",
       "    </tr>\n",
       "    <tr>\n",
       "      <th>3</th>\n",
       "      <td>0.757637</td>\n",
       "      <td>0.242363</td>\n",
       "    </tr>\n",
       "  </tbody>\n",
       "</table>\n",
       "</div>"
      ],
      "text/plain": [
       "Survived         0         1\n",
       "Pclass                      \n",
       "1         0.370370  0.629630\n",
       "2         0.527174  0.472826\n",
       "3         0.757637  0.242363"
      ]
     },
     "execution_count": 38,
     "metadata": {},
     "output_type": "execute_result"
    }
   ],
   "source": [
    "pd.crosstab(titanic['Pclass'], titanic['Survived'], normalize='index')"
   ]
  },
  {
   "cell_type": "markdown",
   "metadata": {},
   "source": [
    "Ogni riga della tabella riporta la percentuale di sopravvissuti (1) e la percentuale di non sopravvissuti (0). Visualizziamo un grafico a barre della tabella."
   ]
  },
  {
   "cell_type": "code",
   "execution_count": 39,
   "metadata": {},
   "outputs": [
    {
     "data": {
      "image/png": "[encoded data removed]",
      "text/plain": [
       "<Figure size 432x288 with 1 Axes>"
      ]
     },
     "metadata": {
      "needs_background": "light"
     },
     "output_type": "display_data"
    }
   ],
   "source": [
    "pd.crosstab(titanic['Pclass'], titanic['Survived'], normalize='index').plot.bar()\n",
    "plt.ylabel('Survived %')\n",
    "plt.show()"
   ]
  },
  {
   "cell_type": "markdown",
   "metadata": {},
   "source": [
    "Un grafico spesso utile a confrontare grandezze complementari (come nel caso delle percentuali viste sopra) è lo \"stacked bar plot\". Per\n",
    "ottenere questo grafico bisogna passare <code>stacked=True</code> al metodo <code>bar</code>"
   ]
  },
  {
   "cell_type": "code",
   "execution_count": 40,
   "metadata": {},
   "outputs": [
    {
     "data": {
      "image/png": "[encoded data removed]",
      "text/plain": [
       "<Figure size 432x288 with 1 Axes>"
      ]
     },
     "metadata": {
      "needs_background": "light"
     },
     "output_type": "display_data"
    }
   ],
   "source": [
    "pd.crosstab(titanic['Pclass'], titanic['Survived'], normalize='index').plot.bar(stacked=True)\n",
    "plt.ylabel('%')\n",
    "plt.show()"
   ]
  },
  {
   "cell_type": "markdown",
   "metadata": {},
   "source": [
    "Possiamo mettere in relazione anche più variabili."
   ]
  },
  {
   "cell_type": "code",
   "execution_count": 41,
   "metadata": {},
   "outputs": [
    {
     "data": {
      "text/html": [
       "<div>\n",
       "<style scoped>\n",
       "    .dataframe tbody tr th:only-of-type {\n",
       "        vertical-align: middle;\n",
       "    }\n",
       "\n",
       "    .dataframe tbody tr th {\n",
       "        vertical-align: top;\n",
       "    }\n",
       "\n",
       "    .dataframe thead th {\n",
       "        text-align: right;\n",
       "    }\n",
       "</style>\n",
       "<table border=\"1\" class=\"dataframe\">\n",
       "  <thead>\n",
       "    <tr style=\"text-align: right;\">\n",
       "      <th></th>\n",
       "      <th>Survived</th>\n",
       "      <th>0</th>\n",
       "      <th>1</th>\n",
       "    </tr>\n",
       "    <tr>\n",
       "      <th>Pclass</th>\n",
       "      <th>Sex</th>\n",
       "      <th></th>\n",
       "      <th></th>\n",
       "    </tr>\n",
       "  </thead>\n",
       "  <tbody>\n",
       "    <tr>\n",
       "      <th rowspan=\"2\" valign=\"top\">1</th>\n",
       "      <th>female</th>\n",
       "      <td>0.031915</td>\n",
       "      <td>0.968085</td>\n",
       "    </tr>\n",
       "    <tr>\n",
       "      <th>male</th>\n",
       "      <td>0.631148</td>\n",
       "      <td>0.368852</td>\n",
       "    </tr>\n",
       "    <tr>\n",
       "      <th rowspan=\"2\" valign=\"top\">2</th>\n",
       "      <th>female</th>\n",
       "      <td>0.078947</td>\n",
       "      <td>0.921053</td>\n",
       "    </tr>\n",
       "    <tr>\n",
       "      <th>male</th>\n",
       "      <td>0.842593</td>\n",
       "      <td>0.157407</td>\n",
       "    </tr>\n",
       "    <tr>\n",
       "      <th rowspan=\"2\" valign=\"top\">3</th>\n",
       "      <th>female</th>\n",
       "      <td>0.500000</td>\n",
       "      <td>0.500000</td>\n",
       "    </tr>\n",
       "    <tr>\n",
       "      <th>male</th>\n",
       "      <td>0.864553</td>\n",
       "      <td>0.135447</td>\n",
       "    </tr>\n",
       "  </tbody>\n",
       "</table>\n",
       "</div>"
      ],
      "text/plain": [
       "Survived              0         1\n",
       "Pclass Sex                       \n",
       "1      female  0.031915  0.968085\n",
       "       male    0.631148  0.368852\n",
       "2      female  0.078947  0.921053\n",
       "       male    0.842593  0.157407\n",
       "3      female  0.500000  0.500000\n",
       "       male    0.864553  0.135447"
      ]
     },
     "execution_count": 41,
     "metadata": {},
     "output_type": "execute_result"
    }
   ],
   "source": [
    "pd.crosstab([titanic['Pclass'], titanic['Sex']], titanic['Survived'], normalize='index')"
   ]
  },
  {
   "cell_type": "code",
   "execution_count": 42,
   "metadata": {},
   "outputs": [
    {
     "data": {
      "image/png": "[encoded data removed]",
      "text/plain": [
       "<Figure size 432x288 with 1 Axes>"
      ]
     },
     "metadata": {
      "needs_background": "light"
     },
     "output_type": "display_data"
    }
   ],
   "source": [
    "pd.crosstab([titanic['Pclass'], titanic['Sex']], titanic['Survived'], normalize='index').plot.bar(stacked=True)\n",
    "plt.ylabel('%')\n",
    "plt.show()"
   ]
  },
  {
   "cell_type": "markdown",
   "metadata": {},
   "source": [
    "Così come per i barplot, è possibile confrontare gli istogrammi di diversi campioni di dati.<br>\n",
    "Confrontiamo le distribuzioni delle età distinte per sesso."
   ]
  },
  {
   "cell_type": "code",
   "execution_count": 43,
   "metadata": {},
   "outputs": [
    {
     "data": {
      "image/png": "[encoded data removed]",
      "text/plain": [
       "<Figure size 864x864 with 1 Axes>"
      ]
     },
     "metadata": {
      "needs_background": "light"
     },
     "output_type": "display_data"
    }
   ],
   "source": [
    "plt.figure(figsize=(12,12))\n",
    "titanic.groupby('Sex')['Age'].plot.hist(alpha=0.7) #alpha=0.7 serve a mostrare gli istogrammi come semi-trasparenti\n",
    "plt.grid(which='major', linestyle='-', linewidth='0.5', color='r') #which='major' ci permette di definire le linee principali della griglia\n",
    "plt.grid(which='minor',  linestyle='-', color='r', alpha=0.2) #which='minor' quelle intermedie\n",
    "plt.minorticks_on() #mostra le linee intermedie della griglia\n",
    "plt.legend()\n",
    "plt.show()"
   ]
  },
  {
   "cell_type": "markdown",
   "metadata": {},
   "source": [
    "Allo stesso modo possiamo confrontare le densità."
   ]
  },
  {
   "cell_type": "code",
   "execution_count": 44,
   "metadata": {},
   "outputs": [
    {
     "data": {
      "image/png": "[encoded data removed]",
      "text/plain": [
       "<Figure size 432x288 with 1 Axes>"
      ]
     },
     "metadata": {
      "needs_background": "light"
     },
     "output_type": "display_data"
    }
   ],
   "source": [
    "titanic.groupby('Sex')['Age'].plot.density()\n",
    "plt.legend()\n",
    "plt.show()"
   ]
  },
  {
   "cell_type": "markdown",
   "metadata": {},
   "source": [
    "#### 5.5.2 Grafici a Torta"
   ]
  },
  {
   "cell_type": "markdown",
   "metadata": {},
   "source": [
    "I grafici a torta vengono utilizzati per confrontare diverse quantità senza imporre un ordinamento a priori. Supponiamo ad esempio di\n",
    "voler confrontare il numero di sopravvissuti in rispetto ai due sessi. Iniziamo ottenendo una tabella che riassume i numeri da confrontare."
   ]
  },
  {
   "cell_type": "code",
   "execution_count": 45,
   "metadata": {},
   "outputs": [
    {
     "data": {
      "text/plain": [
       "Sex\n",
       "female    233\n",
       "male      109\n",
       "Name: Survived, dtype: int64"
      ]
     },
     "execution_count": 45,
     "metadata": {},
     "output_type": "execute_result"
    }
   ],
   "source": [
    "titanic.groupby('Sex')['Survived'].sum()"
   ]
  },
  {
   "cell_type": "code",
   "execution_count": 46,
   "metadata": {},
   "outputs": [
    {
     "data": {
      "image/png": "[encoded data removed]",
      "text/plain": [
       "<Figure size 432x288 with 1 Axes>"
      ]
     },
     "metadata": {},
     "output_type": "display_data"
    }
   ],
   "source": [
    "titanic.groupby('Sex')['Survived'].sum().plot.pie()\n",
    "plt.xlabel('Sex')\n",
    "plt.axis('equal') #gli assi hanno stessa dimensione: il risultato sarà una circonferenza\n",
    "plt.show()"
   ]
  },
  {
   "cell_type": "code",
   "execution_count": 47,
   "metadata": {},
   "outputs": [
    {
     "data": {
      "image/png": "[encoded data removed]",
      "text/plain": [
       "<Figure size 432x288 with 1 Axes>"
      ]
     },
     "metadata": {},
     "output_type": "display_data"
    }
   ],
   "source": [
    "titanic.groupby(['Sex','Pclass'])['Survived'].sum().plot.pie() #mostriamo i sopravvissuti per classe\n",
    "plt.xlabel('Sex')\n",
    "plt.axis('equal')\n",
    "plt.show()"
   ]
  },
  {
   "cell_type": "markdown",
   "metadata": {},
   "source": [
    "## - Distribuzioni dei dati - FINE "
   ]
  }
 ],
 "metadata": {
  "kernelspec": {
   "display_name": "Python 3",
   "language": "python",
   "name": "python3"
  },
  "language_info": {
   "codemirror_mode": {
    "name": "ipython",
    "version": 3
   },
   "file_extension": ".py",
   "mimetype": "text/x-python",
   "name": "python",
   "nbconvert_exporter": "python",
   "pygments_lexer": "ipython3",
   "version": "3.7.3"
  }
 },
 "nbformat": 4,
 "nbformat_minor": 4
}
