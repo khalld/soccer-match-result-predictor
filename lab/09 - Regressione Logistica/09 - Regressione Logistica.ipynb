{
 "cells": [
  {
   "cell_type": "markdown",
   "metadata": {},
   "source": [
    "# Fondamenti di Analisi Dati - a.a. 2020/2021"
   ]
  },
  {
   "cell_type": "markdown",
   "metadata": {},
   "source": [
    "In questo laboratorio tratteremo la regressione logistica."
   ]
  },
  {
   "cell_type": "markdown",
   "metadata": {},
   "source": [
    "## 9 Introduzione\n",
    "Supponiamo di voler studiare la correlazione tra due variabili, di cui una (la variabile dipendente) sia categorica e binaria (ovvero, che può assumere solo i valori $0$ e $1$). Per studiare questo caso, considereremo un esempio riadattato da http://nbviewer.jupyter.org/github/justmarkham/DAT8/blob/master/notebooks/12_logistic_regression.ipynb.\n",
    "\n",
    "Consideriamo il **Glass Identification Data Set** (https://archive.ics.uci.edu/ml/datasets/glass+identification). Si tratta di un dataset che contiene una serie di misurazioni per diversi campioni di vetro. Carichiamo il csv mediante Pandas:"
   ]
  },
  {
   "cell_type": "code",
   "execution_count": 1,
   "metadata": {},
   "outputs": [
    {
     "name": "stdout",
     "output_type": "stream",
     "text": [
      "<class 'pandas.core.frame.DataFrame'>\n",
      "Int64Index: 214 entries, 1 to 214\n",
      "Data columns (total 10 columns):\n",
      "ri            214 non-null float64\n",
      "na            214 non-null float64\n",
      "mg            214 non-null float64\n",
      "al            214 non-null float64\n",
      "si            214 non-null float64\n",
      "k             214 non-null float64\n",
      "ca            214 non-null float64\n",
      "ba            214 non-null float64\n",
      "fe            214 non-null float64\n",
      "glass_type    214 non-null int64\n",
      "dtypes: float64(9), int64(1)\n",
      "memory usage: 18.4 KB\n"
     ]
    },
    {
     "data": {
      "text/html": [
       "<div>\n",
       "<style scoped>\n",
       "    .dataframe tbody tr th:only-of-type {\n",
       "        vertical-align: middle;\n",
       "    }\n",
       "\n",
       "    .dataframe tbody tr th {\n",
       "        vertical-align: top;\n",
       "    }\n",
       "\n",
       "    .dataframe thead th {\n",
       "        text-align: right;\n",
       "    }\n",
       "</style>\n",
       "<table border=\"1\" class=\"dataframe\">\n",
       "  <thead>\n",
       "    <tr style=\"text-align: right;\">\n",
       "      <th></th>\n",
       "      <th>ri</th>\n",
       "      <th>na</th>\n",
       "      <th>mg</th>\n",
       "      <th>al</th>\n",
       "      <th>si</th>\n",
       "      <th>k</th>\n",
       "      <th>ca</th>\n",
       "      <th>ba</th>\n",
       "      <th>fe</th>\n",
       "      <th>glass_type</th>\n",
       "    </tr>\n",
       "    <tr>\n",
       "      <th>id</th>\n",
       "      <th></th>\n",
       "      <th></th>\n",
       "      <th></th>\n",
       "      <th></th>\n",
       "      <th></th>\n",
       "      <th></th>\n",
       "      <th></th>\n",
       "      <th></th>\n",
       "      <th></th>\n",
       "      <th></th>\n",
       "    </tr>\n",
       "  </thead>\n",
       "  <tbody>\n",
       "    <tr>\n",
       "      <th>1</th>\n",
       "      <td>1.52101</td>\n",
       "      <td>13.64</td>\n",
       "      <td>4.49</td>\n",
       "      <td>1.10</td>\n",
       "      <td>71.78</td>\n",
       "      <td>0.06</td>\n",
       "      <td>8.75</td>\n",
       "      <td>0.0</td>\n",
       "      <td>0.0</td>\n",
       "      <td>1</td>\n",
       "    </tr>\n",
       "    <tr>\n",
       "      <th>2</th>\n",
       "      <td>1.51761</td>\n",
       "      <td>13.89</td>\n",
       "      <td>3.60</td>\n",
       "      <td>1.36</td>\n",
       "      <td>72.73</td>\n",
       "      <td>0.48</td>\n",
       "      <td>7.83</td>\n",
       "      <td>0.0</td>\n",
       "      <td>0.0</td>\n",
       "      <td>1</td>\n",
       "    </tr>\n",
       "    <tr>\n",
       "      <th>3</th>\n",
       "      <td>1.51618</td>\n",
       "      <td>13.53</td>\n",
       "      <td>3.55</td>\n",
       "      <td>1.54</td>\n",
       "      <td>72.99</td>\n",
       "      <td>0.39</td>\n",
       "      <td>7.78</td>\n",
       "      <td>0.0</td>\n",
       "      <td>0.0</td>\n",
       "      <td>1</td>\n",
       "    </tr>\n",
       "    <tr>\n",
       "      <th>4</th>\n",
       "      <td>1.51766</td>\n",
       "      <td>13.21</td>\n",
       "      <td>3.69</td>\n",
       "      <td>1.29</td>\n",
       "      <td>72.61</td>\n",
       "      <td>0.57</td>\n",
       "      <td>8.22</td>\n",
       "      <td>0.0</td>\n",
       "      <td>0.0</td>\n",
       "      <td>1</td>\n",
       "    </tr>\n",
       "    <tr>\n",
       "      <th>5</th>\n",
       "      <td>1.51742</td>\n",
       "      <td>13.27</td>\n",
       "      <td>3.62</td>\n",
       "      <td>1.24</td>\n",
       "      <td>73.08</td>\n",
       "      <td>0.55</td>\n",
       "      <td>8.07</td>\n",
       "      <td>0.0</td>\n",
       "      <td>0.0</td>\n",
       "      <td>1</td>\n",
       "    </tr>\n",
       "  </tbody>\n",
       "</table>\n",
       "</div>"
      ],
      "text/plain": [
       "         ri     na    mg    al     si     k    ca   ba   fe  glass_type\n",
       "id                                                                     \n",
       "1   1.52101  13.64  4.49  1.10  71.78  0.06  8.75  0.0  0.0           1\n",
       "2   1.51761  13.89  3.60  1.36  72.73  0.48  7.83  0.0  0.0           1\n",
       "3   1.51618  13.53  3.55  1.54  72.99  0.39  7.78  0.0  0.0           1\n",
       "4   1.51766  13.21  3.69  1.29  72.61  0.57  8.22  0.0  0.0           1\n",
       "5   1.51742  13.27  3.62  1.24  73.08  0.55  8.07  0.0  0.0           1"
      ]
     },
     "execution_count": 1,
     "metadata": {},
     "output_type": "execute_result"
    }
   ],
   "source": [
    "import pandas as pd\n",
    "glass = pd.read_csv('glass.csv', index_col='id')\n",
    "glass.info()\n",
    "glass.head()"
   ]
  },
  {
   "cell_type": "markdown",
   "metadata": {},
   "source": [
    "Il dataset contiene $214$ osservazioni e $10$ colonne. I significati delle variabili sono i seguenti:\n",
    " * **id**: l'id della riga del DataFrame;\n",
    " * **ri**: indice di rifrazione del vetro;\n",
    " * **na**: percentuale di sodio;\n",
    " * **mg**: percentuale di mercurio;\n",
    " * **al**: percentuale di alluminio;\n",
    " * **si**: percentuale di silicio;\n",
    " * **k**: percentuale di potassio;\n",
    " * **ca**: percentuale di calcio;\n",
    " * **ba**: percentuale di bario;\n",
    " * **fe**: percentuale di ferro;\n",
    " * **Tipo di vetro**:\n",
    "   1. building_windows_float_processed;\n",
    "   2. building_windows_non_float_processed;\n",
    "   3. vehicle_windows_float_processed;\n",
    "   4. vehicle_windows_non_float_processed (questo tipo di vetro non è presente nel dataset!);\n",
    "   5. containers;\n",
    "   6. tableware;\n",
    "   7. headlamps.\n",
    "\n",
    "I diversi tipi di vetro possono essere raggruppati in due macro-categorie:\n",
    " * vetro da finestre (edifici o veicoli): classi 1, 2, 3 (la classe 4 non è presente nel dataset);\n",
    " * vetro non da finestre: classi 5, 6, 7;\n",
    " \n",
    "Costruiamo una nuova variabile **window_glass** binaria che mappi le calssi come appena definito. Ciò può essere fatto mediante il metodo `replace`:"
   ]
  },
  {
   "cell_type": "code",
   "execution_count": 2,
   "metadata": {},
   "outputs": [
    {
     "data": {
      "text/html": [
       "<div>\n",
       "<style scoped>\n",
       "    .dataframe tbody tr th:only-of-type {\n",
       "        vertical-align: middle;\n",
       "    }\n",
       "\n",
       "    .dataframe tbody tr th {\n",
       "        vertical-align: top;\n",
       "    }\n",
       "\n",
       "    .dataframe thead th {\n",
       "        text-align: right;\n",
       "    }\n",
       "</style>\n",
       "<table border=\"1\" class=\"dataframe\">\n",
       "  <thead>\n",
       "    <tr style=\"text-align: right;\">\n",
       "      <th></th>\n",
       "      <th>ri</th>\n",
       "      <th>na</th>\n",
       "      <th>mg</th>\n",
       "      <th>al</th>\n",
       "      <th>si</th>\n",
       "      <th>k</th>\n",
       "      <th>ca</th>\n",
       "      <th>ba</th>\n",
       "      <th>fe</th>\n",
       "      <th>glass_type</th>\n",
       "      <th>window_glass</th>\n",
       "    </tr>\n",
       "    <tr>\n",
       "      <th>id</th>\n",
       "      <th></th>\n",
       "      <th></th>\n",
       "      <th></th>\n",
       "      <th></th>\n",
       "      <th></th>\n",
       "      <th></th>\n",
       "      <th></th>\n",
       "      <th></th>\n",
       "      <th></th>\n",
       "      <th></th>\n",
       "      <th></th>\n",
       "    </tr>\n",
       "  </thead>\n",
       "  <tbody>\n",
       "    <tr>\n",
       "      <th>1</th>\n",
       "      <td>1.52101</td>\n",
       "      <td>13.64</td>\n",
       "      <td>4.49</td>\n",
       "      <td>1.10</td>\n",
       "      <td>71.78</td>\n",
       "      <td>0.06</td>\n",
       "      <td>8.75</td>\n",
       "      <td>0.0</td>\n",
       "      <td>0.0</td>\n",
       "      <td>1</td>\n",
       "      <td>1</td>\n",
       "    </tr>\n",
       "    <tr>\n",
       "      <th>2</th>\n",
       "      <td>1.51761</td>\n",
       "      <td>13.89</td>\n",
       "      <td>3.60</td>\n",
       "      <td>1.36</td>\n",
       "      <td>72.73</td>\n",
       "      <td>0.48</td>\n",
       "      <td>7.83</td>\n",
       "      <td>0.0</td>\n",
       "      <td>0.0</td>\n",
       "      <td>1</td>\n",
       "      <td>1</td>\n",
       "    </tr>\n",
       "    <tr>\n",
       "      <th>3</th>\n",
       "      <td>1.51618</td>\n",
       "      <td>13.53</td>\n",
       "      <td>3.55</td>\n",
       "      <td>1.54</td>\n",
       "      <td>72.99</td>\n",
       "      <td>0.39</td>\n",
       "      <td>7.78</td>\n",
       "      <td>0.0</td>\n",
       "      <td>0.0</td>\n",
       "      <td>1</td>\n",
       "      <td>1</td>\n",
       "    </tr>\n",
       "    <tr>\n",
       "      <th>4</th>\n",
       "      <td>1.51766</td>\n",
       "      <td>13.21</td>\n",
       "      <td>3.69</td>\n",
       "      <td>1.29</td>\n",
       "      <td>72.61</td>\n",
       "      <td>0.57</td>\n",
       "      <td>8.22</td>\n",
       "      <td>0.0</td>\n",
       "      <td>0.0</td>\n",
       "      <td>1</td>\n",
       "      <td>1</td>\n",
       "    </tr>\n",
       "    <tr>\n",
       "      <th>5</th>\n",
       "      <td>1.51742</td>\n",
       "      <td>13.27</td>\n",
       "      <td>3.62</td>\n",
       "      <td>1.24</td>\n",
       "      <td>73.08</td>\n",
       "      <td>0.55</td>\n",
       "      <td>8.07</td>\n",
       "      <td>0.0</td>\n",
       "      <td>0.0</td>\n",
       "      <td>1</td>\n",
       "      <td>1</td>\n",
       "    </tr>\n",
       "  </tbody>\n",
       "</table>\n",
       "</div>"
      ],
      "text/plain": [
       "         ri     na    mg    al     si     k    ca   ba   fe  glass_type  \\\n",
       "id                                                                        \n",
       "1   1.52101  13.64  4.49  1.10  71.78  0.06  8.75  0.0  0.0           1   \n",
       "2   1.51761  13.89  3.60  1.36  72.73  0.48  7.83  0.0  0.0           1   \n",
       "3   1.51618  13.53  3.55  1.54  72.99  0.39  7.78  0.0  0.0           1   \n",
       "4   1.51766  13.21  3.69  1.29  72.61  0.57  8.22  0.0  0.0           1   \n",
       "5   1.51742  13.27  3.62  1.24  73.08  0.55  8.07  0.0  0.0           1   \n",
       "\n",
       "    window_glass  \n",
       "id                \n",
       "1              1  \n",
       "2              1  \n",
       "3              1  \n",
       "4              1  \n",
       "5              1  "
      ]
     },
     "execution_count": 2,
     "metadata": {},
     "output_type": "execute_result"
    }
   ],
   "source": [
    "glass['window_glass']=glass['glass_type'].replace({1:1,2:1,3:1,5:0,6:0,7:0})\n",
    "glass.head()"
   ]
  },
  {
   "cell_type": "markdown",
   "metadata": {},
   "source": [
    "## 9.1 Regressione Logistica Semplice\n",
    "\n",
    "Supponiamo adesso di voler indagare la correlazione tra la percentuale di alluminio presente nel vetro (variabile `al`) e la variabile dicotomica `window_glass`. In particoalre, vogliamo capire se la variabile `al` influenza l'esito di `window_glass`, ovvero fino a che punto è possibile prevedere il tipo di vetro conoscendo solo la percentuale di alluminio presente. Iniziamo a studiare la correlazione mediante uno scatterplot:"
   ]
  },
  {
   "cell_type": "code",
   "execution_count": 3,
   "metadata": {},
   "outputs": [
    {
     "data": {
      "image/png": "[encoded data removed]",
      "text/plain": [
       "<Figure size 432x288 with 1 Axes>"
      ]
     },
     "metadata": {
      "needs_background": "light"
     },
     "output_type": "display_data"
    }
   ],
   "source": [
    "from matplotlib import pyplot as plt\n",
    "plt.scatter(glass.al,glass.window_glass)\n",
    "plt.grid()\n",
    "plt.show()"
   ]
  },
  {
   "cell_type": "markdown",
   "metadata": {},
   "source": [
    "### Limiti della regressione lineare con variabile dipendente categorica\n",
    "Proviamo adesso a visualizzare la retta di regressione relativa alle due variabili:"
   ]
  },
  {
   "cell_type": "code",
   "execution_count": 4,
   "metadata": {},
   "outputs": [
    {
     "data": {
      "image/png": "[encoded data removed]",
      "text/plain": [
       "<Figure size 432x288 with 1 Axes>"
      ]
     },
     "metadata": {
      "needs_background": "light"
     },
     "output_type": "display_data"
    }
   ],
   "source": [
    "import seaborn as sns\n",
    "sns.regplot('al','window_glass',glass)\n",
    "plt.grid()\n",
    "plt.show()"
   ]
  },
  {
   "cell_type": "markdown",
   "metadata": {},
   "source": [
    "Il regressore lineare, in pratica, ci permette di ottenere un numero reale che fornisce indicazioni sul valore più verosimile della variabile dicotomica `window_glass`. Se il valore ottenuto mediante il regressore lineare è maggiore o uguale a $0.5$, ha senso prevedere che **window_glass** sia uguale a **1**, altrimenti ha senso prevedere che **window_glass** sia uguale a **0**. Possiamo dunque ottenere delle predizioni binarie sogliando i valori ottenuti mediante il regressore:"
   ]
  },
  {
   "cell_type": "code",
   "execution_count": 5,
   "metadata": {},
   "outputs": [
    {
     "data": {
      "text/plain": [
       "array([1., 0.])"
      ]
     },
     "execution_count": 5,
     "metadata": {},
     "output_type": "execute_result"
    }
   ],
   "source": [
    "from statsmodels.formula.api import ols\n",
    "#calcoliamo il regressore lineare\n",
    "model = ols('window_glass ~ al',glass).fit()\n",
    "#otteniamo le predizioni\n",
    "predictions = model.predict(glass)\n",
    "#arrotondiamo le predizioni al valore più vicino\n",
    "#ciò corrisponde a sogliare con 0.5\n",
    "predictions = predictions.round()\n",
    "#i valori predetti sono adesso binari\n",
    "predictions.unique()"
   ]
  },
  {
   "cell_type": "markdown",
   "metadata": {},
   "source": [
    "Plottiamo le predizioni sul grafico di regressione visto prima:"
   ]
  },
  {
   "cell_type": "code",
   "execution_count": 6,
   "metadata": {},
   "outputs": [
    {
     "data": {
      "image/png": "[encoded data removed]",
      "text/plain": [
       "<Figure size 432x288 with 1 Axes>"
      ]
     },
     "metadata": {
      "needs_background": "light"
     },
     "output_type": "display_data"
    }
   ],
   "source": [
    "import numpy as np\n",
    "#ordiniamo i valori di al in ordine crescente\n",
    "#prima troviamo gli indici che ordinano l'array\n",
    "idx=np.argsort(glass['al'])\n",
    "#poi applichiamo lo stesso ordinamento sia ad al che alle predizioni\n",
    "al = glass['al'].values[idx]\n",
    "pred = predictions.values[idx]\n",
    "\n",
    "#infine plottiamo\n",
    "sns.regplot('al','window_glass',glass)\n",
    "plt.plot(al,pred,'r')\n",
    "plt.grid()\n",
    "plt.show()"
   ]
  },
  {
   "cell_type": "markdown",
   "metadata": {},
   "source": [
    "Abbiamo individuato un punto di soglia per `al` (vicino a $2.0$) che permette di distinguere gli elementi appartenenti alle due classi con qualche errore (si pensi ai valori a sinistra di $2.0$ con classe `window_glass` pari a zero)."
   ]
  },
  {
   "cell_type": "markdown",
   "metadata": {},
   "source": [
    "Benché il regressore lineare trovato possa essere utilizzato per la classificazione, esso ha diversi limiti:\n",
    " * Non è chiaro come interpretare i valori ottenuti dal regressore. Si noti che, dato che essi possono essere inferiori a $0$ o superiori a $1$, essi non possono essere interpretati come probabilità;\n",
    " * Il metodo non è molto robusto agli outliers. Si immagini che il nostro campione contenga molti punti di classe  `window_glass` pari a $0$ e valori di `al` molto alti (es. $300$). La retta di regressione trovata in questo caso sarebbe molto più orizzontale e molti degli elementi con valori bassi di `al` (es. $2.5$) verrebbero assegnati alla classe `window_glass=0`;\n",
    " * Il metodo non cattura l'incertezza con la quale possiamo prevedere le classi alle quali appartengono gli elementi. Si considerino ad esempio i punti compresi tra `al=1.5` e `al=2.0`."
   ]
  },
  {
   "cell_type": "markdown",
   "metadata": {},
   "source": [
    "### Regressione Logistica\n",
    "Per risolvere i problemi discussi sopra, il problema di regressione viene ridefinito come segue:\n",
    "\n",
    "\\begin{equation}\n",
    "logit(p)=\\beta_0 + \\beta_1 x\n",
    "\\end{equation}\n",
    "\n",
    "dove $p$ è la **probabilità che la variabile dipendente assuma valore 1** e:\n",
    "\n",
    "\\begin{equation}\n",
    "logit(p)=ln(\\frac{p}{1-p})\n",
    "\\end{equation}\n",
    "\n",
    "La funzione logit è il logaritmo naturale dell'**odd**, ovvero del rapporto $\\frac{p}{1-p}$.\n",
    "\n",
    "Una volta trovati i parametri $\\beta_0$ e $\\beta_1$, la stima della probabilità avviene come segue:\n",
    "\n",
    "\\begin{equation}\n",
    "p = \\frac{e^{\\beta_0 + \\beta_1 x}}{1+e^{\\beta_0+\\beta_1 x}}\n",
    "\\end{equation}\n",
    "\n",
    "Possiamo calcolare un **regressore logistico** come segue:"
   ]
  },
  {
   "cell_type": "code",
   "execution_count": 7,
   "metadata": {},
   "outputs": [
    {
     "name": "stdout",
     "output_type": "stream",
     "text": [
      "Optimization terminated successfully.\n",
      "         Current function value: 0.354364\n",
      "         Iterations 7\n"
     ]
    }
   ],
   "source": [
    "from statsmodels.formula.api import logit\n",
    "\n",
    "model = logit('window_glass ~ al', glass).fit()"
   ]
  },
  {
   "cell_type": "markdown",
   "metadata": {},
   "source": [
    "Vedremo come analizzare il regressore e interpretare i coefficienti trovati in seguito."
   ]
  },
  {
   "cell_type": "markdown",
   "metadata": {},
   "source": [
    "Possiamo ottenere le probabilità predette per i valori delle variabili indipendenti come segue:"
   ]
  },
  {
   "cell_type": "code",
   "execution_count": 8,
   "metadata": {},
   "outputs": [
    {
     "data": {
      "text/plain": [
       "id\n",
       "1    0.957513\n",
       "2    0.883730\n",
       "3    0.781728\n",
       "4    0.910590\n",
       "5    0.926211\n",
       "dtype: float64"
      ]
     },
     "execution_count": 8,
     "metadata": {},
     "output_type": "execute_result"
    }
   ],
   "source": [
    "probs = model.predict(glass)\n",
    "probs.head()"
   ]
  },
  {
   "cell_type": "markdown",
   "metadata": {},
   "source": [
    "Si noti che i valori ottenuti sono adesso compresi tra $0$ e $1$ e dunque interpretabili come probabilità:"
   ]
  },
  {
   "cell_type": "code",
   "execution_count": 9,
   "metadata": {},
   "outputs": [
    {
     "data": {
      "text/plain": [
       "(0.0009889852519933465, 0.9985007304335234)"
      ]
     },
     "execution_count": 9,
     "metadata": {},
     "output_type": "execute_result"
    }
   ],
   "source": [
    "probs.min(), probs.max()"
   ]
  },
  {
   "cell_type": "markdown",
   "metadata": {},
   "source": [
    "Considereremo un elemento come appartenente alla classe `window_glass=1` se la sua probabilità predetta è superiore a $0.5$."
   ]
  },
  {
   "cell_type": "markdown",
   "metadata": {},
   "source": [
    "Plottiamo le predizioni come fatto in precedenza:"
   ]
  },
  {
   "cell_type": "code",
   "execution_count": 10,
   "metadata": {},
   "outputs": [
    {
     "data": {
      "image/png": "[encoded data removed]",
      "text/plain": [
       "<Figure size 432x288 with 1 Axes>"
      ]
     },
     "metadata": {
      "needs_background": "light"
     },
     "output_type": "display_data"
    }
   ],
   "source": [
    "#riordiniamo le probabilità utilizzando \n",
    "#gli indici trovati prima\n",
    "p = probs.values[idx]\n",
    "\n",
    "sns.regplot('al','window_glass',glass)\n",
    "plt.plot(al,p,'r')\n",
    "plt.grid()\n",
    "plt.show()"
   ]
  },
  {
   "cell_type": "markdown",
   "metadata": {},
   "source": [
    "Le probabilità ottenute mostrano adesso \"dove\" il modello è più incerto e permettono di **prevedere la probabilità che un dato elemento sia di classe `window_glass=1`**. Possiamo ottenere un plot di regressione logistica con seaborn come segue:"
   ]
  },
  {
   "cell_type": "code",
   "execution_count": 11,
   "metadata": {},
   "outputs": [
    {
     "data": {
      "image/png": "[encoded data removed]",
      "text/plain": [
       "<Figure size 432x288 with 1 Axes>"
      ]
     },
     "metadata": {
      "needs_background": "light"
     },
     "output_type": "display_data"
    }
   ],
   "source": [
    "sns.regplot(glass['al'],glass['window_glass'],logistic=True)\n",
    "plt.grid()\n",
    "plt.show()"
   ]
  },
  {
   "cell_type": "markdown",
   "metadata": {},
   "source": [
    "### Analisi del regressore logistico\n",
    "Visualizziamo il summary del regressore logistico calcolato in precedenza:"
   ]
  },
  {
   "cell_type": "code",
   "execution_count": 12,
   "metadata": {},
   "outputs": [
    {
     "data": {
      "text/html": [
       "<table class=\"simpletable\">\n",
       "<caption>Logit Regression Results</caption>\n",
       "<tr>\n",
       "  <th>Dep. Variable:</th>     <td>window_glass</td>   <th>  No. Observations:  </th>  <td>   214</td>  \n",
       "</tr>\n",
       "<tr>\n",
       "  <th>Model:</th>                 <td>Logit</td>      <th>  Df Residuals:      </th>  <td>   212</td>  \n",
       "</tr>\n",
       "<tr>\n",
       "  <th>Method:</th>                 <td>MLE</td>       <th>  Df Model:          </th>  <td>     1</td>  \n",
       "</tr>\n",
       "<tr>\n",
       "  <th>Date:</th>            <td>Thu, 05 Nov 2020</td> <th>  Pseudo R-squ.:     </th>  <td>0.3547</td>  \n",
       "</tr>\n",
       "<tr>\n",
       "  <th>Time:</th>                <td>10:43:56</td>     <th>  Log-Likelihood:    </th> <td> -75.834</td> \n",
       "</tr>\n",
       "<tr>\n",
       "  <th>converged:</th>             <td>True</td>       <th>  LL-Null:           </th> <td> -117.51</td> \n",
       "</tr>\n",
       "<tr>\n",
       "  <th>Covariance Type:</th>     <td>nonrobust</td>    <th>  LLR p-value:       </th> <td>6.835e-20</td>\n",
       "</tr>\n",
       "</table>\n",
       "<table class=\"simpletable\">\n",
       "<tr>\n",
       "      <td></td>         <th>coef</th>     <th>std err</th>      <th>z</th>      <th>P>|z|</th>  <th>[0.025</th>    <th>0.975]</th>  \n",
       "</tr>\n",
       "<tr>\n",
       "  <th>Intercept</th> <td>    7.7136</td> <td>    1.078</td> <td>    7.158</td> <td> 0.000</td> <td>    5.602</td> <td>    9.826</td>\n",
       "</tr>\n",
       "<tr>\n",
       "  <th>al</th>        <td>   -4.1804</td> <td>    0.660</td> <td>   -6.338</td> <td> 0.000</td> <td>   -5.473</td> <td>   -2.888</td>\n",
       "</tr>\n",
       "</table>"
      ],
      "text/plain": [
       "<class 'statsmodels.iolib.summary.Summary'>\n",
       "\"\"\"\n",
       "                           Logit Regression Results                           \n",
       "==============================================================================\n",
       "Dep. Variable:           window_glass   No. Observations:                  214\n",
       "Model:                          Logit   Df Residuals:                      212\n",
       "Method:                           MLE   Df Model:                            1\n",
       "Date:                Thu, 05 Nov 2020   Pseudo R-squ.:                  0.3547\n",
       "Time:                        10:43:56   Log-Likelihood:                -75.834\n",
       "converged:                       True   LL-Null:                       -117.51\n",
       "Covariance Type:            nonrobust   LLR p-value:                 6.835e-20\n",
       "==============================================================================\n",
       "                 coef    std err          z      P>|z|      [0.025      0.975]\n",
       "------------------------------------------------------------------------------\n",
       "Intercept      7.7136      1.078      7.158      0.000       5.602       9.826\n",
       "al            -4.1804      0.660     -6.338      0.000      -5.473      -2.888\n",
       "==============================================================================\n",
       "\"\"\""
      ]
     },
     "execution_count": 12,
     "metadata": {},
     "output_type": "execute_result"
    }
   ],
   "source": [
    "model.summary()"
   ]
  },
  {
   "cell_type": "markdown",
   "metadata": {},
   "source": [
    "#### Significatività\n",
    "Il summary presenta diversi elementi. Analizziamone i più importanti:\n",
    " * Pseudo R-squared: va interpretato come l'R-Squared nel caso della regressione lineare. Ci dice quanto il modello \"spiega\" bene i dati;\n",
    " * LLR p-value: è il p-value calcolato da un \"Likelihood-ratio test\" (Rapporto di verosimiglianza). Se il valore del p-value è al di sotto di una soglia critica, (es. $0.05$), il regressore logistico è statisticamente rilevante;\n",
    " * P-value dei coefficienti ($P>|z|$): vanno interpretati come nel caso della regressione lineare. P-value piccoli indicano che le variabili coinvolte contribuiscono significativamente alla regressione.\n",
    " \n",
    "Nel caso specifico del regressore allenato, possiamo dire che:\n",
    " * Il regressore logistico spiega parte della relazione tra le variabili (pseudo $R^2$ pari a circa $0.35$);\n",
    " * Il regressore logistico è statisticamente rilevante (p-value al di sotto di $0.05$);\n",
    " * I coefficienti sono tutti statisticamente rilevanti (p-value bassi);"
   ]
  },
  {
   "cell_type": "markdown",
   "metadata": {},
   "source": [
    "#### Interpretazione dei valori dei coefficienti\n",
    "Vediamo adesso come interpretare i coefficienti di un regressore logistico. Ricordiamo che il modello di regressione (nel caso della regressione semplice) è il seguente:\n",
    "\n",
    "\\begin{equation}\n",
    "\\ln(\\frac{p}{1-p})=\\beta_0 + \\beta_1 x\n",
    "\\end{equation}\n",
    "\n",
    "Applicando quanto conosciamo riguardo ai regressori lineari, possiamo dire che, per $x=0$, $\\ln(\\frac{p}{1-p})=\\beta_0$.<br>\n",
    "Se vogliamo avere un quadro più chiaro, applichiamo la funzione <em>exp</em> all'equazione in modo da avere, per $x=0$, $\\frac{p}{1-p}=e^{\\beta_0}$.<br>\n",
    "Ricordiamoci che $\\frac{p}{1-p}$ è l'odds che la variabile dipendente sia pari a $1$ e, in quanto tale, ha una interpretazione chiara. Ad esempio, se l'odds di un evento è pari a $3$, allora è $3$ volte più probabile che esso si verifichi piuttosto che non si verifichi. Possiamo dunque dire che, **per $x=0$, è $e^{\\beta_0}$ volte più probabile che la variabile dipendente sia pari a $1$**.\n",
    "\n",
    "Come possiamo interpretare i valori dei coefficienti? Cerchiamo di capire che effetto ha sugli odds l'incremento di una unità della variabile $x$. Secondo il nostro regressore:\n",
    "\n",
    "\\begin{equation}\n",
    "\\ln odds(x) = \\beta_0 + \\beta_1 x\n",
    "\\end{equation}\n",
    "\n",
    "Possiamo dunque scrivere:\n",
    "\\begin{equation}\n",
    "\\ln odds(x+1) - \\ln odds(x) = \\beta_0 + \\beta_1 (x+1) - \\beta_0 - \\beta_1 x = \\beta_1 (x+1) - \\beta_1 x = \\beta_1\n",
    "\\end{equation}\n",
    "\n",
    "Esponenziando ambi i membri otteniamo:\n",
    "\\begin{equation}\n",
    "e^{\\ln odds(x+1) - \\ln odds(x)} = e^{\\beta_1} \\Rightarrow \\frac{e^{\\ln odds(x+1)}}{e^{\\ln odds(x)}} = e^{\\beta_1} \\Rightarrow \\frac{odds(x+1)}{odds(x)} = e^{\\beta_1} \\Rightarrow odds(x+1) = e^{\\beta_1}odds(x)\n",
    "\\end{equation}\n",
    "\n",
    "Possiamo dunque dire che **l'incremento di una unità della variabile $x$ corrisponde a un incremento moltiplicativo dell'odds di $e^{\\beta_1}$**."
   ]
  },
  {
   "cell_type": "markdown",
   "metadata": {},
   "source": [
    "L'analisi si estende al caso della regressione multivariata come visto nel caso della regressione lineare."
   ]
  },
  {
   "cell_type": "markdown",
   "metadata": {},
   "source": [
    "#### Esempio di analisi dei coefficienti di un regressore logistico\n",
    "Analizziamo i coefficienti del regressore logistico calcolato prima. Visualizziamo nuovamente il summary:"
   ]
  },
  {
   "cell_type": "code",
   "execution_count": 13,
   "metadata": {},
   "outputs": [
    {
     "data": {
      "text/html": [
       "<table class=\"simpletable\">\n",
       "<caption>Logit Regression Results</caption>\n",
       "<tr>\n",
       "  <th>Dep. Variable:</th>     <td>window_glass</td>   <th>  No. Observations:  </th>  <td>   214</td>  \n",
       "</tr>\n",
       "<tr>\n",
       "  <th>Model:</th>                 <td>Logit</td>      <th>  Df Residuals:      </th>  <td>   212</td>  \n",
       "</tr>\n",
       "<tr>\n",
       "  <th>Method:</th>                 <td>MLE</td>       <th>  Df Model:          </th>  <td>     1</td>  \n",
       "</tr>\n",
       "<tr>\n",
       "  <th>Date:</th>            <td>Thu, 05 Nov 2020</td> <th>  Pseudo R-squ.:     </th>  <td>0.3547</td>  \n",
       "</tr>\n",
       "<tr>\n",
       "  <th>Time:</th>                <td>10:43:56</td>     <th>  Log-Likelihood:    </th> <td> -75.834</td> \n",
       "</tr>\n",
       "<tr>\n",
       "  <th>converged:</th>             <td>True</td>       <th>  LL-Null:           </th> <td> -117.51</td> \n",
       "</tr>\n",
       "<tr>\n",
       "  <th>Covariance Type:</th>     <td>nonrobust</td>    <th>  LLR p-value:       </th> <td>6.835e-20</td>\n",
       "</tr>\n",
       "</table>\n",
       "<table class=\"simpletable\">\n",
       "<tr>\n",
       "      <td></td>         <th>coef</th>     <th>std err</th>      <th>z</th>      <th>P>|z|</th>  <th>[0.025</th>    <th>0.975]</th>  \n",
       "</tr>\n",
       "<tr>\n",
       "  <th>Intercept</th> <td>    7.7136</td> <td>    1.078</td> <td>    7.158</td> <td> 0.000</td> <td>    5.602</td> <td>    9.826</td>\n",
       "</tr>\n",
       "<tr>\n",
       "  <th>al</th>        <td>   -4.1804</td> <td>    0.660</td> <td>   -6.338</td> <td> 0.000</td> <td>   -5.473</td> <td>   -2.888</td>\n",
       "</tr>\n",
       "</table>"
      ],
      "text/plain": [
       "<class 'statsmodels.iolib.summary.Summary'>\n",
       "\"\"\"\n",
       "                           Logit Regression Results                           \n",
       "==============================================================================\n",
       "Dep. Variable:           window_glass   No. Observations:                  214\n",
       "Model:                          Logit   Df Residuals:                      212\n",
       "Method:                           MLE   Df Model:                            1\n",
       "Date:                Thu, 05 Nov 2020   Pseudo R-squ.:                  0.3547\n",
       "Time:                        10:43:56   Log-Likelihood:                -75.834\n",
       "converged:                       True   LL-Null:                       -117.51\n",
       "Covariance Type:            nonrobust   LLR p-value:                 6.835e-20\n",
       "==============================================================================\n",
       "                 coef    std err          z      P>|z|      [0.025      0.975]\n",
       "------------------------------------------------------------------------------\n",
       "Intercept      7.7136      1.078      7.158      0.000       5.602       9.826\n",
       "al            -4.1804      0.660     -6.338      0.000      -5.473      -2.888\n",
       "==============================================================================\n",
       "\"\"\""
      ]
     },
     "execution_count": 13,
     "metadata": {},
     "output_type": "execute_result"
    }
   ],
   "source": [
    "model.summary()"
   ]
  },
  {
   "cell_type": "markdown",
   "metadata": {},
   "source": [
    "Calcoliamo l'esponenziale dei valori dei coefficienti:"
   ]
  },
  {
   "cell_type": "code",
   "execution_count": 14,
   "metadata": {},
   "outputs": [
    {
     "data": {
      "text/plain": [
       "Intercept    2238.577657\n",
       "al              0.015292\n",
       "dtype: float64"
      ]
     },
     "execution_count": 14,
     "metadata": {},
     "output_type": "execute_result"
    }
   ],
   "source": [
    "np.exp(model.params)"
   ]
  },
  {
   "cell_type": "markdown",
   "metadata": {},
   "source": [
    "Possiamo dire che:\n",
    " * Per $al=0$, l'odds che il vetro sia da finestra (`window_glass=1`) è pari a circa $2238$. E' dunque $2238$ volte più probabile che il vetro sia da finestra;\n",
    " * L'incremento di una unità del valore della variabile `al` corrisponde a un incremento moltiplicativo di $0.015$. Dato che il numero è minore di 1, ciò corrisponde a un decremento moltiplicativo pari a $1-0.015=0.985$. Possiamo dire dunque che l'incremento di una unità del valore di `al` corrisponde a un decremento del $98.5\\%$ dell'odds."
   ]
  },
  {
   "cell_type": "markdown",
   "metadata": {},
   "source": [
    "## 9.2 Regressione Logistica Multipla\n",
    "\n",
    "E' possibile calcolare un regressore logistico a partire da più variabili indipendenti semplicemente rivedendo il modello come:\n",
    "\n",
    "\\begin{equation}\n",
    "logit(p)=\\beta_0 + \\beta_1 x_1 + \\ldots + \\beta_n x_n\n",
    "\\end{equation}\n",
    "\n",
    "Proviamo a calcolare il modello scegliendo come variabili indipendenti **na** e **si** e mantenendo **window_glass** come variabile dipendente. Possiamo visualizzare lo scatterplot con le classi evidenziate utilizzando searborn:"
   ]
  },
  {
   "cell_type": "code",
   "execution_count": 15,
   "metadata": {},
   "outputs": [
    {
     "data": {
      "image/png": "[encoded data removed]",
      "text/plain": [
       "<Figure size 864x576 with 1 Axes>"
      ]
     },
     "metadata": {
      "needs_background": "light"
     },
     "output_type": "display_data"
    }
   ],
   "source": [
    "plt.figure(figsize=(12,8))\n",
    "sns.scatterplot('na','si',data=glass, hue='window_glass')\n",
    "plt.show()"
   ]
  },
  {
   "cell_type": "markdown",
   "metadata": {},
   "source": [
    "Calcoliamo il regressore logistico multivariato:"
   ]
  },
  {
   "cell_type": "code",
   "execution_count": 16,
   "metadata": {},
   "outputs": [
    {
     "name": "stdout",
     "output_type": "stream",
     "text": [
      "Optimization terminated successfully.\n",
      "         Current function value: 0.409695\n",
      "         Iterations 7\n"
     ]
    },
    {
     "data": {
      "text/html": [
       "<table class=\"simpletable\">\n",
       "<caption>Logit Regression Results</caption>\n",
       "<tr>\n",
       "  <th>Dep. Variable:</th>     <td>window_glass</td>   <th>  No. Observations:  </th>  <td>   214</td>  \n",
       "</tr>\n",
       "<tr>\n",
       "  <th>Model:</th>                 <td>Logit</td>      <th>  Df Residuals:      </th>  <td>   211</td>  \n",
       "</tr>\n",
       "<tr>\n",
       "  <th>Method:</th>                 <td>MLE</td>       <th>  Df Model:          </th>  <td>     2</td>  \n",
       "</tr>\n",
       "<tr>\n",
       "  <th>Date:</th>            <td>Thu, 05 Nov 2020</td> <th>  Pseudo R-squ.:     </th>  <td>0.2539</td>  \n",
       "</tr>\n",
       "<tr>\n",
       "  <th>Time:</th>                <td>10:43:57</td>     <th>  Log-Likelihood:    </th> <td> -87.675</td> \n",
       "</tr>\n",
       "<tr>\n",
       "  <th>converged:</th>             <td>True</td>       <th>  LL-Null:           </th> <td> -117.51</td> \n",
       "</tr>\n",
       "<tr>\n",
       "  <th>Covariance Type:</th>     <td>nonrobust</td>    <th>  LLR p-value:       </th> <td>1.098e-13</td>\n",
       "</tr>\n",
       "</table>\n",
       "<table class=\"simpletable\">\n",
       "<tr>\n",
       "      <td></td>         <th>coef</th>     <th>std err</th>      <th>z</th>      <th>P>|z|</th>  <th>[0.025</th>    <th>0.975]</th>  \n",
       "</tr>\n",
       "<tr>\n",
       "  <th>Intercept</th> <td>   91.9716</td> <td>   22.944</td> <td>    4.008</td> <td> 0.000</td> <td>   47.002</td> <td>  136.941</td>\n",
       "</tr>\n",
       "<tr>\n",
       "  <th>na</th>        <td>   -1.8780</td> <td>    0.306</td> <td>   -6.143</td> <td> 0.000</td> <td>   -2.477</td> <td>   -1.279</td>\n",
       "</tr>\n",
       "<tr>\n",
       "  <th>si</th>        <td>   -0.8988</td> <td>    0.292</td> <td>   -3.075</td> <td> 0.002</td> <td>   -1.472</td> <td>   -0.326</td>\n",
       "</tr>\n",
       "</table>"
      ],
      "text/plain": [
       "<class 'statsmodels.iolib.summary.Summary'>\n",
       "\"\"\"\n",
       "                           Logit Regression Results                           \n",
       "==============================================================================\n",
       "Dep. Variable:           window_glass   No. Observations:                  214\n",
       "Model:                          Logit   Df Residuals:                      211\n",
       "Method:                           MLE   Df Model:                            2\n",
       "Date:                Thu, 05 Nov 2020   Pseudo R-squ.:                  0.2539\n",
       "Time:                        10:43:57   Log-Likelihood:                -87.675\n",
       "converged:                       True   LL-Null:                       -117.51\n",
       "Covariance Type:            nonrobust   LLR p-value:                 1.098e-13\n",
       "==============================================================================\n",
       "                 coef    std err          z      P>|z|      [0.025      0.975]\n",
       "------------------------------------------------------------------------------\n",
       "Intercept     91.9716     22.944      4.008      0.000      47.002     136.941\n",
       "na            -1.8780      0.306     -6.143      0.000      -2.477      -1.279\n",
       "si            -0.8988      0.292     -3.075      0.002      -1.472      -0.326\n",
       "==============================================================================\n",
       "\"\"\""
      ]
     },
     "execution_count": 16,
     "metadata": {},
     "output_type": "execute_result"
    }
   ],
   "source": [
    "model = logit('window_glass ~ na + si',glass).fit()\n",
    "model.summary()"
   ]
  },
  {
   "cell_type": "markdown",
   "metadata": {},
   "source": [
    "Analizziamo in breve il risultato della regressione logistica:\n",
    " * Il modello spiega parte della relazione tra le variabili indipendenti e la variabile dipendente ($R^2=0.2539$);\n",
    " * Il regressore si distingue in maniera rilevante dal regressore nullo (p-value sotto la soglia critica $0.05$);\n",
    " * I parametri del regressore sono tutti statisticamente rilevanti (p-value tutti sotto la soglia $0.05$);\n",
    "Calcoliamo l'esponenziale dei parametri:"
   ]
  },
  {
   "cell_type": "code",
   "execution_count": 17,
   "metadata": {},
   "outputs": [
    {
     "data": {
      "text/plain": [
       "Intercept    8.764972e+39\n",
       "na           1.528937e-01\n",
       "si           4.070460e-01\n",
       "dtype: float64"
      ]
     },
     "execution_count": 17,
     "metadata": {},
     "output_type": "execute_result"
    }
   ],
   "source": [
    "np.exp(model.params)"
   ]
  },
  {
   "cell_type": "markdown",
   "metadata": {},
   "source": [
    " * Se `na=0` e `si=0`, il vetro è da finestra in maniera quasi certa;\n",
    " * Se la variabile `si=0`, l'incremento di una unità della variabile `na` causa un decremento dell'odds di circa il $98,48\\%$;\n",
    " * Se la variabile `na=0`, l'incremento di una unità della variabile `si` causa un decremento dell'odds pari a circa il $96\\%$."
   ]
  },
  {
   "cell_type": "markdown",
   "metadata": {},
   "source": [
    "### Interpretazione geometrica dei coefficienti\n",
    "I coefficienti trovati possono interpretati in maniera geometrica. Il modello di regressione che abbiamo utilizzato nel caso bivariato è assimilabile al seguente:\n",
    "\n",
    "\\begin{equation}\n",
    "\\ln\\frac{p}{1-p} = \\beta_0 + \\beta_1 x_1 + \\beta_2 x_2\n",
    "\\end{equation}\n",
    "\n",
    "Cerchiamo di capire se esistono dei vaori \"soglia\" di $x_1$ e $x_2$ oltre i quali il modello classifichi i dati come appartenenti alla classe \"window_glass\". Per farlo, analizziamo per quali valori di $x_1$ e $x_2$ il modello ha massima incertezza. Ciò avviene quando l'odds è pari a $1$ e la probabilità predetta è pari a $p=0.5$. In questo caso possiamo scrivere:\n",
    "\n",
    "\\begin{equation}\n",
    "\\ln 1 = 0 = \\beta_0 + \\beta_1 x_1 + \\beta_2 x_2\n",
    "\\end{equation}\n",
    "\n",
    "da cui:\n",
    "\n",
    "\\begin{equation}\n",
    "x_2 = - \\frac{\\beta_0}{\\beta_2} - \\frac{\\beta_1}{\\beta2} x_1\n",
    "\\end{equation}\n",
    "\n",
    "che è l'equazione di una retta $y=mx+q$ di coefficiente angolare $m=-\\frac{\\beta_1}{\\beta_2}$ e intercetta $q=-\\frac{\\beta_0}{\\beta_2}$.\n",
    "\n",
    "Questa retta rappresenta il luogo dei punti per i quali il modello ha incertezza massima, che è detto anche **decision boundary** (confine di decisione) del modello. Vediamo di visualizzarlo sul plot precedente:"
   ]
  },
  {
   "cell_type": "code",
   "execution_count": 18,
   "metadata": {},
   "outputs": [
    {
     "data": {
      "image/png": "[encoded data removed]",
      "text/plain": [
       "<Figure size 864x576 with 1 Axes>"
      ]
     },
     "metadata": {
      "needs_background": "light"
     },
     "output_type": "display_data"
    }
   ],
   "source": [
    "b0 = model.params.Intercept\n",
    "b1 = model.params.na\n",
    "b2 = model.params.si\n",
    "\n",
    "m = -b1/b2\n",
    "q= - b0/b2\n",
    "\n",
    "x = np.linspace(np.min(glass.na),np.max(glass.na),2)\n",
    "y = m*x+q\n",
    "\n",
    "plt.figure(figsize=(12,8))\n",
    "sns.scatterplot('na','si',data=glass, hue='window_glass')\n",
    "plt.plot(x,y,'r')\n",
    "plt.show()"
   ]
  },
  {
   "cell_type": "markdown",
   "metadata": {},
   "source": [
    "Il decision boundary trovato **divide lo spazio in due parti**: da una parte si trovano i punti che secondo il modello appartengono alla classe \"window_glass\", mentre dall'altra parte si trovano i punti associati all'altra classe."
   ]
  },
  {
   "cell_type": "markdown",
   "metadata": {},
   "source": [
    "## 9.3 Esempio di regressione logistica con più di due variabili indipendenti\n",
    "Vediamo un esempio di regressione logistica con più di due variabili indipendenti. Utilizzeremo il dataset di R `biopsy`. Possiamo caricarlo mediante `statsmodels`:"
   ]
  },
  {
   "cell_type": "code",
   "execution_count": 19,
   "metadata": {
    "scrolled": false
   },
   "outputs": [
    {
     "name": "stderr",
     "output_type": "stream",
     "text": [
      "C:\\Users\\visig\\Anaconda3\\lib\\site-packages\\statsmodels\\datasets\\utils.py:192: FutureWarning: `item` has been deprecated and will be removed in a future version\n",
      "  return dataset_meta[\"Title\"].item()\n"
     ]
    },
    {
     "name": "stdout",
     "output_type": "stream",
     "text": [
      "====== ===============\n",
      "biopsy R Documentation\n",
      "====== ===============\n",
      "\n",
      "Biopsy Data on Breast Cancer Patients\n",
      "-------------------------------------\n",
      "\n",
      "Description\n",
      "~~~~~~~~~~~\n",
      "\n",
      "This breast cancer database was obtained from the University of\n",
      "Wisconsin Hospitals, Madison from Dr. William H. Wolberg. He assessed\n",
      "biopsies of breast tumours for 699 patients up to 15 July 1992; each of\n",
      "nine attributes has been scored on a scale of 1 to 10, and the outcome\n",
      "is also known. There are 699 rows and 11 columns.\n",
      "\n",
      "Usage\n",
      "~~~~~\n",
      "\n",
      "::\n",
      "\n",
      "   biopsy\n",
      "\n",
      "Format\n",
      "~~~~~~\n",
      "\n",
      "This data frame contains the following columns:\n",
      "\n",
      "``ID``\n",
      "   sample code number (not unique).\n",
      "\n",
      "``V1``\n",
      "   clump thickness.\n",
      "\n",
      "``V2``\n",
      "   uniformity of cell size.\n",
      "\n",
      "``V3``\n",
      "   uniformity of cell shape.\n",
      "\n",
      "``V4``\n",
      "   marginal adhesion.\n",
      "\n",
      "``V5``\n",
      "   single epithelial cell size.\n",
      "\n",
      "``V6``\n",
      "   bare nuclei (16 values are missing).\n",
      "\n",
      "``V7``\n",
      "   bland chromatin.\n",
      "\n",
      "``V8``\n",
      "   normal nucleoli.\n",
      "\n",
      "``V9``\n",
      "   mitoses.\n",
      "\n",
      "``class``\n",
      "   ``\"benign\"`` or ``\"malignant\"``.\n",
      "\n",
      "Source\n",
      "~~~~~~\n",
      "\n",
      "P. M. Murphy and D. W. Aha (1992). UCI Repository of machine learning\n",
      "databases. [Machine-readable data repository]. Irvine, CA: University of\n",
      "California, Department of Information and Computer Science.\n",
      "\n",
      "O. L. Mangasarian and W. H. Wolberg (1990) Cancer diagnosis via linear\n",
      "programming. *SIAM News* **23**, pp 1 & 18.\n",
      "\n",
      "William H. Wolberg and O.L. Mangasarian (1990) Multisurface method of\n",
      "pattern separation for medical diagnosis applied to breast cytology.\n",
      "*Proceedings of the National Academy of Sciences, U.S.A.* **87**, pp.\n",
      "9193–9196.\n",
      "\n",
      "O. L. Mangasarian, R. Setiono and W.H. Wolberg (1990) Pattern\n",
      "recognition via linear programming: Theory and application to medical\n",
      "diagnosis. In *Large-scale Numerical Optimization* eds Thomas F. Coleman\n",
      "and Yuying Li, SIAM Publications, Philadelphia, pp 22–30.\n",
      "\n",
      "K. P. Bennett and O. L. Mangasarian (1992) Robust linear programming\n",
      "discrimination of two linearly inseparable sets. *Optimization Methods\n",
      "and Software* **1**, pp. 23–34 (Gordon & Breach Science Publishers).\n",
      "\n",
      "References\n",
      "~~~~~~~~~~\n",
      "\n",
      "Venables, W. N. and Ripley, B. D. (1999) *Modern Applied Statistics with\n",
      "S-PLUS.* Third Edition. Springer.\n",
      "\n"
     ]
    }
   ],
   "source": [
    "from statsmodels.datasets import get_rdataset\n",
    "biopsy = get_rdataset('biopsy',package='MASS')\n",
    "print(biopsy.__doc__)"
   ]
  },
  {
   "cell_type": "markdown",
   "metadata": {},
   "source": [
    "Il dataset contiene $699$ osservazioni e $11$ colonne. Ogni osservazioni contiene misurazioni di $9$ grandezze relative a campioni di tessuto che possono essere tumori \"benigni\" o \"maligni\". Iniziamo manipolando un po' i dati. Visualizziamo i valori della variabile `class`:"
   ]
  },
  {
   "cell_type": "code",
   "execution_count": 20,
   "metadata": {},
   "outputs": [
    {
     "data": {
      "text/plain": [
       "array(['benign', 'malignant'], dtype=object)"
      ]
     },
     "execution_count": 20,
     "metadata": {},
     "output_type": "execute_result"
    }
   ],
   "source": [
    "biopsy.data['class'].unique()"
   ]
  },
  {
   "cell_type": "markdown",
   "metadata": {},
   "source": [
    "Per calcolare il modello di regressione logistica mediante statsmodels è necessario convertire questi valori in interi ($0$ o $1$). Inoltre, conviene evitare di chiamare la colonna `class` in quanto questa è una parola riservata per statsmodels. Costruiamo una nuova colonna `cl` che contiene i valori di `class` modificati:"
   ]
  },
  {
   "cell_type": "code",
   "execution_count": 21,
   "metadata": {},
   "outputs": [],
   "source": [
    "biopsy.data['cl'] = biopsy.data['class'].replace({'benign':0, 'malignant':1})"
   ]
  },
  {
   "cell_type": "markdown",
   "metadata": {},
   "source": [
    "Procediamo a calcolare il regressore logistico considerando tutte le variabili:"
   ]
  },
  {
   "cell_type": "code",
   "execution_count": 22,
   "metadata": {},
   "outputs": [
    {
     "name": "stdout",
     "output_type": "stream",
     "text": [
      "Optimization terminated successfully.\n",
      "         Current function value: 0.075321\n",
      "         Iterations 10\n"
     ]
    },
    {
     "data": {
      "text/html": [
       "<table class=\"simpletable\">\n",
       "<caption>Logit Regression Results</caption>\n",
       "<tr>\n",
       "  <th>Dep. Variable:</th>          <td>cl</td>        <th>  No. Observations:  </th>   <td>   683</td>  \n",
       "</tr>\n",
       "<tr>\n",
       "  <th>Model:</th>                 <td>Logit</td>      <th>  Df Residuals:      </th>   <td>   673</td>  \n",
       "</tr>\n",
       "<tr>\n",
       "  <th>Method:</th>                 <td>MLE</td>       <th>  Df Model:          </th>   <td>     9</td>  \n",
       "</tr>\n",
       "<tr>\n",
       "  <th>Date:</th>            <td>Thu, 05 Nov 2020</td> <th>  Pseudo R-squ.:     </th>   <td>0.8837</td>  \n",
       "</tr>\n",
       "<tr>\n",
       "  <th>Time:</th>                <td>10:43:59</td>     <th>  Log-Likelihood:    </th>  <td> -51.444</td> \n",
       "</tr>\n",
       "<tr>\n",
       "  <th>converged:</th>             <td>True</td>       <th>  LL-Null:           </th>  <td> -442.18</td> \n",
       "</tr>\n",
       "<tr>\n",
       "  <th>Covariance Type:</th>     <td>nonrobust</td>    <th>  LLR p-value:       </th> <td>2.077e-162</td>\n",
       "</tr>\n",
       "</table>\n",
       "<table class=\"simpletable\">\n",
       "<tr>\n",
       "      <td></td>         <th>coef</th>     <th>std err</th>      <th>z</th>      <th>P>|z|</th>  <th>[0.025</th>    <th>0.975]</th>  \n",
       "</tr>\n",
       "<tr>\n",
       "  <th>Intercept</th> <td>  -10.1039</td> <td>    1.175</td> <td>   -8.600</td> <td> 0.000</td> <td>  -12.407</td> <td>   -7.801</td>\n",
       "</tr>\n",
       "<tr>\n",
       "  <th>V1</th>        <td>    0.5350</td> <td>    0.142</td> <td>    3.767</td> <td> 0.000</td> <td>    0.257</td> <td>    0.813</td>\n",
       "</tr>\n",
       "<tr>\n",
       "  <th>V2</th>        <td>   -0.0063</td> <td>    0.209</td> <td>   -0.030</td> <td> 0.976</td> <td>   -0.416</td> <td>    0.404</td>\n",
       "</tr>\n",
       "<tr>\n",
       "  <th>V3</th>        <td>    0.3227</td> <td>    0.231</td> <td>    1.399</td> <td> 0.162</td> <td>   -0.129</td> <td>    0.775</td>\n",
       "</tr>\n",
       "<tr>\n",
       "  <th>V4</th>        <td>    0.3306</td> <td>    0.123</td> <td>    2.678</td> <td> 0.007</td> <td>    0.089</td> <td>    0.573</td>\n",
       "</tr>\n",
       "<tr>\n",
       "  <th>V5</th>        <td>    0.0966</td> <td>    0.157</td> <td>    0.617</td> <td> 0.537</td> <td>   -0.210</td> <td>    0.404</td>\n",
       "</tr>\n",
       "<tr>\n",
       "  <th>V6</th>        <td>    0.3830</td> <td>    0.094</td> <td>    4.082</td> <td> 0.000</td> <td>    0.199</td> <td>    0.567</td>\n",
       "</tr>\n",
       "<tr>\n",
       "  <th>V7</th>        <td>    0.4472</td> <td>    0.171</td> <td>    2.609</td> <td> 0.009</td> <td>    0.111</td> <td>    0.783</td>\n",
       "</tr>\n",
       "<tr>\n",
       "  <th>V8</th>        <td>    0.2130</td> <td>    0.113</td> <td>    1.887</td> <td> 0.059</td> <td>   -0.008</td> <td>    0.434</td>\n",
       "</tr>\n",
       "<tr>\n",
       "  <th>V9</th>        <td>    0.5348</td> <td>    0.329</td> <td>    1.627</td> <td> 0.104</td> <td>   -0.110</td> <td>    1.179</td>\n",
       "</tr>\n",
       "</table>"
      ],
      "text/plain": [
       "<class 'statsmodels.iolib.summary.Summary'>\n",
       "\"\"\"\n",
       "                           Logit Regression Results                           \n",
       "==============================================================================\n",
       "Dep. Variable:                     cl   No. Observations:                  683\n",
       "Model:                          Logit   Df Residuals:                      673\n",
       "Method:                           MLE   Df Model:                            9\n",
       "Date:                Thu, 05 Nov 2020   Pseudo R-squ.:                  0.8837\n",
       "Time:                        10:43:59   Log-Likelihood:                -51.444\n",
       "converged:                       True   LL-Null:                       -442.18\n",
       "Covariance Type:            nonrobust   LLR p-value:                2.077e-162\n",
       "==============================================================================\n",
       "                 coef    std err          z      P>|z|      [0.025      0.975]\n",
       "------------------------------------------------------------------------------\n",
       "Intercept    -10.1039      1.175     -8.600      0.000     -12.407      -7.801\n",
       "V1             0.5350      0.142      3.767      0.000       0.257       0.813\n",
       "V2            -0.0063      0.209     -0.030      0.976      -0.416       0.404\n",
       "V3             0.3227      0.231      1.399      0.162      -0.129       0.775\n",
       "V4             0.3306      0.123      2.678      0.007       0.089       0.573\n",
       "V5             0.0966      0.157      0.617      0.537      -0.210       0.404\n",
       "V6             0.3830      0.094      4.082      0.000       0.199       0.567\n",
       "V7             0.4472      0.171      2.609      0.009       0.111       0.783\n",
       "V8             0.2130      0.113      1.887      0.059      -0.008       0.434\n",
       "V9             0.5348      0.329      1.627      0.104      -0.110       1.179\n",
       "==============================================================================\n",
       "\"\"\""
      ]
     },
     "execution_count": 22,
     "metadata": {},
     "output_type": "execute_result"
    }
   ],
   "source": [
    "model = logit('cl ~ V1 + V2 + V3 + V4 + V5 + V6 + V7 + V8 + V9',biopsy.data).fit()\n",
    "model.summary()"
   ]
  },
  {
   "cell_type": "markdown",
   "metadata": {},
   "source": [
    "Il regressore logistico spiega bene la relazione tra le variabili ($R^2$ alto) ed è significativo (p-value quasi nullo). Alcuni coefficienti hanno un p-value alto. Iniziamo eliminando la variabile `V2`, che ha il p-value più alto:"
   ]
  },
  {
   "cell_type": "code",
   "execution_count": 23,
   "metadata": {},
   "outputs": [
    {
     "name": "stdout",
     "output_type": "stream",
     "text": [
      "Optimization terminated successfully.\n",
      "         Current function value: 0.075321\n",
      "         Iterations 10\n"
     ]
    },
    {
     "data": {
      "text/html": [
       "<table class=\"simpletable\">\n",
       "<caption>Logit Regression Results</caption>\n",
       "<tr>\n",
       "  <th>Dep. Variable:</th>          <td>cl</td>        <th>  No. Observations:  </th>   <td>   683</td>  \n",
       "</tr>\n",
       "<tr>\n",
       "  <th>Model:</th>                 <td>Logit</td>      <th>  Df Residuals:      </th>   <td>   674</td>  \n",
       "</tr>\n",
       "<tr>\n",
       "  <th>Method:</th>                 <td>MLE</td>       <th>  Df Model:          </th>   <td>     8</td>  \n",
       "</tr>\n",
       "<tr>\n",
       "  <th>Date:</th>            <td>Thu, 05 Nov 2020</td> <th>  Pseudo R-squ.:     </th>   <td>0.8837</td>  \n",
       "</tr>\n",
       "<tr>\n",
       "  <th>Time:</th>                <td>10:43:59</td>     <th>  Log-Likelihood:    </th>  <td> -51.445</td> \n",
       "</tr>\n",
       "<tr>\n",
       "  <th>converged:</th>             <td>True</td>       <th>  LL-Null:           </th>  <td> -442.18</td> \n",
       "</tr>\n",
       "<tr>\n",
       "  <th>Covariance Type:</th>     <td>nonrobust</td>    <th>  LLR p-value:       </th> <td>2.036e-163</td>\n",
       "</tr>\n",
       "</table>\n",
       "<table class=\"simpletable\">\n",
       "<tr>\n",
       "      <td></td>         <th>coef</th>     <th>std err</th>      <th>z</th>      <th>P>|z|</th>  <th>[0.025</th>    <th>0.975]</th>  \n",
       "</tr>\n",
       "<tr>\n",
       "  <th>Intercept</th> <td>  -10.0976</td> <td>    1.155</td> <td>   -8.739</td> <td> 0.000</td> <td>  -12.362</td> <td>   -7.833</td>\n",
       "</tr>\n",
       "<tr>\n",
       "  <th>V1</th>        <td>    0.5346</td> <td>    0.141</td> <td>    3.784</td> <td> 0.000</td> <td>    0.258</td> <td>    0.811</td>\n",
       "</tr>\n",
       "<tr>\n",
       "  <th>V3</th>        <td>    0.3182</td> <td>    0.174</td> <td>    1.826</td> <td> 0.068</td> <td>   -0.023</td> <td>    0.660</td>\n",
       "</tr>\n",
       "<tr>\n",
       "  <th>V4</th>        <td>    0.3299</td> <td>    0.121</td> <td>    2.723</td> <td> 0.006</td> <td>    0.092</td> <td>    0.567</td>\n",
       "</tr>\n",
       "<tr>\n",
       "  <th>V5</th>        <td>    0.0961</td> <td>    0.156</td> <td>    0.618</td> <td> 0.537</td> <td>   -0.209</td> <td>    0.401</td>\n",
       "</tr>\n",
       "<tr>\n",
       "  <th>V6</th>        <td>    0.3831</td> <td>    0.094</td> <td>    4.082</td> <td> 0.000</td> <td>    0.199</td> <td>    0.567</td>\n",
       "</tr>\n",
       "<tr>\n",
       "  <th>V7</th>        <td>    0.4465</td> <td>    0.170</td> <td>    2.628</td> <td> 0.009</td> <td>    0.114</td> <td>    0.779</td>\n",
       "</tr>\n",
       "<tr>\n",
       "  <th>V8</th>        <td>    0.2125</td> <td>    0.112</td> <td>    1.902</td> <td> 0.057</td> <td>   -0.006</td> <td>    0.432</td>\n",
       "</tr>\n",
       "<tr>\n",
       "  <th>V9</th>        <td>    0.5341</td> <td>    0.328</td> <td>    1.630</td> <td> 0.103</td> <td>   -0.108</td> <td>    1.176</td>\n",
       "</tr>\n",
       "</table>"
      ],
      "text/plain": [
       "<class 'statsmodels.iolib.summary.Summary'>\n",
       "\"\"\"\n",
       "                           Logit Regression Results                           \n",
       "==============================================================================\n",
       "Dep. Variable:                     cl   No. Observations:                  683\n",
       "Model:                          Logit   Df Residuals:                      674\n",
       "Method:                           MLE   Df Model:                            8\n",
       "Date:                Thu, 05 Nov 2020   Pseudo R-squ.:                  0.8837\n",
       "Time:                        10:43:59   Log-Likelihood:                -51.445\n",
       "converged:                       True   LL-Null:                       -442.18\n",
       "Covariance Type:            nonrobust   LLR p-value:                2.036e-163\n",
       "==============================================================================\n",
       "                 coef    std err          z      P>|z|      [0.025      0.975]\n",
       "------------------------------------------------------------------------------\n",
       "Intercept    -10.0976      1.155     -8.739      0.000     -12.362      -7.833\n",
       "V1             0.5346      0.141      3.784      0.000       0.258       0.811\n",
       "V3             0.3182      0.174      1.826      0.068      -0.023       0.660\n",
       "V4             0.3299      0.121      2.723      0.006       0.092       0.567\n",
       "V5             0.0961      0.156      0.618      0.537      -0.209       0.401\n",
       "V6             0.3831      0.094      4.082      0.000       0.199       0.567\n",
       "V7             0.4465      0.170      2.628      0.009       0.114       0.779\n",
       "V8             0.2125      0.112      1.902      0.057      -0.006       0.432\n",
       "V9             0.5341      0.328      1.630      0.103      -0.108       1.176\n",
       "==============================================================================\n",
       "\"\"\""
      ]
     },
     "execution_count": 23,
     "metadata": {},
     "output_type": "execute_result"
    }
   ],
   "source": [
    "model = logit('cl ~ V1 + V3 + V4 + V5 + V6 + V7 + V8 + V9',biopsy.data).fit()\n",
    "model.summary()"
   ]
  },
  {
   "cell_type": "markdown",
   "metadata": {},
   "source": [
    "Procediamo rimuovendo `V5`, che ha p-value pari a $0.537$:"
   ]
  },
  {
   "cell_type": "code",
   "execution_count": 24,
   "metadata": {},
   "outputs": [
    {
     "name": "stdout",
     "output_type": "stream",
     "text": [
      "Optimization terminated successfully.\n",
      "         Current function value: 0.075598\n",
      "         Iterations 10\n"
     ]
    },
    {
     "data": {
      "text/html": [
       "<table class=\"simpletable\">\n",
       "<caption>Logit Regression Results</caption>\n",
       "<tr>\n",
       "  <th>Dep. Variable:</th>          <td>cl</td>        <th>  No. Observations:  </th>   <td>   683</td>  \n",
       "</tr>\n",
       "<tr>\n",
       "  <th>Model:</th>                 <td>Logit</td>      <th>  Df Residuals:      </th>   <td>   675</td>  \n",
       "</tr>\n",
       "<tr>\n",
       "  <th>Method:</th>                 <td>MLE</td>       <th>  Df Model:          </th>   <td>     7</td>  \n",
       "</tr>\n",
       "<tr>\n",
       "  <th>Date:</th>            <td>Thu, 05 Nov 2020</td> <th>  Pseudo R-squ.:     </th>   <td>0.8832</td>  \n",
       "</tr>\n",
       "<tr>\n",
       "  <th>Time:</th>                <td>10:44:00</td>     <th>  Log-Likelihood:    </th>  <td> -51.633</td> \n",
       "</tr>\n",
       "<tr>\n",
       "  <th>converged:</th>             <td>True</td>       <th>  LL-Null:           </th>  <td> -442.18</td> \n",
       "</tr>\n",
       "<tr>\n",
       "  <th>Covariance Type:</th>     <td>nonrobust</td>    <th>  LLR p-value:       </th> <td>2.240e-164</td>\n",
       "</tr>\n",
       "</table>\n",
       "<table class=\"simpletable\">\n",
       "<tr>\n",
       "      <td></td>         <th>coef</th>     <th>std err</th>      <th>z</th>      <th>P>|z|</th>  <th>[0.025</th>    <th>0.975]</th>  \n",
       "</tr>\n",
       "<tr>\n",
       "  <th>Intercept</th> <td>   -9.9828</td> <td>    1.126</td> <td>   -8.865</td> <td> 0.000</td> <td>  -12.190</td> <td>   -7.776</td>\n",
       "</tr>\n",
       "<tr>\n",
       "  <th>V1</th>        <td>    0.5340</td> <td>    0.141</td> <td>    3.793</td> <td> 0.000</td> <td>    0.258</td> <td>    0.810</td>\n",
       "</tr>\n",
       "<tr>\n",
       "  <th>V3</th>        <td>    0.3453</td> <td>    0.172</td> <td>    2.012</td> <td> 0.044</td> <td>    0.009</td> <td>    0.682</td>\n",
       "</tr>\n",
       "<tr>\n",
       "  <th>V4</th>        <td>    0.3425</td> <td>    0.119</td> <td>    2.873</td> <td> 0.004</td> <td>    0.109</td> <td>    0.576</td>\n",
       "</tr>\n",
       "<tr>\n",
       "  <th>V6</th>        <td>    0.3883</td> <td>    0.094</td> <td>    4.150</td> <td> 0.000</td> <td>    0.205</td> <td>    0.572</td>\n",
       "</tr>\n",
       "<tr>\n",
       "  <th>V7</th>        <td>    0.4619</td> <td>    0.168</td> <td>    2.746</td> <td> 0.006</td> <td>    0.132</td> <td>    0.792</td>\n",
       "</tr>\n",
       "<tr>\n",
       "  <th>V8</th>        <td>    0.2261</td> <td>    0.111</td> <td>    2.037</td> <td> 0.042</td> <td>    0.009</td> <td>    0.444</td>\n",
       "</tr>\n",
       "<tr>\n",
       "  <th>V9</th>        <td>    0.5312</td> <td>    0.324</td> <td>    1.637</td> <td> 0.102</td> <td>   -0.105</td> <td>    1.167</td>\n",
       "</tr>\n",
       "</table>"
      ],
      "text/plain": [
       "<class 'statsmodels.iolib.summary.Summary'>\n",
       "\"\"\"\n",
       "                           Logit Regression Results                           \n",
       "==============================================================================\n",
       "Dep. Variable:                     cl   No. Observations:                  683\n",
       "Model:                          Logit   Df Residuals:                      675\n",
       "Method:                           MLE   Df Model:                            7\n",
       "Date:                Thu, 05 Nov 2020   Pseudo R-squ.:                  0.8832\n",
       "Time:                        10:44:00   Log-Likelihood:                -51.633\n",
       "converged:                       True   LL-Null:                       -442.18\n",
       "Covariance Type:            nonrobust   LLR p-value:                2.240e-164\n",
       "==============================================================================\n",
       "                 coef    std err          z      P>|z|      [0.025      0.975]\n",
       "------------------------------------------------------------------------------\n",
       "Intercept     -9.9828      1.126     -8.865      0.000     -12.190      -7.776\n",
       "V1             0.5340      0.141      3.793      0.000       0.258       0.810\n",
       "V3             0.3453      0.172      2.012      0.044       0.009       0.682\n",
       "V4             0.3425      0.119      2.873      0.004       0.109       0.576\n",
       "V6             0.3883      0.094      4.150      0.000       0.205       0.572\n",
       "V7             0.4619      0.168      2.746      0.006       0.132       0.792\n",
       "V8             0.2261      0.111      2.037      0.042       0.009       0.444\n",
       "V9             0.5312      0.324      1.637      0.102      -0.105       1.167\n",
       "==============================================================================\n",
       "\"\"\""
      ]
     },
     "execution_count": 24,
     "metadata": {},
     "output_type": "execute_result"
    }
   ],
   "source": [
    "model = logit('cl ~ V1 + V3 + V4 + V6 + V7 + V8 + V9',biopsy.data).fit()\n",
    "model.summary()"
   ]
  },
  {
   "cell_type": "markdown",
   "metadata": {},
   "source": [
    "Rimuoviamo `V9`, che ha p-value superiore a $0.05$:"
   ]
  },
  {
   "cell_type": "code",
   "execution_count": 25,
   "metadata": {},
   "outputs": [
    {
     "name": "stdout",
     "output_type": "stream",
     "text": [
      "Optimization terminated successfully.\n",
      "         Current function value: 0.078436\n",
      "         Iterations 9\n"
     ]
    },
    {
     "data": {
      "text/html": [
       "<table class=\"simpletable\">\n",
       "<caption>Logit Regression Results</caption>\n",
       "<tr>\n",
       "  <th>Dep. Variable:</th>          <td>cl</td>        <th>  No. Observations:  </th>   <td>   683</td>  \n",
       "</tr>\n",
       "<tr>\n",
       "  <th>Model:</th>                 <td>Logit</td>      <th>  Df Residuals:      </th>   <td>   676</td>  \n",
       "</tr>\n",
       "<tr>\n",
       "  <th>Method:</th>                 <td>MLE</td>       <th>  Df Model:          </th>   <td>     6</td>  \n",
       "</tr>\n",
       "<tr>\n",
       "  <th>Date:</th>            <td>Thu, 05 Nov 2020</td> <th>  Pseudo R-squ.:     </th>   <td>0.8788</td>  \n",
       "</tr>\n",
       "<tr>\n",
       "  <th>Time:</th>                <td>10:44:00</td>     <th>  Log-Likelihood:    </th>  <td> -53.572</td> \n",
       "</tr>\n",
       "<tr>\n",
       "  <th>converged:</th>             <td>True</td>       <th>  LL-Null:           </th>  <td> -442.18</td> \n",
       "</tr>\n",
       "<tr>\n",
       "  <th>Covariance Type:</th>     <td>nonrobust</td>    <th>  LLR p-value:       </th> <td>1.294e-164</td>\n",
       "</tr>\n",
       "</table>\n",
       "<table class=\"simpletable\">\n",
       "<tr>\n",
       "      <td></td>         <th>coef</th>     <th>std err</th>      <th>z</th>      <th>P>|z|</th>  <th>[0.025</th>    <th>0.975]</th>  \n",
       "</tr>\n",
       "<tr>\n",
       "  <th>Intercept</th> <td>   -9.7671</td> <td>    1.085</td> <td>   -9.001</td> <td> 0.000</td> <td>  -11.894</td> <td>   -7.640</td>\n",
       "</tr>\n",
       "<tr>\n",
       "  <th>V1</th>        <td>    0.6225</td> <td>    0.137</td> <td>    4.540</td> <td> 0.000</td> <td>    0.354</td> <td>    0.891</td>\n",
       "</tr>\n",
       "<tr>\n",
       "  <th>V3</th>        <td>    0.3495</td> <td>    0.165</td> <td>    2.118</td> <td> 0.034</td> <td>    0.026</td> <td>    0.673</td>\n",
       "</tr>\n",
       "<tr>\n",
       "  <th>V4</th>        <td>    0.3375</td> <td>    0.116</td> <td>    2.920</td> <td> 0.004</td> <td>    0.111</td> <td>    0.564</td>\n",
       "</tr>\n",
       "<tr>\n",
       "  <th>V6</th>        <td>    0.3786</td> <td>    0.094</td> <td>    4.035</td> <td> 0.000</td> <td>    0.195</td> <td>    0.562</td>\n",
       "</tr>\n",
       "<tr>\n",
       "  <th>V7</th>        <td>    0.4713</td> <td>    0.166</td> <td>    2.837</td> <td> 0.005</td> <td>    0.146</td> <td>    0.797</td>\n",
       "</tr>\n",
       "<tr>\n",
       "  <th>V8</th>        <td>    0.2432</td> <td>    0.109</td> <td>    2.240</td> <td> 0.025</td> <td>    0.030</td> <td>    0.456</td>\n",
       "</tr>\n",
       "</table>"
      ],
      "text/plain": [
       "<class 'statsmodels.iolib.summary.Summary'>\n",
       "\"\"\"\n",
       "                           Logit Regression Results                           \n",
       "==============================================================================\n",
       "Dep. Variable:                     cl   No. Observations:                  683\n",
       "Model:                          Logit   Df Residuals:                      676\n",
       "Method:                           MLE   Df Model:                            6\n",
       "Date:                Thu, 05 Nov 2020   Pseudo R-squ.:                  0.8788\n",
       "Time:                        10:44:00   Log-Likelihood:                -53.572\n",
       "converged:                       True   LL-Null:                       -442.18\n",
       "Covariance Type:            nonrobust   LLR p-value:                1.294e-164\n",
       "==============================================================================\n",
       "                 coef    std err          z      P>|z|      [0.025      0.975]\n",
       "------------------------------------------------------------------------------\n",
       "Intercept     -9.7671      1.085     -9.001      0.000     -11.894      -7.640\n",
       "V1             0.6225      0.137      4.540      0.000       0.354       0.891\n",
       "V3             0.3495      0.165      2.118      0.034       0.026       0.673\n",
       "V4             0.3375      0.116      2.920      0.004       0.111       0.564\n",
       "V6             0.3786      0.094      4.035      0.000       0.195       0.562\n",
       "V7             0.4713      0.166      2.837      0.005       0.146       0.797\n",
       "V8             0.2432      0.109      2.240      0.025       0.030       0.456\n",
       "==============================================================================\n",
       "\"\"\""
      ]
     },
     "execution_count": 25,
     "metadata": {},
     "output_type": "execute_result"
    }
   ],
   "source": [
    "model = logit('cl ~ V1 + V3 + V4 + V6 + V7 + V8',biopsy.data).fit()\n",
    "model.summary()"
   ]
  },
  {
   "cell_type": "markdown",
   "metadata": {},
   "source": [
    "Tutti i coefficienti hanno adesso un p-value accettabile. Proseguiamo all'analisi dei coefficienti. Calcoliamo gli esponenziali:"
   ]
  },
  {
   "cell_type": "code",
   "execution_count": 26,
   "metadata": {},
   "outputs": [
    {
     "data": {
      "text/plain": [
       "Intercept    0.000057\n",
       "V1           1.863641\n",
       "V3           1.418374\n",
       "V4           1.401487\n",
       "V6           1.460166\n",
       "V7           1.602133\n",
       "V8           1.275287\n",
       "dtype: float64"
      ]
     },
     "execution_count": 26,
     "metadata": {},
     "output_type": "execute_result"
    }
   ],
   "source": [
    "np.exp(model.params)"
   ]
  },
  {
   "cell_type": "markdown",
   "metadata": {},
   "source": [
    " * Il valore dell'esponenziale dell'intercetta quasi nullo indica che, quando tutte le variabili assumono valori nulli, l'odds è molto basso. Ciò indica che $p$ è basso, mentre $1-p$ è molto alto. La probabilità di avere un tumore maligno è quindi molto bassa se tutte le variabili assumono valori nulli;\n",
    " * L'incremento di una unità del valore di `V1` corrisponde all'incremento di circa l'$86\\%$ dell'odds, il che rende la possibilità di un tumore maligno più alta;\n",
    " * L'incremento di una unità del valore di `V3` corrisponde all'incremento di circa il $41\\%$ dell'odds;\n",
    " * L'incremento di una unità del valore di `V4` corrisponde all'incremento di circa il $40\\%$ dell'odds;\n",
    " * L'incremento di una unità del valore di `V6` corrisponde all'incremento di circa il $46\\%$ dell'odds;\n",
    " * L'incremento di una unità del valore di `V7` corrisponde all'incremento di circa il $60\\%$ dell'odds;\n",
    " * L'incremento di una unità del valore di `V8` corrisponde all'incremento di circa il $27\\%$ dell'odds;\n",
    " \n",
    "L'incremento delle variabili, in genere, causa un incremento dell'odds. Pertanto ci aspettiamo che i valori delle variabili siano piccoli in presenza di tumori benigni."
   ]
  },
  {
   "cell_type": "markdown",
   "metadata": {},
   "source": [
    "## - Regressione Logistica - FINE "
   ]
  }
 ],
 "metadata": {
  "anaconda-cloud": {},
  "kernelspec": {
   "display_name": "Python 3",
   "language": "python",
   "name": "python3"
  },
  "language_info": {
   "codemirror_mode": {
    "name": "ipython",
    "version": 3
   },
   "file_extension": ".py",
   "mimetype": "text/x-python",
   "name": "python",
   "nbconvert_exporter": "python",
   "pygments_lexer": "ipython3",
   "version": "3.7.6"
  }
 },
 "nbformat": 4,
 "nbformat_minor": 1
}
