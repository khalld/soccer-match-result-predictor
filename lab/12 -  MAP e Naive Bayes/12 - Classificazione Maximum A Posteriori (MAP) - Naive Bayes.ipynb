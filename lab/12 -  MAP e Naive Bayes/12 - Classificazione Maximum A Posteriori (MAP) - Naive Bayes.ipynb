{
 "cells": [
  {
   "cell_type": "markdown",
   "metadata": {},
   "source": [
    "# <b>Fondamenti di Analisi Dati</b> - a.a. 2019/2020"
   ]
  },
  {
   "cell_type": "markdown",
   "metadata": {},
   "source": [
    "### 12.1 Classificazione Maximum a Posteriori (MAP)\n",
    "\n",
    "Abbiamo visto come costruire un classificatore che, mediante la selezione di una opportuna soglia, ci permetta di predire il sesso di un soggetto in base alla sua altezza. Vediamo adesso come implementare un classificatore Maximum a Posteriori per raggiungere lo stesso scopo. Consideriamo le variabili aleatorie $S$ rappresentante il sesso dei soggetti presenti nel dataset (può assumere i valori M o F) e $H$ rappresentante l'altezza dei soggetti. Il nostro obiettivo è scegliere il valore di $S$ più probabile sapendo che $H$ assume un dato valore $h$ (es. $h=175\\ cm$). Secondo il principio MAP, sceglieremo la classe $s$ che massimizza l'espressione:\n",
    "\n",
    "\\begin{equation}\n",
    "P(S=s\\ |\\ H=h)\n",
    "\\end{equation}\n",
    "\n",
    "Ciò si scrive formalmente come segue:\n",
    "\n",
    "\\begin{equation}\n",
    "s^* = \\arg\\max_s P(S=s\\ |H=h)\n",
    "\\end{equation}\n",
    "\n",
    "dove $s^*$ è la classe predetta. Dato che $S$ può assumere solo due valori, $M$ o $F$, non resta che calcolare:\n",
    "\n",
    "\\begin{equation}\n",
    "P(S=M\\ |\\ H=h) \\\\\n",
    "P(S=F\\ |\\ H=h) \n",
    "\\end{equation}\n",
    "\n",
    "e scegliere la classe per la quale la probabilità a posteriori è maggiore. Ricordiamo che secondo la regola di Bayes:\n",
    "\n",
    "\\begin{equation}\n",
    "P(S\\ |\\ H=h) = \\frac{P(H=h \\ | \\ S)\\ P(S)}{P(H=h)}\n",
    "\\end{equation}\n",
    "\n",
    "Per entrambe le probabilità $P(S=M\\ |\\ H=h)$ e $P(S=F\\ |\\ H=h)$, il termine $P(H=h)$ è identico. Dato che il nostro scopo è quello di confrontare le due quantità possiamo ometterlo. Dobbiamo dunque confrontare le seguenti quantità:\n",
    "\n",
    "\\begin{equation}\n",
    "P(H=h\\ |\\ S=M) P(S=M) \\\\\n",
    "P(H=h\\ |\\ S=F) P(S=F)\n",
    "\\end{equation}\n",
    "\n",
    "In pratica, spesso si assumono probabilità a priori identiche ($P(S=M)=P(S=F)=\\frac{1}{2}$). In tal caso il nostro classificatore può essere espresso così:\n",
    "\n",
    "\\begin{equation}\n",
    "s^* = \\begin{cases}\n",
    "M &se& P(H=h\\ |\\ S=M) \\geq P(H=h\\ |\\ S=F) \\\\\n",
    "F &altrimenti &\n",
    "\\end{cases}\n",
    "\\end{equation}"
   ]
  },
  {
   "cell_type": "markdown",
   "metadata": {},
   "source": [
    "Dobbiamo dunque trovare un modo per **rappresentare la verosimiglianza** $P(H\\ | \\ S)$ in modo da poterne calcolare i valori per ogni valore di $H$ e di $S$. Osservando che $S$ può assumere solo due valori, possiamo rappresentare due funzioni di $H$ distinte:\n",
    "\n",
    "\\begin{equation}\n",
    "P(H\\ |\\ S=M) \\\\\n",
    "P(H\\ |\\ S=F) \n",
    "\\end{equation}\n",
    "\n",
    "Secondo i principi della probabilità Bayesiana, queste due probabilità possono essere modellate sulla base delle nostre **credenze** (**assunzioni**) sui dati. In particolare, ci siamo già \"convinti\" in passato che $H$ si distribuisce **approssimativamente** secondo una Gaussiana. Possiamo dunque modellare le due probabilità viste con due Gaussiane:\n",
    "\n",
    "\\begin{equation}\n",
    "P(H=h\\ |\\ S=M) = G(h; \\mu_M,\\sigma_M^2) \\\\\n",
    "P(H=h\\ |\\ S=F) = G(h; \\mu_F,\\sigma_F^2)\n",
    "\\end{equation}\n",
    "\n",
    "Dove $\\mu_M$ e $\\mu_F$ sono le medie stimate dai due campioni di altezze maschili e femminili mentre $\\sigma_M^2$ e $\\sigma_F^2$ sono le due varianze stimate dai campioni.\n",
    "\n",
    "Una volta definite le due Gaussiane, il nostro classificatore diventa:\n",
    "\n",
    "\\begin{equation}\n",
    "s^* = \\begin{cases}\n",
    "M &se& G(h; \\mu_M,\\sigma_M^2) \\geq G(h; \\mu_F,\\sigma_F^2) \\\\\n",
    "F &altrimenti &\n",
    "\\end{cases}\n",
    "\\end{equation}"
   ]
  },
  {
   "cell_type": "markdown",
   "metadata": {},
   "source": [
    "Vediamo ora di tradurre tutto in termini computazionali e di implementare il nostro classificatore **MAP** con assunzione di Gaussianità delle altezze. Utilizzeremo nuovamente il dataset di pesi e altezze:"
   ]
  },
  {
   "cell_type": "code",
   "execution_count": 3,
   "metadata": {},
   "outputs": [
    {
     "data": {
      "text/html": [
       "<div>\n",
       "<style scoped>\n",
       "    .dataframe tbody tr th:only-of-type {\n",
       "        vertical-align: middle;\n",
       "    }\n",
       "\n",
       "    .dataframe tbody tr th {\n",
       "        vertical-align: top;\n",
       "    }\n",
       "\n",
       "    .dataframe thead th {\n",
       "        text-align: right;\n",
       "    }\n",
       "</style>\n",
       "<table border=\"1\" class=\"dataframe\">\n",
       "  <thead>\n",
       "    <tr style=\"text-align: right;\">\n",
       "      <th></th>\n",
       "      <th>sex</th>\n",
       "      <th>BMI</th>\n",
       "      <th>height</th>\n",
       "      <th>weight</th>\n",
       "    </tr>\n",
       "  </thead>\n",
       "  <tbody>\n",
       "    <tr>\n",
       "      <th>0</th>\n",
       "      <td>M</td>\n",
       "      <td>33.36</td>\n",
       "      <td>187.96</td>\n",
       "      <td>117.933920</td>\n",
       "    </tr>\n",
       "    <tr>\n",
       "      <th>1</th>\n",
       "      <td>M</td>\n",
       "      <td>26.54</td>\n",
       "      <td>177.80</td>\n",
       "      <td>83.914520</td>\n",
       "    </tr>\n",
       "    <tr>\n",
       "      <th>2</th>\n",
       "      <td>F</td>\n",
       "      <td>32.13</td>\n",
       "      <td>154.94</td>\n",
       "      <td>77.110640</td>\n",
       "    </tr>\n",
       "    <tr>\n",
       "      <th>3</th>\n",
       "      <td>M</td>\n",
       "      <td>26.62</td>\n",
       "      <td>172.72</td>\n",
       "      <td>79.378600</td>\n",
       "    </tr>\n",
       "    <tr>\n",
       "      <th>4</th>\n",
       "      <td>F</td>\n",
       "      <td>27.13</td>\n",
       "      <td>167.64</td>\n",
       "      <td>76.203456</td>\n",
       "    </tr>\n",
       "  </tbody>\n",
       "</table>\n",
       "</div>"
      ],
      "text/plain": [
       "  sex    BMI  height      weight\n",
       "0   M  33.36  187.96  117.933920\n",
       "1   M  26.54  177.80   83.914520\n",
       "2   F  32.13  154.94   77.110640\n",
       "3   M  26.62  172.72   79.378600\n",
       "4   F  27.13  167.64   76.203456"
      ]
     },
     "execution_count": 3,
     "metadata": {},
     "output_type": "execute_result"
    }
   ],
   "source": [
    "import pandas as pd\n",
    "import numpy as np\n",
    "data=pd.read_csv('height_weight.csv')\n",
    "data.head()"
   ]
  },
  {
   "cell_type": "markdown",
   "metadata": {},
   "source": [
    "Suddividiamo l'insieme in training e test set utilizzando il $25\\%$ dei dati come test set e il restante $75\\%$ come training set:"
   ]
  },
  {
   "cell_type": "code",
   "execution_count": 4,
   "metadata": {},
   "outputs": [],
   "source": [
    "from sklearn.model_selection import train_test_split\n",
    "np.random.seed(1234)\n",
    "data_train, data_test = train_test_split(data, test_size=0.25)"
   ]
  },
  {
   "cell_type": "markdown",
   "metadata": {},
   "source": [
    "Effettuiamo dunque il fitting di due Gaussiane sui dati delle altezze maschili e femminili:"
   ]
  },
  {
   "cell_type": "code",
   "execution_count": 5,
   "metadata": {},
   "outputs": [],
   "source": [
    "from scipy.stats import norm\n",
    "\n",
    "#la notazione sotto è una notazione compatta\n",
    "#per definire una distribuzione normale e fittarla sui dati\n",
    "\n",
    "#costruiamo due distribuzioni normali separate per i due set di dati\n",
    "g_m = norm(*norm.fit(data_train[data_train['sex']=='M']['height']))\n",
    "g_f = norm(*norm.fit(data_train[data_train['sex']=='F']['height']))"
   ]
  },
  {
   "cell_type": "markdown",
   "metadata": {},
   "source": [
    "Plottiamo dunque le due Gaussiane considerando un range di valori $x$ comune:"
   ]
  },
  {
   "cell_type": "code",
   "execution_count": 8,
   "metadata": {},
   "outputs": [
    {
     "data": {
      "image/png": "[encoded data removed]",
      "text/plain": [
       "<Figure size 864x432 with 1 Axes>"
      ]
     },
     "metadata": {
      "needs_background": "light"
     },
     "output_type": "display_data"
    }
   ],
   "source": [
    "from matplotlib import pyplot as plt\n",
    "\n",
    "x = np.linspace(g_f.ppf(0.001), g_m.ppf(0.999),1000)\n",
    "\n",
    "plt.figure(figsize=(12,6))\n",
    "plt.plot(x,g_m.pdf(x))\n",
    "plt.plot(x,g_f.pdf(x))\n",
    "plt.legend(['M','F'])\n",
    "plt.grid()\n",
    "plt.show()"
   ]
  },
  {
   "cell_type": "markdown",
   "metadata": {},
   "source": [
    "Calcoliamo dunque le probabilità $P(H\\ |\\ S)$ per tutti i valori del test set:"
   ]
  },
  {
   "cell_type": "code",
   "execution_count": 9,
   "metadata": {},
   "outputs": [],
   "source": [
    "prob_m = g_m.pdf(data_test['height'])\n",
    "prob_f = g_f.pdf(data_test['height'])"
   ]
  },
  {
   "cell_type": "markdown",
   "metadata": {},
   "source": [
    "A questo punto costruiamo un vettore `pred_male` che contenga `True` se pensiamo che il soggetto sia un uomo, e dunque se `prob_m` è maggiore di `prob_f`:"
   ]
  },
  {
   "cell_type": "code",
   "execution_count": 10,
   "metadata": {},
   "outputs": [],
   "source": [
    "pred_male = prob_m>=prob_f"
   ]
  },
  {
   "cell_type": "markdown",
   "metadata": {},
   "source": [
    "Calcoliamo FPR, TPR e accuracy del classificatore:"
   ]
  },
  {
   "cell_type": "code",
   "execution_count": 11,
   "metadata": {},
   "outputs": [
    {
     "name": "stdout",
     "output_type": "stream",
     "text": [
      "False Positive Rate: 0.12\n",
      "True Positive Rate: 0.81\n",
      "Accuracy: 0.85\n"
     ]
    }
   ],
   "source": [
    "from sklearn.metrics import confusion_matrix, accuracy_score\n",
    "male_gt = data_test['sex']=='M'\n",
    "acc = accuracy_score(male_gt, pred_male)\n",
    "cm = confusion_matrix(male_gt, pred_male)\n",
    "cm=cm/cm.sum(1).reshape(-1,1)\n",
    "_, fpr, _, tpr = cm.ravel()\n",
    "print(\"False Positive Rate: {:0.2f}\".format(fpr))\n",
    "print(\"True Positive Rate: {:0.2f}\".format(tpr))\n",
    "print(\"Accuracy: {:0.2f}\".format(acc))"
   ]
  },
  {
   "cell_type": "markdown",
   "metadata": {},
   "source": [
    "Abbiamo visto come l'approccio MAP ci permetta di definire un classificatore senza la necessità di definire una soglia. In pratica, il criterio MAP identifica un punto (una soglia) nello spazio dei valori di $H$ **oltre il quale** è più conveniente predire \"M\" piuttosto che \"F\". \n",
    "\n",
    "Tale punto è quello in cui le due Gaussiane si intersecano e si trova (a occhio) intorno a 170cm. Per tutti i valori superiori a tale valore soglia, la Gaussiana relativa a \"M\" darà sempre valori maggiori di quelli della Gaussiana relativa a \"F\" e viceversa, al di sotto del valore soglia, la Gaussiana relativa a \"F\" darà valori superiori a quelli della Gaussiana relativa a \"M\". Se volessimo trovare il valore soglia analiticamente, dovremmo risolvere l'equazione:\n",
    "\n",
    "\\begin{equation}\n",
    "G_M(x)=G_F(x)\n",
    "\\end{equation}\n",
    "\n",
    "nella variabile $x$. Tale equazione si riconduce alla forma:\n",
    "\n",
    "$ax^2 + bx + c=0$\n",
    "\n",
    "con:\n",
    "\n",
    " * $a = \\frac{1}{2\\sigma_1^2} - \\frac{1}{2\\sigma_2^2}$;\n",
    " * $b = \\frac{\\mu_2}{\\sigma_2^2} - \\frac{\\mu_1}{\\sigma_1^2}$;\n",
    " * $c = \\frac{\\mu_1^2}{2 \\sigma_1^2} - \\frac{\\mu_2^2}{2 \\sigma_2^2} - \\log\\frac{\\sigma_2}{\\sigma_1}$."
   ]
  },
  {
   "cell_type": "markdown",
   "metadata": {},
   "source": [
    "Possiamo risolvere l'equazione mediante il metodo **roots** di **numpy**:"
   ]
  },
  {
   "cell_type": "code",
   "execution_count": 15,
   "metadata": {},
   "outputs": [
    {
     "name": "stdout",
     "output_type": "stream",
     "text": [
      "[170.35818328  43.85968878]\n"
     ]
    }
   ],
   "source": [
    "#Una funzione per risolvere l'equazione vista sopra\n",
    "def risolvi(mu_1,mu_2,sigma_1,sigma_2):\n",
    "    a = 1.0/(2*sigma_1**2) - 1.0/(2*sigma_2**2)\n",
    "    b = mu_2/(sigma_2**2) - mu_1/(sigma_1**2)\n",
    "    c = mu_1**2 /(2*sigma_1**2) - mu_2**2 / (2*sigma_2**2) - np.log(sigma_2/sigma_1)\n",
    "    return np.roots([a,b,c])\n",
    "\n",
    "solutions = risolvi(g_m.mean(),g_f.mean(),g_m.std(), g_f.std())\n",
    "print(solutions)"
   ]
  },
  {
   "cell_type": "markdown",
   "metadata": {},
   "source": [
    "L'equazione ha due soluzioni. La prima è il punto in cui le Gaussiane si intersecano al centro del grafico, mentre la seconda è relativa a un punto in cui le Gaussiane si interseacano a sinistra (non visibile nel grafico). Plottiamo la posizione in cui cade la prima delle due soluzioni:"
   ]
  },
  {
   "cell_type": "code",
   "execution_count": 29,
   "metadata": {},
   "outputs": [
    {
     "data": {
      "image/png": "[encoded data removed]",
      "text/plain": [
       "<Figure size 864x432 with 1 Axes>"
      ]
     },
     "metadata": {
      "needs_background": "light"
     },
     "output_type": "display_data"
    }
   ],
   "source": [
    "x = np.linspace(g_f.ppf(0.001), g_m.ppf(0.999),1000)\n",
    "\n",
    "plt.figure(figsize=(12,6))\n",
    "plt.plot(x,g_m.pdf(x))\n",
    "plt.plot(x,g_f.pdf(x))\n",
    "plt.legend(['M','F'])\n",
    "plt.plot([solutions[0],solutions[0]],[0,0.066],'r')\n",
    "plt.grid()\n",
    "plt.show()"
   ]
  },
  {
   "cell_type": "markdown",
   "metadata": {},
   "source": [
    "In pratica il calssificatore **MAP** è equivalente (o quasi, vista la presenza di due soluzioni) a un classificatore basato su soglia per il quale la soglia ottimale è stata determinata automaticamente. Va notato che il calssificatore MAP trovato è molto simile a un classificatore basato su soglia anche dal momento che poche altezze saranno inferiori a $50\\ cm$ (il secondo punto di intersezione tra le Gaussiane)."
   ]
  },
  {
   "cell_type": "markdown",
   "metadata": {},
   "source": [
    "### 12.2 Classificatore Basato su Distanza di Mahalanobis\n",
    "\n",
    "Un altro metodo di classificazione consiste nel misurare la distanza dell'elemento $h$ da classificare rispetto alle due popolazioni alle quali esso può appartenere. Tale misura di distanza viene ottenuta mediante la **distanza di Mahalanobis**. La distanza di **Mahalanobis** tra un vettore $\\mathbf x = (x_1, \\ldots, x_n)^T$ multivariato e un gruppo di valori di valor medio $\\mathbf \\mu = (\\mu_1, \\ldots, \\mu_n)^T$ e matrice di covarianza $\\Sigma$ si definisce come:\n",
    "\n",
    "\\begin{equation}\n",
    "D_M(\\mathbf{x}) = \\sqrt{(\\mathbf{x}-\\mathbf{\\mu})^T \\Sigma^{-1}(\\mathbf{x}-\\mathbf{\\mu})}\n",
    "\\end{equation}\n",
    "\n",
    "Considerando la matrice di covarianza, la distanza di **Mahalanobis** tiene conto della correlazione che sussiste tra le variabili del gruppo di valori considerato. \n",
    "\n",
    "Nel caso di un campione **monovariato** $x$ e di un gruppo di valori di media $\\mu$ e varianza $\\sigma^2$, la distanza di Mahalanobis resta definita come segue:\n",
    "\n",
    "\\begin{equation}\n",
    "D_M(x) = \\frac{x-\\mu}{\\sigma}\n",
    "\\end{equation}\n",
    "\n",
    "Una interpretazione della distanza di Mahalanobis nel caso monovariato è che essa misura lo scostamento di un valore dalla media di un campione in termini di deviazioni standard $\\sigma$. Ciò permette di pesare le distanze da campioni **più dispersi** in maniera minore rispetto alle distanze da campioni **meno dispersi**. "
   ]
  },
  {
   "cell_type": "markdown",
   "metadata": {},
   "source": [
    "Vediamo un esempio. Consideriamo due popolazioni normali di media e varianza $\\mu_1=-5, \\mu_2=3, \\sigma_1=3, \\sigma_2=1$. Consideriamo inoltre il punto $x=0$:"
   ]
  },
  {
   "cell_type": "code",
   "execution_count": 31,
   "metadata": {},
   "outputs": [
    {
     "data": {
      "image/png": "[encoded data removed]",
      "text/plain": [
       "<Figure size 864x432 with 1 Axes>"
      ]
     },
     "metadata": {
      "needs_background": "light"
     },
     "output_type": "display_data"
    }
   ],
   "source": [
    "mu_1=-5\n",
    "mu_2=3\n",
    "sigma_1=3\n",
    "sigma_2=1\n",
    "\n",
    "g1 = norm(mu_1,sigma_1)\n",
    "g2 = norm(mu_2,sigma_2)\n",
    "\n",
    "x=0\n",
    "plt.figure(figsize=(12,6))\n",
    "dom=np.linspace(-15,8,1000)\n",
    "plt.plot(dom,g1.pdf(dom))\n",
    "plt.plot(dom,g2.pdf(dom))\n",
    "\n",
    "plt.plot(x,'o')\n",
    "plt.grid()\n",
    "plt.legend(['Popolazione 1', 'Popolazione 2'])\n",
    "plt.show()"
   ]
  },
  {
   "cell_type": "markdown",
   "metadata": {},
   "source": [
    "Ci chiediamo dunque a quale popolazione appartenga il punto $x1$. Iniziamo calcolando la distanza euclidea tra il punto e le medie delle due popolazioni:"
   ]
  },
  {
   "cell_type": "code",
   "execution_count": 43,
   "metadata": {},
   "outputs": [
    {
     "name": "stdout",
     "output_type": "stream",
     "text": [
      "Distanza dalla media della prima popolazione: 5.0\n",
      "Distanza dalla media della seconda popolazione: 3.0\n"
     ]
    }
   ],
   "source": [
    "dist_1 = ((x-mu_1)**2)**(1/2)\n",
    "dist_2 = ((x-mu_2)**2)**(1/2)\n",
    "\n",
    "print(\"Distanza dalla media della prima popolazione:\",dist_1)\n",
    "print(\"Distanza dalla media della seconda popolazione:\",dist_2)"
   ]
  },
  {
   "cell_type": "markdown",
   "metadata": {},
   "source": [
    "Il punto è più vicino alla media della seconda popolazione, il che potrebbe portarci a concludere che esso appartiene ad essa. Tuttavia, se calcoliamo le probabilità:\n",
    "\n",
    "\\begin{equation}\n",
    "P(x\\ |\\ Popolazione = 1) = G(x;\\mu_1,\\sigma_1) \\\\\n",
    "P(x\\ |\\ Popolazione = 2) = G(x;\\mu_2,\\sigma_2) \n",
    "\\end{equation}\n",
    "\n",
    "scopriamo che:\n",
    "\n",
    "\\begin{equation}\n",
    "P(x\\ |\\ Popolazione=1) > P(x\\ |\\ Popolazione = 2)\n",
    "\\end{equation}\n",
    "\n",
    "Vediamolo in termini computazionali:"
   ]
  },
  {
   "cell_type": "code",
   "execution_count": 33,
   "metadata": {},
   "outputs": [
    {
     "name": "stdout",
     "output_type": "stream",
     "text": [
      "Probabilità P(x | Popolazione = 1)= 0.03315904626424956\n",
      "Probabilità P(x | Popolazione = 2)= 0.0044318484119380075\n"
     ]
    }
   ],
   "source": [
    "print(\"Probabilità P(x | Popolazione = 1)=\",g1.pdf(x))\n",
    "print(\"Probabilità P(x | Popolazione = 2)=\",g2.pdf(x))"
   ]
  },
  {
   "cell_type": "markdown",
   "metadata": {},
   "source": [
    "Dunque, per il criterio MAP, la nostra conclusione (ovvero che il punto appartiene alla seconda popolazione) è errata! Ciò nasce dall'aver ignorato il fatto che le due popolazioni hanno varianze diverse. Se invece delle distanze Euclidee calcoliamo le distanze di Mahalanobis e confrontiamo i loro valori assoluti, otteniamo:"
   ]
  },
  {
   "cell_type": "code",
   "execution_count": 34,
   "metadata": {},
   "outputs": [
    {
     "name": "stdout",
     "output_type": "stream",
     "text": [
      "1.6666666666666667 3.0\n"
     ]
    }
   ],
   "source": [
    "mx_p1 = float(x-mu_1)/sigma_1\n",
    "mx_p2 = float(x-mu_2)/sigma_2\n",
    "\n",
    "print(abs(mx_p1),abs(mx_p2))"
   ]
  },
  {
   "cell_type": "markdown",
   "metadata": {},
   "source": [
    "Il punto è più vicino alla prima popolazione e dunque va classificato come tale!"
   ]
  },
  {
   "cell_type": "markdown",
   "metadata": {},
   "source": [
    "Torniamo al caso del classificatore basato sulle altezze. Considerate le due popolazioni Gaussiane, possiamo calcolare le distanze di Mahalanobis di un dato valore $h$ rispetto alle due popolazioni. Il valore $h$ verrà classificato come appartenente alla popolazione dalla quale si è misurata una distanza (in valore assoluto) minore. Vediamolo in termini computazionali:"
   ]
  },
  {
   "cell_type": "code",
   "execution_count": 44,
   "metadata": {},
   "outputs": [],
   "source": [
    "#calcoliamo le distanze per i dati di test\n",
    "#utilizzando media e varianza calcoalte sul training set\n",
    "dist_male = (data_test.height-g_m.mean())/g_m.std()\n",
    "dist_female = (data_test.height-g_f.mean())/g_f.std()"
   ]
  },
  {
   "cell_type": "markdown",
   "metadata": {},
   "source": [
    "Adesso classifichiamo come uomini tutti i casi in cui la distanza dalla popolazione degli uomini è in valore assoluto minore della distanza dalla popolazione delle donne:"
   ]
  },
  {
   "cell_type": "code",
   "execution_count": 46,
   "metadata": {},
   "outputs": [],
   "source": [
    "pred_male=np.abs(dist_male)<np.abs(dist_female)"
   ]
  },
  {
   "cell_type": "markdown",
   "metadata": {},
   "source": [
    "Calcoliamo l'accuracy del nuovo classificatore:"
   ]
  },
  {
   "cell_type": "code",
   "execution_count": 47,
   "metadata": {},
   "outputs": [
    {
     "name": "stdout",
     "output_type": "stream",
     "text": [
      "False Positive Rate: 0.20\n",
      "True Positive Rate: 0.88\n",
      "Accuracy: 0.83\n"
     ]
    }
   ],
   "source": [
    "from sklearn.metrics import confusion_matrix, accuracy_score\n",
    "acc = accuracy_score(male_gt, pred_male)\n",
    "cm = confusion_matrix(male_gt, pred_male)\n",
    "cm=cm/cm.sum(1).reshape(-1,1)\n",
    "_, fpr, _, tpr = cm.ravel()\n",
    "print(\"False Positive Rate: {:0.2f}\".format(fpr))\n",
    "print(\"True Positive Rate: {:0.2f}\".format(tpr))\n",
    "print(\"Accuracy: {:0.2f}\".format(acc))"
   ]
  },
  {
   "cell_type": "markdown",
   "metadata": {},
   "source": [
    "### 12.3 Naive Bayes\n",
    "\n",
    "Abbiamo visto come il principio MAP ci permette di costruire un semplice classificatore basato sull'osservazione dei valori di una variabile casuale. Spesso però può capitare che la classe di appartenenza di un determinato elemento possa dipendere dai valori di più variabili casuali. Consideriamo ad esempio le variabili aletaorie:\n",
    " \n",
    " * $S$ indica il sesso e può assumere come valori \"M\" o \"F\";\n",
    " * $H$ indica l'altezza del soggetto;\n",
    " * $W$ indica il peso del soggetto;\n",
    "\n",
    "Se volessimo classificare i soggetti sulla base dei valori delle due variabili $H$ e $W$, per il principio MAP dovremmo trovare il valore di $S$ che massimizza la probabilità a posteriori:\n",
    "\n",
    "\\begin{equation}\n",
    "P(S\\ |\\ H,W) = \\frac{P(H,W\\ |\\ S)\\ P(S)}{P(H,W)}\n",
    "\\end{equation}\n",
    "\n",
    "Dato che vogliamo massimizzare la probabilità a posteriori, possiamo tralasciare il denominatore e scrivere:\n",
    "\n",
    "\\begin{equation}\n",
    "s^* = \\arg\\max_s P(S = s\\ |\\ H,W) = \\arg\\max_s P(H,W\\ |\\ S = s) P(S = s)\n",
    "\\end{equation}\n",
    "\n",
    "L'espressione da massimizzare corrisponde alla distribuzione congiunta di $H$ e $W$ dato $S$. Coinvolgendo più variabili aleatorie, questa probabilità è difficile da modellare. \n",
    "\n",
    "Cerchiamo dunque di \"manipolare\" l'espressione vista sopra per semplificare il problema. Possiamo sviluppare l'espressione come segue:\n",
    "\n",
    "\\begin{equation}\n",
    "P(H,W\\ |\\ S) P(S) =  P(H,W,S) = P(H\\ |\\ W,S)\\ P(W,S) = P(H\\ |\\ W,S)\\ P(W\\ |\\ S)\\ P(S)\n",
    "\\end{equation}\n",
    "\n",
    "Un classificatore Naive Bayes fa a questo punto l'assunzione (naive per l'appunto) che le variabili $H$ e $W$ siano **condizionalmente indipendenti l'una rispetto all'altra data la classe S**, ovvero che:\n",
    "\n",
    "\\begin{equation}\n",
    "H \\perp\\!\\!\\!\\perp W\\ |\\ S\n",
    "\\end{equation}\n",
    "\n",
    "Va notato che l'assunzione è **davvero Naive** in quanto assume che **una volta nota la classe di appartenenza, il valore di W non ci dice nulla sul valore di H e, viceversa, il valore di H non ci dice nulla sul valore w**. Ciò implicherebbe che, considerato l'insieme delle donne ($S$ noto), allora a un valore di $H$ ad esempio pari a $150 cm$ può corrispondere un qualsiasi valore di $W$ . In realtà sappiamo che questa condizione è spesso falsa (le variabili che rappresentano diversi aspetti di un fenomeno tendono a influenzarsi). Nonostante tale assunzione, i classificatori Naive Bayes restano uno strumento molto potente in grado di gestire con facilità un grosso numero di variabili indipendenti.\n",
    "\n",
    "L'indipendenza condizionale tra $H$ e $W$ implica che:\n",
    "\n",
    "\\begin{equation}\n",
    "P(H\\ |\\ W,S) = P(H\\ |\\ S)\n",
    "\\end{equation}\n",
    "\n",
    "da cui otteniamo:\n",
    "\n",
    "\\begin{equation}\n",
    "P(H,W\\ |\\ S) P(S) = P(H\\ |\\ W,S)\\ P(W\\ |\\ S)\\ P(S) = P(H\\ |\\ S)\\ P(W\\ |\\ S)\\ P(S)\n",
    "\\end{equation}\n",
    "\n",
    "Assumendo nuovamente la distribuzione a priori sui sessi uniforme ($P(s)=0.5$), la nostra ottimizzazione diventa:\n",
    "\n",
    "\\begin{equation}\n",
    "s^* = \\arg\\max_s P(H\\ |\\ S = s)\\ P(W\\ |\\ S = s)\n",
    "\\end{equation}"
   ]
  },
  {
   "cell_type": "markdown",
   "metadata": {},
   "source": [
    "Possiamo modellare le distribuzioni $P(H\\ |\\ S=s)$ e $P(W\\ |\\ S=s)$ con quattro Gaussiane (due per ogni variabile, una per sesso):"
   ]
  },
  {
   "cell_type": "code",
   "execution_count": 48,
   "metadata": {},
   "outputs": [],
   "source": [
    "g_m_h = norm(*norm.fit(data_train[data_train['sex']=='M']['height']))\n",
    "g_f_h = norm(*norm.fit(data_train[data_train['sex']=='F']['height']))\n",
    "g_m_w = norm(*norm.fit(data_train[data_train['sex']=='M']['weight']))\n",
    "g_f_w = norm(*norm.fit(data_train[data_train['sex']=='F']['weight']))"
   ]
  },
  {
   "cell_type": "code",
   "execution_count": 49,
   "metadata": {},
   "outputs": [
    {
     "data": {
      "image/png": "[encoded data removed]",
      "text/plain": [
       "<Figure size 1152x288 with 2 Axes>"
      ]
     },
     "metadata": {
      "needs_background": "light"
     },
     "output_type": "display_data"
    }
   ],
   "source": [
    "plt.figure(figsize=(16,4))\n",
    "dom=np.linspace(130,220,100)\n",
    "plt.subplot(121)\n",
    "plt.plot(dom,g_m_h.pdf(dom))\n",
    "plt.plot(dom,g_f_h.pdf(dom))\n",
    "plt.grid()\n",
    "plt.title('Height')\n",
    "plt.legend(['M','F'])\n",
    "\n",
    "dom2=np.linspace(0,160,100)\n",
    "plt.subplot(122)\n",
    "plt.plot(dom2,g_m_w.pdf(dom2))\n",
    "plt.plot(dom2,g_f_w.pdf(dom2))\n",
    "plt.grid()\n",
    "plt.title('Weight')\n",
    "plt.legend(['M','F'])\n",
    "\n",
    "plt.show()"
   ]
  },
  {
   "cell_type": "markdown",
   "metadata": {},
   "source": [
    "A questo punto, per ogni elemento del test set, dobbiamo calcolare le probabilità $P(H\\ |\\ S = s)\\ P(W\\ |\\ S = M)$ e $P(H\\ |\\ S = s)\\ P(W\\ |\\ S = F)$"
   ]
  },
  {
   "cell_type": "code",
   "execution_count": 50,
   "metadata": {},
   "outputs": [],
   "source": [
    "pm = g_m_h.pdf(data_test['height'])*g_m_w.pdf(data_test['weight'])\n",
    "pf = g_f_h.pdf(data_test['height'])*g_f_w.pdf(data_test['weight'])"
   ]
  },
  {
   "cell_type": "markdown",
   "metadata": {},
   "source": [
    "Classifichiamo ogni elemento controllando per quali valori si ha: $P(H\\ |\\ S = s)\\ P(W\\ |\\ S = M) >= P(H\\ |\\ S = s)\\ P(W\\ |\\ S = F)$"
   ]
  },
  {
   "cell_type": "code",
   "execution_count": 51,
   "metadata": {},
   "outputs": [
    {
     "data": {
      "text/plain": [
       "array([False,  True, False, ...,  True, False, False])"
      ]
     },
     "execution_count": 51,
     "metadata": {},
     "output_type": "execute_result"
    }
   ],
   "source": [
    "male_pred = pm>=pf\n",
    "male_pred"
   ]
  },
  {
   "cell_type": "markdown",
   "metadata": {},
   "source": [
    "Calcoliamo l'accuracy del classificatore:"
   ]
  },
  {
   "cell_type": "code",
   "execution_count": 52,
   "metadata": {},
   "outputs": [
    {
     "data": {
      "text/plain": [
       "0.8506616257088847"
      ]
     },
     "execution_count": 52,
     "metadata": {},
     "output_type": "execute_result"
    }
   ],
   "source": [
    "accuracy_score(male_gt,male_pred)"
   ]
  },
  {
   "cell_type": "markdown",
   "metadata": {},
   "source": [
    "**Scikit-Learn** mette a disposizione una implementazione del classificatore Naive Bayes basato su assunzione Gaussiana. Vediamo come utilizzarla:"
   ]
  },
  {
   "cell_type": "code",
   "execution_count": 53,
   "metadata": {},
   "outputs": [
    {
     "data": {
      "text/plain": [
       "GaussianNB(priors=[0.5, 0.5], var_smoothing=1e-09)"
      ]
     },
     "execution_count": 53,
     "metadata": {},
     "output_type": "execute_result"
    }
   ],
   "source": [
    "from sklearn.naive_bayes import GaussianNB\n",
    "\n",
    "#passiamo priors=[0.5, 0.5] per assumere probabilità a priori uniformi\n",
    "model = GaussianNB(priors=[0.5,0.5])\n",
    "#effettuiamo il fit del modello mediante il metodo fit\n",
    "model.fit(data_train[['height','weight']],data_train['sex'])"
   ]
  },
  {
   "cell_type": "markdown",
   "metadata": {},
   "source": [
    "Possiamo classificare gli elementi del test set mediante il metodo `predict`:"
   ]
  },
  {
   "cell_type": "code",
   "execution_count": 54,
   "metadata": {},
   "outputs": [
    {
     "data": {
      "text/plain": [
       "array(['F', 'M', 'F', ..., 'M', 'F', 'F'], dtype='<U1')"
      ]
     },
     "execution_count": 54,
     "metadata": {},
     "output_type": "execute_result"
    }
   ],
   "source": [
    "model.predict(data_test[['height','weight']])"
   ]
  },
  {
   "cell_type": "markdown",
   "metadata": {},
   "source": [
    "Possiamo calcolare l'accuracy del classificatore direttamente mediante il metodo `score`:"
   ]
  },
  {
   "cell_type": "code",
   "execution_count": 55,
   "metadata": {},
   "outputs": [
    {
     "data": {
      "text/plain": [
       "0.8506616257088847"
      ]
     },
     "execution_count": 55,
     "metadata": {},
     "output_type": "execute_result"
    }
   ],
   "source": [
    "model.score(data_test[['height','weight']],data_test['sex'])"
   ]
  },
  {
   "cell_type": "markdown",
   "metadata": {},
   "source": [
    "Proviamo adesso ad allenare il classificatore Naive Bayes utilizzando anche la variabile BMI:"
   ]
  },
  {
   "cell_type": "code",
   "execution_count": 56,
   "metadata": {},
   "outputs": [
    {
     "data": {
      "text/plain": [
       "0.8572778827977315"
      ]
     },
     "execution_count": 56,
     "metadata": {},
     "output_type": "execute_result"
    }
   ],
   "source": [
    "model = GaussianNB(priors=[0.5,0.5])\n",
    "model.fit(data_train[['height','weight','BMI']],data_train['sex'])\n",
    "model.score(data_test[['height','weight','BMI']],data_test['sex'])"
   ]
  },
  {
   "cell_type": "markdown",
   "metadata": {},
   "source": [
    "### Implementazione MAP di Scikit-Learn\n",
    "Si noti che l'oggetto `Naive Bayes` permette anche di implementare un classificatore di tipo MAP specificando una unica variabile. Vediamo ad esempio come implementare un classificatore MAP basato sulla variabile `height`:"
   ]
  },
  {
   "cell_type": "code",
   "execution_count": 57,
   "metadata": {},
   "outputs": [
    {
     "data": {
      "text/plain": [
       "0.8478260869565217"
      ]
     },
     "execution_count": 57,
     "metadata": {},
     "output_type": "execute_result"
    }
   ],
   "source": [
    "model = GaussianNB()\n",
    "#dobbiamo inserire values.reshape(-1,1) per trasformare il vettore monodimensionale\n",
    "#in una matrice Nx1 (N osservazion, una variabile)\n",
    "model.fit(data_train['height'].values.reshape(-1,1),data_train['sex'])\n",
    "model.score(data_test['height'].values.reshape(-1,1),data_test['sex'])"
   ]
  },
  {
   "cell_type": "markdown",
   "metadata": {},
   "source": [
    "## - Classificazione Maximum A Posteriori (MAP) - Naive Bayes - FINE"
   ]
  }
 ],
 "metadata": {
  "anaconda-cloud": {},
  "kernelspec": {
   "display_name": "Python 3",
   "language": "python",
   "name": "python3"
  },
  "language_info": {
   "codemirror_mode": {
    "name": "ipython",
    "version": 3
   },
   "file_extension": ".py",
   "mimetype": "text/x-python",
   "name": "python",
   "nbconvert_exporter": "python",
   "pygments_lexer": "ipython3",
   "version": "3.7.3"
  }
 },
 "nbformat": 4,
 "nbformat_minor": 1
}
