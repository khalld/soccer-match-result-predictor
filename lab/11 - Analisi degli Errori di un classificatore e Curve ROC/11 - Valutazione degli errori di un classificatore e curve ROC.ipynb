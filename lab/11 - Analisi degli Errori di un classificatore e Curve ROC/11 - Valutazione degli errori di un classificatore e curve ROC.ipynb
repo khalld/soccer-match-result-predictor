{
 "cells": [
  {
   "cell_type": "markdown",
   "metadata": {},
   "source": [
    "# <b>Fondamenti di Analisi Dati</b> - a.a. 2020/2021"
   ]
  },
  {
   "cell_type": "markdown",
   "metadata": {},
   "source": [
    "## 11 Valutazione degli errori di un classificatore\n",
    "Finora abbiamo utilizzato regressori lineari e logistici per studiare le relazioni tra le variabili di un dataset. In linea di principio, una volta calcolati, questi due strumenti possono essere utilizzati per fare predizioni su dati mai visti prima. Ad esempio, date nuove misurazioni di tessuto, si potrebbe utilizzare il regressore logistico calcolato precedentemente per determinare in maniera automatica qual è la probabilità che il tessuto contenga un tumore maligno.\n",
    "\n",
    "Le misure di valutazione della bontà dei regressori viste finora tuttavia, non fanno uso di dati \"mai visti\" in fase di costruzione del modello. Pertanto, potrebbe accadere che il modello si comporti bene sui dati utilizzati per costruirlo e che poi abbia performance peggiori su dati nuovi. Questo fenomeno è detto **overfitting** in quanto il modello si specializza \"troppo\" sul set di dati utilizzato per calcolarlo. Quando il modello funziona bene anche su dati nuovi, si parla invece di **generalizzazione**.\n",
    "\n",
    "Caricheremo il dataset `biopsy` come dataset di esempio:\n",
    "\n"
   ]
  },
  {
   "cell_type": "code",
   "execution_count": 1,
   "metadata": {},
   "outputs": [
    {
     "name": "stderr",
     "output_type": "stream",
     "text": [
      "C:\\Users\\visig\\Anaconda3\\lib\\site-packages\\statsmodels\\datasets\\utils.py:192: FutureWarning: `item` has been deprecated and will be removed in a future version\n",
      "  return dataset_meta[\"Title\"].item()\n"
     ]
    }
   ],
   "source": [
    "from statsmodels.datasets import get_rdataset\n",
    "biopsy = get_rdataset('biopsy',package='MASS')"
   ]
  },
  {
   "cell_type": "markdown",
   "metadata": {},
   "source": [
    "Definiamo una nuova variabile `cl` come visto negli scorsi laboratori per poter calcolare un regressore logistico in seguito:"
   ]
  },
  {
   "cell_type": "code",
   "execution_count": 2,
   "metadata": {},
   "outputs": [],
   "source": [
    "biopsy.data['cl'] = biopsy.data['class'].replace({'benign':0, 'malignant':1})"
   ]
  },
  {
   "cell_type": "markdown",
   "metadata": {},
   "source": [
    "### 11.1 Training e testing del classificatore\n",
    "Per verificare quanto il modello è generale e utilizzabile per fare predizioni su dati nuovi, in machine learning si suddivide il dataset in due parti:\n",
    " * Training set: verrà utilizzato per \"allenare\" il modello. Nel caso di un regressore logistico o lineare, questa fase di training, o allenamento, consiste nel calcolo dei parametri del modello;\n",
    " * Testing set: verrà utilizzato per misurare le performance del modello. Si tratta del set di dati \"nuovi\" e non va mai utilizzato per calcolare i parametri del modello.\n",
    "\n",
    "Se il modello funziona bene sui dati di test dopo essere stato allenato sui dati di training, possiamo ipotizzare che esso funzionerà bene anche su nuovi dati mai visti prima.\n",
    "\n",
    "La suddivisione dei dati in insiemi di training e testing viene in genere fatta in maniera casuale. Si tende inoltre a includere più campioni nel training set. Possiamo utilizzare la funzione `train_test_split` della libreria a tale scopo. Effettuiamo uno split in cui il $25\\%$ dei dati è incluso nel testing set, mentre il restante $75\\%$ è incluso nel training set:"
   ]
  },
  {
   "cell_type": "code",
   "execution_count": 3,
   "metadata": {},
   "outputs": [
    {
     "name": "stdout",
     "output_type": "stream",
     "text": [
      "524\n",
      "175\n"
     ]
    }
   ],
   "source": [
    "import numpy as np\n",
    "from sklearn.model_selection import train_test_split\n",
    "#impostiamo un seed in modo che lo split sia ripetibile\n",
    "#generalmente non è necessario (né consigliabile!) farlo\n",
    "#qui lo facciamo per questioni didattiche\n",
    "np.random.seed(1234)\n",
    "biopsy_train, biopsy_test = train_test_split(biopsy.data, test_size=0.25)\n",
    "print(len(biopsy_train))\n",
    "print(len(biopsy_test))"
   ]
  },
  {
   "cell_type": "markdown",
   "metadata": {},
   "source": [
    "Si procede dunque con la fase di training. Nel nostro caso, calcoleremo un regressore logistico utilizzando solo i dati di training. Usiamo il set di variabili ottimale individuato negli scorsi laboratori:"
   ]
  },
  {
   "cell_type": "code",
   "execution_count": 4,
   "metadata": {},
   "outputs": [
    {
     "name": "stdout",
     "output_type": "stream",
     "text": [
      "Optimization terminated successfully.\n",
      "         Current function value: 0.084918\n",
      "         Iterations 9\n"
     ]
    },
    {
     "data": {
      "text/html": [
       "<table class=\"simpletable\">\n",
       "<caption>Logit Regression Results</caption>\n",
       "<tr>\n",
       "  <th>Dep. Variable:</th>          <td>cl</td>        <th>  No. Observations:  </th>   <td>   509</td>  \n",
       "</tr>\n",
       "<tr>\n",
       "  <th>Model:</th>                 <td>Logit</td>      <th>  Df Residuals:      </th>   <td>   502</td>  \n",
       "</tr>\n",
       "<tr>\n",
       "  <th>Method:</th>                 <td>MLE</td>       <th>  Df Model:          </th>   <td>     6</td>  \n",
       "</tr>\n",
       "<tr>\n",
       "  <th>Date:</th>            <td>Wed, 18 Nov 2020</td> <th>  Pseudo R-squ.:     </th>   <td>0.8680</td>  \n",
       "</tr>\n",
       "<tr>\n",
       "  <th>Time:</th>                <td>12:03:45</td>     <th>  Log-Likelihood:    </th>  <td> -43.223</td> \n",
       "</tr>\n",
       "<tr>\n",
       "  <th>converged:</th>             <td>True</td>       <th>  LL-Null:           </th>  <td> -327.56</td> \n",
       "</tr>\n",
       "<tr>\n",
       "  <th>Covariance Type:</th>     <td>nonrobust</td>    <th>  LLR p-value:       </th> <td>1.333e-119</td>\n",
       "</tr>\n",
       "</table>\n",
       "<table class=\"simpletable\">\n",
       "<tr>\n",
       "      <td></td>         <th>coef</th>     <th>std err</th>      <th>z</th>      <th>P>|z|</th>  <th>[0.025</th>    <th>0.975]</th>  \n",
       "</tr>\n",
       "<tr>\n",
       "  <th>Intercept</th> <td>   -9.9977</td> <td>    1.297</td> <td>   -7.708</td> <td> 0.000</td> <td>  -12.540</td> <td>   -7.455</td>\n",
       "</tr>\n",
       "<tr>\n",
       "  <th>V1</th>        <td>    0.6750</td> <td>    0.154</td> <td>    4.384</td> <td> 0.000</td> <td>    0.373</td> <td>    0.977</td>\n",
       "</tr>\n",
       "<tr>\n",
       "  <th>V3</th>        <td>    0.2576</td> <td>    0.177</td> <td>    1.457</td> <td> 0.145</td> <td>   -0.089</td> <td>    0.604</td>\n",
       "</tr>\n",
       "<tr>\n",
       "  <th>V4</th>        <td>    0.4870</td> <td>    0.149</td> <td>    3.266</td> <td> 0.001</td> <td>    0.195</td> <td>    0.779</td>\n",
       "</tr>\n",
       "<tr>\n",
       "  <th>V6</th>        <td>    0.3201</td> <td>    0.098</td> <td>    3.251</td> <td> 0.001</td> <td>    0.127</td> <td>    0.513</td>\n",
       "</tr>\n",
       "<tr>\n",
       "  <th>V7</th>        <td>    0.4037</td> <td>    0.170</td> <td>    2.370</td> <td> 0.018</td> <td>    0.070</td> <td>    0.738</td>\n",
       "</tr>\n",
       "<tr>\n",
       "  <th>V8</th>        <td>    0.3276</td> <td>    0.134</td> <td>    2.442</td> <td> 0.015</td> <td>    0.065</td> <td>    0.590</td>\n",
       "</tr>\n",
       "</table>"
      ],
      "text/plain": [
       "<class 'statsmodels.iolib.summary.Summary'>\n",
       "\"\"\"\n",
       "                           Logit Regression Results                           \n",
       "==============================================================================\n",
       "Dep. Variable:                     cl   No. Observations:                  509\n",
       "Model:                          Logit   Df Residuals:                      502\n",
       "Method:                           MLE   Df Model:                            6\n",
       "Date:                Wed, 18 Nov 2020   Pseudo R-squ.:                  0.8680\n",
       "Time:                        12:03:45   Log-Likelihood:                -43.223\n",
       "converged:                       True   LL-Null:                       -327.56\n",
       "Covariance Type:            nonrobust   LLR p-value:                1.333e-119\n",
       "==============================================================================\n",
       "                 coef    std err          z      P>|z|      [0.025      0.975]\n",
       "------------------------------------------------------------------------------\n",
       "Intercept     -9.9977      1.297     -7.708      0.000     -12.540      -7.455\n",
       "V1             0.6750      0.154      4.384      0.000       0.373       0.977\n",
       "V3             0.2576      0.177      1.457      0.145      -0.089       0.604\n",
       "V4             0.4870      0.149      3.266      0.001       0.195       0.779\n",
       "V6             0.3201      0.098      3.251      0.001       0.127       0.513\n",
       "V7             0.4037      0.170      2.370      0.018       0.070       0.738\n",
       "V8             0.3276      0.134      2.442      0.015       0.065       0.590\n",
       "==============================================================================\n",
       "\"\"\""
      ]
     },
     "execution_count": 4,
     "metadata": {},
     "output_type": "execute_result"
    }
   ],
   "source": [
    "from statsmodels.formula.api import logit\n",
    "model = logit('cl ~ V1 + V3 + V4 + V6 + V7 + V8',biopsy_train).fit()\n",
    "model.summary()"
   ]
  },
  {
   "cell_type": "markdown",
   "metadata": {},
   "source": [
    "Il coefficiente di `V3` non è più statisticamente rilevante (il set di dati è cambiato rispetto a prima). Rimuoviamo la variabile:"
   ]
  },
  {
   "cell_type": "code",
   "execution_count": 5,
   "metadata": {},
   "outputs": [
    {
     "name": "stdout",
     "output_type": "stream",
     "text": [
      "Optimization terminated successfully.\n",
      "         Current function value: 0.087157\n",
      "         Iterations 10\n"
     ]
    },
    {
     "data": {
      "text/html": [
       "<table class=\"simpletable\">\n",
       "<caption>Logit Regression Results</caption>\n",
       "<tr>\n",
       "  <th>Dep. Variable:</th>          <td>cl</td>        <th>  No. Observations:  </th>   <td>   509</td>  \n",
       "</tr>\n",
       "<tr>\n",
       "  <th>Model:</th>                 <td>Logit</td>      <th>  Df Residuals:      </th>   <td>   503</td>  \n",
       "</tr>\n",
       "<tr>\n",
       "  <th>Method:</th>                 <td>MLE</td>       <th>  Df Model:          </th>   <td>     5</td>  \n",
       "</tr>\n",
       "<tr>\n",
       "  <th>Date:</th>            <td>Wed, 18 Nov 2020</td> <th>  Pseudo R-squ.:     </th>   <td>0.8646</td>  \n",
       "</tr>\n",
       "<tr>\n",
       "  <th>Time:</th>                <td>12:03:45</td>     <th>  Log-Likelihood:    </th>  <td> -44.363</td> \n",
       "</tr>\n",
       "<tr>\n",
       "  <th>converged:</th>             <td>True</td>       <th>  LL-Null:           </th>  <td> -327.56</td> \n",
       "</tr>\n",
       "<tr>\n",
       "  <th>Covariance Type:</th>     <td>nonrobust</td>    <th>  LLR p-value:       </th> <td>3.690e-120</td>\n",
       "</tr>\n",
       "</table>\n",
       "<table class=\"simpletable\">\n",
       "<tr>\n",
       "      <td></td>         <th>coef</th>     <th>std err</th>      <th>z</th>      <th>P>|z|</th>  <th>[0.025</th>    <th>0.975]</th>  \n",
       "</tr>\n",
       "<tr>\n",
       "  <th>Intercept</th> <td>  -10.3177</td> <td>    1.308</td> <td>   -7.885</td> <td> 0.000</td> <td>  -12.882</td> <td>   -7.753</td>\n",
       "</tr>\n",
       "<tr>\n",
       "  <th>V1</th>        <td>    0.7604</td> <td>    0.149</td> <td>    5.116</td> <td> 0.000</td> <td>    0.469</td> <td>    1.052</td>\n",
       "</tr>\n",
       "<tr>\n",
       "  <th>V4</th>        <td>    0.5434</td> <td>    0.147</td> <td>    3.691</td> <td> 0.000</td> <td>    0.255</td> <td>    0.832</td>\n",
       "</tr>\n",
       "<tr>\n",
       "  <th>V6</th>        <td>    0.3649</td> <td>    0.094</td> <td>    3.887</td> <td> 0.000</td> <td>    0.181</td> <td>    0.549</td>\n",
       "</tr>\n",
       "<tr>\n",
       "  <th>V7</th>        <td>    0.4723</td> <td>    0.158</td> <td>    2.988</td> <td> 0.003</td> <td>    0.163</td> <td>    0.782</td>\n",
       "</tr>\n",
       "<tr>\n",
       "  <th>V8</th>        <td>    0.4147</td> <td>    0.120</td> <td>    3.445</td> <td> 0.001</td> <td>    0.179</td> <td>    0.651</td>\n",
       "</tr>\n",
       "</table>"
      ],
      "text/plain": [
       "<class 'statsmodels.iolib.summary.Summary'>\n",
       "\"\"\"\n",
       "                           Logit Regression Results                           \n",
       "==============================================================================\n",
       "Dep. Variable:                     cl   No. Observations:                  509\n",
       "Model:                          Logit   Df Residuals:                      503\n",
       "Method:                           MLE   Df Model:                            5\n",
       "Date:                Wed, 18 Nov 2020   Pseudo R-squ.:                  0.8646\n",
       "Time:                        12:03:45   Log-Likelihood:                -44.363\n",
       "converged:                       True   LL-Null:                       -327.56\n",
       "Covariance Type:            nonrobust   LLR p-value:                3.690e-120\n",
       "==============================================================================\n",
       "                 coef    std err          z      P>|z|      [0.025      0.975]\n",
       "------------------------------------------------------------------------------\n",
       "Intercept    -10.3177      1.308     -7.885      0.000     -12.882      -7.753\n",
       "V1             0.7604      0.149      5.116      0.000       0.469       1.052\n",
       "V4             0.5434      0.147      3.691      0.000       0.255       0.832\n",
       "V6             0.3649      0.094      3.887      0.000       0.181       0.549\n",
       "V7             0.4723      0.158      2.988      0.003       0.163       0.782\n",
       "V8             0.4147      0.120      3.445      0.001       0.179       0.651\n",
       "==============================================================================\n",
       "\"\"\""
      ]
     },
     "execution_count": 5,
     "metadata": {},
     "output_type": "execute_result"
    }
   ],
   "source": [
    "model = logit('cl ~ V1 + V4 + V6 + V7 + V8',biopsy_train).fit()\n",
    "model.summary()"
   ]
  },
  {
   "cell_type": "markdown",
   "metadata": {},
   "source": [
    "Tutti i coefficienti sono adesso statisticamente rilevanti."
   ]
  },
  {
   "cell_type": "markdown",
   "metadata": {},
   "source": [
    "Una volta calcolato il classificatore sul training set, possiamo ottenere le predizioni sul test set come segue:"
   ]
  },
  {
   "cell_type": "code",
   "execution_count": 6,
   "metadata": {},
   "outputs": [
    {
     "data": {
      "text/plain": [
       "341    0.001093\n",
       "532    0.001093\n",
       "687    0.007106\n",
       "83     0.045540\n",
       "428    0.000682\n",
       "dtype: float64"
      ]
     },
     "execution_count": 6,
     "metadata": {},
     "output_type": "execute_result"
    }
   ],
   "source": [
    "test_probs = model.predict(biopsy_test.dropna()) #applichiamo dropna per evitare i NaN\n",
    "test_probs.head()"
   ]
  },
  {
   "cell_type": "markdown",
   "metadata": {},
   "source": [
    "Il regressore logistico predice delle probabilità. Per ottenre le classi predette ($0$ o $1$), possiamo arrotondare all'intero più vicino come segue:"
   ]
  },
  {
   "cell_type": "code",
   "execution_count": 7,
   "metadata": {},
   "outputs": [
    {
     "data": {
      "text/plain": [
       "341    0\n",
       "532    0\n",
       "687    0\n",
       "83     0\n",
       "428    0\n",
       "dtype: int32"
      ]
     },
     "execution_count": 7,
     "metadata": {},
     "output_type": "execute_result"
    }
   ],
   "source": [
    "test_preds = test_probs.round().astype(int)\n",
    "test_preds.head()"
   ]
  },
  {
   "cell_type": "markdown",
   "metadata": {},
   "source": [
    "Per valutare la bontà del classificatore, dobbiamo confrontare le classi predette a quelle reali, che vengono in genere dette **\"classi di ground truth\" (gt)**. Recuperiamo queste classi dal dataset originale:"
   ]
  },
  {
   "cell_type": "code",
   "execution_count": 8,
   "metadata": {},
   "outputs": [
    {
     "data": {
      "text/plain": [
       "341    0\n",
       "532    0\n",
       "687    0\n",
       "83     0\n",
       "428    0\n",
       "Name: cl, dtype: int64"
      ]
     },
     "execution_count": 8,
     "metadata": {},
     "output_type": "execute_result"
    }
   ],
   "source": [
    "test_gt = biopsy_test.dropna()['cl']\n",
    "test_gt.head()"
   ]
  },
  {
   "cell_type": "markdown",
   "metadata": {},
   "source": [
    "### 11.2 Misure di valutazione degli errori\n",
    "Abbiamo detto che per valutare quanto il regressore logistico sia \"buono\", possiamo confrontare le etichette predette (`train_preds`) con quelle corrette (`train_gt`) contando \"quanti errori\" vengono fatti dal modello. Nello specifico, esistono diversi modi per misurare le performance di un classificatore. In questo laboratorio vedremo:\n",
    " * True Positive (o Hit);\n",
    " * False Negative (o Miss);\n",
    " * False Positive (o Errore di tipo I o falsi allarmi);\n",
    " * True Negative (o correct rejection);\n",
    " * Matrice di confusione e sua normalizzazione;\n",
    " * Precision;\n",
    " * Recall;\n",
    " * $F_1$ score;\n",
    " * Accuracy."
   ]
  },
  {
   "cell_type": "markdown",
   "metadata": {},
   "source": [
    "### Hit (True Positive) e Miss (False Negative)\n",
    "Le più semplici misure di performance di un classificatore sono hit e miss. Una predizione può essere classificata come un \"hit\" o un \"miss\" come segue: \n",
    " * **hit**: se l'elemento è stato classificato come positivo (variabile dipendente pari a $1$) ed era effettivamente positivo. Si dice anche che l'elemento è un **True Positive (TP)**, ovvero un \"vero positivo\";\n",
    " * **miss**: se l'elemento è stato classificato come negativo (variabile dipendente pari a $0$), ma era in realtà un positivo. L'elemento viene anche detto **False Negative (FN)**, ovvero \"faslo negativo\". Equivalentemente si parla anche di **errore di tipo II**.\n",
    "\n",
    "Vediamo come classificare ogni predizione:"
   ]
  },
  {
   "cell_type": "code",
   "execution_count": 9,
   "metadata": {},
   "outputs": [],
   "source": [
    "#np.logical_and applica and tra due array di booleani\n",
    "hit = np.logical_and(test_gt==1, test_preds==1)\n",
    "miss = np.logical_and(test_gt==1, test_preds==0)\n",
    "#print(hit.head(),'\\n')\n",
    "#print(miss.head())"
   ]
  },
  {
   "cell_type": "markdown",
   "metadata": {},
   "source": [
    "Possiamo contare i valori di hit e miss effettuando la somma dei valori (i valori `True` verranno considerati come $1$, mentre i `False` come $0$):"
   ]
  },
  {
   "cell_type": "code",
   "execution_count": 10,
   "metadata": {},
   "outputs": [
    {
     "name": "stdout",
     "output_type": "stream",
     "text": [
      "Numero di hit: 61\n",
      "Numero di miss: 3\n"
     ]
    }
   ],
   "source": [
    "print(\"Numero di hit:\",hit.sum())\n",
    "print(\"Numero di miss:\",miss.sum())"
   ]
  },
  {
   "cell_type": "markdown",
   "metadata": {},
   "source": [
    "### Errori di tipo I o falsi allarmi (False Positive)\n",
    "Si parla di errori di tipo I o di falsi allarmi per tutti gli elementi che vengono classificati come positivi, ma erano in realtà dei negativi. In questo caso, si parla anche di **False Positive (FP)**, ovvero \"falsi positivi\". Calcoliamo il numero di falsi allarmi:"
   ]
  },
  {
   "cell_type": "code",
   "execution_count": 11,
   "metadata": {},
   "outputs": [
    {
     "name": "stdout",
     "output_type": "stream",
     "text": [
      "Numero di falsi allarmi: 2\n"
     ]
    }
   ],
   "source": [
    "false_alarms = np.logical_and(test_gt==0, test_preds==1)\n",
    "print(\"Numero di falsi allarmi:\",false_alarms.sum())"
   ]
  },
  {
   "cell_type": "markdown",
   "metadata": {},
   "source": [
    "### Correct Rejection (True Negative)\n",
    "Quando un elemento è stato classificato come negativo ed era effettivamente un negativo si parla di **True Negative (TN)**, ovvero \"Veri Negativi\" o, alternativamente, di \"correct rejection\". Vediamo come calcolare il numero di veri negativi:"
   ]
  },
  {
   "cell_type": "code",
   "execution_count": 12,
   "metadata": {},
   "outputs": [
    {
     "name": "stdout",
     "output_type": "stream",
     "text": [
      "Numero di veri negativi: 108\n"
     ]
    }
   ],
   "source": [
    "true_negatives = np.logical_and(test_gt==0, test_preds==0)\n",
    "print(\"Numero di veri negativi:\",true_negatives.sum())"
   ]
  },
  {
   "cell_type": "markdown",
   "metadata": {},
   "source": [
    "### Riepilogo: TP, TN, FP, FN\n",
    "\n",
    "Riepilogando, ogni elemento può essere considerato come:\n",
    "\n",
    " * **True Positive (TP)**: se è stato classificato come positivo ed era effettivamente un positivo;\n",
    " * **True Negative (TN)**: se è stato classificato come negativo ed era effettivamente un negativo;\n",
    " * **False Positive (FP)**: se è stato classificato come positivo ma era un negativo;\n",
    " * **False Negative (FN)**: se è stato classificato come negativo ma era un positivo.\n",
    " \n",
    "Una volta categorizzata ogni predizione in una delle quattro classi, le perfomance del classificatore possono essere riassunte contando il numero di **TP**, **TN**, **FP**, **FN**. I primi due numeri contano le classificazioni corrette, mentre gli ultimi due contano gli errori. Per un buon classificatore, ci aspettiamo dunque di ottenere un numero alto di **TP** e **TN** e numeri bassi di **FP** e **FN**."
   ]
  },
  {
   "cell_type": "markdown",
   "metadata": {},
   "source": [
    "### Matrice di Confusione\n",
    "Una matrice di confusione riassume i quattro numeri appena visti in forma tabulare. La matrice di confusione per un classificatore su $N$ classi può essere definita come una matrice $C$ di dimensioni $N \\times N$ in cui l'elemento generale $C_{ij}$ è pari al numero di osservazioni appartenenti alla classe $i$ e predetti come appartenenti alla classe $j$. Considerato che la classe negativa ha indice $0$ e la classe positiva ha indice $1$, nel caso della classificazione binaria, la matrice si presenta come segue:\n",
    "\n",
    "<br>\n",
    "\n",
    "\n",
    "<center>\n",
    "<table class='tab'>\n",
    "    <tr></tr>\n",
    "    <tr><td></td><th colspan=2>Predetti</th></tr>\n",
    "<tr></tr>\n",
    "<tr>\n",
    "    <td rowspan=3><b>Reali</b></td>\n",
    "<td>TN</td><td>FP</td>\n",
    "</tr>\n",
    "    <tr></tr>\n",
    "<tr>\n",
    "<td>FN</td><td>TP</td>\n",
    "</tr>\n",
    "</table>\n",
    "</center>\n",
    "\n",
    "Dove TN, FP, FN e TP denotato il numero di True Negative, False Positive, False Negative e True Positive. \n",
    "\n",
    "**NOTA**: esistono diversi modi per definire una matrice di confusione. Noi ci rifacciamo al metodo usato da `scikit-learn` per comodità. Può capitare tuttavia di vedere matrici di confusione definite in maniera trasposta (valori predetti lungo le righe e reali lungo le colonne) e nel caso binario, può capitare di avere i valori riordinati come TP, FN, FP, TN. Si noti che tutte queste rappresentazioni sono equivalenti. In questo corso considereremo sempre la matrice di confusione nella formulazione qui affrontata.\n",
    "\n",
    "Possiamo calcolare la matrice di confusione mediante la funzione `confusion_matrix` della libreria `scikit-learn`:"
   ]
  },
  {
   "cell_type": "code",
   "execution_count": 13,
   "metadata": {},
   "outputs": [
    {
     "data": {
      "text/plain": [
       "array([[108,   2],\n",
       "       [  3,  61]], dtype=int64)"
      ]
     },
     "execution_count": 13,
     "metadata": {},
     "output_type": "execute_result"
    }
   ],
   "source": [
    "from sklearn.metrics import confusion_matrix\n",
    "confusion_matrix(test_gt, test_preds)"
   ]
  },
  {
   "cell_type": "markdown",
   "metadata": {},
   "source": [
    "Possiamo ottenere i valori separati di TN, FP, FN e TP semplicemente come segue:"
   ]
  },
  {
   "cell_type": "code",
   "execution_count": 14,
   "metadata": {},
   "outputs": [
    {
     "name": "stdout",
     "output_type": "stream",
     "text": [
      "Numero di True Negative: 108\n",
      "Numero di False Positive: 2\n",
      "Numero di False Negative: 3\n",
      "Numero di Ture Positive: 61\n"
     ]
    }
   ],
   "source": [
    "tn, fp, fn, tp = confusion_matrix(test_gt, test_preds).ravel()\n",
    "print(\"Numero di True Negative:\",tn)\n",
    "print(\"Numero di False Positive:\",fp)\n",
    "print(\"Numero di False Negative:\",fn)\n",
    "print(\"Numero di Ture Positive:\",tp)"
   ]
  },
  {
   "cell_type": "markdown",
   "metadata": {},
   "source": [
    "### Normalizzazione della matrice di confusione - TNR, TPR, FNR, FPR\n",
    "La matrice di confusione riporta il numero di errori e predizioni corrette. Questi numeri vanno interpretati considerando la numerosità delle classi (un TP pari a $50$ va interpretato in maniera diversa se sono presenti $70$ o $1000$ elementi in quella classe) e possono essere difficili da leggere quando le classi non sono perfettamente bilanciate. Per ovviare a questi problemi, è possibile normalizzare la matrice per righe, ovvero dividere ogni elemento $C_{ij}$ per $C_i=\\sum_j{C_{ij}}$.\n",
    "\n",
    "Si noti che la somma dei valori lungo una riga della matrice di confusione indica il numero di elementi appartenenti a quella classe:\n",
    "\n",
    "<br>\n",
    "<center>\n",
    "<table class='tab'>\n",
    "    <tr></tr>\n",
    "    <tr><td></td><th colspan=2>Predetti</th><th>Somma Riga</th></tr>\n",
    "<tr></tr>\n",
    "<tr>\n",
    "    <td rowspan=3><b>Reali</b></td>\n",
    "    <td>TN</td><td>FP</td><td>N = TN+FP</td>\n",
    "</tr>\n",
    "    <tr></tr>\n",
    "<tr>\n",
    "<td>FN</td><td>TP</td><td>P = TP+FN</td>\n",
    "</tr>\n",
    "</table>\n",
    "</center>\n",
    "\n",
    "Dopo la normalizzazione otteniamo dunque:\n",
    "\n",
    "<br>\n",
    "<center>\n",
    "<table class='tab'>\n",
    "    <tr></tr>\n",
    "    <tr><td></td><th colspan=2>Predetti</th></tr>\n",
    "<tr></tr>\n",
    "<tr>\n",
    "    <td rowspan=3><b>Reali</b></td>\n",
    "    <td>$\\frac{TN}{N}$</td><td>$\\frac{FP}{N}$</td>\n",
    "</tr>\n",
    "    <tr></tr>\n",
    "<tr>\n",
    "<td>$\\frac{FN}{P}$</td><td>$\\frac{TP}{P}$</td>\n",
    "</tr>\n",
    "</table>\n",
    "</center>"
   ]
  },
  {
   "cell_type": "markdown",
   "metadata": {},
   "source": [
    "I numeri nella matrice di confusione normalizzata hanno nomi e interpretazioni specifiche:\n",
    " * **True Negative Rate**: definito come $TNR=\\frac{TN}{N}$, indica la frazione di elementi negativi che sono stati effettivamente classificati come negativi;\n",
    " * **True Positive Rate**: definito come $TPR=\\frac{TP}{P}$, indica la frazione di elementi positivi che sono stati effettivamente classificati come positivi;\n",
    " * **False Positive Rate**: definito come $FPR=\\frac{FP}{N}$, indica la frazione di elementi negativi che sono stati erroneamente classificati come positivi;\n",
    " * **False Negative Rate**: definito come $FNR=\\frac{FN}{P}$, indica la frazione di elementi positivi che sono stati erroneamente classificati come negativi.\n",
    " \n",
    "Possiamo infine vedere la matrice di confusione normalizzata come segue:\n",
    "\n",
    "<br>\n",
    "<center>\n",
    "<table class='tab'>\n",
    "    <tr></tr>\n",
    "    <tr><td></td><th colspan=2>Predetti</th></tr>\n",
    "<tr></tr>\n",
    "<tr>\n",
    "    <td rowspan=3><b>Reali</b></td>\n",
    "    <td>TNR</td><td>FPR</td>\n",
    "</tr>\n",
    "    <tr></tr>\n",
    "<tr>\n",
    "<td>FNR</td><td>TPR</td>\n",
    "</tr>\n",
    "</table>\n",
    "</center>\n",
    "\n",
    "La matrice di confusione normalizzata viene calcolata come segue:"
   ]
  },
  {
   "cell_type": "code",
   "execution_count": 15,
   "metadata": {},
   "outputs": [
    {
     "name": "stdout",
     "output_type": "stream",
     "text": [
      "[[108   2]\n",
      " [  3  61]]\n"
     ]
    },
    {
     "data": {
      "text/plain": [
       "array([[110],\n",
       "       [ 64]], dtype=int64)"
      ]
     },
     "execution_count": 15,
     "metadata": {},
     "output_type": "execute_result"
    }
   ],
   "source": [
    "cm = confusion_matrix(test_gt, test_preds)\n",
    "print(cm)\n",
    "cm.sum(1).reshape(-1,1) #il reshape serve a trasformare il vettore in un vettore colonna"
   ]
  },
  {
   "cell_type": "code",
   "execution_count": 16,
   "metadata": {},
   "outputs": [
    {
     "data": {
      "text/plain": [
       "array([[0.98181818, 0.01818182],\n",
       "       [0.046875  , 0.953125  ]])"
      ]
     },
     "execution_count": 16,
     "metadata": {},
     "output_type": "execute_result"
    }
   ],
   "source": [
    "cm=cm/cm.sum(1).reshape(-1,1) #il reshape serve a trasformare il vettore in un vettore colonna\n",
    "cm"
   ]
  },
  {
   "cell_type": "markdown",
   "metadata": {},
   "source": [
    "Analogamente a quanto vista prima, possiamo ottenere TNR, FNR, FPR e TPR come segue:"
   ]
  },
  {
   "cell_type": "code",
   "execution_count": 17,
   "metadata": {},
   "outputs": [
    {
     "name": "stdout",
     "output_type": "stream",
     "text": [
      "TNR: 0.9818181818181818\n",
      "FPR: 0.01818181818181818\n",
      "FNR: 0.046875\n",
      "TPR: 0.953125\n"
     ]
    }
   ],
   "source": [
    "tnr, fpr, fnr, tpr = cm.ravel()\n",
    "print(\"TNR:\",tnr)\n",
    "print(\"FPR:\",fpr)\n",
    "print(\"FNR:\",fnr)\n",
    "print(\"TPR:\",tpr)"
   ]
  },
  {
   "cell_type": "markdown",
   "metadata": {},
   "source": [
    "Si noti che, per valutare le performance di un classificatore, è necessario analizzare tutti i e 4 i numeri appena visti. Esistono infatti dei casi in cui osservare solo alcuni indicatori fornisce un quadro parziale della situazione. Vediamo qualche esempio."
   ]
  },
  {
   "cell_type": "markdown",
   "metadata": {},
   "source": [
    "### Precision, Recall e F-Score\n",
    "\n",
    "Altre due importanti misure di performance sono **precision** e **recall**. Si tratta di due misure complementari, definibili come segue:\n",
    " * La **precision** misura **quanti dei valori predetti come positivi sono in effetti positivi**. Si misura come segue: $Precision = \\frac{TP}{TP+FP}$;\n",
    " * La **recall** misura **quanti tra gli elementi effettivamente positivi, sono stati individuati dal classificatore**. Si misura come segue: $recall=\\frac{TP}{TP+FN}=TPR$ (la recall è il $TPR$ sono la stessa cosa).\n",
    " \n",
    "Le due misure sono complementari. Consideriamo due classificatore sbilanciati:\n",
    " * Un classificatore $C_1$ che classifica un elemento come positivo solo quando ne è assolutamente certo. Tutti i positivi predetti da questo classificatore saranno corretti, ma molti positivi saranno classificati come negativi;\n",
    " * Un classificatore $C_2$ che classifica tutti gli elementi come positivi e non prevede mai che un elemento sia negativo.\n",
    " \n",
    "Il classificatore $C_1$ avrà precision alta in quanto ci sono pochissimi falsi positivi, ma recall bassa in quanto ci sono molti falsi negativi. Il classificatore $C_2$ avrà precision bassa per via della presenza di molti falsi positivi, mentre avrà recall pari a uno per l'assenza di falsi negativi.\n",
    "\n",
    "Vista questa complementarietà, **precision** e **recall** vanno **sempre guardate insieme**. Possiamo calcolare precision e racall come segue:"
   ]
  },
  {
   "cell_type": "code",
   "execution_count": 18,
   "metadata": {},
   "outputs": [
    {
     "name": "stdout",
     "output_type": "stream",
     "text": [
      "Precision: 0.97, Recall: 0.95\n"
     ]
    }
   ],
   "source": [
    "from sklearn.metrics import precision_score, recall_score\n",
    "precision = precision_score(test_gt, test_preds)\n",
    "recall = recall_score(test_gt, test_preds)\n",
    "print(\"Precision: {:0.2f}, Recall: {:0.2f}\".format(precision,recall))"
   ]
  },
  {
   "cell_type": "markdown",
   "metadata": {},
   "source": [
    "Un modo per guardare a precision e recall insieme, consiste nel calcolare lo score $F_1$, che si definisce come la media armonica tra precision e recall:\n",
    "\n",
    "\\begin{equation}\n",
    "F_1 = 2 \\cdot \\frac{precision \\cdot recall}{precision + recall}\n",
    "\\end{equation}\n",
    "\n",
    "Lo score $F_1$ può essere calcolato come segue:"
   ]
  },
  {
   "cell_type": "code",
   "execution_count": 19,
   "metadata": {},
   "outputs": [
    {
     "name": "stdout",
     "output_type": "stream",
     "text": [
      "F1 score: 0.96\n"
     ]
    }
   ],
   "source": [
    "from sklearn.metrics import f1_score\n",
    "f1 = f1_score(test_gt, test_preds)\n",
    "print(\"F1 score: {:0.2f}\".format(f1))"
   ]
  },
  {
   "cell_type": "markdown",
   "metadata": {},
   "source": [
    "### Accuracy\n",
    "Abbiamo visto che per valutare bene un classificatore, dobbiamo guardare alla matrice di confusione nella sua interezza. Una misura molto semplice che ci permette di ottenere un unico numero da guardare per valutare un classificatore è l'accuracy. L'accuracy misura la frazione di campioni che sono stati correttamente classificati. Essa si calcola come segue:\n",
    "\n",
    "\\begin{equation}\n",
    "Accuracy = \\frac{TP+TN}{TP+TN+FP+FN}\n",
    "\\end{equation}\n",
    "\n",
    "Sommando TP e TN otteniamo il numero di elementi classificati correttamente (si noti che ciò corrisponde a sommare tutti gli elementi sulla diagonale principale della matrice di confusione non normalizzata). Sommando TP, TN, FP e FN otteniamo il numero totale degli elementi contenuti nel dataset.\n",
    "\n",
    "Possiamo calcolare l'accuracy sommando gli elementi sulla diagonale principale della matrice di confusione non normalizzata:"
   ]
  },
  {
   "cell_type": "code",
   "execution_count": 20,
   "metadata": {},
   "outputs": [
    {
     "name": "stdout",
     "output_type": "stream",
     "text": [
      "0.9712643678160919\n"
     ]
    }
   ],
   "source": [
    "cm = confusion_matrix(test_gt, test_preds)\n",
    "print(np.diag(cm).sum()/cm.sum())"
   ]
  },
  {
   "cell_type": "markdown",
   "metadata": {},
   "source": [
    "Alternativamente, possiamo calcolare l'accuracy utilizzando la funzione `accuracy_score` di  `scikit-learn`:"
   ]
  },
  {
   "cell_type": "code",
   "execution_count": 21,
   "metadata": {},
   "outputs": [
    {
     "data": {
      "text/plain": [
       "0.9712643678160919"
      ]
     },
     "execution_count": 21,
     "metadata": {},
     "output_type": "execute_result"
    }
   ],
   "source": [
    "from sklearn.metrics import accuracy_score\n",
    "accuracy_score(test_gt, test_preds)"
   ]
  },
  {
   "cell_type": "markdown",
   "metadata": {},
   "source": [
    "Questo numero viene spesso interpretato come una percentuale: \"il $97\\%$ dei campioni sono stati correttamente classificati\". "
   ]
  },
  {
   "cell_type": "markdown",
   "metadata": {},
   "source": [
    "È possibile calcolare gli score relativamente alle classi attraverso la funzione `classification_report` di `scikit-learn`. Ciò può tornare utile per avere una visione generale della classificazione."
   ]
  },
  {
   "cell_type": "code",
   "execution_count": 22,
   "metadata": {},
   "outputs": [
    {
     "name": "stdout",
     "output_type": "stream",
     "text": [
      "Classification Report\n",
      "              precision    recall  f1-score   support\n",
      "\n",
      "           0       0.97      0.98      0.98       110\n",
      "           1       0.97      0.95      0.96        64\n",
      "\n",
      "    accuracy                           0.97       174\n",
      "   macro avg       0.97      0.97      0.97       174\n",
      "weighted avg       0.97      0.97      0.97       174\n",
      "\n"
     ]
    }
   ],
   "source": [
    "from sklearn.metrics import classification_report\n",
    "print(\"Classification Report\")\n",
    "print(classification_report(test_gt, test_preds))"
   ]
  },
  {
   "cell_type": "markdown",
   "metadata": {},
   "source": [
    "### 11.3 Uso delle diverse misure di performance\n",
    "Abbiamo visto che esistono diverse misure di valutazione. In pratica, è spesso conveniente osservare più di una misura alla volta per non farci trarre in inganno. Vediamo qualche esempio con dati \"inventati\" per illustrare qualcuno di questi casi."
   ]
  },
  {
   "cell_type": "markdown",
   "metadata": {},
   "source": [
    "##### Classificatore sempre positivo\n",
    "Consideriamo un classificatore che prevede sempre la classe positiva. Possiamo simulare le sue predizioni come segue:"
   ]
  },
  {
   "cell_type": "code",
   "execution_count": 23,
   "metadata": {},
   "outputs": [],
   "source": [
    "positive_preds = np.ones_like(test_gt) #creo un array di 1 con shape e type di test_gt"
   ]
  },
  {
   "cell_type": "markdown",
   "metadata": {},
   "source": [
    "Calcoliamo TNR, FPR, FNR e TPR"
   ]
  },
  {
   "cell_type": "code",
   "execution_count": 24,
   "metadata": {},
   "outputs": [
    {
     "name": "stdout",
     "output_type": "stream",
     "text": [
      "TNR: 0.00\n",
      "FPR: 1.72\n",
      "FNR: 0.00\n",
      "TPR, Recall: 1.00\n",
      "Precision: 0.37\n",
      "F1: 0.54\n",
      "Accuracy: 0.37\n"
     ]
    }
   ],
   "source": [
    "cm = confusion_matrix(test_gt, positive_preds)\n",
    "tnr, fpr, fnr, tpr = (cm/cm.sum(1)).ravel()\n",
    "acc = accuracy_score(test_gt, positive_preds)\n",
    "precision = precision_score(test_gt, positive_preds)\n",
    "f1 = f1_score(test_gt, positive_preds)\n",
    "print(\"TNR: %0.2f\"%tnr)\n",
    "print(\"FPR: %0.2f\"%fpr)\n",
    "print(\"FNR: %0.2f\"%fnr)\n",
    "print(\"TPR, Recall: %0.2f\"%tpr)\n",
    "print(\"Precision: %0.2f\"%precision)\n",
    "print(\"F1: %0.2f\"%f1)\n",
    "print(\"Accuracy: %0.2f\"%acc)"
   ]
  },
  {
   "cell_type": "markdown",
   "metadata": {},
   "source": [
    "Come possiamo notare, il classificatore presenta una reacall (TPR) pari a $1$, e un FNR uguale a $0$. Ciò indica che tutti gli elementi positivi sono stati in effetti classificati come positivi e che nessuno dei positivi è stato classificato come negativo. Tuttavia, guardando anche a TNR e FNR, ci accorgiamo che il classificatore è degenere e non è capace di classificare i negativi. Precision, accuracy e F1, inoltre, indicano che il classificatore non è buono. Un quadro più chiaro è offerto dalla matrice di confusione normalizzata e dal classification report:"
   ]
  },
  {
   "cell_type": "code",
   "execution_count": 25,
   "metadata": {},
   "outputs": [
    {
     "name": "stdout",
     "output_type": "stream",
     "text": [
      "Confusion Matrix\n",
      " [[0. 1.]\n",
      " [0. 1.]]\n",
      "\n",
      "Classification Report\n",
      "               precision    recall  f1-score   support\n",
      "\n",
      "           0       0.00      0.00      0.00       110\n",
      "           1       0.37      1.00      0.54        64\n",
      "\n",
      "    accuracy                           0.37       174\n",
      "   macro avg       0.18      0.50      0.27       174\n",
      "weighted avg       0.14      0.37      0.20       174\n",
      "\n"
     ]
    },
    {
     "name": "stderr",
     "output_type": "stream",
     "text": [
      "C:\\Users\\visig\\Anaconda3\\lib\\site-packages\\sklearn\\metrics\\_classification.py:1272: UndefinedMetricWarning: Precision and F-score are ill-defined and being set to 0.0 in labels with no predicted samples. Use `zero_division` parameter to control this behavior.\n",
      "  _warn_prf(average, modifier, msg_start, len(result))\n"
     ]
    }
   ],
   "source": [
    "cm=cm/cm.sum(1).reshape(-1,1)\n",
    "print(\"Confusion Matrix\\n\",cm)\n",
    "print(\"\\nClassification Report\\n\",classification_report(test_gt, positive_preds))"
   ]
  },
  {
   "cell_type": "markdown",
   "metadata": {},
   "source": [
    "##### Classificatore sempre negativo\n",
    "Analogamente, potremmo trovarci in presenza di un classificatore che prevede sempre la classe negativa:"
   ]
  },
  {
   "cell_type": "code",
   "execution_count": 26,
   "metadata": {},
   "outputs": [
    {
     "name": "stdout",
     "output_type": "stream",
     "text": [
      "TNR: 1.00\n",
      "FPR: 0.00\n",
      "FNR: 1.00\n",
      "TPR, Recall: 0.00\n",
      "Precision: 0.00\n",
      "F1: 0.00\n",
      "Accuracy: 0.63\n",
      "\n",
      "Confusion Matrix\n",
      " [[1. 0.]\n",
      " [1. 0.]]\n",
      "\n",
      "Classification Report\n",
      "               precision    recall  f1-score   support\n",
      "\n",
      "           0       0.63      1.00      0.77       110\n",
      "           1       0.00      0.00      0.00        64\n",
      "\n",
      "    accuracy                           0.63       174\n",
      "   macro avg       0.32      0.50      0.39       174\n",
      "weighted avg       0.40      0.63      0.49       174\n",
      "\n"
     ]
    },
    {
     "name": "stderr",
     "output_type": "stream",
     "text": [
      "C:\\Users\\visig\\Anaconda3\\lib\\site-packages\\sklearn\\metrics\\_classification.py:1272: UndefinedMetricWarning: Precision is ill-defined and being set to 0.0 due to no predicted samples. Use `zero_division` parameter to control this behavior.\n",
      "  _warn_prf(average, modifier, msg_start, len(result))\n"
     ]
    }
   ],
   "source": [
    "negative_preds = np.zeros_like(test_preds) #creo un array di 0 con shape e type di test_gt\n",
    "cm = confusion_matrix(test_gt, negative_preds)\n",
    "tn, fp, fn, tp = cm.ravel()\n",
    "cm=cm/cm.sum(1).reshape(-1,1)\n",
    "acc = accuracy_score(test_gt, negative_preds)\n",
    "precision = precision_score(test_gt, negative_preds)\n",
    "f1 = f1_score(test_gt, negative_preds)\n",
    "tnr, fpr, fnr, tpr = cm.ravel()\n",
    "print(\"TNR: %0.2f\"%tnr)\n",
    "print(\"FPR: %0.2f\"%fpr)\n",
    "print(\"FNR: %0.2f\"%fnr)\n",
    "print(\"TPR, Recall: %0.2f\"%tpr)\n",
    "print(\"Precision: %0.2f\"%precision)\n",
    "print(\"F1: %0.2f\"%f1)\n",
    "print(\"Accuracy: %0.2f\"%acc)\n",
    "print(\"\\nConfusion Matrix\\n\",cm)\n",
    "print(\"\\nClassification Report\\n\",classification_report(test_gt, negative_preds))"
   ]
  },
  {
   "cell_type": "markdown",
   "metadata": {},
   "source": [
    "Come notiamo dai warning, $ \\ \\ Precision = \\frac{TP}{TP+FP} \\ \\ $ e $ \\ \\ F_1 = 2 \\cdot \\frac{precision \\cdot recall}{precision + recall} \\ \\ $ non sono ben definite in questo caso."
   ]
  },
  {
   "cell_type": "markdown",
   "metadata": {},
   "source": [
    "##### Accuracy e sbilanciamento delle classi\n",
    "**Attenzione:** benché l'accuracy sia di facile interpretazione, anche essa ha i suoi limiti. Infatti, se il numero di elementi nelle classi è molto sbilanciato, un classificatore degenere può ottenere una accuracy alta. Vediamo un esempio concreto. Supponiamo che un classificatore binario sia caratterizzato dalla seguente matrice di confusione:"
   ]
  },
  {
   "cell_type": "code",
   "execution_count": 27,
   "metadata": {},
   "outputs": [
    {
     "data": {
      "text/plain": [
       "array([[72,  0],\n",
       "       [10,  0]])"
      ]
     },
     "execution_count": 27,
     "metadata": {},
     "output_type": "execute_result"
    }
   ],
   "source": [
    "cm = np.array([[72,0],[10,0]])\n",
    "cm"
   ]
  },
  {
   "cell_type": "markdown",
   "metadata": {},
   "source": [
    "Dalla matrice di confusione evinciamo che il classificatore predice solo la classe negativa. Tuttavia $72$ elementi appartengono alla classe TN, mentre solo $10$ appartengono alla classe FN. Calcoliamo l'accuracy relativa a questa matrice di confusione:"
   ]
  },
  {
   "cell_type": "code",
   "execution_count": 28,
   "metadata": {},
   "outputs": [
    {
     "name": "stdout",
     "output_type": "stream",
     "text": [
      "Accuracy: 0.88\n"
     ]
    }
   ],
   "source": [
    "print(\"Accuracy: %0.2f\" % (np.diag(cm).sum()/cm.sum()))"
   ]
  },
  {
   "cell_type": "markdown",
   "metadata": {},
   "source": [
    "Nonostante il classificatore sia degenere (ce ne accorgiamo dalla matrice di confusione), esso ottiene una buona accuracy. In questi casi, lo $F_1$ score può offrirci un quadro più chiaro."
   ]
  },
  {
   "cell_type": "markdown",
   "metadata": {},
   "source": [
    "### Nota sulle diverse misure di valutazione di performance\n",
    "\n",
    "Abbiamo visto che esistono diverse misure per valutare le performance di un algoritmo (e ne esistono molte altre non trattate in questo laboratorio!). Ogni misura cattura un aspetto diverso del classificatore e dunque, a seconda del problema considerato è opportuno scegliere la misura più corretta per la valutazione delle performance. Vediamo qualche esempio:\n",
    "\n",
    " * **Classificazione di email di spam vs non spam**: supponiamo che \"spam\" rappresenti la classe positiva e che \"non-spam\" rappresenti la classe negativa. Da un lato, vorrei un sistema capace di individuare bene entrambe le categorie, dall'altro voglio evitare di cestinare email legittime come \"spam\". In questo caso ha senso cercare di costruire un sistema che ottiene una **recall** accettabile (email di spam effettivamente individuate) con valori di **FPR** bassissimi (ovvero poche email cestinate come spam) e valori di **precision** alti (ciò che ho individuato come spam era effettivamente spam);\n",
    " * **Diagnosi precoce di tumori**: si vuole adoperare un sistema di diagnosi precoce dei tumori automatica. Tutti i casi individuati come tumori verranno in seguito analizzati da un esperto che potrà rigettare i casi di errore. I casi non classificati come tumori vengono analizzati nuovamente solo $6$ mesi dopo. Se la presenza di un tumore è indicata dalla classe positiva, vogliamo costruire un sistema che abbia **reacall** pari a $1$ (tutti i tumori sono correttamente identificati) anche al costo di un **FPR** non bassissimo o di una **precision** non altissima (qualche negativo viene identificato come positivo - gli esami successivi potranno correggere questo risultato);"
   ]
  },
  {
   "cell_type": "markdown",
   "metadata": {},
   "source": [
    "### 11.4 Errore di training e errore di generalizzazione\n",
    "\n",
    "Finora abbiamo applicato le misure di valutazione sul test set. Ciò ci permette di capire se il modello può essere utilizzato su nuovi dati non visti in fase di training e dunque se il modello \"generalizza\" a dati nuovi. L'errore ottenuto sul test set è dunque in genere detto anche \"errore di generalizzazione\".\n",
    "\n",
    "Un'altra misura che ci permette di capire quanto il classificatore sia buono, soprattutto se confrontata all'errore di generalizzazione, è l'errore di training, ovvero l'errore calcolato sul training set. Vediamo come ottenerlo:"
   ]
  },
  {
   "cell_type": "code",
   "execution_count": 29,
   "metadata": {},
   "outputs": [
    {
     "name": "stdout",
     "output_type": "stream",
     "text": [
      "\n",
      "Accuracy di training: 0.97\n",
      "\n",
      "Matrice di confusione normalizzata:\n",
      "\n",
      "[[0.9760479  0.0239521 ]\n",
      " [0.03428571 0.96571429]]\n"
     ]
    }
   ],
   "source": [
    "#Calcoliamo le predizioni sul test set\n",
    "train_preds = model.predict(biopsy_train.dropna()).round().astype(int)\n",
    "\n",
    "#Otteniamo le etichette di ground truth di test\n",
    "train_gt = biopsy_train.dropna()['cl']\n",
    "\n",
    "#calcoliamo accuracy e matrice di confusione normalizzata\n",
    "cm = confusion_matrix(train_gt, train_preds)\n",
    "cm = cm/cm.sum(1).reshape(-1,1)\n",
    "acc = accuracy_score(train_gt, train_preds)\n",
    "print(\"\\nAccuracy di training: %0.2f\\n\" % acc)\n",
    "print(\"Matrice di confusione normalizzata:\\n\")\n",
    "print(cm)"
   ]
  },
  {
   "cell_type": "markdown",
   "metadata": {},
   "source": [
    "Confrontiamo i valori ottenuti con quelli di test:"
   ]
  },
  {
   "cell_type": "code",
   "execution_count": 30,
   "metadata": {},
   "outputs": [
    {
     "name": "stdout",
     "output_type": "stream",
     "text": [
      "\n",
      "Accuracy di test: 0.97\n",
      "\n",
      "Matrice di confusione normalizzata:\n",
      "\n",
      "[[0.98181818 0.01818182]\n",
      " [0.046875   0.953125  ]]\n"
     ]
    }
   ],
   "source": [
    "#calcoliamo accuracy e matrice di confusione normalizzata\n",
    "cm_test = confusion_matrix(test_gt, test_preds)\n",
    "cm_test = cm_test/cm_test.sum(1).reshape(-1,1)\n",
    "acc_test = accuracy_score(test_gt, test_preds)\n",
    "print(\"\\nAccuracy di test: %0.2f\\n\" % acc_test)\n",
    "print(\"Matrice di confusione normalizzata:\\n\")\n",
    "print(cm_test)"
   ]
  },
  {
   "cell_type": "markdown",
   "metadata": {},
   "source": [
    "L'accuracy è praticamente identica. La matrice di confusione è leggermente più bilanciata. Possiamo concludere che il modello generalizza bene."
   ]
  },
  {
   "cell_type": "markdown",
   "metadata": {},
   "source": [
    "### 11.5 Classificazione Basata su Soglia e Curve ROC\n",
    "\n",
    "Consideriamo nuovamente il nostro dataset di altezze e pesi:"
   ]
  },
  {
   "cell_type": "code",
   "execution_count": 31,
   "metadata": {},
   "outputs": [
    {
     "data": {
      "text/html": [
       "<div>\n",
       "<style scoped>\n",
       "    .dataframe tbody tr th:only-of-type {\n",
       "        vertical-align: middle;\n",
       "    }\n",
       "\n",
       "    .dataframe tbody tr th {\n",
       "        vertical-align: top;\n",
       "    }\n",
       "\n",
       "    .dataframe thead th {\n",
       "        text-align: right;\n",
       "    }\n",
       "</style>\n",
       "<table border=\"1\" class=\"dataframe\">\n",
       "  <thead>\n",
       "    <tr style=\"text-align: right;\">\n",
       "      <th></th>\n",
       "      <th>sex</th>\n",
       "      <th>BMI</th>\n",
       "      <th>height</th>\n",
       "      <th>weight</th>\n",
       "    </tr>\n",
       "  </thead>\n",
       "  <tbody>\n",
       "    <tr>\n",
       "      <th>0</th>\n",
       "      <td>M</td>\n",
       "      <td>33.36</td>\n",
       "      <td>187.96</td>\n",
       "      <td>117.933920</td>\n",
       "    </tr>\n",
       "    <tr>\n",
       "      <th>1</th>\n",
       "      <td>M</td>\n",
       "      <td>26.54</td>\n",
       "      <td>177.80</td>\n",
       "      <td>83.914520</td>\n",
       "    </tr>\n",
       "    <tr>\n",
       "      <th>2</th>\n",
       "      <td>F</td>\n",
       "      <td>32.13</td>\n",
       "      <td>154.94</td>\n",
       "      <td>77.110640</td>\n",
       "    </tr>\n",
       "    <tr>\n",
       "      <th>3</th>\n",
       "      <td>M</td>\n",
       "      <td>26.62</td>\n",
       "      <td>172.72</td>\n",
       "      <td>79.378600</td>\n",
       "    </tr>\n",
       "    <tr>\n",
       "      <th>4</th>\n",
       "      <td>F</td>\n",
       "      <td>27.13</td>\n",
       "      <td>167.64</td>\n",
       "      <td>76.203456</td>\n",
       "    </tr>\n",
       "  </tbody>\n",
       "</table>\n",
       "</div>"
      ],
      "text/plain": [
       "  sex    BMI  height      weight\n",
       "0   M  33.36  187.96  117.933920\n",
       "1   M  26.54  177.80   83.914520\n",
       "2   F  32.13  154.94   77.110640\n",
       "3   M  26.62  172.72   79.378600\n",
       "4   F  27.13  167.64   76.203456"
      ]
     },
     "execution_count": 31,
     "metadata": {},
     "output_type": "execute_result"
    }
   ],
   "source": [
    "import pandas as pd\n",
    "import numpy as np\n",
    "data=pd.read_csv('height_weight.csv')\n",
    "data.head()"
   ]
  },
  {
   "cell_type": "markdown",
   "metadata": {},
   "source": [
    "Abbiamo visto che le altezze di uomini e donne si distribuiscono diversamente. Rivediamo velocemente alcune statistiche descrittive dei due set di dati:"
   ]
  },
  {
   "cell_type": "code",
   "execution_count": 32,
   "metadata": {},
   "outputs": [
    {
     "name": "stdout",
     "output_type": "stream",
     "text": [
      "count    1946.000000\n",
      "mean      177.631624\n",
      "std         7.395885\n",
      "min       160.020000\n",
      "25%       172.720000\n",
      "50%       177.800000\n",
      "75%       182.880000\n",
      "max       193.040000\n",
      "Name: height, dtype: float64 \n",
      "\n",
      "count    2285.000000\n",
      "mean      163.303659\n",
      "std         6.522939\n",
      "min       149.860000\n",
      "25%       157.480000\n",
      "50%       162.560000\n",
      "75%       167.640000\n",
      "max       177.800000\n",
      "Name: height, dtype: float64\n"
     ]
    }
   ],
   "source": [
    "print(data[data['sex']=='M']['height'].describe(),'\\n')\n",
    "print(data[data['sex']=='F']['height'].describe())"
   ]
  },
  {
   "cell_type": "markdown",
   "metadata": {},
   "source": [
    "In generale le donne sono più basse degli uomini. Ci chiediamo dunque cosa possiamo dire del sesso di un soggetto conoscendone solo l'altezza. Sappiamo ad esempio che un soggetto alto 180 cm è molto più probabilmente un uomo che una donna. Analogamente un soggetto alto 150 cm sarà più probabilmente una donna. Cosa possiamo dire di un soggetto alto 170 cm? In generale ci aspettiamo che esista un **valore soglia** al di sopra del quale è più probabile trovare soggetti maschili che femminili. Resta da capire come trovare tale valore soglia. Supponiamo ad esempio di scegliere arbitrariamente 170 cm come valore soglia. \n",
    "\n",
    "Se volessimo usare tale valore soglia per predire il sesso dei soggetti, dovremmo semplicemente classificare come uomini tutti i campioni con altezza superiore o uguale a 170 cm e viceversa come donne i campioni con altezza inferiore a 170 cm. Costruiamo un vettore **male_pred** che contenga True in corrispondenza dei soggetti classificati come uomini e False altrove:"
   ]
  },
  {
   "cell_type": "code",
   "execution_count": 33,
   "metadata": {},
   "outputs": [
    {
     "data": {
      "text/plain": [
       "0     True\n",
       "1     True\n",
       "2    False\n",
       "3     True\n",
       "4    False\n",
       "Name: height, dtype: bool"
      ]
     },
     "execution_count": 33,
     "metadata": {},
     "output_type": "execute_result"
    }
   ],
   "source": [
    "male_pred = data.height>=170\n",
    "male_pred.head()"
   ]
  },
  {
   "cell_type": "markdown",
   "metadata": {},
   "source": [
    "Se vogliamo misurare la bontà delle predizioni, abbiamo bisogno di confrontare il vettore ottenuto con il vettore di **ground truth**, ovvero il vettore dei sessi corretti. Possiamo ottenere tale vettore come segue:"
   ]
  },
  {
   "cell_type": "code",
   "execution_count": 34,
   "metadata": {},
   "outputs": [
    {
     "data": {
      "text/plain": [
       "0     True\n",
       "1     True\n",
       "2    False\n",
       "3     True\n",
       "4    False\n",
       "Name: sex, dtype: bool"
      ]
     },
     "execution_count": 34,
     "metadata": {},
     "output_type": "execute_result"
    }
   ],
   "source": [
    "male_gt = data.sex=='M'\n",
    "male_gt.head()"
   ]
  },
  {
   "cell_type": "markdown",
   "metadata": {},
   "source": [
    "Per valutare la bontà delle predizioni, calcoliamo due numeri: il **True Positive Rate** (**TPR**) per misurare quanti positivi sono stati trovati e il **False Positive Rate** (**FPR**) per misurare quanti negativi sono stati classificati come positivi. Chiaramente, vorremmo un **TPR** alto e un **FPR** basso:"
   ]
  },
  {
   "cell_type": "code",
   "execution_count": 35,
   "metadata": {},
   "outputs": [
    {
     "name": "stdout",
     "output_type": "stream",
     "text": [
      "False Positive Rate: 0.21\n",
      "True Positive Rate: 0.87\n"
     ]
    }
   ],
   "source": [
    "cm = confusion_matrix(male_gt, male_pred)\n",
    "cm=cm/cm.sum(1).reshape(-1,1)\n",
    "_, fpr, _, tpr = cm.ravel()\n",
    "print(\"False Positive Rate: {:0.2f}\".format(fpr))\n",
    "print(\"True Positive Rate: {:0.2f}\".format(tpr))"
   ]
  },
  {
   "cell_type": "markdown",
   "metadata": {},
   "source": [
    "Gli score ci dicono che **l'87% dei soggetti maschili sono stati effettivamente classificati come maschi** e che **il 21% dei soggetti femminili sono stati erroneamente classificati come uomini**. È naturale chiedersi se esiste una soglia migliore di quella che abbiamo considerato. Proviamo a ripetere il processo per $165$ cm:"
   ]
  },
  {
   "cell_type": "code",
   "execution_count": 36,
   "metadata": {},
   "outputs": [
    {
     "name": "stdout",
     "output_type": "stream",
     "text": [
      "False Positive Rate: 0.45\n",
      "True Positive Rate: 0.97\n"
     ]
    }
   ],
   "source": [
    "def classify(dataframe, threshold):\n",
    "    return dataframe['height']>=threshold\n",
    "\n",
    "male_pred = classify(data, 165)\n",
    "cm = confusion_matrix(male_gt, male_pred)\n",
    "cm=cm/cm.sum(1).reshape(-1,1)\n",
    "_, fpr, _, tpr = cm.ravel()\n",
    "print(\"False Positive Rate: {:0.2f}\".format(fpr))\n",
    "print(\"True Positive Rate: {:0.2f}\".format(tpr))"
   ]
  },
  {
   "cell_type": "markdown",
   "metadata": {},
   "source": [
    "Proviamo con una soglia pari a 175 cm:"
   ]
  },
  {
   "cell_type": "code",
   "execution_count": 37,
   "metadata": {},
   "outputs": [
    {
     "name": "stdout",
     "output_type": "stream",
     "text": [
      "False Positive Rate: 0.06\n",
      "True Positive Rate: 0.67\n"
     ]
    }
   ],
   "source": [
    "male_pred = classify(data, 175)\n",
    "cm = confusion_matrix(male_gt, male_pred)\n",
    "cm=cm/cm.sum(1).reshape(-1,1)\n",
    "_, fpr, _, tpr = cm.ravel()\n",
    "print(\"False Positive Rate: {:0.2f}\".format(fpr))\n",
    "print(\"True Positive Rate: {:0.2f}\".format(tpr))"
   ]
  },
  {
   "cell_type": "markdown",
   "metadata": {},
   "source": [
    "Abbiamo visto che cambiando il valore della soglia, i valori di **TPR** e **FPR** cambiano a loro volta. In particolare abbiamo notato che al crescere dell'uno diminuisce l'altro e viceversa. Se vogliamo vedere cosa succede per diversi valori della soglia, possiamo visualizzare una curva **ROC**.\n",
    "\n",
    "Una curva **ROC** effettua la classificazione con tutte le soglie possibili e calcola i valori di **TPR** e **FPR** per ciascuno dei classificatori. Le coppie di valori **TPR** e **FPR** vengono dunque plottati come punti su un piano. La funzione `roc_curve` di `scikit_learn` ci permette di ottenere le coppie di valori **TPR** e **FPR** che si ottengono sogliando un dato valore detto \"score\":"
   ]
  },
  {
   "cell_type": "code",
   "execution_count": 38,
   "metadata": {},
   "outputs": [],
   "source": [
    "from sklearn.metrics import roc_curve\n",
    "fpr, tpr, thresholds = roc_curve(male_gt, data['height'])"
   ]
  },
  {
   "cell_type": "markdown",
   "metadata": {},
   "source": [
    "La funzione `roc_curve` restituisce i valori calcolati per **FPR**, **TPR** e le soglie utilizzate per calcolare tali valori. Plottiamo la curva ROC:"
   ]
  },
  {
   "cell_type": "code",
   "execution_count": 39,
   "metadata": {},
   "outputs": [
    {
     "data": {
      "image/png": "[encoded data removed]",
      "text/plain": [
       "<Figure size 576x432 with 1 Axes>"
      ]
     },
     "metadata": {
      "needs_background": "light"
     },
     "output_type": "display_data"
    }
   ],
   "source": [
    "from matplotlib import pyplot as plt\n",
    "plt.figure(figsize=(8,6))\n",
    "plt.plot(fpr,tpr)\n",
    "plt.grid()\n",
    "plt.xlabel('False Positive Rate')\n",
    "plt.ylabel('True Positive Rate')\n",
    "plt.title('ROC Curve')\n",
    "plt.show()"
   ]
  },
  {
   "cell_type": "markdown",
   "metadata": {},
   "source": [
    "In pratica, ogni valore della threshold definisce un classificatore che effettua un **compromesso** tra **TPR** e **FPR**. Per valori molto alti della soglia, riusciamo a massimizzare il **TPR** ottenendo un **FPR** alto (il che non è desiderabile). Per valori molto bassi della soglia, riusciamo a minimizzare il **FPR** ma otteniamo un **TPR** molto basso (anche in questo caso non desiderabile)."
   ]
  },
  {
   "cell_type": "markdown",
   "metadata": {},
   "source": [
    "In generale, la curva **ROC** ci permette di osservare le performance di un classificatore **indipendentemente dal valore della soglia utilizzato**. Idealmente, vorremmo che la nostra curva includesse il punto di coordinate (0,1), ovvero vorremmo che esistesse almeno una soglia per la quale otteniamo **TPR** pari a 1 e **FPR** pari a 0. Analogamente, vorremmo che la curva si trovasse sempre al di sopra dalla diagonale principale, sulla quale un incremento di **TPR** non corrisponderebbe a un decremento di **FPR**. Vediamo di plottare due prototipi della **curva ideale** e della **curva pessima**:"
   ]
  },
  {
   "cell_type": "code",
   "execution_count": 40,
   "metadata": {},
   "outputs": [
    {
     "data": {
      "image/png": "[encoded data removed]",
      "text/plain": [
       "<Figure size 576x432 with 1 Axes>"
      ]
     },
     "metadata": {
      "needs_background": "light"
     },
     "output_type": "display_data"
    }
   ],
   "source": [
    "fpr_best = np.linspace(0,1,100)\n",
    "tpr_best = np.ones(100)\n",
    "\n",
    "plt.figure(figsize=(8,6))\n",
    "plt.plot([0]+list(fpr_best),[0]+list(tpr_best))\n",
    "plt.plot(fpr_best,fpr_best)\n",
    "\n",
    "plt.grid()\n",
    "plt.xlabel('FPR')\n",
    "plt.ylabel('TPR')\n",
    "\n",
    "plt.legend(['Optimal Curve','Worst Curve'])\n",
    "plt.show()"
   ]
  },
  {
   "cell_type": "markdown",
   "metadata": {},
   "source": [
    "Più la nostra curva \"somiglia\" alla curva ottima, migliore è il classificatore. Quando il classificatore prevede le classi in maniera totalmente casuale, otteniamo la curva pessima."
   ]
  },
  {
   "cell_type": "markdown",
   "metadata": {},
   "source": [
    "Abbiamo detto che le curve ROC sono buone per valutare la bontà di un classificatore indipendentemente dalla soglia usata per classificare. In particolare, le curve ROC possono essere usate per confrontare più classificatori. Supponiamo di costruire un classificatore analogo basato sulle misure dei pesi. Confrontiamo le due curve ROC:"
   ]
  },
  {
   "cell_type": "code",
   "execution_count": 41,
   "metadata": {},
   "outputs": [
    {
     "data": {
      "image/png": "[encoded data removed]",
      "text/plain": [
       "<Figure size 576x432 with 1 Axes>"
      ]
     },
     "metadata": {
      "needs_background": "light"
     },
     "output_type": "display_data"
    }
   ],
   "source": [
    "def plot_roc(fpr,tpr):\n",
    "    plt.plot(fpr,tpr)\n",
    "    plt.grid()\n",
    "    plt.xlabel('False Positive Rate')\n",
    "    plt.ylabel('True Positive Rate')\n",
    "    plt.title('ROC Curve')\n",
    "    \n",
    "fpr_h,tpr_h,t_h=roc_curve(data.sex=='M', data.height)\n",
    "fpr_w,tpr_w,t_w=roc_curve(data.sex=='M', data.weight)\n",
    "\n",
    "plt.figure(figsize=(8,6))\n",
    "plot_roc(fpr_h,tpr_h)\n",
    "plot_roc(fpr_w,tpr_w)\n",
    "plt.legend(['Height','Weight'])\n",
    "plt.grid()\n",
    "plt.show()"
   ]
  },
  {
   "cell_type": "markdown",
   "metadata": {},
   "source": [
    "Resta ancora da capire come scegliere una buona soglia per il classificatore. Abbiamo detto che la soglia va scelta sulla base di un qualche criterio legato all'applicazione in cui utilizzeremo il classificatore. Supponiamo di voler trovare la soglia che massimizzi **TPR** e minimizzi **FPR** e supponiamo che i due score abbiano lo stesso peso nella nostra applicazione. Possiamo dunque scegliere la soglia che massimizza la somma **TPR+(1-FPR)**. Vediamo come questo valore cambia al cambiare delle soglie:"
   ]
  },
  {
   "cell_type": "code",
   "execution_count": 42,
   "metadata": {},
   "outputs": [
    {
     "data": {
      "image/png": "[encoded data removed]",
      "text/plain": [
       "<Figure size 432x288 with 1 Axes>"
      ]
     },
     "metadata": {
      "needs_background": "light"
     },
     "output_type": "display_data"
    }
   ],
   "source": [
    "score = tpr_h+1-fpr_h\n",
    "plt.plot(t_h,score)\n",
    "plt.xlabel('Thresholds')\n",
    "plt.ylabel('TPR+(1-FPR)')\n",
    "plt.grid()\n",
    "plt.show()"
   ]
  },
  {
   "cell_type": "markdown",
   "metadata": {},
   "source": [
    "Possiamo osservare che esiste un massimo globale. Troviamo la soglia in corrispondenza della quale si ha tale massimo:"
   ]
  },
  {
   "cell_type": "code",
   "execution_count": 43,
   "metadata": {},
   "outputs": [
    {
     "name": "stdout",
     "output_type": "stream",
     "text": [
      "La soglia migliore è 172.72\n"
     ]
    }
   ],
   "source": [
    "optimal_threshold = t_h[np.argmax(score)]\n",
    "print(\"La soglia migliore è %0.2f\" % optimal_threshold)"
   ]
  },
  {
   "cell_type": "markdown",
   "metadata": {},
   "source": [
    "Calcoliamo dunque TPR e FPR per il classificatore individuato da questa soglia:"
   ]
  },
  {
   "cell_type": "code",
   "execution_count": 44,
   "metadata": {},
   "outputs": [
    {
     "name": "stdout",
     "output_type": "stream",
     "text": [
      "False Positive Rate: 0.12\n",
      "True Positive Rate: 0.78\n"
     ]
    }
   ],
   "source": [
    "preds = classify(data,optimal_threshold)\n",
    "cm = confusion_matrix(male_gt, preds)\n",
    "cm=cm/cm.sum(1).reshape(-1,1)\n",
    "_, fpr, _, tpr = cm.ravel()\n",
    "print(\"False Positive Rate: {:0.2f}\".format(fpr))\n",
    "print(\"True Positive Rate: {:0.2f}\".format(tpr))"
   ]
  },
  {
   "cell_type": "markdown",
   "metadata": {},
   "source": [
    "## - Valutazione degli errori di un classificatore e curve ROC - FINE "
   ]
  }
 ],
 "metadata": {
  "anaconda-cloud": {},
  "kernelspec": {
   "display_name": "Python 3",
   "language": "python",
   "name": "python3"
  },
  "language_info": {
   "codemirror_mode": {
    "name": "ipython",
    "version": 3
   },
   "file_extension": ".py",
   "mimetype": "text/x-python",
   "name": "python",
   "nbconvert_exporter": "python",
   "pygments_lexer": "ipython3",
   "version": "3.7.6"
  }
 },
 "nbformat": 4,
 "nbformat_minor": 1
}
