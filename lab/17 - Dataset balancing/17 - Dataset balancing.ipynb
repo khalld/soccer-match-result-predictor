{
 "cells": [
  {
   "cell_type": "markdown",
   "metadata": {},
   "source": [
    "# <b>Fondamenti di Analisi Dati</b> - a.a. 2020/2021"
   ]
  },
  {
   "cell_type": "markdown",
   "metadata": {},
   "source": [
    "# 17 Dataset balancing\n",
    "\n",
    "I dataset con classi sbilanciate rappresentano uno dei problemi più frequenti nell'analisi dati. La presenza di una classe molto sbilanciata distorce il processo di training portando il modello a focalizzarsi sulla classe maggioritaria ignorando le osservazioni più rare. Un classificatore allenato su dati sbilanciati spesso mantiene un'accuracy alta ma ottiene performance molto scadenti sulla classe minoritaria (con score molto bassi o nulli di Recall).\n",
    "\n",
    "Per gestire un dataset con classi sbilanciate esistono diverse tecniche come l'<b>undersampling</b> (sottocampionamento) e l'<b>oversampling</b> (sovracampionamento, replicando i record o generando <b>dati sintetici</b>). Questi metodi sono utili per bilanciare il dataset prima di allenare un classificatore.\n",
    "\n",
    "<img src=\"under_over_sampling.png\" width=\"800\">"
   ]
  },
  {
   "cell_type": "code",
   "execution_count": 1,
   "metadata": {},
   "outputs": [],
   "source": [
    "import numpy as np\n",
    "import pandas as pd\n",
    "import matplotlib.pyplot as plt\n",
    "import seaborn as sns\n",
    "\n",
    "from sklearn.model_selection import train_test_split\n",
    "from sklearn.metrics import roc_curve, mean_squared_error, mean_absolute_error, roc_auc_score\n",
    "from sklearn.metrics import classification_report, confusion_matrix, accuracy_score\n",
    "from sklearn.preprocessing import StandardScaler\n",
    "\n",
    "from sklearn.svm import SVC\n",
    "\n",
    "seed=123"
   ]
  },
  {
   "cell_type": "code",
   "execution_count": 2,
   "metadata": {},
   "outputs": [
    {
     "name": "stdout",
     "output_type": "stream",
     "text": [
      "<class 'pandas.core.frame.DataFrame'>\n",
      "RangeIndex: 284807 entries, 0 to 284806\n",
      "Data columns (total 31 columns):\n",
      "Time      284807 non-null float64\n",
      "V1        284807 non-null float64\n",
      "V2        284807 non-null float64\n",
      "V3        284807 non-null float64\n",
      "V4        284807 non-null float64\n",
      "V5        284807 non-null float64\n",
      "V6        284807 non-null float64\n",
      "V7        284807 non-null float64\n",
      "V8        284807 non-null float64\n",
      "V9        284807 non-null float64\n",
      "V10       284807 non-null float64\n",
      "V11       284807 non-null float64\n",
      "V12       284807 non-null float64\n",
      "V13       284807 non-null float64\n",
      "V14       284807 non-null float64\n",
      "V15       284807 non-null float64\n",
      "V16       284807 non-null float64\n",
      "V17       284807 non-null float64\n",
      "V18       284807 non-null float64\n",
      "V19       284807 non-null float64\n",
      "V20       284807 non-null float64\n",
      "V21       284807 non-null float64\n",
      "V22       284807 non-null float64\n",
      "V23       284807 non-null float64\n",
      "V24       284807 non-null float64\n",
      "V25       284807 non-null float64\n",
      "V26       284807 non-null float64\n",
      "V27       284807 non-null float64\n",
      "V28       284807 non-null float64\n",
      "Amount    284807 non-null float64\n",
      "Class     284807 non-null int64\n",
      "dtypes: float64(30), int64(1)\n",
      "memory usage: 67.4 MB\n",
      "None\n"
     ]
    }
   ],
   "source": [
    "df = pd.read_csv(\"creditcard.csv\") #https://www.kaggle.com/mlg-ulb/creditcardfraud\n",
    "print(df.info()) "
   ]
  },
  {
   "cell_type": "code",
   "execution_count": 3,
   "metadata": {},
   "outputs": [
    {
     "data": {
      "text/plain": [
       "Index(['Time', 'V1', 'V2', 'V3', 'V4', 'V5', 'V6', 'V7', 'V8', 'V9', 'V10',\n",
       "       'V11', 'V12', 'V13', 'V14', 'V15', 'V16', 'V17', 'V18', 'V19', 'V20',\n",
       "       'V21', 'V22', 'V23', 'V24', 'V25', 'V26', 'V27', 'V28', 'Amount',\n",
       "       'Class'],\n",
       "      dtype='object')"
      ]
     },
     "execution_count": 3,
     "metadata": {},
     "output_type": "execute_result"
    }
   ],
   "source": [
    "df.columns"
   ]
  },
  {
   "cell_type": "markdown",
   "metadata": {},
   "source": [
    "Seleziono alcune colonne per semplificare il dataset (a scopo di esempio)."
   ]
  },
  {
   "cell_type": "code",
   "execution_count": 4,
   "metadata": {},
   "outputs": [],
   "source": [
    "df = df[['V1', 'V2', 'V3', 'Amount', 'Class']]"
   ]
  },
  {
   "cell_type": "code",
   "execution_count": 5,
   "metadata": {},
   "outputs": [
    {
     "name": "stdout",
     "output_type": "stream",
     "text": [
      "(284807, 5)\n"
     ]
    },
    {
     "data": {
      "text/html": [
       "<div>\n",
       "<style scoped>\n",
       "    .dataframe tbody tr th:only-of-type {\n",
       "        vertical-align: middle;\n",
       "    }\n",
       "\n",
       "    .dataframe tbody tr th {\n",
       "        vertical-align: top;\n",
       "    }\n",
       "\n",
       "    .dataframe thead th {\n",
       "        text-align: right;\n",
       "    }\n",
       "</style>\n",
       "<table border=\"1\" class=\"dataframe\">\n",
       "  <thead>\n",
       "    <tr style=\"text-align: right;\">\n",
       "      <th></th>\n",
       "      <th>V1</th>\n",
       "      <th>V2</th>\n",
       "      <th>V3</th>\n",
       "      <th>Amount</th>\n",
       "      <th>Class</th>\n",
       "    </tr>\n",
       "  </thead>\n",
       "  <tbody>\n",
       "    <tr>\n",
       "      <th>0</th>\n",
       "      <td>-1.359807</td>\n",
       "      <td>-0.072781</td>\n",
       "      <td>2.536347</td>\n",
       "      <td>149.62</td>\n",
       "      <td>0</td>\n",
       "    </tr>\n",
       "    <tr>\n",
       "      <th>1</th>\n",
       "      <td>1.191857</td>\n",
       "      <td>0.266151</td>\n",
       "      <td>0.166480</td>\n",
       "      <td>2.69</td>\n",
       "      <td>0</td>\n",
       "    </tr>\n",
       "    <tr>\n",
       "      <th>2</th>\n",
       "      <td>-1.358354</td>\n",
       "      <td>-1.340163</td>\n",
       "      <td>1.773209</td>\n",
       "      <td>378.66</td>\n",
       "      <td>0</td>\n",
       "    </tr>\n",
       "    <tr>\n",
       "      <th>3</th>\n",
       "      <td>-0.966272</td>\n",
       "      <td>-0.185226</td>\n",
       "      <td>1.792993</td>\n",
       "      <td>123.50</td>\n",
       "      <td>0</td>\n",
       "    </tr>\n",
       "    <tr>\n",
       "      <th>4</th>\n",
       "      <td>-1.158233</td>\n",
       "      <td>0.877737</td>\n",
       "      <td>1.548718</td>\n",
       "      <td>69.99</td>\n",
       "      <td>0</td>\n",
       "    </tr>\n",
       "  </tbody>\n",
       "</table>\n",
       "</div>"
      ],
      "text/plain": [
       "         V1        V2        V3  Amount  Class\n",
       "0 -1.359807 -0.072781  2.536347  149.62      0\n",
       "1  1.191857  0.266151  0.166480    2.69      0\n",
       "2 -1.358354 -1.340163  1.773209  378.66      0\n",
       "3 -0.966272 -0.185226  1.792993  123.50      0\n",
       "4 -1.158233  0.877737  1.548718   69.99      0"
      ]
     },
     "execution_count": 5,
     "metadata": {},
     "output_type": "execute_result"
    }
   ],
   "source": [
    "print(df.shape)\n",
    "df.head()"
   ]
  },
  {
   "cell_type": "markdown",
   "metadata": {},
   "source": [
    "Conto i record per classe."
   ]
  },
  {
   "cell_type": "code",
   "execution_count": 7,
   "metadata": {},
   "outputs": [
    {
     "name": "stdout",
     "output_type": "stream",
     "text": [
      "0    284315\n",
      "1       492\n",
      "Name: Class, dtype: int64\n"
     ]
    }
   ],
   "source": [
    "print(df.Class.value_counts())"
   ]
  },
  {
   "cell_type": "markdown",
   "metadata": {},
   "source": [
    "Il dataset è chiaramente sbilanciato.\n",
    "\n",
    "Per semplificare le operazioni creo un dataset con un numero ristretto di record:"
   ]
  },
  {
   "cell_type": "code",
   "execution_count": 8,
   "metadata": {},
   "outputs": [],
   "source": [
    "cc = df[df.Class==1].copy() #creo un dataset con tutti i dati della classe 1\n",
    "cc= cc.append(df[df.Class==0].sample(n=50000, random_state=seed).copy()) #aggiungo 50000 record per la classe 0"
   ]
  },
  {
   "cell_type": "code",
   "execution_count": 9,
   "metadata": {},
   "outputs": [
    {
     "name": "stdout",
     "output_type": "stream",
     "text": [
      "0    50000\n",
      "1      492\n",
      "Name: Class, dtype: int64\n"
     ]
    }
   ],
   "source": [
    "print(cc.Class.value_counts())"
   ]
  },
  {
   "cell_type": "code",
   "execution_count": 10,
   "metadata": {},
   "outputs": [
    {
     "data": {
      "text/plain": [
       "[Text(0, 0, 'Otherwise'), Text(0, 0, 'Fraudulent transactions')]"
      ]
     },
     "execution_count": 10,
     "metadata": {},
     "output_type": "execute_result"
    },
    {
     "data": {
      "image/png": "[encoded data removed]",
      "text/plain": [
       "<Figure size 360x360 with 1 Axes>"
      ]
     },
     "metadata": {
      "needs_background": "light"
     },
     "output_type": "display_data"
    }
   ],
   "source": [
    "plt.figure(figsize=(5,5))\n",
    "g = sns.countplot(cc.Class)\n",
    "g.set_xticklabels(['Otherwise', 'Fraudulent transactions'])"
   ]
  },
  {
   "cell_type": "markdown",
   "metadata": {},
   "source": [
    "Il dataset continua ad essere fortemente sbilanciato."
   ]
  },
  {
   "cell_type": "code",
   "execution_count": 11,
   "metadata": {},
   "outputs": [],
   "source": [
    "# normalizzo la colonna amount \n",
    "cc['normAmount'] = StandardScaler().fit_transform(np.array(cc['Amount']).reshape(-1, 1)) \n",
    "  \n",
    "# elimino le colonne Amount\n",
    "cc = cc.drop('Amount', axis = 1) "
   ]
  },
  {
   "cell_type": "markdown",
   "metadata": {},
   "source": [
    "Divito il dataset in training e test set:"
   ]
  },
  {
   "cell_type": "code",
   "execution_count": 12,
   "metadata": {},
   "outputs": [],
   "source": [
    "X_train, X_test, y_train, y_test =\\\n",
    "train_test_split(cc.drop('Class', axis=1), cc.Class, test_size=0.3, random_state=seed)"
   ]
  },
  {
   "cell_type": "markdown",
   "metadata": {},
   "source": [
    "Alleno una SVM con kernel gaussiano (non è stata effettuata una GridSearchCV poiché richiederebbe tempo)."
   ]
  },
  {
   "cell_type": "code",
   "execution_count": 13,
   "metadata": {},
   "outputs": [
    {
     "name": "stdout",
     "output_type": "stream",
     "text": [
      "Accuracy sul training set: 1.00\n"
     ]
    }
   ],
   "source": [
    "svm = SVC(kernel='rbf', gamma='auto', C=100, random_state=seed, probability=True)\n",
    "svm.fit(X_train, y_train)\n",
    "print(\"Accuracy sul training set: %0.2f\"%svm.score(X_train,y_train))"
   ]
  },
  {
   "cell_type": "code",
   "execution_count": 14,
   "metadata": {},
   "outputs": [
    {
     "data": {
      "image/png": "[encoded data removed]",
      "text/plain": [
       "<Figure size 720x720 with 1 Axes>"
      ]
     },
     "metadata": {
      "needs_background": "light"
     },
     "output_type": "display_data"
    },
    {
     "name": "stdout",
     "output_type": "stream",
     "text": [
      "SVM\n",
      "\n",
      "Error: 0.013538013195586066\n",
      "MSE: 0.005974305646064619\n",
      "\n",
      "Confusion Matrix:\n",
      "[[15004     9]\n",
      " [   98    37]]\n",
      "\n",
      "Classification Report\n",
      "              precision    recall  f1-score   support\n",
      "\n",
      "           0       0.99      1.00      1.00     15013\n",
      "           1       0.80      0.27      0.41       135\n",
      "\n",
      "    accuracy                           0.99     15148\n",
      "   macro avg       0.90      0.64      0.70     15148\n",
      "weighted avg       0.99      0.99      0.99     15148\n",
      "\n",
      "Accuracy\n",
      "0.9929363612358068\n",
      "------------------------------------------------------\n",
      "\n"
     ]
    }
   ],
   "source": [
    "y_pred_svm = svm.predict_proba(X_test)[:,1]\n",
    "\n",
    "fpr_svm, tpr_svm, threshold_svm = roc_curve(y_test, y_pred_svm)\n",
    "\n",
    "plt.figure(figsize=(10,10))\n",
    "plt.plot([0, 1], [0, 1], 'k--')\n",
    "plt.plot(fpr_svm, tpr_svm, label='SVM')\n",
    "plt.xlabel('False positive rate')\n",
    "plt.ylabel('True positive rate')\n",
    "plt.title('ROC curve')\n",
    "plt.legend(loc='best')\n",
    "plt.grid()\n",
    "plt.show()\n",
    "\n",
    "print(\"SVM\\n\")\n",
    "print(\"Error:\",mean_absolute_error(y_test, y_pred_svm))\n",
    "print(\"MSE:\",mean_squared_error(y_test, y_pred_svm))\n",
    "print(\"\\nConfusion Matrix:\")\n",
    "print(confusion_matrix(y_test, y_pred_svm.round()))\n",
    "print(\"\\nClassification Report\")\n",
    "print(classification_report(y_test, y_pred_svm.round()))\n",
    "print(\"Accuracy\")\n",
    "print(accuracy_score(y_test, y_pred_svm.round(), normalize=True))\n",
    "print(\"------------------------------------------------------\\n\")"
   ]
  },
  {
   "cell_type": "markdown",
   "metadata": {},
   "source": [
    "Il risultato è buono, ma come si può notare il Recall score non è ottimale."
   ]
  },
  {
   "cell_type": "markdown",
   "metadata": {},
   "source": [
    "### 17.1 Undersampling\n",
    "\n",
    "Il metodo di undersampling consiste nel ridurre la classe maggioritaria, conservando solo una parte dei suoi record. Generalmente, alcune osservazioni vengono eliminate in modo casuale dalla classe maggioritaria per bilanciare il numero di record con la classe minoritaria.\n",
    "Esistono tecniche di undersampling più avanzate, come quelle che selezionano campioni specifici più distanti dal decision boundary. Tali tecniche non hanno portato alcun miglioramento rispetto alla semplice selezione casuale dei campioni.\n",
    "L'undersampling non è consigliato quando la classe minoritaria è troppo piccola perché riduce fortemente il dataset, con una perdita di informazioni potenzialmente utili, fornendo così al modello pochi dati per il training rendendolo più soggetto a errori."
   ]
  },
  {
   "cell_type": "code",
   "execution_count": 16,
   "metadata": {},
   "outputs": [],
   "source": [
    "u_data = cc[cc.Class==1].copy() #creo un dataset con i dati della classe minoritaria\n",
    "\n",
    "#aggiungo al dataset un numero di record (scelti a caso) della classe maggioritaria pari a quello della classe minoritaria\n",
    "u_data = u_data.append(cc[cc.Class==0].sample(n=len(cc[cc.Class==1]), random_state=seed).copy()) "
   ]
  },
  {
   "cell_type": "code",
   "execution_count": 17,
   "metadata": {},
   "outputs": [
    {
     "name": "stdout",
     "output_type": "stream",
     "text": [
      "1    492\n",
      "0    492\n",
      "Name: Class, dtype: int64\n"
     ]
    }
   ],
   "source": [
    "print(u_data.Class.value_counts())"
   ]
  },
  {
   "cell_type": "code",
   "execution_count": 18,
   "metadata": {},
   "outputs": [
    {
     "data": {
      "text/plain": [
       "[Text(0, 0, 'Otherwise'), Text(0, 0, 'Fraudulent transactions')]"
      ]
     },
     "execution_count": 18,
     "metadata": {},
     "output_type": "execute_result"
    },
    {
     "data": {
      "image/png": "[encoded data removed]",
      "text/plain": [
       "<Figure size 360x360 with 1 Axes>"
      ]
     },
     "metadata": {
      "needs_background": "light"
     },
     "output_type": "display_data"
    }
   ],
   "source": [
    "plt.figure(figsize=(5,5))\n",
    "g = sns.countplot(u_data.Class)\n",
    "g.set_xticklabels(['Otherwise', 'Fraudulent transactions'])"
   ]
  },
  {
   "cell_type": "code",
   "execution_count": 19,
   "metadata": {},
   "outputs": [],
   "source": [
    "X_train, X_test, y_train, y_test =\\\n",
    "train_test_split(u_data.drop('Class', axis=1), u_data.Class, test_size=0.3, random_state=seed)"
   ]
  },
  {
   "cell_type": "code",
   "execution_count": 20,
   "metadata": {},
   "outputs": [
    {
     "name": "stdout",
     "output_type": "stream",
     "text": [
      "Accuracy sul training set: 0.96\n"
     ]
    }
   ],
   "source": [
    "svm = SVC(kernel='rbf', gamma='auto', C=100, random_state=seed, probability=True)\n",
    "svm.fit(X_train, y_train)\n",
    "print(\"Accuracy sul training set: %0.2f\"%svm.score(X_train,y_train))"
   ]
  },
  {
   "cell_type": "code",
   "execution_count": 21,
   "metadata": {},
   "outputs": [
    {
     "data": {
      "image/png": "[encoded data removed]",
      "text/plain": [
       "<Figure size 720x720 with 1 Axes>"
      ]
     },
     "metadata": {
      "needs_background": "light"
     },
     "output_type": "display_data"
    },
    {
     "name": "stdout",
     "output_type": "stream",
     "text": [
      "SVM\n",
      "\n",
      "Error: 0.2608960876074894\n",
      "MSE: 0.1136918728032105\n",
      "\n",
      "Confusion Matrix:\n",
      "[[129  12]\n",
      " [ 27 128]]\n",
      "\n",
      "Classification Report\n",
      "              precision    recall  f1-score   support\n",
      "\n",
      "           0       0.83      0.91      0.87       141\n",
      "           1       0.91      0.83      0.87       155\n",
      "\n",
      "    accuracy                           0.87       296\n",
      "   macro avg       0.87      0.87      0.87       296\n",
      "weighted avg       0.87      0.87      0.87       296\n",
      "\n",
      "Accuracy\n",
      "0.8682432432432432\n",
      "------------------------------------------------------\n",
      "\n"
     ]
    }
   ],
   "source": [
    "y_pred_svm = svm.predict_proba(X_test)[:,1]\n",
    "\n",
    "fpr_svm, tpr_svm, threshold_svm = roc_curve(y_test, y_pred_svm)\n",
    "\n",
    "plt.figure(figsize=(10,10))\n",
    "plt.plot([0, 1], [0, 1], 'k--')\n",
    "plt.plot(fpr_svm, tpr_svm, label='SVM')\n",
    "plt.xlabel('False positive rate')\n",
    "plt.ylabel('True positive rate')\n",
    "plt.title('ROC curve')\n",
    "plt.legend(loc='best')\n",
    "plt.grid()\n",
    "plt.show()\n",
    "\n",
    "print(\"SVM\\n\")\n",
    "print(\"Error:\",mean_absolute_error(y_test, y_pred_svm))\n",
    "print(\"MSE:\",mean_squared_error(y_test, y_pred_svm))\n",
    "print(\"\\nConfusion Matrix:\")\n",
    "print(confusion_matrix(y_test, y_pred_svm.round()))\n",
    "print(\"\\nClassification Report\")\n",
    "print(classification_report(y_test, y_pred_svm.round()))\n",
    "print(\"Accuracy\")\n",
    "print(accuracy_score(y_test, y_pred_svm.round(), normalize=True))\n",
    "print(\"------------------------------------------------------\\n\")"
   ]
  },
  {
   "cell_type": "markdown",
   "metadata": {},
   "source": [
    "Il modello così allenato ha uno score di accuracy minore ma risulta essere nettamente più bilanciato con f1-score più alto. Tuttavia abbiamo escluso una grossa fetta di informazioni e allenato il nostro classificatore con pochi dati."
   ]
  },
  {
   "cell_type": "markdown",
   "metadata": {},
   "source": [
    "### 17.1 Oversampling\n",
    "\n",
    "Il metodo oversampling, invece, viene utilizzato per aumentare la cardinalità della classe minoritaria.\n",
    "Il modo più semplice per sovracampionare è ricampionare la classe minoritaria duplicando le osservazioni. In questo modo i dati ricampionati sono esattamente gli stessi già presenti nel dataset."
   ]
  },
  {
   "cell_type": "code",
   "execution_count": 46,
   "metadata": {},
   "outputs": [],
   "source": [
    "#creo un dataset con tutti i record della classe minoritaria \"duplicati\" più volte\n",
    "o_data = cc[cc.Class==1].copy()\n",
    "for i in range(6):\n",
    "    o_data = o_data.append(cc[cc.Class==1].copy())\n",
    "\n",
    "#aggiungo lo stesso numero di record (scelti a caso) della classe maggioritaria    \n",
    "o_data = o_data.append(cc[cc.Class==0].sample(n=len(o_data[o_data.Class==1]), random_state=seed).copy())"
   ]
  },
  {
   "cell_type": "code",
   "execution_count": 47,
   "metadata": {},
   "outputs": [
    {
     "name": "stdout",
     "output_type": "stream",
     "text": [
      "1    3444\n",
      "0    3444\n",
      "Name: Class, dtype: int64\n"
     ]
    }
   ],
   "source": [
    "print(o_data.Class.value_counts())"
   ]
  },
  {
   "cell_type": "code",
   "execution_count": 48,
   "metadata": {},
   "outputs": [
    {
     "data": {
      "text/plain": [
       "[Text(0, 0, 'Otherwise'), Text(0, 0, 'Fraudulent transactions')]"
      ]
     },
     "execution_count": 48,
     "metadata": {},
     "output_type": "execute_result"
    },
    {
     "data": {
      "image/png": "[encoded data removed]",
      "text/plain": [
       "<Figure size 360x360 with 1 Axes>"
      ]
     },
     "metadata": {
      "needs_background": "light"
     },
     "output_type": "display_data"
    }
   ],
   "source": [
    "plt.figure(figsize=(5,5))\n",
    "g = sns.countplot(o_data.Class)\n",
    "g.set_xticklabels(['Otherwise', 'Fraudulent transactions'])"
   ]
  },
  {
   "cell_type": "code",
   "execution_count": 49,
   "metadata": {},
   "outputs": [],
   "source": [
    "X_train, X_test, y_train, y_test =\\\n",
    "train_test_split(o_data.drop('Class', axis=1), o_data.Class, test_size=0.3, random_state=seed)"
   ]
  },
  {
   "cell_type": "code",
   "execution_count": 50,
   "metadata": {},
   "outputs": [
    {
     "name": "stdout",
     "output_type": "stream",
     "text": [
      "Accuracy sul training set: 0.95\n"
     ]
    }
   ],
   "source": [
    "svm = SVC(kernel='rbf', gamma='auto', C=100, random_state=seed, probability=True)\n",
    "svm.fit(X_train, y_train)\n",
    "print(\"Accuracy sul training set: %0.2f\"%svm.score(X_train,y_train))"
   ]
  },
  {
   "cell_type": "code",
   "execution_count": 51,
   "metadata": {},
   "outputs": [
    {
     "data": {
      "image/png": "[encoded data removed]",
      "text/plain": [
       "<Figure size 720x720 with 1 Axes>"
      ]
     },
     "metadata": {
      "needs_background": "light"
     },
     "output_type": "display_data"
    },
    {
     "name": "stdout",
     "output_type": "stream",
     "text": [
      "SVM\n",
      "\n",
      "Error: 0.11837370049194591\n",
      "MSE: 0.05439436160529073\n",
      "\n",
      "Confusion Matrix:\n",
      "[[941  63]\n",
      " [ 65 998]]\n",
      "\n",
      "Classification Report\n",
      "              precision    recall  f1-score   support\n",
      "\n",
      "           0       0.94      0.94      0.94      1004\n",
      "           1       0.94      0.94      0.94      1063\n",
      "\n",
      "    accuracy                           0.94      2067\n",
      "   macro avg       0.94      0.94      0.94      2067\n",
      "weighted avg       0.94      0.94      0.94      2067\n",
      "\n",
      "Accuracy\n",
      "0.9380745041122399\n",
      "------------------------------------------------------\n",
      "\n"
     ]
    }
   ],
   "source": [
    "y_pred_svm = svm.predict_proba(X_test)[:,1]\n",
    "\n",
    "fpr_svm, tpr_svm, threshold_svm = roc_curve(y_test, y_pred_svm)\n",
    "\n",
    "plt.figure(figsize=(10,10))\n",
    "plt.plot([0, 1], [0, 1], 'k--')\n",
    "plt.plot(fpr_svm, tpr_svm, label='SVM')\n",
    "plt.xlabel('False positive rate')\n",
    "plt.ylabel('True positive rate')\n",
    "plt.title('ROC curve')\n",
    "plt.legend(loc='best')\n",
    "plt.grid()\n",
    "plt.show()\n",
    "\n",
    "print(\"SVM\\n\")\n",
    "print(\"Error:\",mean_absolute_error(y_test, y_pred_svm))\n",
    "print(\"MSE:\",mean_squared_error(y_test, y_pred_svm))\n",
    "print(\"\\nConfusion Matrix:\")\n",
    "print(confusion_matrix(y_test, y_pred_svm.round()))\n",
    "print(\"\\nClassification Report\")\n",
    "print(classification_report(y_test, y_pred_svm.round()))\n",
    "print(\"Accuracy\")\n",
    "print(accuracy_score(y_test, y_pred_svm.round(), normalize=True))\n",
    "print(\"------------------------------------------------------\\n\")"
   ]
  },
  {
   "cell_type": "markdown",
   "metadata": {},
   "source": [
    "Il training di un modello con un numero troppo alto di dati duplicati può portare a problemi di overfitting: per questo motivo è opportuno sovracampionare il dataset con dati sintetici."
   ]
  },
  {
   "cell_type": "markdown",
   "metadata": {},
   "source": [
    "#### 17.1.2 Oversampling con dati sintetici (SMOTE)\n",
    "\n",
    "Il sovracampionamento mediante la generazione di dati è utile a bilanciare il dataset attraverso la generazione di nuove osservazioni \"sintetiche\" (basate su quelle di minoranza).\n",
    "Esistono diversi metodi per l'oversampling attraverso dati sintetici. Una delle tecniche più comuni è chiamata SMOTE (Synthetic Minority Over-sampling Technique). L'algoritmo in questione osserva lo spazio delle features dei campioni della classe minoritaria e considera i k punti più vicini (k-nearest neighbors) per crearne di nuovi e aumentare la cardinalità della classe stessa.\n",
    "SMOTE e altri algoritmi di oversampling (come ADASYN) sono inclusi nella libreria <i>imbalanced-learn</i> che può essere installata digitando `conda install -c conda-forge imbalanced-learn` nel prompt di Anconda.\n",
    "\n",
    "<img src=\"smote.png\" width=\"500\">"
   ]
  },
  {
   "cell_type": "code",
   "execution_count": 53,
   "metadata": {},
   "outputs": [],
   "source": [
    "from imblearn.over_sampling import SMOTE\n",
    "from collections import Counter"
   ]
  },
  {
   "cell_type": "code",
   "execution_count": 54,
   "metadata": {},
   "outputs": [],
   "source": [
    "#per semplificare le operazioni selezione un numero ancora più ristretto di record\n",
    "s_cc = cc[cc.Class==1].copy() #creo un dataset con tutti i dati della classe 1\n",
    "s_cc= s_cc.append(cc[cc.Class==0].sample(n=3000, random_state=seed).copy()) #aggiungo 3000 record per la classe 0"
   ]
  },
  {
   "cell_type": "markdown",
   "metadata": {},
   "source": [
    "Bilancio il dataset tramite SMOTE:"
   ]
  },
  {
   "cell_type": "code",
   "execution_count": 55,
   "metadata": {},
   "outputs": [
    {
     "name": "stdout",
     "output_type": "stream",
     "text": [
      "[(0, 3000), (1, 3000)]\n"
     ]
    },
    {
     "name": "stderr",
     "output_type": "stream",
     "text": [
      "C:\\Users\\visig\\Anaconda3\\lib\\site-packages\\sklearn\\utils\\deprecation.py:87: FutureWarning: Function safe_indexing is deprecated; safe_indexing is deprecated in version 0.22 and will be removed in version 0.24.\n",
      "  warnings.warn(msg, category=FutureWarning)\n"
     ]
    }
   ],
   "source": [
    "X_resampled, y_resampled = SMOTE(k_neighbors=5, random_state=seed).fit_resample(s_cc.drop('Class', axis=1), s_cc.Class)\n",
    "print(sorted(Counter(y_resampled).items()))"
   ]
  },
  {
   "cell_type": "markdown",
   "metadata": {},
   "source": [
    "L'algoritmo ha bilanciato le due classi generando nuove osservazioni per la classe minoritaria. Adesso le due classi hanno pari cardinalità."
   ]
  },
  {
   "cell_type": "code",
   "execution_count": 56,
   "metadata": {},
   "outputs": [],
   "source": [
    "X_train, X_test, y_train, y_test =\\\n",
    "train_test_split(X_resampled, y_resampled, test_size=0.3, random_state=seed)"
   ]
  },
  {
   "cell_type": "code",
   "execution_count": 57,
   "metadata": {},
   "outputs": [
    {
     "name": "stdout",
     "output_type": "stream",
     "text": [
      "Accuracy sul training set: 0.95\n"
     ]
    }
   ],
   "source": [
    "svm = SVC(kernel='rbf', gamma='auto', C=100, random_state=seed, probability=True)\n",
    "svm.fit(X_train, y_train)\n",
    "print(\"Accuracy sul training set: %0.2f\"%svm.score(X_train,y_train))"
   ]
  },
  {
   "cell_type": "code",
   "execution_count": 58,
   "metadata": {},
   "outputs": [
    {
     "data": {
      "image/png": "[encoded data removed]",
      "text/plain": [
       "<Figure size 720x720 with 1 Axes>"
      ]
     },
     "metadata": {
      "needs_background": "light"
     },
     "output_type": "display_data"
    },
    {
     "name": "stdout",
     "output_type": "stream",
     "text": [
      "SVM\n",
      "\n",
      "Error: 0.12022036580327591\n",
      "MSE: 0.05154865700139597\n",
      "\n",
      "Confusion Matrix:\n",
      "[[848  44]\n",
      " [ 65 843]]\n",
      "\n",
      "Classification Report\n",
      "              precision    recall  f1-score   support\n",
      "\n",
      "           0       0.93      0.95      0.94       892\n",
      "           1       0.95      0.93      0.94       908\n",
      "\n",
      "    accuracy                           0.94      1800\n",
      "   macro avg       0.94      0.94      0.94      1800\n",
      "weighted avg       0.94      0.94      0.94      1800\n",
      "\n",
      "Accuracy\n",
      "0.9394444444444444\n",
      "------------------------------------------------------\n",
      "\n"
     ]
    }
   ],
   "source": [
    "y_pred_svm = svm.predict_proba(X_test)[:,1]\n",
    "\n",
    "fpr_svm, tpr_svm, threshold_svm = roc_curve(y_test, y_pred_svm)\n",
    "\n",
    "plt.figure(figsize=(10,10))\n",
    "plt.plot([0, 1], [0, 1], 'k--')\n",
    "plt.plot(fpr_svm, tpr_svm, label='SVM')\n",
    "plt.xlabel('False positive rate')\n",
    "plt.ylabel('True positive rate')\n",
    "plt.title('ROC curve')\n",
    "plt.legend(loc='best')\n",
    "plt.grid()\n",
    "plt.show()\n",
    "\n",
    "print(\"SVM\\n\")\n",
    "print(\"Error:\",mean_absolute_error(y_test, y_pred_svm))\n",
    "print(\"MSE:\",mean_squared_error(y_test, y_pred_svm))\n",
    "print(\"\\nConfusion Matrix:\")\n",
    "print(confusion_matrix(y_test, y_pred_svm.round()))\n",
    "print(\"\\nClassification Report\")\n",
    "print(classification_report(y_test, y_pred_svm.round()))\n",
    "print(\"Accuracy\")\n",
    "print(accuracy_score(y_test, y_pred_svm.round(), normalize=True))\n",
    "print(\"------------------------------------------------------\\n\")"
   ]
  },
  {
   "cell_type": "code",
   "execution_count": 94,
   "metadata": {},
   "outputs": [
    {
     "name": "stdout",
     "output_type": "stream",
     "text": [
      "Numero di record dupplicati: 78\n"
     ]
    }
   ],
   "source": [
    "#verifico quanti record \"doppioni\" ha generato l'algoritmo\n",
    "data_resampled = pd.DataFrame(data= X_resampled, columns=s_cc.drop('Class', axis=1).columns)\n",
    "data_resampled['Class']=y_resampled\n",
    "print('Numero di record dupplicati:',\\\n",
    "      len(data_resampled[data_resampled.Class==1])-len(data_resampled[data_resampled.Class==1].drop_duplicates()))"
   ]
  }
 ],
 "metadata": {
  "anaconda-cloud": {},
  "kernelspec": {
   "display_name": "Python 3",
   "language": "python",
   "name": "python3"
  },
  "language_info": {
   "codemirror_mode": {
    "name": "ipython",
    "version": 3
   },
   "file_extension": ".py",
   "mimetype": "text/x-python",
   "name": "python",
   "nbconvert_exporter": "python",
   "pygments_lexer": "ipython3",
   "version": "3.7.6"
  }
 },
 "nbformat": 4,
 "nbformat_minor": 1
}
